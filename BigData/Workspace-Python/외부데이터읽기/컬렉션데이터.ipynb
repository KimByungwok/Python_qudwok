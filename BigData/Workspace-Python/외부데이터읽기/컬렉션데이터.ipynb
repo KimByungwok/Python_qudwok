{
 "cells": [
  {
   "cell_type": "markdown",
   "metadata": {},
   "source": [
    "<font color=\"yellow\">\n",
    "<h1>컬랙션(Collections)</h1>\n",
    "</font>\n",
    "<h2>- 여러개의 자료 값들을 모아 놓은 것</h2>\n",
    "<li> 리스트(list) </li>\n",
    "<li> 딕셔너리(dictionary) </li>\n",
    "<li> 튜플(tuple) </li>\n",
    "<li> 집합(set) </li>"
   ]
  },
  {
   "cell_type": "markdown",
   "metadata": {},
   "source": [
    "<font size = '5' color=\"skyblue\">\n",
    "리스트(list) : 중복 허용, 여러 자료형 데이터\n",
    "</font>"
   ]
  },
  {
   "cell_type": "code",
   "execution_count": 43,
   "metadata": {
    "tags": []
   },
   "outputs": [
    {
     "output_type": "stream",
     "name": "stdout",
     "text": "[]\n"
    }
   ],
   "source": [
    "# 빈 리스트 만들기 1\n",
    "l = list()\n",
    "print(l)"
   ]
  },
  {
   "cell_type": "code",
   "execution_count": 44,
   "metadata": {
    "tags": []
   },
   "outputs": [
    {
     "output_type": "stream",
     "name": "stdout",
     "text": "[]\n"
    }
   ],
   "source": [
    "# 빈 리스트 만들기 2\n",
    "l = []\n",
    "print(l)"
   ]
  },
  {
   "cell_type": "code",
   "execution_count": 45,
   "metadata": {
    "tags": []
   },
   "outputs": [
    {
     "output_type": "stream",
     "name": "stdout",
     "text": "[1, 3, 5, 7, 9]\n"
    }
   ],
   "source": [
    "# 여러 자료 값 모아놓기\n",
    "l = [1, 3, 5, 7, 9]\n",
    "print(l)"
   ]
  },
  {
   "cell_type": "code",
   "execution_count": 46,
   "metadata": {
    "tags": []
   },
   "outputs": [
    {
     "output_type": "stream",
     "name": "stdout",
     "text": "5\n"
    }
   ],
   "source": [
    "# 3번쨰 자료 읽기\n",
    "print(l[2])"
   ]
  },
  {
   "cell_type": "code",
   "execution_count": 47,
   "metadata": {
    "tags": []
   },
   "outputs": [
    {
     "output_type": "stream",
     "name": "stdout",
     "text": "[1, 3, 5, 7, 9, 11]\n"
    }
   ],
   "source": [
    "# 11을 l에 추가해보기\n",
    "l.append(11)\n",
    "print(l)"
   ]
  },
  {
   "cell_type": "code",
   "execution_count": 48,
   "metadata": {
    "tags": []
   },
   "outputs": [
    {
     "output_type": "stream",
     "name": "stdout",
     "text": "[1, 3, 5, 7, 9, 11, '13']\n"
    }
   ],
   "source": [
    "# 문자열 '13'을 추가해보기\n",
    "l.append('13')\n",
    "print(l)"
   ]
  },
  {
   "cell_type": "code",
   "execution_count": 49,
   "metadata": {
    "tags": []
   },
   "outputs": [
    {
     "output_type": "stream",
     "name": "stdout",
     "text": "[1, 3, 5, 7, 9, 11, '13', 3, 6, 9]\n"
    }
   ],
   "source": [
    "# 리스트 합치기\n",
    "m = [3, 6, 9]\n",
    "l = l + m\n",
    "print(l)"
   ]
  },
  {
   "cell_type": "code",
   "execution_count": 50,
   "metadata": {
    "tags": []
   },
   "outputs": [
    {
     "output_type": "stream",
     "name": "stdout",
     "text": "2\n"
    }
   ],
   "source": [
    "# 리스트에서 특정한 값의 갯수 - 3이 몇 개?\n",
    "print(l.count(3))"
   ]
  },
  {
   "cell_type": "code",
   "execution_count": 51,
   "metadata": {
    "tags": []
   },
   "outputs": [
    {
     "output_type": "stream",
     "name": "stdout",
     "text": "[1, 5, 7, 9, 11, '13', 3, 6, 9]\n"
    }
   ],
   "source": [
    "# 리스트에서 특정 값 삭제\n",
    "l.remove(3)\n",
    "print(l)"
   ]
  },
  {
   "cell_type": "code",
   "execution_count": 52,
   "metadata": {
    "tags": []
   },
   "outputs": [
    {
     "output_type": "stream",
     "name": "stdout",
     "text": "[3, 6, 9]\n"
    }
   ],
   "source": [
    "# 리스트 복사\n",
    "n = m\n",
    "print(n)"
   ]
  },
  {
   "cell_type": "code",
   "execution_count": 53,
   "metadata": {
    "tags": []
   },
   "outputs": [
    {
     "output_type": "stream",
     "name": "stdout",
     "text": "[3, 6, 9, 7]\n[3, 6, 9, 7]\n"
    }
   ],
   "source": [
    "# 리스트 n에 7을 추가하고 n과 m을 출력해 보자!\n",
    "# 결과를 보고 토론하기\n",
    "n.append(7)\n",
    "print(n)\n",
    "print(m)"
   ]
  },
  {
   "cell_type": "code",
   "execution_count": 54,
   "metadata": {
    "tags": []
   },
   "outputs": [
    {
     "output_type": "stream",
     "name": "stdout",
     "text": "[3, 6, 8, 9, 7]\n"
    }
   ],
   "source": [
    "# n에서 6과 9 사이에 8 넣기\n",
    "# 인덱스에 주의\n",
    "n.insert(2, 8)\n",
    "print(n)"
   ]
  },
  {
   "cell_type": "code",
   "execution_count": 55,
   "metadata": {
    "tags": []
   },
   "outputs": [
    {
     "output_type": "stream",
     "name": "stdout",
     "text": "[1, 3, 5, 6, 7, 9, 9, 11]\n"
    }
   ],
   "source": [
    "# 리스트 l의 값을 정렬\n",
    "# 같은 자료형들에 대해서만 정렬 가능함에 주의\n",
    "# l.sort()\n",
    "\n",
    "# 아까 위에서 '13'이 있으므로 제거\n",
    "l.remove('13')\n",
    "l.sort()\n",
    "\n",
    "print(l)"
   ]
  },
  {
   "cell_type": "code",
   "execution_count": 56,
   "metadata": {
    "tags": []
   },
   "outputs": [
    {
     "output_type": "stream",
     "name": "stdout",
     "text": "[11, 9, 9, 7, 6, 5, 3, 1]\n"
    }
   ],
   "source": [
    "# 역순 정렬\n",
    "l.sort(reverse=True)\n",
    "print(l)"
   ]
  },
  {
   "cell_type": "code",
   "execution_count": 60,
   "metadata": {
    "tags": []
   },
   "outputs": [
    {
     "output_type": "stream",
     "name": "stdout",
     "text": "[11, 9, 9, 7, 6, 5, 3, 1, 'a', 'b', 'c', 'a', 'b', 'c']\n"
    }
   ],
   "source": [
    "# 리스트 확장(리스트 추가)\n",
    "l.extend(['a','b','c'])\n",
    "print(l)"
   ]
  },
  {
   "cell_type": "code",
   "execution_count": 58,
   "metadata": {
    "tags": []
   },
   "outputs": [
    {
     "output_type": "stream",
     "name": "stdout",
     "text": "2\n"
    }
   ],
   "source": [
    "# 리스트 m에서 자료 8의 위치(인덱스) 알아보기\n",
    "print( m.index(8))"
   ]
  },
  {
   "cell_type": "code",
   "execution_count": 59,
   "metadata": {
    "tags": []
   },
   "outputs": [
    {
     "output_type": "stream",
     "name": "stdout",
     "text": "삭제 전: [3, 6, 8, 9, 7]\n삭제 후: [3, 6, 9, 7]\n"
    }
   ],
   "source": [
    "# 리스트 m에서 자료 8 지우기\n",
    "\n",
    "print('삭제 전:', m)\n",
    "m.pop(2)\n",
    "print('삭제 후:', m)\n"
   ]
  },
  {
   "cell_type": "code",
   "execution_count": 61,
   "metadata": {
    "tags": []
   },
   "outputs": [
    {
     "output_type": "stream",
     "name": "stdout",
     "text": "[]\n"
    }
   ],
   "source": [
    "# 리스트 l 모두 지우기\n",
    "l.clear()\n",
    "print(l)"
   ]
  },
  {
   "cell_type": "markdown",
   "metadata": {},
   "source": [
    "<font size = '5' color=\"skyblue\">\n",
    "딕셔너리(dictionary)) : 키와 값의 쌍으로 구성 , 키는 중복 없음\n",
    "</font>"
   ]
  },
  {
   "cell_type": "code",
   "execution_count": 62,
   "metadata": {
    "tags": []
   },
   "outputs": [
    {
     "output_type": "stream",
     "name": "stdout",
     "text": "{}\n<class 'dict'>\n"
    }
   ],
   "source": [
    "# 딕셔너리 만들기 1\n",
    "d = {}\n",
    "print(d)\n",
    "print(type(d))"
   ]
  },
  {
   "cell_type": "code",
   "execution_count": 63,
   "metadata": {
    "tags": []
   },
   "outputs": [
    {
     "output_type": "stream",
     "name": "stdout",
     "text": "{}\n<class 'dict'>\n"
    }
   ],
   "source": [
    "d = dict()\n",
    "print(d)\n",
    "print(type(d))"
   ]
  },
  {
   "cell_type": "code",
   "execution_count": 1,
   "metadata": {
    "tags": []
   },
   "outputs": [
    {
     "output_type": "stream",
     "name": "stdout",
     "text": "{'name': '김경민', 'phone': '01012345678', 'birth': '0617'}\n"
    }
   ],
   "source": [
    "'''\n",
    "아래와 같은 딕셔너리를 만들어 보자!\n",
    "\n",
    "key  \tvalue\n",
    "-------------------\n",
    "name\t김경민\n",
    "phone\t01012345678\n",
    "birth\t0617\n",
    "'''\n",
    "\n",
    "d ={'name':'김경민', 'phone':'01012345678', 'birth': '0617'}\n",
    "print(d)"
   ]
  },
  {
   "cell_type": "code",
   "execution_count": null,
   "metadata": {},
   "outputs": [],
   "source": [
    "\n"
   ]
  },
  {
   "cell_type": "markdown",
   "metadata": {},
   "source": [
    "<font color=\"yellow\">\n",
    "<h1>자료입력</h1>\n",
    "</font>"
   ]
  },
  {
   "cell_type": "code",
   "execution_count": null,
   "metadata": {},
   "outputs": [],
   "source": [
    "x = input(\"자료를 입력하세요: \")\n"
   ]
  },
  {
   "cell_type": "code",
   "execution_count": null,
   "metadata": {},
   "outputs": [],
   "source": []
  }
 ],
 "metadata": {
  "language_info": {
   "codemirror_mode": {
    "name": "ipython",
    "version": 3
   },
   "file_extension": ".py",
   "mimetype": "text/x-python",
   "name": "python",
   "nbconvert_exporter": "python",
   "pygments_lexer": "ipython3",
   "version": "3.8.3-final"
  },
  "orig_nbformat": 2,
  "kernelspec": {
   "name": "python38232bit63af29c5ef7145e9891c7055b73b4a76",
   "display_name": "Python 3.8.2 32-bit"
  }
 },
 "nbformat": 4,
 "nbformat_minor": 2
}