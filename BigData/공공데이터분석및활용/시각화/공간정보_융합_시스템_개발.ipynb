{
 "cells": [
  {
   "cell_type": "code",
   "execution_count": 1,
   "metadata": {},
   "outputs": [],
   "source": [
    "import pandas as pd\n",
    "import json"
   ]
  },
  {
   "cell_type": "code",
   "execution_count": 2,
   "metadata": {},
   "outputs": [],
   "source": [
    "# Folium 라이브러리 \n",
    "#   - 지도 위에 데이터 시각화\n",
    "#    - 웹기반 지도 출력\n",
    "#   - 라이브러리 설치 : pip install folium   "
   ]
  },
  {
   "cell_type": "code",
   "execution_count": 3,
   "metadata": {},
   "outputs": [],
   "source": [
    "# 라이브러리 불러오기\n",
    "import folium"
   ]
  },
  {
   "cell_type": "code",
   "execution_count": 4,
   "metadata": {},
   "outputs": [],
   "source": [
    "# 1. 지도 만들기\n",
    "#  - Map()함수 사용, zoom 및 scroll 가능\n",
    "#  - location=[위도,경도]\n",
    "#  - zoom_start : 1(축소)~15(확대)\n",
    "\n",
    "서울지도 = folium.Map(location=[37.55,126.98], zoom_start=12)"
   ]
  },
  {
   "cell_type": "code",
   "execution_count": 5,
   "metadata": {},
   "outputs": [],
   "source": [
    "서울지도.save('./서울.html')"
   ]
  },
  {
   "cell_type": "markdown",
   "metadata": {},
   "source": [
    "# extension->open in webbrowser 검색 후 설치\n",
    "# alt + b로 실행"
   ]
  },
  {
   "cell_type": "code",
   "execution_count": 7,
   "metadata": {},
   "outputs": [],
   "source": [
    "# 2. 지도 스타일 적용\n",
    "#    - tiles : 타일의 종류, Stamen Terrain(산악지형), Stamen Toner(흑백 도로망 강조)\n",
    "서울지도2 = folium.Map(location=[37.55,126.98], tiles='Stamen Terrain',zoom_start=12)\n",
    "서울지도3 = folium.Map(location=[37.55,126.98], tiles='Stamen Toner', zoom_start=15)\n",
    "\n",
    "서울지도2.save('./seoul2.html')\n",
    "서울지도3.save('./seoul3.html')\n"
   ]
  },
  {
   "cell_type": "code",
   "execution_count": 8,
   "metadata": {},
   "outputs": [],
   "source": [
    "# 3. 지도에 마커 표시하기\n",
    "\n",
    "df = pd.read_excel('./서울지역 대학교 위치.xlsx')\n",
    "대학교 = folium.Map(location=[37.55,126.98], tiles='Stamen Terrain',zoom_start=12)\n",
    "\n",
    "for name, lat, lng in zip(df.index, df.위도, df.경도):\n",
    "    folium.Marker([lat, lng], popup=  name).add_to(대학교)\n",
    "\n",
    "대학교.save('./서울지역 대학교 위치.html')"
   ]
  },
  {
   "cell_type": "code",
   "execution_count": 9,
   "metadata": {},
   "outputs": [],
   "source": [
    "# 4. 지도영역에 단계구분도(Choropleth - Map)\n",
    "file_path = './경기도인구데이터.xlsx'\n",
    "df = pd.read_excel(file_path, index_col='구분')\n",
    "df.columns = df.columns.map(str)\n",
    "\n",
    "# 경기도 시군구 경계 정보를 가진 geo-json 파일 불러오기\n",
    "geo_path = './경기도행정구역경계.json'\n",
    "try:\n",
    "    geo_data = json.load(open(geo_path, encoding='utf-8'))\n",
    "except:\n",
    "    geo_data = json.load(open(geo_path, encoding='utf-8-sig'))\n",
    "\n",
    "# 경기도 지도 만들기\n",
    "g_map = folium.Map(location=[37.5502,126.982], \n",
    "                   tiles='Stamen Terrain', zoom_start=9)\n",
    "\n",
    "# 출력할 연도 선택 (2007 ~ 2017년 중에서 선택)\n",
    "year = '2007'  \n",
    "\n",
    "# Choropleth 클래스로 단계구분도 표시하기\n",
    "folium.Choropleth(geo_data=geo_data,    # 지도 경계\n",
    "                 data = df[year],      # 표시하려는 데이터\n",
    "                 columns = [df.index, df[year]],  # 열 지정\n",
    "                 fill_color='YlOrRd', fill_opacity=0.7, line_opacity=0.3,\n",
    "                 threshold_scale=[10000, 100000, 300000, 500000, 700000],               \n",
    "                 key_on='feature.properties.name',\n",
    "                 ).add_to(g_map)\n",
    "\n",
    "# 지도를 HTML 파일로 저장하기\n",
    "g_map.save('./gyonggi_population_' + year + '.html')"
   ]
  }
 ],
 "metadata": {
  "file_extension": ".py",
  "interpreter": {
   "hash": "0f7af77260ac8b5439dde40be20e84ac87264a6b810a171625820712e3538eaf"
  },
  "kernelspec": {
   "display_name": "Python 3.8.2 32-bit",
   "language": "python",
   "name": "python3"
  },
  "language_info": {
   "codemirror_mode": {
    "name": "ipython",
    "version": 3
   },
   "file_extension": ".py",
   "mimetype": "text/x-python",
   "name": "python",
   "nbconvert_exporter": "python",
   "pygments_lexer": "ipython3",
   "version": "3.8.3"
  },
  "mimetype": "text/x-python",
  "name": "python",
  "npconvert_exporter": "python",
  "orig_nbformat": 2,
  "pygments_lexer": "ipython3",
  "version": 3
 },
 "nbformat": 4,
 "nbformat_minor": 2
}
