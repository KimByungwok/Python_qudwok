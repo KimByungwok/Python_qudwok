{
 "nbformat": 4,
 "nbformat_minor": 2,
 "metadata": {
  "language_info": {
   "name": "python",
   "codemirror_mode": {
    "name": "ipython",
    "version": 3
   },
   "version": "3.8.1-final"
  },
  "orig_nbformat": 2,
  "file_extension": ".py",
  "mimetype": "text/x-python",
  "name": "python",
  "npconvert_exporter": "python",
  "pygments_lexer": "ipython3",
  "version": 3,
  "kernelspec": {
   "name": "python38164bitea47b7e351a1481baab7a3396e6b7ad2",
   "display_name": "Python 3.8.1 64-bit"
  }
 },
 "cells": [
  {
   "cell_type": "code",
   "execution_count": null,
   "metadata": {},
   "outputs": [],
   "source": [
    "# 공적마스크 판매정보 지도 출력하기\n",
    "# \n",
    "# 아래의 현황 조회 사이트의 데이터를 활용\n",
    "# https://app.swaggerhub.com/apis-docs/Promptech/public-mask-info/20200307-oas3#/v1/get_storesByAddr_json\n",
    ""
   ]
  },
  {
   "cell_type": "code",
   "execution_count": null,
   "metadata": {},
   "outputs": [],
   "source": [
    "import pandas as pd\n",
    "import requests\n",
    "import json \n",
    "\n",
    "# pip install tqdm\n",
    "from tqdm import tqdm "
   ]
  },
  {
   "cell_type": "code",
   "execution_count": null,
   "metadata": {},
   "outputs": [],
   "source": [
    "url = \"https://8oi9s0nnth.apigw.ntruss.com/corona19-masks/v1/stores/json?page=1\" \n",
    "\n",
    "req = requests.get(url) \n",
    "json = req.json() ['totalPages']\n",
    "json"
   ]
  },
  {
   "cell_type": "code",
   "execution_count": null,
   "metadata": {},
   "outputs": [],
   "source": [
    "def getMaskStoreInfo(): \n",
    "    url = \"https://8oi9s0nnth.apigw.ntruss.com/corona19-masks/v1/stores/json?page=1\" \n",
    "    req = requests.get(url) \n",
    "    total_page = req.json()['totalPages']\n",
    "\n",
    "    addrs = []\n",
    "    codes = []\n",
    "    latitudes = [] \n",
    "    longitudes = [] \n",
    "    names = [] \n",
    "    types = []\n",
    "\n",
    "    for page_num in tqdm(range(1, total_page+1)): \n",
    "        url = \"https://8oi9s0nnth.apigw.ntruss.com/corona19-masks/v1/stores/json?page=\" + str(page_num) \n",
    "\n",
    "    req = requests.get(url) \n",
    "    json_data = req.json() \n",
    "    store_infos = json_data['storeInfos'] \n",
    "\n",
    "    for info in store_infos: \n",
    "        addrs.append(info['addr']) \n",
    "        codes.append(info['code']) \n",
    "        latitudes.append(info['lat']) \n",
    "        longitudes.append(info['lng']) \n",
    "        names.append(info['name']) \n",
    "        types.append(info['type']) \n",
    "\n",
    "    mask_store_info_df = pd.DataFrame({\"addr\":addrs, \"code\":codes, \"latitude\":latitudes, \"longitude\":longitudes, \"name\":names, \"type\":types}) \n",
    "    return mask_store_info_df"
   ]
  },
  {
   "cell_type": "code",
   "execution_count": null,
   "metadata": {},
   "outputs": [],
   "source": [
    "my_info_df = getMaskStoreInfo()"
   ]
  },
  {
   "cell_type": "code",
   "execution_count": null,
   "metadata": {},
   "outputs": [],
   "source": [
    "my_info_df"
   ]
  },
  {
   "cell_type": "code",
   "execution_count": null,
   "metadata": {},
   "outputs": [],
   "source": []
  },
  {
   "cell_type": "code",
   "execution_count": null,
   "metadata": {},
   "outputs": [],
   "source": [
    "my_info_df.to_csv(\"mask_store_info.csv\", index=False)"
   ]
  }
 ]
}