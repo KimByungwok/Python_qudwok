{
 "cells": [
  {
   "cell_type": "code",
   "execution_count": null,
   "metadata": {},
   "outputs": [],
   "source": [
    "import pandas as pd\n",
    "import json"
   ]
  },
  {
   "cell_type": "code",
   "execution_count": null,
   "metadata": {},
   "outputs": [],
   "source": [
    "# Folium 라이브러리 \n",
    "#   - 지도 위에 데이터 시각화\n",
    "#    - 웹기반 지도 출력\n",
    "#   - 라이브러리 설치 : pip install folium   "
   ]
  },
  {
   "cell_type": "code",
   "execution_count": null,
   "metadata": {},
   "outputs": [],
   "source": [
    "# 라이브러리 불러오기\n",
    "import folium"
   ]
  },
  {
   "cell_type": "code",
   "execution_count": null,
   "metadata": {},
   "outputs": [],
   "source": [
    "# 1. 지도 만들기\n",
    "#  - Map()함수 사용, zoom 및 scroll 가능\n",
    "#  - location=[위도,경도]\n",
    "#  - zoom_start : 1(축소)~15(확대)\n",
    "\n",
    "서울지도 = folium.Map(location=[37.55,126.98], zoom_start=12)"
   ]
  },
  {
   "cell_type": "code",
   "execution_count": null,
   "metadata": {},
   "outputs": [],
   "source": [
    "서울지도.save('./서울.html')"
   ]
  },
  {
   "cell_type": "code",
   "execution_count": null,
   "metadata": {},
   "outputs": [],
   "source": [
    "# extension->open in webbrowser 검색 후 설치\n",
    "# alt + b로 실행"
   ]
  },
  {
   "cell_type": "code",
   "execution_count": null,
   "metadata": {},
   "outputs": [],
   "source": [
    "# 2. 지도 스타일 적용\n",
    "#    - tiles : 타일의 종류, Stamen Terrain(산악지형 강조), Stamen Toner(흑백 도로망 강조), Stamen Watercolor(수채화 형식 표현)\n",
    "#    - http://maps.stamen.com 참조\n",
    "서울지도2 = folium.Map(location=[37.55,126.98], tiles='Stamen Terrain',zoom_start=12)\n",
    "서울지도3 = folium.Map(location=[37.55,126.98], tiles='Stamen Toner', zoom_start=15)\n",
    "서울지도4 = folium.Map(location=[37.55,126.98], tiles='Stamen Watercolor', zoom_start=10)\n",
    "\n",
    "서울지도2.save('./seoul2.html')\n",
    "서울지도3.save('./seoul3.html')\n",
    "서울지도4.save('./seoul4.html')"
   ]
  },
  {
   "cell_type": "code",
   "execution_count": null,
   "metadata": {},
   "outputs": [],
   "source": [
    "# 지도 출력해보기\n",
    "# Jupyter Notebook에서는 바로 출력 가능\n",
    "# 일반적으로 save() 메소드로 html 형식으로 저장 후 활용\n",
    "\n",
    "서울지도2"
   ]
  },
  {
   "cell_type": "code",
   "execution_count": null,
   "metadata": {},
   "outputs": [],
   "source": [
    "# 3. 지도에 마커 표시하기(일반적인 마커 이미지 사용)\n",
    "\n",
    "df = pd.read_excel('./서울지역 대학교 위치.xlsx')\n",
    "대학교 = folium.Map(location=[37.55,126.98], tiles='Stamen Terrain',zoom_start=12)\n",
    "\n",
    "for name, lat, lng in zip(df.index, df.위도, df.경도):\n",
    "    folium.Marker([lat, lng], popup=  name).add_to(대학교)\n",
    "\n",
    "대학교.save('./서울지역 대학교 위치.html')"
   ]
  },
  {
   "cell_type": "code",
   "execution_count": null,
   "metadata": {},
   "outputs": [],
   "source": [
    "# 마커 표시된 지도 출력\n",
    "대학교"
   ]
  },
  {
   "cell_type": "code",
   "execution_count": null,
   "metadata": {},
   "outputs": [],
   "source": [
    "# 지도에 원형 마커 표시해보기\n",
    "\n",
    "df = pd.read_excel('./서울지역 대학교 위치.xlsx')\n",
    "대학교 = folium.Map(location=[37.55,126.98], tiles='Stamen Terrain',zoom_start=12)\n",
    "\n",
    "for name, lat, lng in zip(df.index, df.위도, df.경도):\n",
    "    folium.CircleMarker([lat, lng],\n",
    "    radius = 10,\n",
    "    color='brown',\n",
    "    fill=True,\n",
    "    fil_color='coral',\n",
    "    fill_opacity=0.7,\n",
    "    popup=name\n",
    "    ).add_to(대학교)\n",
    "\n",
    "대학교.save('./서울지역 대학교 위치_원형마커.html')"
   ]
  },
  {
   "cell_type": "code",
   "execution_count": null,
   "metadata": {},
   "outputs": [],
   "source": [
    "# 원형마커 지도 출력해보기\n",
    "대학교"
   ]
  },
  {
   "cell_type": "code",
   "execution_count": null,
   "metadata": {},
   "outputs": [],
   "source": [
    "# 마커 누르면 대학교 이름 나오게 해보기\n",
    "# 한글문제 처리\n",
    "\n",
    "df = pd.read_excel('./서울지역 대학교 위치.xlsx')\n",
    "대학교 = folium.Map(location=[37.55,126.98], tiles='Stamen Terrain',zoom_start=12)\n",
    "tooltip = 'Click me!'\n",
    "for name, lat, lng in zip(df.name, df.위도, df.경도):\n",
    "    folium.CircleMarker([lat, lng],\n",
    "    radius = 10,\n",
    "    color='brown',\n",
    "    fill=True,\n",
    "    fil_color='coral',\n",
    "    fill_opacity=0.7,\n",
    "    popup=name,\n",
    "    tooltip = tooltip\n",
    "    ).add_to(대학교)\n",
    "\n",
    "대학교.save('./서울지역 대학교 위치_원형마커.html')"
   ]
  },
  {
   "cell_type": "code",
   "execution_count": null,
   "metadata": {},
   "outputs": [],
   "source": [
    "대학교"
   ]
  },
  {
   "cell_type": "code",
   "execution_count": null,
   "metadata": {},
   "outputs": [],
   "source": [
    "# \n",
    "# GeoJSON(지오제이슨) : \n",
    "#   - 위치정보를 갖는 점을 기반으로 체계적으로 지형을 표현하기 위해 설계된 개방형 공개 표준 형식\n",
    "#   -  JSON인 자바스그립트 오브젝트 노테이션(Object Notation)을 사용\n",
    "#   -  [경도, 위도] 표기법 사용, cf.구글맵이나 오픈스트리트맵서비스는 [위도,경도] 표기법 사용\n",
    "#       https://ko.wikipedia.org/wiki/GeoJSON 참조\n",
    "#"
   ]
  },
  {
   "cell_type": "code",
   "execution_count": null,
   "metadata": {},
   "outputs": [],
   "source": [
    "# 5. 지도영역에 단계구분도(Choropleth - Map)\n",
    "file_path = './경기도인구데이터.xlsx'\n",
    "df = pd.read_excel(file_path, index_col='구분')\n",
    "df.columns = df.columns.map(str)\n",
    "\n",
    "# 경기도 시군구 경계 정보를 가진 geo-json 파일 불러오기\n",
    "geo_path = './경기도행정구역경계.json'\n",
    "try:\n",
    "    geo_data = json.load(open(geo_path, encoding='utf-8'))\n",
    "except:\n",
    "    geo_data = json.load(open(geo_path, encoding='utf-8-sig'))\n",
    "\n",
    "# 경기도 지도 만들기\n",
    "g_map = folium.Map(location=[37.5502,126.982], \n",
    "                   tiles='Stamen Terrain', zoom_start=9)\n",
    "\n",
    "# 출력할 연도 선택 (2007 ~ 2017년 중에서 선택)\n",
    "# 직접 입력 받도록 변경 해보기\n",
    "year = '2007'  \n",
    "\n",
    "# Choropleth(일종의 주제별 thematic) 클래스로 단계구분도 표시하기\n",
    "folium.Choropleth(geo_data=geo_data,    # 지도 경계\n",
    "                 data = df[year],      # 표시하려는 데이터\n",
    "                 columns = [df.index, df[year]],  # 열 지정\n",
    "                 fill_color='YlOrRd', fill_opacity=0.7, line_opacity=0.3,\n",
    "                 threshold_scale=[10000, 100000, 300000, 500000, 700000],               \n",
    "                 key_on='feature.properties.name',\n",
    "                 ).add_to(g_map)\n",
    "\n",
    "# 지도를 HTML 파일로 저장하기\n",
    "g_map.save('./gyonggi_population_' + year + '.html')"
   ]
  },
  {
   "cell_type": "code",
   "execution_count": null,
   "metadata": {},
   "outputs": [],
   "source": [
    "# 경기 지도 출력해 보기\n",
    "g_map"
   ]
  }
 ],
 "metadata": {
  "file_extension": ".py",
  "interpreter": {
   "hash": "0f7af77260ac8b5439dde40be20e84ac87264a6b810a171625820712e3538eaf"
  },
  "kernelspec": {
   "display_name": "Python 3.8.1 64-bit",
   "language": "python",
   "name": "python3"
  },
  "language_info": {
   "codemirror_mode": {
    "name": "ipython",
    "version": 3
   },
   "file_extension": ".py",
   "mimetype": "text/x-python",
   "name": "python",
   "nbconvert_exporter": "python",
   "pygments_lexer": "ipython3",
   "version": "3.8.3"
  },
  "mimetype": "text/x-python",
  "name": "python",
  "npconvert_exporter": "python",
  "orig_nbformat": 2,
  "pygments_lexer": "ipython3",
  "version": 3
 },
 "nbformat": 4,
 "nbformat_minor": 2
}
