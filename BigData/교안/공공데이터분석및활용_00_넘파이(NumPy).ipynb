{
 "cells": [
  {
   "cell_type": "markdown",
   "metadata": {},
   "source": [
    "# NumPy (Numerical Python)\n",
    "- 파이썬에서 사용할 수 있는 수학적 계산을 위한 패키지\n",
    "- 주요 특징<br>\n",
    "   : ndarray라는 자료구조를 사용해 행렬, 다차원 배열 등에 대한 빠른 배열계산 가능<br>\n",
    "   : 반복문 없이 전체 데이터를 배열로 처리 가능한 표준 수학 함수<br>\n",
    "   : 배열 데이터의 파일 입출력<br>\n",
    "   : 선형대수, 난수 생성, 푸리에 변환 기능<br>\n",
    "   : C API를 제공해 C, C++, 포트란 코드 링크 가능<br>\n",
    "- NumPy 설치<br>\n",
    "   : pip install numpy<br>\n",
    "- NumPy 사용<br> \n",
    "   : import numpy"
   ]
  },
  {
   "cell_type": "code",
   "execution_count": 1,
   "metadata": {},
   "outputs": [],
   "source": [
    "# 넘파이를 사용하기 위해 라이브러리를 추가\n",
    "# 프로그램에서는 np라는 별명으로 사용할 것임을 알림\n",
    "import numpy as np"
   ]
  },
  {
   "cell_type": "code",
   "execution_count": null,
   "metadata": {},
   "outputs": [],
   "source": [
    "# 테스트\n",
    "np_arr = np.array([101, 202, 303, 404, 505])\n",
    "\n",
    "print(np_arr)\n",
    "print(np_arr.dtype)\n",
    "print(type(np_arr))"
   ]
  },
  {
   "cell_type": "markdown",
   "metadata": {},
   "source": [
    "# 배열의 차원"
   ]
  },
  {
   "cell_type": "code",
   "execution_count": null,
   "metadata": {},
   "outputs": [],
   "source": [
    "# 0-D array\n",
    "np_arr = np.array(129)\n",
    "print(np_arr)\n",
    "\n",
    "# 1-D array\n",
    "np_arr = np.array([101, 202, 303, 404, 505])\n",
    "print(np_arr)\n",
    "\n",
    "# 퀴즈 아래 코드는 몇 차원?\n",
    "# 1-D array\n",
    "np_arr = np.array(129)\n",
    "print(np_arr)"
   ]
  },
  {
   "cell_type": "code",
   "execution_count": 2,
   "metadata": {},
   "outputs": [
    {
     "name": "stdout",
     "output_type": "stream",
     "text": [
      "[[101 202 303]]\n"
     ]
    }
   ],
   "source": [
    "# 2-D array\n",
    "#  - 1-D array들을 원소로 가지는 array\n",
    "#  - 2nd order tensors라고도 함\n",
    "\n",
    "np_arr = np.array([[101, 202, 303], [404, 505, 606]])\n",
    "print(np_arr)  "
   ]
  },
  {
   "cell_type": "code",
   "execution_count": null,
   "metadata": {},
   "outputs": [],
   "source": [
    "# 3-D array\n",
    "np_arr = np.array([[[101, 202, 303], [404, 505, 606]], [[101, 202, 303], [404, 505, 606]]])\n",
    "print(np_arr)"
   ]
  },
  {
   "cell_type": "code",
   "execution_count": null,
   "metadata": {},
   "outputs": [],
   "source": [
    "# 퀴즈 : 아래는 몇차원?\n",
    "np_arr = np.array([[[129]]])"
   ]
  },
  {
   "cell_type": "code",
   "execution_count": null,
   "metadata": {},
   "outputs": [],
   "source": [
    "# 배열의 차원 검사\n",
    "dim_0 = np.array(129)\n",
    "dim_1 = np.array([11, 22, 33, 44, 55])\n",
    "dim_2 = np.array([[10, 20, 30], [40, 50, 60]])\n",
    "dim_3 = np.array([[[10, 20, 30], [44, 55, 66]], [[110, 220, 330], [404, 505, 606]]])\n",
    "\n",
    "print(dim_0.ndim)\n",
    "print(dim_1.ndim)\n",
    "print(dim_2.ndim)\n",
    "print(dim_3.ndim)"
   ]
  },
  {
   "cell_type": "code",
   "execution_count": 2,
   "metadata": {},
   "outputs": [
    {
     "name": "stdout",
     "output_type": "stream",
     "text": [
      "[[[10 20 30 40]]]\n",
      "차원의 수 : 3\n"
     ]
    }
   ],
   "source": [
    "# 고차원 배열 생성\n",
    "np_arr = np.array([10, 20, 30, 40], ndmin=3)\n",
    "\n",
    "print(np_arr)\n",
    "print('차원의 수 :', np_arr.ndim)"
   ]
  },
  {
   "cell_type": "markdown",
   "metadata": {},
   "source": [
    "# 배열 인덱싱\n",
    "- 배열원소의 index는 0부터 시작 "
   ]
  },
  {
   "cell_type": "code",
   "execution_count": 7,
   "metadata": {},
   "outputs": [
    {
     "name": "stdout",
     "output_type": "stream",
     "text": [
      "10\n",
      "20\n",
      "10\n"
     ]
    }
   ],
   "source": [
    "np_arr = np.array([10, 20, 30, 40])\n",
    "\n",
    "# 첫번째 원소 참조\n",
    "print(np_arr[0])\n",
    "\n",
    "# 두번째 원소 참조\n",
    "print(np_arr[1])\n",
    "\n",
    "# 인덱스 범위 벗어난 참조는?\n",
    "# 인덱스 범위내에서 인덱스 번호는 사용 가능, \n",
    "# 음수는 사용 가능하지만 인덱스 갯수 내에서만 표현할 수 있음\n",
    "print(np_arr[-4])"
   ]
  },
  {
   "cell_type": "code",
   "execution_count": 12,
   "metadata": {},
   "outputs": [
    {
     "name": "stdout",
     "output_type": "stream",
     "text": [
      "70\n",
      "70\n",
      "[1. 1. 1. 1.]\n",
      "4\n"
     ]
    }
   ],
   "source": [
    "# 배열 원소 참조 계산\n",
    "np_arr = np.array([10, 20, 30, 40])\n",
    "print(np_arr[2] + np_arr[3])\n",
    "\n",
    "# 원소가 문자열인 경우?\n",
    "np_arr = np.array(['10', '20', '30', '40'])\n",
    "print(int(np_arr[2]) + int(np_arr[3]))\n",
    "\n",
    "# 배열 a, b에 대해 사칙연산 바로 표현 가능 단, 데이터 크기(size)가 같아야 함\n",
    "a1 = np.array([10, 20, 30, 40])\n",
    "a2 = np.array([10, 20, 30, 40])\n",
    "print(a1/a2)\n",
    "print(len(a1))"
   ]
  },
  {
   "cell_type": "code",
   "execution_count": 13,
   "metadata": {},
   "outputs": [
    {
     "name": "stdout",
     "output_type": "stream",
     "text": [
      "1행의 2열 원소:  272\n",
      "2행의 5열 원소:  111\n",
      "1행의 2열 원소:  272\n"
     ]
    }
   ],
   "source": [
    "# 2차원 배열 참조\n",
    "np_arr = np.array([[171,272,373,744,575], [661,771,881,991,111]])\n",
    "print('1행의 2열 원소: ', np_arr[0, -4]) # np_arr[0, 1] 또는 np_arr[-2, 1]도 같은 결과\n",
    "print('2행의 5열 원소: ', np_arr[1, 4])\n",
    "\n",
    "# 문제: 2차원 배열에서 axis가 0인 행에 대해 음수 인덱스를 적용해 272가 나오게...\n",
    "print('1행의 2열 원소: ', np_arr[-2, -4])"
   ]
  },
  {
   "cell_type": "code",
   "execution_count": 15,
   "metadata": {},
   "outputs": [
    {
     "name": "stdout",
     "output_type": "stream",
     "text": [
      "1면, 2행, 3열 원소:  60\n",
      "20\n"
     ]
    }
   ],
   "source": [
    "# 3차원 배열 참조\n",
    "np_arr = np.array([[[10, 20, 30], [40, 50, 60]], [[77, 88, 99], [101, 102, 103]]])\n",
    "print('1면, 2행, 3열 원소: ', np_arr[0, 1, 2])\n",
    "\n",
    "# 문제 : 다음 배열에서 20을 출력하도록 인덱싱하려면?\n",
    "np_arr = np.array([[[10, 20, 30]]])\n",
    "print(np_arr[0, 0, 1])"
   ]
  },
  {
   "cell_type": "code",
   "execution_count": null,
   "metadata": {},
   "outputs": [],
   "source": [
    "# 음수 인덱스 값 사용\n",
    "np_arr = np.array([[10,20,30,40,50], [66,77,88,99,100]])\n",
    "print('2행의 마지막 원소: ', np_arr[1, -1])"
   ]
  },
  {
   "cell_type": "markdown",
   "metadata": {},
   "source": [
    "# 배열 슬라이싱(Slicing)\n",
    "- 기본 형태 : \\[start:end\\] 또는 \\[start:end:step\\]\n",
    "- 생략 가능 부분 : 시작인덱스 0, 마지막 인덱스, step이 1인 경우\n"
   ]
  },
  {
   "cell_type": "code",
   "execution_count": 16,
   "metadata": {},
   "outputs": [
    {
     "name": "stdout",
     "output_type": "stream",
     "text": [
      "[101 201 301 401 501 601 701]\n",
      "[101 201 301 401 501 601 701]\n",
      "[101 201 301 401 501 601 701]\n",
      "[501 601 701]\n",
      "[501 601 701]\n",
      "[501 601 701]\n",
      "[201 401 601]\n",
      "[401 501 601]\n"
     ]
    }
   ],
   "source": [
    "np_arr = np.array([101, 201, 301, 401, 501, 601, 701])\n",
    "\n",
    "# 전체 원소\n",
    "print(np_arr[:])    # print(np_arr)와 동일 결과\n",
    "print(np_arr[:7])\n",
    "print(np_arr[0:])\n",
    "\n",
    "# 마지막 3개 원소\n",
    "print(np_arr[4:])\n",
    "print(np_arr[-3:])\n",
    "print(np_arr[-3:7])\n",
    "\n",
    "# 짝수번째 원소\n",
    "print(np_arr[1::2])\n",
    "\n",
    "# 문제 : 슬라이싱을 통해 4번째부터 6번째 원소를 출력하되 \n",
    "#        인덱스 시작, 끝을 음수로 표현해 보자!\n",
    "print(np_arr[-4:-1])"
   ]
  },
  {
   "cell_type": "code",
   "execution_count": 22,
   "metadata": {},
   "outputs": [
    {
     "name": "stdout",
     "output_type": "stream",
     "text": [
      "두번째 행의 2열부터 4열까지 :  [401 501 601]\n",
      "첫번째 행부터 두번째행에 대해 각 행의 2열 :  [201 401]\n",
      "첫번째 행부터 두번째행에 대해 2열부터 4열까지 :  [[201 301 401]\n",
      " [401 501 601]]\n",
      "[[201 301]\n",
      " [401 501]]\n"
     ]
    }
   ],
   "source": [
    "# 2차원 배열 슬라이싱\n",
    "np_arr = np.array([[101, 201, 301, 401, 501], [301, 401, 501, 601, 701]])\n",
    "\n",
    "print('두번째 행의 2열부터 4열까지 : ', np_arr[1, 1:4])\n",
    "print('첫번째 행부터 두번째행에 대해 각 행의 2열 : ', np_arr[0:2, 1])\n",
    "print('첫번째 행부터 두번째행에 대해 2열부터 4열까지 : ',np_arr[0:2, 1:4])\n",
    "\n",
    "# 문제 : 위 배열에서 [[201,301],[401,501]]이 되도록 슬라이싱해보자\n",
    "print(np_arr[0:2, 1:3])"
   ]
  },
  {
   "cell_type": "markdown",
   "metadata": {},
   "source": [
    "# 파이썬과 넘파이의 데이터 타입\n",
    "- Python <br>\n",
    "  : strings - 예) \"ABCD\"<br>\n",
    "  : integer - 예) -1, 0, 1<br>\n",
    "  : float - 예) 10.2, 4.2<br>\n",
    "  : boolean - 예) True or False<br>\n",
    "  : complex - 예) 10.0 + 20.0j, 1.8 + 4.2j<br>\n",
    "  \n",
    "- NumPy <br>\n",
    "  : i - 정수(integer)<br>\n",
    "  : b - 바이트(byte)<br>\n",
    "  : ? - 불(boolean)<br>\n",
    "  : u - 부호없는 정수(unsigned integer)<br>\n",
    "  : f - 실수(float)<br>\n",
    "  : c - 복소수(complex float)<br>\n",
    "  : m - 시간(timedelta)<br>\n",
    "  : M - 날짜시간(datetime)<br>\n",
    "  : O - 객체(object)<br>\n",
    "  : S - 문자열(string)<br>\n",
    "  : U - 유니코드 문자열(unicode string)<br>\n",
    "  : V - 여러 데이터 타입을 표현할 수 있는 고정단위 메모리( void )<br>\n"
   ]
  },
  {
   "cell_type": "code",
   "execution_count": 21,
   "metadata": {},
   "outputs": [
    {
     "name": "stdout",
     "output_type": "stream",
     "text": [
      "<U11\n",
      "<U4\n"
     ]
    }
   ],
   "source": [
    "d = ['10', 20, 30, 40]\n",
    "np_arr = np.array(d)\n",
    "print(np_arr.dtype)\n",
    "\n",
    "np_arr = np.array(['영주사과', '배', '복숭아'])\n",
    "print(np_arr.dtype)"
   ]
  },
  {
   "cell_type": "code",
   "execution_count": 27,
   "metadata": {},
   "outputs": [
    {
     "name": "stdout",
     "output_type": "stream",
     "text": [
      "['10' '20' '30' '40']\n",
      "<class 'numpy.ndarray'>\n",
      "<U4\n"
     ]
    }
   ],
   "source": [
    "# 정의된 데이터 타입으로 배열 생성하기\n",
    "np_arr = np.array([10, 20, 30, 40], dtype='U4') # S는 string\n",
    "\n",
    "print(np_arr)\n",
    "print(type(np_arr))\n",
    "print(np_arr.dtype)\n",
    "\n",
    "# 실습 1 : 출력된 데이터 타입(dtype)에 대해 분석해보기\n",
    "# 실습 2 : dtype='S'인 경우와 dtype='U'의 차이점 찾아보기\n",
    "# 실습 3 : i, u, f, S, U는 데이터의 크기를 줄 수 있음\n",
    "#          위의 예제에서 20을 2222로 변경하고 dtype='S'를 dtype='S3'로 변경 후 실행해 결과 분석해보기"
   ]
  },
  {
   "cell_type": "code",
   "execution_count": 30,
   "metadata": {},
   "outputs": [
    {
     "name": "stdout",
     "output_type": "stream",
     "text": [
      "[10 20 30]\n",
      "int64\n"
     ]
    }
   ],
   "source": [
    "# 데이터 타입을 변경할 수 없는 경우 어떤 일이?\n",
    "np_arr = np.array(['aa', '20', '30'], dtype='i8')\n",
    "print(np_arr)\n",
    "print(np_arr.dtype)"
   ]
  },
  {
   "cell_type": "code",
   "execution_count": 33,
   "metadata": {},
   "outputs": [
    {
     "name": "stdout",
     "output_type": "stream",
     "text": [
      "[10 20 30]\n",
      "int32\n"
     ]
    }
   ],
   "source": [
    "# 기 정의된 배열의 데이터 타입 변경(1)\n",
    "np_arr = np.array([10.1, 20.1, 30.1])\n",
    "\n",
    "newarr = np_arr.astype('int32') # i, i4, i8, int32, int64\n",
    "\n",
    "print(newarr)\n",
    "print(newarr.dtype)"
   ]
  },
  {
   "cell_type": "code",
   "execution_count": 34,
   "metadata": {},
   "outputs": [
    {
     "name": "stdout",
     "output_type": "stream",
     "text": [
      "[10 20 30]\n",
      "int32\n"
     ]
    }
   ],
   "source": [
    "# 기 정의된 배열의 데이터 타입 변경(2)\n",
    "np_arr = np.array([10.1, 20.1, 30.1])\n",
    "\n",
    "newarr = np_arr.astype(int)\n",
    "\n",
    "print(newarr)\n",
    "print(newarr.dtype)"
   ]
  },
  {
   "cell_type": "code",
   "execution_count": 35,
   "metadata": {},
   "outputs": [
    {
     "name": "stdout",
     "output_type": "stream",
     "text": [
      "[ True False  True  True]\n",
      "bool\n"
     ]
    }
   ],
   "source": [
    "# 정수를 불(boolean) 타입으로 변경\n",
    "np_arr = np.array([10, 0, 30, -10])\n",
    "\n",
    "newarr = np_arr.astype(bool)\n",
    "\n",
    "print(newarr)\n",
    "print(newarr.dtype)"
   ]
  },
  {
   "cell_type": "markdown",
   "metadata": {},
   "source": [
    "# 배열의 Copy와 View\n",
    "- Copy : 원본의 데이터 저장 공간과 다른 저장 공간을 할당해 배열 원소 복사, side-effect 없음\n",
    "- View : 원본의 데이터 저장 공간을 참조, side-effect 발생"
   ]
  },
  {
   "cell_type": "code",
   "execution_count": 36,
   "metadata": {},
   "outputs": [
    {
     "name": "stdout",
     "output_type": "stream",
     "text": [
      "[129 201 301 401 501]\n",
      "[101 201 301 401 501]\n"
     ]
    }
   ],
   "source": [
    "# 배열 Copy 예\n",
    "np_arr = np.array([101, 201, 301, 401, 501])\n",
    "x = np_arr.copy()\n",
    "np_arr[0] = 129\n",
    "\n",
    "print(np_arr)\n",
    "print(x)"
   ]
  },
  {
   "cell_type": "code",
   "execution_count": 35,
   "metadata": {},
   "outputs": [
    {
     "name": "stdout",
     "output_type": "stream",
     "text": [
      "[129 201 301 401 501]\n",
      "[129 201 301 401 501]\n"
     ]
    }
   ],
   "source": [
    "# 배열 View 예(원본 변경했을 경우 변화 확인)\n",
    "np_arr = np.array([101, 201, 301, 401, 501])\n",
    "x = np_arr.view()\n",
    "np_arr[0] = 129\n",
    "\n",
    "print(np_arr)\n",
    "print(x)"
   ]
  },
  {
   "cell_type": "code",
   "execution_count": 34,
   "metadata": {},
   "outputs": [
    {
     "name": "stdout",
     "output_type": "stream",
     "text": [
      "[129  20  30  40  50]\n",
      "[129  20  30  40  50]\n"
     ]
    }
   ],
   "source": [
    "# 배열 View 예(참조본 변경했을 경우 변화 확인)\n",
    "np_arr = np.array([10, 20, 30, 40, 50])\n",
    "x = np_arr.view()\n",
    "x[0] = 129\n",
    "\n",
    "print(np_arr)\n",
    "print(x)"
   ]
  },
  {
   "cell_type": "code",
   "execution_count": 39,
   "metadata": {},
   "outputs": [
    {
     "name": "stdout",
     "output_type": "stream",
     "text": [
      "None\n",
      "[101 201 301 401 501]\n"
     ]
    }
   ],
   "source": [
    "# 배열이 원본(데이터 저장을 위한 자신만의 메모리 공간을 가지고 있는 경우)인지 \n",
    "# 참조본인지 확인하는 방법\n",
    "# 배열의 base 속성\n",
    "#    - None : 자신의 데이터를 따로 가진 경우(copy)\n",
    "#    - 배열 : 자신의 데이터를 따로 가지지 못하는 경우(view)\n",
    "np_arr = np.array([101, 201, 301, 401, 501])\n",
    "\n",
    "x = np_arr.copy()\n",
    "y = np_arr.view()\n",
    "\n",
    "print(x.base)\n",
    "print(y.base)"
   ]
  },
  {
   "cell_type": "markdown",
   "metadata": {},
   "source": [
    "# NumPy 배열의 Shape\n",
    "  - 각 차원의 원소 갯수"
   ]
  },
  {
   "cell_type": "code",
   "execution_count": 37,
   "metadata": {},
   "outputs": [
    {
     "name": "stdout",
     "output_type": "stream",
     "text": [
      "(2, 4)\n",
      "<class 'tuple'>\n",
      "2\n"
     ]
    }
   ],
   "source": [
    "# 배열 형태 알아보기\n",
    "np_arr = np.array([[101, 201, 301, 401], [501, 601, 701, 801]])\n",
    "\n",
    "shape = np_arr.shape\n",
    "print(shape)\n",
    "print(type(shape))\n",
    "print(len(shape))\n",
    "\n",
    "# 실습 1 : 각 행의 원소 갯수가 다른 경우 출력은?\n",
    "# ==> 행의 갯수만 확정됨, 단, 차원표시는 됨"
   ]
  },
  {
   "cell_type": "code",
   "execution_count": 41,
   "metadata": {},
   "outputs": [
    {
     "name": "stdout",
     "output_type": "stream",
     "text": [
      "[[[[[101 201 301 401]]]]]\n",
      "배열의 모양(shape) : (1, 1, 1, 1, 4)\n"
     ]
    }
   ],
   "source": [
    "# 배열 형태(차원) 지정하기\n",
    "np_arr = np.array([101, 201, 301, 401], ndmin=5)\n",
    "\n",
    "print(np_arr)\n",
    "print('배열의 모양(shape) :', np_arr.shape)"
   ]
  },
  {
   "cell_type": "code",
   "execution_count": null,
   "metadata": {},
   "outputs": [],
   "source": []
  },
  {
   "cell_type": "markdown",
   "metadata": {},
   "source": [
    "# 배열 Reshaping(재구성, 차원 변경)\n",
    "  - reshape은 배열의 형태를 바꾸는 것임\n",
    "  - shape은 각 차원의 원소 갯수라고 정의되었으므로 reshape한다는 것은 차원을 증감하거나 원소 갯수를 증감하는 것"
   ]
  },
  {
   "cell_type": "code",
   "execution_count": 38,
   "metadata": {},
   "outputs": [
    {
     "name": "stdout",
     "output_type": "stream",
     "text": [
      "(12,)\n",
      "[[650 950 151 152]\n",
      " [750 850 153 150]\n",
      " [250 350 450 550]]\n"
     ]
    }
   ],
   "source": [
    "# 1차원 --> 2차원\n",
    "np_arr = np.array([650, 950, 151, 152, 750, 850, 153, 150, 250, 350, 450, 550])\n",
    "print(np_arr.shape)\n",
    "newarr = np_arr.reshape(3, 4) # 3*4 = 12\n",
    "print(newarr)"
   ]
  },
  {
   "cell_type": "code",
   "execution_count": 40,
   "metadata": {},
   "outputs": [
    {
     "name": "stdout",
     "output_type": "stream",
     "text": [
      "[[[[[650 950 151 152 750 850 153 150 250 350 450 550]]]]]\n"
     ]
    }
   ],
   "source": [
    "# 1차원 --> 3차원\n",
    "np_arr = np.array([650, 950, 151, 152, 750, 850, 153, 150, 250, 350, 450, 550])\n",
    "newarr = np_arr.reshape(2, 2, 3) # 2*2*3=12\n",
    "print(newarr)"
   ]
  },
  {
   "cell_type": "code",
   "execution_count": 45,
   "metadata": {},
   "outputs": [
    {
     "name": "stdout",
     "output_type": "stream",
     "text": [
      "[[[[107 207]\n",
      "   [307 407]]\n",
      "\n",
      "  [[507 607]\n",
      "   [707 807]]]]\n"
     ]
    }
   ],
   "source": [
    "# 갯수가 안맞으면?\n",
    "np_arr = np.array([107, 207, 307, 407, 507, 607, 707, 807])\n",
    "newarr = np_arr.reshape(2, 2)\n",
    "print(newarr)"
   ]
  },
  {
   "cell_type": "code",
   "execution_count": 46,
   "metadata": {},
   "outputs": [
    {
     "name": "stdout",
     "output_type": "stream",
     "text": [
      "[107 207 307 407 507 607 707 807]\n"
     ]
    }
   ],
   "source": [
    "# reshape된 배열은 copy일까? view일까?\n",
    "np_arr = np.array([107, 207, 307, 407, 507, 607, 707, 807])\n",
    "print(np_arr.reshape(2, 4).base)"
   ]
  },
  {
   "cell_type": "code",
   "execution_count": 49,
   "metadata": {},
   "outputs": [
    {
     "name": "stdout",
     "output_type": "stream",
     "text": [
      "(8,)\n",
      "(2, 2, 2)\n",
      "[[[107 207]\n",
      "  [307 407]]\n",
      "\n",
      " [[507 607]\n",
      "  [707 807]]]\n"
     ]
    }
   ],
   "source": [
    "# 차원을 모르는 배열??? \n",
    "# -1은 한군데만 써야 함\n",
    "np_arr = np.array([107, 207, 307, 407, 507, 607, 707, 807])\n",
    "print(np_arr.shape)\n",
    "\n",
    "newarr = np_arr.reshape(2, 2, -5)\n",
    "print(newarr.shape)\n",
    "print(newarr)\n",
    "\n",
    "# 실습 1 : -1을 여러군데 쓰면?\n",
    "# 실습 2 : -1 대신 다른 음수를 쓰면?"
   ]
  },
  {
   "cell_type": "code",
   "execution_count": 52,
   "metadata": {},
   "outputs": [
    {
     "name": "stdout",
     "output_type": "stream",
     "text": [
      "<class 'numpy.ndarray'>\n",
      "[101 201 301 410 510 610]\n"
     ]
    }
   ],
   "source": [
    "# 다차원을 1차원으로 만들기\n",
    "# shape 크기로 음수(-1) 사용\n",
    "np_arr = np.array([[101, 201, 301], [410, 510, 610]])\n",
    "\n",
    "newarr = np_arr.reshape(-1)\n",
    "print(newarr)\n",
    "\n",
    "newarr = np_arr.flatten() \n",
    "print(newarr)"
   ]
  }
 ],
 "metadata": {
  "interpreter": {
   "hash": "0f7af77260ac8b5439dde40be20e84ac87264a6b810a171625820712e3538eaf"
  },
  "kernelspec": {
   "display_name": "Python 3.8.3 64-bit",
   "name": "python3"
  },
  "language_info": {
   "codemirror_mode": {
    "name": "ipython",
    "version": 3
   },
   "file_extension": ".py",
   "mimetype": "text/x-python",
   "name": "python",
   "nbconvert_exporter": "python",
   "pygments_lexer": "ipython3",
   "version": "3.8.2"
  },
  "orig_nbformat": 2
 },
 "nbformat": 4,
 "nbformat_minor": 2
}
