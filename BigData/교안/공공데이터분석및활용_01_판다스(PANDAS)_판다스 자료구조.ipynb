{
 "cells": [
  {
   "cell_type": "markdown",
   "metadata": {},
   "source": [
    "# 데이터 과학(Data Science)\n",
    "\n",
    "## 개요\n",
    "  - 데이터를 연구하는 분야\n",
    "  - 데이터 자체가 가장 중요한 자원\n",
    "  - 빅데이터를 저장, 분석\n",
    "  - 인공지능 기법 활용\n",
    "## 데이터 분석 업무\n",
    "  - 데이터 수집 정리 : 80%~90%\n",
    "  - 분석 프로세스(알고리즘 선택, 모델링, 분석, 정보추출) : 10%~20%\n",
    "\n"
   ]
  },
  {
   "cell_type": "markdown",
   "metadata": {},
   "source": [
    "<font color=\"Blue\">\n",
    "<h2>판다스(pandas)</h2>\n",
    "</font>\n",
    "<h3>- pandas는 python data analysis library의 약자로 Python으로 작성된 데이터 조작, 분석 패키지</h3>\n",
    "\n",
    "[개요]\n",
    " - 데이터에 대한 공통 포맷을 사용해 서로 다른 데이터 형식을 통일해 처리\n",
    " - 시리즈(Series; 1차원 배열)와 데이터프레임(DataFrame; 2차원 배열)으로 구성\n",
    " <img sr_datac=\"https://pandas.pydata.org/docs/_images/01_table_dataframe.svg\"/>\n",
    " <br/>\n",
    "[관련 자료]\n",
    "  - 한눈에 보기(Cheat Sheet) : https://pandas.pydata.org/Pandas_Cheat_Sheet.pdataframe\n",
    "  - 기술문서 : https://pandas.pydata.org/docs/pandas.pdataframe"
   ]
  },
  {
   "cell_type": "markdown",
   "metadata": {},
   "source": [
    "## step1. 환경설치를 위해 Python Terminal 창을 연다.\n",
    "- pip (파이썬 관련 패키지 설치에 사용하는 명령어) 업데이트\n",
    "- >> pip install --upgrade pip\n",
    "##\n",
    "## Step2. pandas 설치\n",
    "- >> pip install --upgrade pandas"
   ]
  },
  {
   "cell_type": "code",
   "execution_count": 1,
   "metadata": {},
   "outputs": [],
   "source": [
    "# PANDAS 패키지 추가하기\n",
    "import pandas as pd"
   ]
  },
  {
   "cell_type": "markdown",
   "metadata": {},
   "source": [
    "# Series\n",
    "- list 형태\n",
    "- a sequence of data values\n",
    "<br>\n",
    "<img sr_datac=\"https://post-phinf.pstatic.net/MjAxOTA2MTlfMTA1/MDAxNTYwOTAyMjU5MjY4.O_lVqutdiKGIb_aOXlWXWbu7x871Ir53GxUfyHlsr_datauog.SyfDuQDzrQtcol_46hpVAuyCvuoo1J9eE행1z1HnLEnHJSMg.JPEG/mug_obj_201906190857392515.jpg?type=w1080\"/>"
   ]
  },
  {
   "cell_type": "markdown",
   "metadata": {},
   "source": [
    "## 시리즈 만들기 \n",
    "- 딕셔너리와 시리즈의 구조가 비슷해 딕셔너리에서 시리즈로 변환 방법을 많이 사용"
   ]
  },
  {
   "cell_type": "code",
   "execution_count": 1,
   "metadata": {},
   "outputs": [],
   "source": [
    "# pandas 라이브러리 추가\n",
    "import pandas as pd"
   ]
  },
  {
   "cell_type": "code",
   "execution_count": 2,
   "metadata": {},
   "outputs": [
    {
     "name": "stdout",
     "output_type": "stream",
     "text": [
      "<class 'pandas.core.series.Series'>\n",
      "\n",
      "\n",
      "x      7\n",
      "y     77\n",
      "z    777\n",
      "dtype: int64\n"
     ]
    }
   ],
   "source": [
    "# key : value 형식을 갖는 딕셔너리를 만들고, 변수 dic_data에 저장\n",
    "dic_data = {'x': 7, 'y': 77, 'z': 777}\n",
    "\n",
    "# 판다스의 Series() 함수를 사용해 딕셔너리(dic_data)를 시리즈 형식으로 변환한 후 변수 sr_data에 저장 \n",
    "sr_data = pd.Series(dic_data)\n",
    "\n",
    "# 시리즈 sr_data의 자료형 출력해 보기\n",
    "print(type(sr_data))\n",
    "print('\\n')\n",
    "\n",
    "# 시리즈 sr_data에 저장된 시리즈 객체를 출력\n",
    "print(sr_data)"
   ]
  },
  {
   "cell_type": "markdown",
   "metadata": {},
   "source": [
    "## 시리즈 인덱스(index) 구조\n",
    "- 인덱스 : 자기와 짝을 이루는 데이터 값의 순서와 주소를 저장\n",
    "- 데이터 값 탐색, 정렬, 선택, 결합 등을 쉽게 처리 할 수 있음\n",
    "- 인덱스 종류<br>\n",
    "  : 기본 인덱스 - 정수형 위치 인덱스(integer pos)<br>\n",
    "  : 선택 인덱스 - 인덱스 이름(index name) 또는 인덱스 라벨(index lbl)와 값(values)<br>\n",
    "\n",
    "### 인덱스와 데이터를 배열로 추출\n",
    "- 인덱스 배열 : Series객체.[index]\n",
    "- 데이터 배열 : Series객체.[values]"
   ]
  },
  {
   "cell_type": "code",
   "execution_count": 3,
   "metadata": {},
   "outputs": [
    {
     "name": "stdout",
     "output_type": "stream",
     "text": [
      "0    2021-08-21\n",
      "1          3.14\n",
      "2           XYZ\n",
      "3            10\n",
      "4          True\n",
      "dtype: object\n",
      "\n",
      "\n"
     ]
    }
   ],
   "source": [
    "import pandas as pd\n",
    "\n",
    "# 리스트 --> 시리즈 변환 후 sr_data에 저장\n",
    "list_data = ['2021-08-21', 3.14, 'XYZ', 10, True]\n",
    "sr_data = pd.Series(list_data)\n",
    "print(sr_data)\n",
    "print('\\n')"
   ]
  },
  {
   "cell_type": "code",
   "execution_count": 6,
   "metadata": {},
   "outputs": [
    {
     "name": "stdout",
     "output_type": "stream",
     "text": [
      "RangeIndex(start=0, stop=5, step=1)\n",
      "<class 'pandas.core.indexes.range.RangeIndex'>\n",
      "\n",
      "\n",
      "['2021-08-21' 3.14 'XYZ' 10 True]\n",
      "<class 'numpy.ndarray'>\n",
      "<class 'int'>\n"
     ]
    }
   ],
   "source": [
    "# 시리즈의 인덱스 배열을 idx에 저장하고 데이터 값은 배열로 val에 저장\n",
    "idx = sr_data.index\n",
    "val = sr_data.values\n",
    "print(idx)\n",
    "print(type(idx))\n",
    "print('\\n')\n",
    "print(val)\n",
    "print(type(val))"
   ]
  },
  {
   "cell_type": "code",
   "execution_count": 5,
   "metadata": {},
   "outputs": [
    {
     "name": "stdout",
     "output_type": "stream",
     "text": [
      "<class 'pandas.core.indexes.range.RangeIndex'>\n",
      "\n",
      "\n",
      "<class 'numpy.ndarray'>\n"
     ]
    }
   ],
   "source": [
    "## 문제 : idx와 val 타입 출력해보기\n",
    "print(type(idx))\n",
    "print('\\n')\n",
    "print(type(val))"
   ]
  },
  {
   "cell_type": "markdown",
   "metadata": {},
   "source": [
    "## 시리즈의 요소(element) 선택\n",
    "- 하나 또는 특정 범위 요소를 선택할 수 있음\n",
    "- 파이썬의 리스트 슬라이싱 기법 활용\n",
    "\n",
    "[지정 방법]\n",
    "- 정수형 위치 인덱스 : [정수형 숫자]\n",
    "- 인덱스 이름 : [\"이름\"] 또는 ['이름']"
   ]
  },
  {
   "cell_type": "code",
   "execution_count": 9,
   "metadata": {},
   "outputs": [
    {
     "name": "stdout",
     "output_type": "stream",
     "text": [
      "이름              경민\n",
      "생일      2021-08-21\n",
      "성별               여\n",
      "학생여부          True\n",
      "dtype: object\n",
      "\n",
      "\n"
     ]
    }
   ],
   "source": [
    "import pandas as pd\n",
    "\n",
    "# 투플을 시리즈로 변환(index 옵션에 리스트형식으로 인덱스로 사용할 이름을 지정)\n",
    "tuple_data = ('경민', '2021-08-21', '여', True)\n",
    "sr_data = pd.Series(tuple_data, index=['이름', '생일', '성별', '학생여부'])\n",
    "print(sr_data)\n",
    "print('\\n')"
   ]
  },
  {
   "cell_type": "code",
   "execution_count": 6,
   "metadata": {},
   "outputs": [
    {
     "name": "stdout",
     "output_type": "stream",
     "text": [
      "경민\n",
      "경민\n",
      "\n",
      "\n"
     ]
    }
   ],
   "source": [
    "# 원소 1개 선택하기\n",
    "print(sr_data[0])       # 정수형 위치 인덱스 사용 : [ ] 안에 정수값 표시\n",
    "print(sr_data['이름'])  # 인덱스 이름 사용 : [ ] 안에 라벨명 표시\n",
    "print('\\n')"
   ]
  },
  {
   "cell_type": "code",
   "execution_count": 11,
   "metadata": {},
   "outputs": [
    {
     "name": "stdout",
     "output_type": "stream",
     "text": [
      "이름        경민\n",
      "학생여부    True\n",
      "dtype: object\n",
      "\n",
      "\n",
      "이름        경민\n",
      "학생여부    True\n",
      "dtype: object\n",
      "\n",
      "\n"
     ]
    }
   ],
   "source": [
    "# 여러 개 원소 선택 (인덱스 리스트로 선택할 라벨 나열)\n",
    "print(sr_data[[0, 3]]) \n",
    "print('\\n')           \n",
    "print(sr_data[['이름', '학생여부']])\n",
    "print('\\n')"
   ]
  },
  {
   "cell_type": "code",
   "execution_count": 12,
   "metadata": {},
   "outputs": [
    {
     "name": "stdout",
     "output_type": "stream",
     "text": [
      "이름            경민\n",
      "생일    2021-08-21\n",
      "성별             여\n",
      "dtype: object\n",
      "\n",
      "\n",
      "이름              경민\n",
      "생일      2021-08-21\n",
      "성별               여\n",
      "학생여부          True\n",
      "dtype: object\n"
     ]
    }
   ],
   "source": [
    "# [ : ] 형식의 인덱스 범위를 지정해 여러 개의 원소를 선택\n",
    "# 정수 인덱스 또는 이름(라벨) 모두 가능\n",
    "print(sr_data[0 : 3])  # print(sr_data[0,1,2]) 와 같은 효과\n",
    "print('\\n')              \n",
    "print(sr_data['이름' : '학생여부'])\n",
    "\n",
    "# 생각해 보기 : 정수형 범위와 이름(라벨)형 범위의 차이점이 무었인가?"
   ]
  },
  {
   "cell_type": "markdown",
   "metadata": {},
   "source": [
    "# DataFrame\n",
    "- 2차원 배열의 테이블 구조\n",
    "- 시리즈들의 모임\n",
    "- 일련의 특정 값 배열로 구성된 entry들을 가짐 \n",
    "- entry는 row와 column과 연관\n",
    "##\n",
    "- 시리즈 : 열벡터(1차원 벡터)\n",
    "- 데이터프레임 : 행렬 또는 2차원 벡터\n",
    "<br>\n",
    "##\n",
    "<img sr_datac=\"https://post-phinf.pstatic.net/MjAxOTA2MTlfMTI5/MDAxNTYwOTAyMjU5MjI1.lBWFsu7GrUYamhBkVv8cTdvSNTztb3YXuBrgbf7pzVMg.TezpSNlFdataframek477XgzoUXK9yrm3bubOLjT1olXFvmOJwg.JPEG/mug_obj_201906190857399015.jpg?type=w1080\"/>\n"
   ]
  },
  {
   "cell_type": "markdown",
   "metadata": {},
   "source": [
    "## 파이썬 자료구조(List, Dictionary)로 데이터 프레임으로 만들기\n",
    "<img sr_datac=\"https://pbpython.com/images/pandas-dataframe-shadow.png\"/>"
   ]
  },
  {
   "cell_type": "markdown",
   "metadata": {},
   "source": [
    "## 딕셔너리에서 데이터 프레임 만들기"
   ]
  },
  {
   "cell_type": "code",
   "execution_count": 13,
   "metadata": {},
   "outputs": [
    {
     "name": "stdout",
     "output_type": "stream",
     "text": [
      "<class 'pandas.core.frame.DataFrame'>\n",
      "\n",
      "\n",
      "   col_0  col_1  col_2  col_3  col_4\n",
      "0      1      7      4     10     13\n",
      "1      2      8      5     11     14\n",
      "2      3      9      6     12     15\n"
     ]
    }
   ],
   "source": [
    "import pandas as pd\n",
    "\n",
    "# 리스트를 value로, 열 이름을 key로 하는 2차원 배열 형식의 딕셔너리 정의\n",
    "dic_data = {'col_0':[1,2,3], 'col_1':[7,8,9], 'col_2':[4,5,6], 'col_3':[10,11,12], 'col_4':[13,14,15]}\n",
    "\n",
    "# 판다스의 DataFrame() 함수는 딕셔너리를 데이터프레임으로 변환할 수 있음\n",
    "dataframe = pd.DataFrame(dic_data)\n",
    "\n",
    "# dataframe의 자료형 출력해서 확인\n",
    "print(type(dataframe)) \n",
    "print('\\n')\n",
    "# 변수 dataframe에 저장된 데이터프레임 객체 출력\n",
    "print(dataframe)"
   ]
  },
  {
   "cell_type": "markdown",
   "metadata": {},
   "source": [
    "## 행 인덱스, 열 이름 설정하기(1)\n",
    "- 행의 인덱스 변경 : DataFrame객체.[index] = 새로운 행의 인덱스 배열\n",
    "- 열의 인덱스 변경 : DataFrame객체.[columns] = 새로운 열의 인덱스 배열"
   ]
  },
  {
   "cell_type": "code",
   "execution_count": 25,
   "metadata": {},
   "outputs": [
    {
     "name": "stdout",
     "output_type": "stream",
     "text": [
      "      학교  나이    성별\n",
      "경민   경민중  15  None\n",
      "영희  경민여중  17     여\n",
      "\n",
      "\n",
      "Index(['경민', '영희'], dtype='object')\n",
      "\n",
      "\n",
      "Index(['학교', '나이', '성별'], dtype='object')\n",
      "\n",
      "\n"
     ]
    }
   ],
   "source": [
    "import pandas as pd\n",
    "데이터 = [['경민중', 15], ['경민여중', 17, '여']]\n",
    "학생이름= ['경민', '영희']\n",
    "# 행 인덱스와 열 이름을 지정하여 dataframe을 생성하기\n",
    "dataframe = pd.DataFrame(데이터, \n",
    "                   index=학생이름,\n",
    "                   columns=['학교', '나이', '성별'])\n",
    "\n",
    "# 행 인덱스와 열 이름 확인\n",
    "print(dataframe)            # 데이터프레임 출력\n",
    "print('\\n')\n",
    "print(dataframe.index)      # dataframe의 행 인덱스를 출력\n",
    "print('\\n')\n",
    "print(dataframe.columns)    # dataframe의 열 이름을 출력\n",
    "print('\\n')\n"
   ]
  },
  {
   "cell_type": "code",
   "execution_count": 28,
   "metadata": {},
   "outputs": [
    {
     "name": "stdout",
     "output_type": "stream",
     "text": [
      "       연령  성별구분  학교이름\n",
      "학생1   경민중    15  None\n",
      "학생2  경민여중    17     여\n",
      "       연령  성별구분  학교이름\n",
      "학생1   경민중    15  None\n",
      "학생2  경민여중    17     여\n",
      "\n",
      "\n",
      "Index(['학생1', '학생2'], dtype='object')\n",
      "\n",
      "\n",
      "Index(['연령', '성별구분', '학교이름'], dtype='object')\n"
     ]
    }
   ],
   "source": [
    "print(dataframe)  \n",
    "\n",
    "# 행 인덱스와 열 이름을 변경해 보기\n",
    "dataframe.index=['학생1', '학생2']\n",
    "dataframe.columns=['연령', '성별구분', '학교이름']\n",
    "\n",
    "print(dataframe)            # 데이터프레임 출력\n",
    "print('\\n')\n",
    "print(dataframe.index)      # dataframe의 행 인덱스를 출력\n",
    "print('\\n')\n",
    "print(dataframe.columns)    # dataframe의 열 이름을 출력"
   ]
  },
  {
   "cell_type": "markdown",
   "metadata": {},
   "source": [
    "## 행 인덱스, 열 이름 설정하기(2)\n",
    "- 행 인덱스의 변경 : DataFrame객체.[rename](index = {기존의 인덱스:새로운 인덱스, ...})\n",
    "- 열 인덱스의 변경 : DataFrame객체.[rename](columns = {기존의 이름: 새로운 이름, ...})"
   ]
  },
  {
   "cell_type": "code",
   "execution_count": 24,
   "metadata": {},
   "outputs": [
    {
     "name": "stdout",
     "output_type": "stream",
     "text": [
      "      학교  나이 성별\n",
      "경민   경민중  15  남\n",
      "영희  경민여중  17  여\n",
      "\n",
      "\n",
      "      소속  연령 남녀\n",
      "경민   경민중  15  남\n",
      "영희  경민여중  17  여\n",
      "       학교  나이 성별\n",
      "학생1   경민중  15  남\n",
      "학생2  경민여중  17  여\n"
     ]
    }
   ],
   "source": [
    "import pandas as pd\n",
    "\n",
    "# 행 인덱스와 열 이름을 지정하여 dataframe을 생성하기\n",
    "dataframe = pd.DataFrame([['경민중', 15, '남'], ['경민여중', 17, '여']], \n",
    "                   index=['경민', '영희'],\n",
    "                   columns=['학교', '나이', '성별'])\n",
    "\n",
    "# 데이터프레임 dataframe를 출력해 확인\n",
    "print(dataframe)\n",
    "print(\"\\n\")\n",
    "\n",
    "# 열 이름의 '성별'을 '남녀'로, '나이'를 '연령'으로, '학교'를 '소속'으로 변경\n",
    "dataframe.rename(columns={'성별':'남녀', '나이':'연령', '학교':'소속'}, inplace=True)\n",
    "print(dataframe)\n",
    "\n",
    "# dataframe의 행 인덱스 '경민'을 '학생1'로, '영희'를 '학생2'로 변경\n",
    "dataframe.rename(index={'경민':'학생1', '영희':'학생2' }, inplace=True)\n",
    "\n",
    "# dataframe 출력(변경 후)\n",
    "print(dataframe)\n"
   ]
  },
  {
   "cell_type": "markdown",
   "metadata": {},
   "source": [
    "## 행, 열 삭제하기\n",
    "- 행 삭제하기 : DataFrame객체.drop( 배열 or 행 인덱스, [axis=0] )\n",
    "- 열 삭제하기 : DataFrame객체.drop( 배열 or 열 이름, [axis=1] )\n",
    "\n",
    "##\n",
    "- 원본객체의 변경 여부 설정<br>\n",
    "  : [inplace] = True(변경) / False(유지)"
   ]
  },
  {
   "cell_type": "markdown",
   "metadata": {},
   "source": [
    "## 행 삭제 예제"
   ]
  },
  {
   "cell_type": "code",
   "execution_count": 29,
   "metadata": {},
   "outputs": [
    {
     "name": "stdout",
     "output_type": "stream",
     "text": [
      "    통계   C  JSP  파이썬\n",
      "경민  90  98   85  100\n",
      "영희  80  89   95   95\n",
      "길동  70  95  100   90\n",
      "\n",
      "\n"
     ]
    }
   ],
   "source": [
    "import pandas as pd\n",
    "\n",
    "# ex_data를 변환해 dataframe에 저장 \n",
    "ex_data = {'통계' : [ 90, 80, 70], 'C' : [ 98, 89, 95],\n",
    "             'JSP' : [ 85, 95, 100], '파이썬' : [ 100, 95, 90]}\n",
    "\n",
    "dataframe = pd.DataFrame(ex_data, index=['경민', '영희', '길동'])\n",
    "print(dataframe)\n",
    "print('\\n')"
   ]
  },
  {
   "cell_type": "code",
   "execution_count": 35,
   "metadata": {},
   "outputs": [
    {
     "ename": "KeyError",
     "evalue": "'[1] not found in axis'",
     "output_type": "error",
     "traceback": [
      "\u001b[1;31m---------------------------------------------------------------------------\u001b[0m",
      "\u001b[1;31mKeyError\u001b[0m                                  Traceback (most recent call last)",
      "\u001b[1;32m<ipython-input-35-54f22bcd375c>\u001b[0m in \u001b[0;36m<module>\u001b[1;34m\u001b[0m\n\u001b[0;32m      4\u001b[0m \u001b[1;33m\u001b[0m\u001b[0m\n\u001b[0;32m      5\u001b[0m \u001b[0mdataframe_2\u001b[0m \u001b[1;33m=\u001b[0m \u001b[0mdataframe\u001b[0m\u001b[1;33m[\u001b[0m\u001b[1;33m:\u001b[0m\u001b[1;33m]\u001b[0m\u001b[1;33m\u001b[0m\u001b[1;33m\u001b[0m\u001b[0m\n\u001b[1;32m----> 6\u001b[1;33m \u001b[0mdataframe_2\u001b[0m\u001b[1;33m.\u001b[0m\u001b[0mdrop\u001b[0m\u001b[1;33m(\u001b[0m\u001b[1;36m1\u001b[0m\u001b[1;33m,\u001b[0m \u001b[0minplace\u001b[0m\u001b[1;33m=\u001b[0m\u001b[1;32mTrue\u001b[0m\u001b[1;33m)\u001b[0m\u001b[1;33m\u001b[0m\u001b[1;33m\u001b[0m\u001b[0m\n\u001b[0m\u001b[0;32m      7\u001b[0m \u001b[0mprint\u001b[0m\u001b[1;33m(\u001b[0m\u001b[0mdataframe_2\u001b[0m\u001b[1;33m)\u001b[0m\u001b[1;33m\u001b[0m\u001b[1;33m\u001b[0m\u001b[0m\n\u001b[0;32m      8\u001b[0m \u001b[0mprint\u001b[0m\u001b[1;33m(\u001b[0m\u001b[1;34m'\\n'\u001b[0m\u001b[1;33m)\u001b[0m\u001b[1;33m\u001b[0m\u001b[1;33m\u001b[0m\u001b[0m\n",
      "\u001b[1;32m~\\AppData\\Local\\Programs\\Python\\Python38-32\\lib\\site-packages\\pandas\\util\\_decorators.py\u001b[0m in \u001b[0;36mwrapper\u001b[1;34m(*args, **kwargs)\u001b[0m\n\u001b[0;32m    309\u001b[0m                     \u001b[0mstacklevel\u001b[0m\u001b[1;33m=\u001b[0m\u001b[0mstacklevel\u001b[0m\u001b[1;33m,\u001b[0m\u001b[1;33m\u001b[0m\u001b[1;33m\u001b[0m\u001b[0m\n\u001b[0;32m    310\u001b[0m                 )\n\u001b[1;32m--> 311\u001b[1;33m             \u001b[1;32mreturn\u001b[0m \u001b[0mfunc\u001b[0m\u001b[1;33m(\u001b[0m\u001b[1;33m*\u001b[0m\u001b[0margs\u001b[0m\u001b[1;33m,\u001b[0m \u001b[1;33m**\u001b[0m\u001b[0mkwargs\u001b[0m\u001b[1;33m)\u001b[0m\u001b[1;33m\u001b[0m\u001b[1;33m\u001b[0m\u001b[0m\n\u001b[0m\u001b[0;32m    312\u001b[0m \u001b[1;33m\u001b[0m\u001b[0m\n\u001b[0;32m    313\u001b[0m         \u001b[1;32mreturn\u001b[0m \u001b[0mwrapper\u001b[0m\u001b[1;33m\u001b[0m\u001b[1;33m\u001b[0m\u001b[0m\n",
      "\u001b[1;32m~\\AppData\\Local\\Programs\\Python\\Python38-32\\lib\\site-packages\\pandas\\core\\frame.py\u001b[0m in \u001b[0;36mdrop\u001b[1;34m(self, labels, axis, index, columns, level, inplace, errors)\u001b[0m\n\u001b[0;32m   4946\u001b[0m                 \u001b[0mweight\u001b[0m  \u001b[1;36m1.0\u001b[0m     \u001b[1;36m0.8\u001b[0m\u001b[1;33m\u001b[0m\u001b[1;33m\u001b[0m\u001b[0m\n\u001b[0;32m   4947\u001b[0m         \"\"\"\n\u001b[1;32m-> 4948\u001b[1;33m         return super().drop(\n\u001b[0m\u001b[0;32m   4949\u001b[0m             \u001b[0mlabels\u001b[0m\u001b[1;33m=\u001b[0m\u001b[0mlabels\u001b[0m\u001b[1;33m,\u001b[0m\u001b[1;33m\u001b[0m\u001b[1;33m\u001b[0m\u001b[0m\n\u001b[0;32m   4950\u001b[0m             \u001b[0maxis\u001b[0m\u001b[1;33m=\u001b[0m\u001b[0maxis\u001b[0m\u001b[1;33m,\u001b[0m\u001b[1;33m\u001b[0m\u001b[1;33m\u001b[0m\u001b[0m\n",
      "\u001b[1;32m~\\AppData\\Local\\Programs\\Python\\Python38-32\\lib\\site-packages\\pandas\\core\\generic.py\u001b[0m in \u001b[0;36mdrop\u001b[1;34m(self, labels, axis, index, columns, level, inplace, errors)\u001b[0m\n\u001b[0;32m   4277\u001b[0m         \u001b[1;32mfor\u001b[0m \u001b[0maxis\u001b[0m\u001b[1;33m,\u001b[0m \u001b[0mlabels\u001b[0m \u001b[1;32min\u001b[0m \u001b[0maxes\u001b[0m\u001b[1;33m.\u001b[0m\u001b[0mitems\u001b[0m\u001b[1;33m(\u001b[0m\u001b[1;33m)\u001b[0m\u001b[1;33m:\u001b[0m\u001b[1;33m\u001b[0m\u001b[1;33m\u001b[0m\u001b[0m\n\u001b[0;32m   4278\u001b[0m             \u001b[1;32mif\u001b[0m \u001b[0mlabels\u001b[0m \u001b[1;32mis\u001b[0m \u001b[1;32mnot\u001b[0m \u001b[1;32mNone\u001b[0m\u001b[1;33m:\u001b[0m\u001b[1;33m\u001b[0m\u001b[1;33m\u001b[0m\u001b[0m\n\u001b[1;32m-> 4279\u001b[1;33m                 \u001b[0mobj\u001b[0m \u001b[1;33m=\u001b[0m \u001b[0mobj\u001b[0m\u001b[1;33m.\u001b[0m\u001b[0m_drop_axis\u001b[0m\u001b[1;33m(\u001b[0m\u001b[0mlabels\u001b[0m\u001b[1;33m,\u001b[0m \u001b[0maxis\u001b[0m\u001b[1;33m,\u001b[0m \u001b[0mlevel\u001b[0m\u001b[1;33m=\u001b[0m\u001b[0mlevel\u001b[0m\u001b[1;33m,\u001b[0m \u001b[0merrors\u001b[0m\u001b[1;33m=\u001b[0m\u001b[0merrors\u001b[0m\u001b[1;33m)\u001b[0m\u001b[1;33m\u001b[0m\u001b[1;33m\u001b[0m\u001b[0m\n\u001b[0m\u001b[0;32m   4280\u001b[0m \u001b[1;33m\u001b[0m\u001b[0m\n\u001b[0;32m   4281\u001b[0m         \u001b[1;32mif\u001b[0m \u001b[0minplace\u001b[0m\u001b[1;33m:\u001b[0m\u001b[1;33m\u001b[0m\u001b[1;33m\u001b[0m\u001b[0m\n",
      "\u001b[1;32m~\\AppData\\Local\\Programs\\Python\\Python38-32\\lib\\site-packages\\pandas\\core\\generic.py\u001b[0m in \u001b[0;36m_drop_axis\u001b[1;34m(self, labels, axis, level, errors, consolidate, only_slice)\u001b[0m\n\u001b[0;32m   4321\u001b[0m                 \u001b[0mnew_axis\u001b[0m \u001b[1;33m=\u001b[0m \u001b[0maxis\u001b[0m\u001b[1;33m.\u001b[0m\u001b[0mdrop\u001b[0m\u001b[1;33m(\u001b[0m\u001b[0mlabels\u001b[0m\u001b[1;33m,\u001b[0m \u001b[0mlevel\u001b[0m\u001b[1;33m=\u001b[0m\u001b[0mlevel\u001b[0m\u001b[1;33m,\u001b[0m \u001b[0merrors\u001b[0m\u001b[1;33m=\u001b[0m\u001b[0merrors\u001b[0m\u001b[1;33m)\u001b[0m\u001b[1;33m\u001b[0m\u001b[1;33m\u001b[0m\u001b[0m\n\u001b[0;32m   4322\u001b[0m             \u001b[1;32melse\u001b[0m\u001b[1;33m:\u001b[0m\u001b[1;33m\u001b[0m\u001b[1;33m\u001b[0m\u001b[0m\n\u001b[1;32m-> 4323\u001b[1;33m                 \u001b[0mnew_axis\u001b[0m \u001b[1;33m=\u001b[0m \u001b[0maxis\u001b[0m\u001b[1;33m.\u001b[0m\u001b[0mdrop\u001b[0m\u001b[1;33m(\u001b[0m\u001b[0mlabels\u001b[0m\u001b[1;33m,\u001b[0m \u001b[0merrors\u001b[0m\u001b[1;33m=\u001b[0m\u001b[0merrors\u001b[0m\u001b[1;33m)\u001b[0m\u001b[1;33m\u001b[0m\u001b[1;33m\u001b[0m\u001b[0m\n\u001b[0m\u001b[0;32m   4324\u001b[0m             \u001b[0mindexer\u001b[0m \u001b[1;33m=\u001b[0m \u001b[0maxis\u001b[0m\u001b[1;33m.\u001b[0m\u001b[0mget_indexer\u001b[0m\u001b[1;33m(\u001b[0m\u001b[0mnew_axis\u001b[0m\u001b[1;33m)\u001b[0m\u001b[1;33m\u001b[0m\u001b[1;33m\u001b[0m\u001b[0m\n\u001b[0;32m   4325\u001b[0m \u001b[1;33m\u001b[0m\u001b[0m\n",
      "\u001b[1;32m~\\AppData\\Local\\Programs\\Python\\Python38-32\\lib\\site-packages\\pandas\\core\\indexes\\base.py\u001b[0m in \u001b[0;36mdrop\u001b[1;34m(self, labels, errors)\u001b[0m\n\u001b[0;32m   6642\u001b[0m         \u001b[1;32mif\u001b[0m \u001b[0mmask\u001b[0m\u001b[1;33m.\u001b[0m\u001b[0many\u001b[0m\u001b[1;33m(\u001b[0m\u001b[1;33m)\u001b[0m\u001b[1;33m:\u001b[0m\u001b[1;33m\u001b[0m\u001b[1;33m\u001b[0m\u001b[0m\n\u001b[0;32m   6643\u001b[0m             \u001b[1;32mif\u001b[0m \u001b[0merrors\u001b[0m \u001b[1;33m!=\u001b[0m \u001b[1;34m\"ignore\"\u001b[0m\u001b[1;33m:\u001b[0m\u001b[1;33m\u001b[0m\u001b[1;33m\u001b[0m\u001b[0m\n\u001b[1;32m-> 6644\u001b[1;33m                 \u001b[1;32mraise\u001b[0m \u001b[0mKeyError\u001b[0m\u001b[1;33m(\u001b[0m\u001b[1;34mf\"{list(labels[mask])} not found in axis\"\u001b[0m\u001b[1;33m)\u001b[0m\u001b[1;33m\u001b[0m\u001b[1;33m\u001b[0m\u001b[0m\n\u001b[0m\u001b[0;32m   6645\u001b[0m             \u001b[0mindexer\u001b[0m \u001b[1;33m=\u001b[0m \u001b[0mindexer\u001b[0m\u001b[1;33m[\u001b[0m\u001b[1;33m~\u001b[0m\u001b[0mmask\u001b[0m\u001b[1;33m]\u001b[0m\u001b[1;33m\u001b[0m\u001b[1;33m\u001b[0m\u001b[0m\n\u001b[0;32m   6646\u001b[0m         \u001b[1;32mreturn\u001b[0m \u001b[0mself\u001b[0m\u001b[1;33m.\u001b[0m\u001b[0mdelete\u001b[0m\u001b[1;33m(\u001b[0m\u001b[0mindexer\u001b[0m\u001b[1;33m)\u001b[0m\u001b[1;33m\u001b[0m\u001b[1;33m\u001b[0m\u001b[0m\n",
      "\u001b[1;31mKeyError\u001b[0m: '[1] not found in axis'"
     ]
    }
   ],
   "source": [
    "# 데이터프레임 dataframe를 복제해 dataframe2에 저장하고 dataframe2의 1개 행 삭제\n",
    "# import warnings\n",
    "# warnings.filterwarnings(action='ignore')\n",
    "\n",
    "dataframe_2 = dataframe[:]\n",
    "dataframe_2.drop('영희', inplace=True)\n",
    "print(dataframe_2)\n",
    "print('\\n')"
   ]
  },
  {
   "cell_type": "code",
   "execution_count": 40,
   "metadata": {},
   "outputs": [
    {
     "name": "stdout",
     "output_type": "stream",
     "text": [
      "Empty DataFrame\n",
      "Columns: [통계, C, JSP, 파이썬]\n",
      "Index: []\n"
     ]
    },
    {
     "name": "stderr",
     "output_type": "stream",
     "text": [
      "<ipython-input-40-431bd7d10c64>:4: SettingWithCopyWarning: \n",
      "A value is trying to be set on a copy of a slice from a DataFrame\n",
      "\n",
      "See the caveats in the documentation: https://pandas.pydata.org/pandas-docs/stable/user_guide/indexing.html#returning-a-view-versus-a-copy\n",
      "  dataframe_3.drop(['경민','영희','길동'], axis=0, inplace=True)\n"
     ]
    }
   ],
   "source": [
    "# 데이터프레임 dataframe를 복제해 dataframe3에 저장하고 dataframe3의 2개 행 삭제\n",
    "dataframe_3 = dataframe[:]\n",
    "#dataframe_3.drop(dataframe_2.index[:], axis=0, inplace=True)\n",
    "dataframe_3.drop(['경민','영희','길동'], axis=0, inplace=True)\n",
    "print(dataframe_3)"
   ]
  },
  {
   "cell_type": "code",
   "execution_count": null,
   "metadata": {},
   "outputs": [],
   "source": [
    "## 문제 : 위의 실습 내용에서 inplace=False로 해서 원본 dataframe와 비교해 보기"
   ]
  },
  {
   "cell_type": "markdown",
   "metadata": {},
   "source": [
    "## 열 삭제 예제"
   ]
  },
  {
   "cell_type": "code",
   "execution_count": 41,
   "metadata": {},
   "outputs": [
    {
     "name": "stdout",
     "output_type": "stream",
     "text": [
      "    통계   C  JSP  파이썬\n",
      "경민  90  98   85  100\n",
      "영희  80  89   95   95\n",
      "길동  70  95  100   90\n",
      "\n",
      "\n"
     ]
    }
   ],
   "source": [
    "import pandas as pd\n",
    "\n",
    "# 데이터프레임으로 변환해 dataframe에 저장 \n",
    "ex_data = {'통계' : [ 90, 80, 70], 'C' : [ 98, 89, 95],\n",
    "             'JSP' : [ 85, 95, 100], '파이썬' : [ 100, 95, 90]}\n",
    "\n",
    "dataframe = pd.DataFrame(ex_data, index=['경민', '영희', '길동'])\n",
    "print(dataframe)\n",
    "print('\\n')"
   ]
  },
  {
   "cell_type": "code",
   "execution_count": 42,
   "metadata": {},
   "outputs": [
    {
     "name": "stdout",
     "output_type": "stream",
     "text": [
      "     C  JSP  파이썬\n",
      "경민  98   85  100\n",
      "영희  89   95   95\n",
      "길동  95  100   90\n",
      "\n",
      "\n"
     ]
    },
    {
     "name": "stderr",
     "output_type": "stream",
     "text": [
      "<ipython-input-42-83098854fcbb>:3: SettingWithCopyWarning: \n",
      "A value is trying to be set on a copy of a slice from a DataFrame\n",
      "\n",
      "See the caveats in the documentation: https://pandas.pydata.org/pandas-docs/stable/user_guide/indexing.html#returning-a-view-versus-a-copy\n",
      "  dataframe_4.drop('통계', axis=1, inplace=True)\n"
     ]
    }
   ],
   "source": [
    "# 데이터프레임 dataframe를 복제하여 변수 dataframe4에 저장. dataframe4의 1개 열(column)을 삭제\n",
    "dataframe_4 = dataframe[:]\n",
    "dataframe_4.drop('통계', axis=1, inplace=True)\n",
    "print(dataframe_4)\n",
    "print('\\n')"
   ]
  },
  {
   "cell_type": "code",
   "execution_count": 45,
   "metadata": {},
   "outputs": [
    {
     "name": "stdout",
     "output_type": "stream",
     "text": [
      "    통계  파이썬\n",
      "경민  90  100\n",
      "영희  80   95\n",
      "길동  70   90\n"
     ]
    },
    {
     "name": "stderr",
     "output_type": "stream",
     "text": [
      "<ipython-input-45-7429356bea50>:3: SettingWithCopyWarning: \n",
      "A value is trying to be set on a copy of a slice from a DataFrame\n",
      "\n",
      "See the caveats in the documentation: https://pandas.pydata.org/pandas-docs/stable/user_guide/indexing.html#returning-a-view-versus-a-copy\n",
      "  dataframe_5.drop(['JSP', 'C'], axis=1, inplace=True)\n"
     ]
    }
   ],
   "source": [
    "# 데이터프레임 dataframe를 복제하여 변수 dataframe5에 저장. dataframe5의 2개 열(column)을 삭제\n",
    "dataframe_5 = dataframe[:]\n",
    "dataframe_5.drop(['JSP', 'C'], axis=1, inplace=True)\n",
    "print(dataframe_5)"
   ]
  },
  {
   "cell_type": "markdown",
   "metadata": {},
   "source": [
    "## 행 선택\n",
    "<table border=1>\n",
    "<tr><td><center>구분</center></td><td><center>loc</center></td><td><center>iloc</center></td></tr>\n",
    "<tr><td>탐색 대상</td><td>인덱스 이름(index lbl)</td><td>정수형 위치 인덱스(integer pos)</td></tr>\n",
    "<tr><td>범위 지정 방법</td><td>가능(범위의 끝 포함)</td><td>가능(범위의 끝 제외)</td></tr>\n",
    "</table>"
   ]
  },
  {
   "cell_type": "code",
   "execution_count": 38,
   "metadata": {},
   "outputs": [
    {
     "name": "stdout",
     "output_type": "stream",
     "text": [
      "    통계   C  JSP  파이썬\n",
      "경민  90  98   85  100\n",
      "영희  80  89   95   95\n",
      "길동  70  95  100   90\n",
      "\n",
      "\n"
     ]
    }
   ],
   "source": [
    "import pandas as pd\n",
    "\n",
    "# ex_data를 변환하여 dataframe에 저장 \n",
    "ex_data = {'통계' : [ 90, 80, 70], 'C' : [ 98, 89, 95],\n",
    "             'JSP' : [ 85, 95, 100], '파이썬' : [ 100, 95, 90]}\n",
    "\n",
    "dataframe = pd.DataFrame(ex_data, index=['경민', '영희', '길동'])\n",
    "print(dataframe)       # 데이터프레임 dataframe을 출력해 확인\n",
    "print('\\n')"
   ]
  },
  {
   "cell_type": "code",
   "execution_count": 46,
   "metadata": {},
   "outputs": [
    {
     "name": "stdout",
     "output_type": "stream",
     "text": [
      "통계      90\n",
      "C       98\n",
      "JSP     85\n",
      "파이썬    100\n",
      "Name: 경민, dtype: int64\n",
      "<class 'pandas.core.series.Series'>\n",
      "\n",
      "\n",
      "통계      90\n",
      "C       98\n",
      "JSP     85\n",
      "파이썬    100\n",
      "Name: 경민, dtype: int64\n",
      "\n",
      "\n"
     ]
    }
   ],
   "source": [
    "# 행 인덱스를 사용하여 행 1개를 선택\n",
    "lbl1 = dataframe.loc['경민']    # loc 인덱서 사용\n",
    "pos1 = dataframe.iloc[0]     # iloc 인덱서 사용\n",
    "print(lbl1)\n",
    "print(type(lbl1))\n",
    "print('\\n')\n",
    "print(pos1)\n",
    "print('\\n')"
   ]
  },
  {
   "cell_type": "code",
   "execution_count": 47,
   "metadata": {},
   "outputs": [
    {
     "name": "stdout",
     "output_type": "stream",
     "text": [
      "    통계   C  JSP  파이썬\n",
      "경민  90  98   85  100\n",
      "영희  80  89   95   95\n",
      "<class 'pandas.core.frame.DataFrame'>\n",
      "\n",
      "\n",
      "    통계   C  JSP  파이썬\n",
      "경민  90  98   85  100\n",
      "영희  80  89   95   95\n",
      "\n",
      "\n"
     ]
    }
   ],
   "source": [
    "# 행 인덱스를 사용하여 2개 이상의 행 선택\n",
    "lbl2 = dataframe.loc[['경민', '영희']]\n",
    "pos2 = dataframe.iloc[[0, 1]]\n",
    "print(lbl2)\n",
    "print(type(lbl2))\n",
    "print('\\n')\n",
    "print(pos2)\n",
    "print('\\n')"
   ]
  },
  {
   "cell_type": "code",
   "execution_count": 48,
   "metadata": {},
   "outputs": [
    {
     "name": "stdout",
     "output_type": "stream",
     "text": [
      "    통계   C  JSP  파이썬\n",
      "경민  90  98   85  100\n",
      "영희  80  89   95   95\n",
      "\n",
      "\n",
      "    통계   C  JSP  파이썬\n",
      "경민  90  98   85  100\n"
     ]
    }
   ],
   "source": [
    "# 행 인덱스의 범위를 지정하여 행 선택\n",
    "lbl3 = dataframe.loc['경민':'영희']\n",
    "pos3 = dataframe.iloc[0:1]\n",
    "print(lbl3)\n",
    "print('\\n')\n",
    "print(pos3)"
   ]
  },
  {
   "cell_type": "markdown",
   "metadata": {},
   "source": [
    "## 열 선택\n",
    "- 1개 열 선택(시리즈 생성): DataFrame객체.[\\['열 이름'\\]] 또는 DataFrame객체.[열이름]\n",
    "- n개 열 선택(데이터프레임 생성): DataFrame객체.[\\[ 열1, 열2, ... , 열n \\]]"
   ]
  },
  {
   "cell_type": "code",
   "execution_count": 58,
   "metadata": {},
   "outputs": [
    {
     "name": "stdout",
     "output_type": "stream",
     "text": [
      "   이름  통계   C  JSP  파이썬\n",
      "0  경민  90  98   85  100\n",
      "1  영희  80  89   95   95\n",
      "2  길동  70  95  100   90\n",
      "<class 'pandas.core.frame.DataFrame'>\n",
      "\n",
      "\n"
     ]
    }
   ],
   "source": [
    "import pandas as pd\n",
    "\n",
    "# ex_data를 변환하여 dataframe에 저장 \n",
    "ex_data = {'이름' : [ '경민', '영희', '길동'],\n",
    "             '통계' : [ 90, 80, 70],\n",
    "             'C' : [ 98, 89, 95],\n",
    "             'JSP' : [ 85, 95, 100],\n",
    "             '파이썬' : [ 100, 95, 90]}\n",
    "dataframe = pd.DataFrame(ex_data)\n",
    "print(dataframe)\n",
    "print(type(dataframe))\n",
    "print('\\n')"
   ]
  },
  {
   "cell_type": "code",
   "execution_count": 53,
   "metadata": {},
   "outputs": [
    {
     "name": "stdout",
     "output_type": "stream",
     "text": [
      "0    90\n",
      "1    80\n",
      "2    70\n",
      "Name: 통 계, dtype: int64\n",
      "<class 'pandas.core.series.Series'>\n",
      "\n",
      "\n"
     ]
    }
   ],
   "source": [
    "# '통계' 점수 데이터만 선택. 변수 math_1에 저장\n",
    "math_1 = dataframe['통계']\n",
    "print(math_1)\n",
    "print(type(math_1))\n",
    "print('\\n')"
   ]
  },
  {
   "cell_type": "code",
   "execution_count": 51,
   "metadata": {},
   "outputs": [
    {
     "name": "stdout",
     "output_type": "stream",
     "text": [
      "0    98\n",
      "1    89\n",
      "2    95\n",
      "Name: C, dtype: int64\n",
      "<class 'pandas.core.series.Series'>\n",
      "\n",
      "\n"
     ]
    }
   ],
   "source": [
    "# 'C' 점수 데이터만 선택. 변수 C_jeomsu에 저장\n",
    "C_jeomsu = dataframe.C  # dataframe['C']\n",
    "print(C_jeomsu)\n",
    "print(type(C_jeomsu))\n",
    "print('\\n')"
   ]
  },
  {
   "cell_type": "code",
   "execution_count": 55,
   "metadata": {},
   "outputs": [
    {
     "name": "stdout",
     "output_type": "stream",
     "text": [
      "   파이썬  JSP\n",
      "0  100   85\n",
      "1   95   95\n",
      "2   90  100\n",
      "<class 'pandas.core.frame.DataFrame'>\n",
      "\n",
      "\n"
     ]
    }
   ],
   "source": [
    "# 'JSP', '파이썬' 점수 데이터를 선택. 변수 jsp_python 에 저장\n",
    "jsp_python = dataframe[['파이썬','JSP']]\n",
    "print(jsp_python)\n",
    "print(type(jsp_python))\n",
    "print('\\n')"
   ]
  },
  {
   "cell_type": "code",
   "execution_count": 57,
   "metadata": {},
   "outputs": [
    {
     "name": "stdout",
     "output_type": "stream",
     "text": [
      "   통 계\n",
      "0   90\n",
      "1   80\n",
      "2   70\n",
      "<class 'pandas.core.frame.DataFrame'>\n"
     ]
    }
   ],
   "source": [
    "# '통계' 점수 데이터만 선택. 변수 math_2에 저장\n",
    "math_2 = dataframe[['통계']]\n",
    "print(math_2)\n",
    "print(type(math_2))"
   ]
  },
  {
   "cell_type": "markdown",
   "metadata": {},
   "source": [
    "## 범위 슬라이싱 고급\n",
    "- DataFrame객체.iloc\\[[시작할 인덱스] : [끝의 인덱스] : [슬라이싱할 간격]\\]<br>\n",
    "  : 시작할 인덱스 포함, 끝의 인덱스 -1까지의 요소 선택<br>\n",
    "  : 간격 지정 하지 않으면 1씩 증가<br>"
   ]
  },
  {
   "cell_type": "code",
   "execution_count": 52,
   "metadata": {},
   "outputs": [
    {
     "name": "stdout",
     "output_type": "stream",
     "text": [
      "   이름  통계   C  JSP  파이썬\n",
      "0  경민  90  98   85  100\n",
      "2  길동  70  95  100   90\n"
     ]
    }
   ],
   "source": [
    "print(dataframe.iloc[ : : 2])"
   ]
  },
  {
   "cell_type": "code",
   "execution_count": 53,
   "metadata": {},
   "outputs": [
    {
     "name": "stdout",
     "output_type": "stream",
     "text": [
      "   이름  통계   C  JSP  파이썬\n",
      "0  경민  90  98   85  100\n",
      "2  길동  70  95  100   90\n"
     ]
    }
   ],
   "source": [
    "print(dataframe.iloc[ : 3 : 2])"
   ]
  },
  {
   "cell_type": "code",
   "execution_count": 54,
   "metadata": {},
   "outputs": [
    {
     "name": "stdout",
     "output_type": "stream",
     "text": [
      "   이름  통계   C  JSP  파이썬\n",
      "2  길동  70  95  100   90\n",
      "1  영희  80  89   95   95\n",
      "0  경민  90  98   85  100\n"
     ]
    }
   ],
   "source": [
    "# 역순으로 인덱싱하기\n",
    "print(dataframe.iloc[ : : -1])"
   ]
  },
  {
   "cell_type": "code",
   "execution_count": 57,
   "metadata": {},
   "outputs": [
    {
     "name": "stdout",
     "output_type": "stream",
     "text": [
      "   이름  통계   C  JSP  파이썬\n",
      "1  영희  80  89   95   95\n",
      "0  경민  90  98   85  100\n"
     ]
    }
   ],
   "source": [
    "print(dataframe.iloc[-2 :  : -1 ])"
   ]
  },
  {
   "cell_type": "markdown",
   "metadata": {},
   "source": [
    "## 데이터 요소(element) 선택\n",
    "- 인덱스 이름으로 선택 : DataFrame객체.loc[\\[행의 인덱스], [열의 이름]\\]\n",
    "- 정수 위치 인덱스로 선택: DataFrame객체.iloc[\\[행의 번호], [열의 번호]\\]"
   ]
  },
  {
   "cell_type": "code",
   "execution_count": 59,
   "metadata": {},
   "outputs": [
    {
     "name": "stdout",
     "output_type": "stream",
     "text": [
      "   이름  통계   C  JSP  파이썬\n",
      "0  경민  90  98   85  100\n",
      "1  영희  80  89   95   95\n",
      "2  길동  70  95  100   90\n",
      "\n",
      "\n",
      "    통계   C  JSP  파이썬\n",
      "이름                  \n",
      "경민  90  98   85  100\n",
      "영희  80  89   95   95\n",
      "길동  70  95  100   90\n",
      "\n",
      "\n"
     ]
    }
   ],
   "source": [
    "import pandas as pd\n",
    "\n",
    "# ex_data를 변환하여 dataframe에 저장 \n",
    "ex_data = {'이름' : [ '경민', '영희', '길동'],\n",
    "             '통계' : [ 90, 80, 70],\n",
    "             'C' : [ 98, 89, 95],\n",
    "             'JSP' : [ 85, 95, 100],\n",
    "             '파이썬' : [ 100, 95, 90]}\n",
    "dataframe = pd.DataFrame(ex_data)\n",
    "print(dataframe)\n",
    "print('\\n')\n",
    "\n",
    "# 새로운 인덱스로 '이름' 열을 지정해 dataframe 객체에 반영\n",
    "dataframe.set_index('이름', inplace=True)\n",
    "print(dataframe)\n",
    "print('\\n')"
   ]
  },
  {
   "cell_type": "code",
   "execution_count": 60,
   "metadata": {},
   "outputs": [
    {
     "name": "stdout",
     "output_type": "stream",
     "text": [
      "85\n",
      "85\n",
      "\n",
      "\n"
     ]
    }
   ],
   "source": [
    "# dataframe에서 '경민'의 'JSP' 점수(특정 원소 1개)를 선택\n",
    "a = dataframe.loc['경민', 'JSP']\n",
    "print(a)\n",
    "b = dataframe.iloc[0, 2]\n",
    "print(b)\n",
    "print('\\n')"
   ]
  },
  {
   "cell_type": "code",
   "execution_count": 62,
   "metadata": {},
   "outputs": [
    {
     "name": "stdout",
     "output_type": "stream",
     "text": [
      "C       98\n",
      "파이썬    100\n",
      "Name: 경민, dtype: int64\n",
      "C       98\n",
      "JSP     85\n",
      "파이썬    100\n",
      "Name: 경민, dtype: int64\n",
      "\n",
      "\n"
     ]
    }
   ],
   "source": [
    "# dataframe에서 '경민'의 'C'와 '파이썬' 점수(특정 원소 2개 이상)을 선택 \n",
    "c = dataframe.loc['경민', ['C', '파이썬']]\n",
    "print(c)\n",
    "d = dataframe.iloc[0, [2, 3]]\n",
    "#print(d)\n",
    "e = dataframe.loc['경민', 'C':'파이썬']\n",
    "print(e)\n",
    "f = dataframe.iloc[0, 2:]\n",
    "#print(f)\n",
    "print('\\n')"
   ]
  },
  {
   "cell_type": "code",
   "execution_count": 62,
   "metadata": {},
   "outputs": [
    {
     "name": "stdout",
     "output_type": "stream",
     "text": [
      "경민이와 영희의 JSP, 파이썬 점수 :\n",
      "     JSP  파이썬\n",
      "이름          \n",
      "경민   85  100\n",
      "영희   95   95\n",
      "경민이와 영희의 JSP, 파이썬 점수 :\n",
      "     JSP  파이썬\n",
      "이름          \n",
      "경민   85  100\n",
      "영희   95   95\n",
      "경민이와 영희의 JSP, 파이썬 점수 :\n",
      "     JSP  파이썬\n",
      "이름          \n",
      "경민   85  100\n",
      "영희   95   95\n",
      "경민이와 영희의 JSP, 파이썬 점수 :\n",
      "     JSP  파이썬\n",
      "이름          \n",
      "경민   85  100\n",
      "영희   95   95\n"
     ]
    }
   ],
   "source": [
    "# dataframe에서 '경민'과 '영희'의 'JSP', '파이썬' 점수 처럼 2개 이상의 행과 열로부터 원소를 선택  \n",
    "g = dataframe.loc[['경민', '영희'], ['JSP', '파이썬']]\n",
    "print('경민이와 영희의 JSP, 파이썬 점수 :\\n', g)\n",
    "\n",
    "h = dataframe.iloc[[0, 1], [2, 3]]\n",
    "print('경민이와 영희의 JSP, 파이썬 점수 :\\n', h)\n",
    "\n",
    "i = dataframe.loc['경민':'영희', 'JSP':'파이썬']\n",
    "print('경민이와 영희의 JSP, 파이썬 점수 :\\n', i)\n",
    "\n",
    "j = dataframe.iloc[0:2, 2:]\n",
    "print('경민이와 영희의 JSP, 파이썬 점수 :\\n', j)"
   ]
  },
  {
   "cell_type": "markdown",
   "metadata": {},
   "source": [
    "## 열 추가\n",
    "- DataFrame객체[\\['추가할 열 이름'\\]] = 데이터 값\n",
    "- 모든 행에 대해 동일 데이터 값으로 추가됨"
   ]
  },
  {
   "cell_type": "code",
   "execution_count": 65,
   "metadata": {},
   "outputs": [
    {
     "name": "stdout",
     "output_type": "stream",
     "text": [
      "   이름  통계   C  JSP  파이썬\n",
      "0  경민  90  98   85  100\n",
      "1  영희  80  89   95   95\n",
      "2  길동  70  95  100   90\n",
      "\n",
      "\n",
      "   이름  통계   C  JSP  파이썬  Java\n",
      "0  경민  90  98   85  100   100\n",
      "1  영희  80  89   95   95   100\n",
      "2  길동  70  95  100   90   100\n"
     ]
    }
   ],
   "source": [
    "import pandas as pd\n",
    "\n",
    "# ex_data를 변환해 dataframe에 저장 \n",
    "ex_data = {'이름' : [ '경민', '영희', '길동'],\n",
    "             '통계' : [ 90, 80, 70],\n",
    "             'C' : [ 98, 89, 95],\n",
    "             'JSP' : [ 85, 95, 100],\n",
    "             '파이썬' : [ 100, 95, 90]}\n",
    "dataframe = pd.DataFrame(ex_data)\n",
    "print(dataframe)\n",
    "print('\\n')\n",
    "\n",
    "# 데이터프레임 dataframe에 'Java' 점수 열(column)을 추가. 데이터 값은 80 지정\n",
    "dataframe['Java'] = 80\n",
    "dataframe.Java = 100  # 기존에 존재한 후에 참조\n",
    "print(dataframe)"
   ]
  },
  {
   "cell_type": "markdown",
   "metadata": {},
   "source": [
    "## 행 추가\n",
    "- DataFrame객체.loc[\\['새로운 행의 이름'\\]] = 배열 또는 데이터 값\n",
    "- 단일 데이터 값의 지정 : 모든 행의 모든 요소에 동일한 값이 추가됨\n",
    "- 열의 갯수에 맞춘 값의 지정 : 배열의 순서대로 값이 추가됨\n",
    "##\n",
    "- 기존 행 인덱스와 겹치지 말아야 새로운 행이 추가됨\n",
    "- 기존 행 인덱스와 동일한 경우 기존 값들이 변경(update)됨\n",
    "##\n",
    "- 정수로 행 인덱스를 표시하는 경우에는 나열 순서 상관 없음"
   ]
  },
  {
   "cell_type": "code",
   "execution_count": 66,
   "metadata": {},
   "outputs": [
    {
     "name": "stdout",
     "output_type": "stream",
     "text": [
      "   이름  통계   C  JSP  파이썬\n",
      "0  경민  90  98   85  100\n",
      "1  영희  80  89   95   95\n",
      "2  길동  70  95  100   90\n",
      "\n",
      "\n"
     ]
    }
   ],
   "source": [
    "import pandas as pd\n",
    "\n",
    "# ex_data를 변환해 dataframe에 저장  \n",
    "ex_data = {'이름' : ['경민', '영희', '길동'],\n",
    "             '통계' : [ 90, 80, 70],\n",
    "             'C' : [ 98, 89, 95],\n",
    "             'JSP' : [ 85, 95, 100],\n",
    "             '파이썬' : [ 100, 95, 90]}\n",
    "dataframe = pd.DataFrame(ex_data)\n",
    "print(dataframe)\n",
    "print('\\n')"
   ]
  },
  {
   "cell_type": "code",
   "execution_count": 67,
   "metadata": {},
   "outputs": [
    {
     "name": "stdout",
     "output_type": "stream",
     "text": [
      "   이름  통계   C  JSP  파이썬\n",
      "0  경민  90  98   85  100\n",
      "1  영희  80  89   95   95\n",
      "2  길동  70  95  100   90\n",
      "3   0   0   0    0    0\n",
      "\n",
      "\n"
     ]
    }
   ],
   "source": [
    "# 새로운 행(row)을 추가 - 같은 원소 값을 입력\n",
    "dataframe.loc[3] = 0\n",
    "print(dataframe)\n",
    "print('\\n')"
   ]
  },
  {
   "cell_type": "code",
   "execution_count": 72,
   "metadata": {},
   "outputs": [
    {
     "name": "stdout",
     "output_type": "stream",
     "text": [
      "    이름   통계    C  JSP  파이썬\n",
      "0   경민   90   98   85  100\n",
      "1   영희   80   89   95   95\n",
      "2   길동   70   95  100   90\n",
      "3    0    0    0    0    0\n",
      "4  규동1  100  100   70   60\n",
      "5  규동2   90   80   70   60\n",
      "7  규동3   90   80   70   60\n",
      "\n",
      "\n"
     ]
    }
   ],
   "source": [
    "# 원소 값 여러 개의 배열 입력해 새로운 행(row) 추가\n",
    "dataframe.loc[4] = ['규동1', 100, 100, 70, 60]\n",
    "print(dataframe)\n",
    "print('\\n')\n",
    "\n",
    "# 문제 : 4를 10으로 바꾸어서 실행하고 결과를 살펴보자!"
   ]
  },
  {
   "cell_type": "code",
   "execution_count": 74,
   "metadata": {},
   "outputs": [
    {
     "name": "stdout",
     "output_type": "stream",
     "text": [
      "    이름  통계   C  JSP    파이썬\n",
      "0   경민  90  98   85  100.0\n",
      "1   영희  80  89   95   95.0\n",
      "2    0   0   0    0    0.0\n",
      "3    0   0   0    0    0.0\n",
      "4   규동  90  80   70    NaN\n",
      "행5   0   0   0    0    0.0\n"
     ]
    }
   ],
   "source": [
    "# 기존 행을 복사해 새로운 행(row)을 추가\n",
    "dataframe.loc['행5'] = dataframe.loc[3]\n",
    "print(dataframe)"
   ]
  },
  {
   "cell_type": "markdown",
   "metadata": {},
   "source": [
    "## 요소 값 변경하기\n",
    "- DataFrame객체의 일부분 또는 요소 선택 = 새로운 값"
   ]
  },
  {
   "cell_type": "code",
   "execution_count": 14,
   "metadata": {},
   "outputs": [
    {
     "name": "stdout",
     "output_type": "stream",
     "text": [
      "   이름  통계   C  JSP  파이썬\n",
      "0  경민  90  98   85  100\n",
      "1  영희  80  89   95   95\n",
      "2  길동  70  95  100   90\n",
      "\n",
      "\n",
      "    통계   C  JSP  파이썬\n",
      "이름                  \n",
      "경민  90  98   85  100\n",
      "영희  80  89   95   95\n",
      "길동  70  95  100   90\n",
      "\n",
      "\n"
     ]
    }
   ],
   "source": [
    "import pandas as pd\n",
    "\n",
    "# ex_data를 변환해 dataframe에 저장 \n",
    "ex_data = {'이름' : [ '경민', '영희', '길동'],\n",
    "             '통계' : [ 90, 80, 70],\n",
    "             'C' : [ 98, 89, 95],\n",
    "             'JSP' : [ 85, 95, 100],\n",
    "             '파이썬' : [ 100, 95, 90]}\n",
    "dataframe = pd.DataFrame(ex_data)\n",
    "print(dataframe)\n",
    "print('\\n')\n",
    "\n",
    "# '이름' 열을 새로운 인덱스로 지정하고, dataframe 객체에 변경사항 반영\n",
    "# df1=dataframe.set_index('이름')  ==> inplace=False\n",
    "dataframe.set_index('이름', inplace=True)\n",
    "print(dataframe)\n",
    "print('\\n')"
   ]
  },
  {
   "cell_type": "code",
   "execution_count": 7,
   "metadata": {},
   "outputs": [
    {
     "name": "stdout",
     "output_type": "stream",
     "text": [
      "    통계   C  JSP  파이썬\n",
      "이름                  \n",
      "경민  90  98   85   90\n",
      "영희  80  89   95   95\n",
      "길동  70  95  100   90\n",
      "\n",
      "\n",
      "    통계   C  JSP  파이썬\n",
      "이름                  \n",
      "경민  90  98   85   40\n",
      "영희  80  89   95   95\n",
      "길동  70  95  100   90\n",
      "\n",
      "\n",
      "    통계   C  JSP  파이썬\n",
      "이름                  \n",
      "경민  90  98   85  100\n",
      "영희  80  89   95   95\n",
      "길동  70  95  100   90\n",
      "\n",
      "\n",
      "    통계   C  JSP  파이썬\n",
      "이름                  \n",
      "경민  90  98   85   90\n",
      "영희  80  89   95   95\n",
      "길동  70  95  100   90\n",
      "\n",
      "\n"
     ]
    }
   ],
   "source": [
    "# dataframe의 특정 원소를 변경하는 방법: '경민'의 '파이썬' 점수\n",
    "dataframe.iloc[0][3] = 90\n",
    "print(dataframe)\n",
    "print('\\n')\n",
    "\n",
    "dataframe.iloc[0,3] = 40\n",
    "print(dataframe)\n",
    "print('\\n')\n",
    "\n",
    "dataframe.loc['경민']['파이썬'] = 100\n",
    "print(dataframe)\n",
    "print('\\n')\n",
    "\n",
    "dataframe.loc['경민', '파이썬'] = 90\n",
    "print(dataframe)\n",
    "print('\\n')"
   ]
  },
  {
   "cell_type": "code",
   "execution_count": 13,
   "metadata": {},
   "outputs": [
    {
     "name": "stdout",
     "output_type": "stream",
     "text": [
      "    통계   C  JSP  파이썬\n",
      "이름                  \n",
      "경민  90  98   80   80\n",
      "영희  80  89   95   95\n",
      "길동  70  95  100   90\n",
      "\n",
      "\n",
      "    통계   C  JSP  파이썬\n",
      "이름                  \n",
      "경민  90  98   98   50\n",
      "영희  80  89   95   95\n",
      "길동  70  95  100   90\n"
     ]
    }
   ],
   "source": [
    "# dataframe의 원소 여러 개를 변경하는 방법: '경민'의 'JSP', '파이썬' 점수\n",
    "dataframe.loc['경민', ['JSP', '파이썬']] = 80\n",
    "print(dataframe)\n",
    "print('\\n')\n",
    "\n",
    "dataframe.loc['경민', ['JSP', '파이썬']] = 98, 50\n",
    "print(dataframe)"
   ]
  },
  {
   "cell_type": "code",
   "execution_count": 15,
   "metadata": {},
   "outputs": [
    {
     "name": "stdout",
     "output_type": "stream",
     "text": [
      "    통계   C  JSP  파이썬\n",
      "이름                  \n",
      "경민  90  98  100  100\n",
      "영희  80  89  100  100\n",
      "길동  70  95  100   90\n",
      "\n",
      "\n"
     ]
    }
   ],
   "source": [
    "# 문제 경민이와 영희의 C, JSP 점수를 100으로 변경하라!\n",
    "dataframe.loc[['경민','영희'], ['JSP', '파이썬']] = 100\n",
    "print(dataframe)\n",
    "print('\\n')"
   ]
  },
  {
   "cell_type": "markdown",
   "metadata": {},
   "source": [
    "## 행과 열 위치 바꾸기(transpose)\n",
    "- DataFrame객체.transpose() 또는 DataFrame객체.T"
   ]
  },
  {
   "cell_type": "code",
   "execution_count": 15,
   "metadata": {},
   "outputs": [
    {
     "name": "stdout",
     "output_type": "stream",
     "text": [
      "   이름  통계   C  JSP  파이썬\n",
      "0  경민  90  98   85  100\n",
      "1  영희  80  89   95   95\n",
      "2  길동  70  95  100   90\n",
      "\n",
      "\n"
     ]
    }
   ],
   "source": [
    "import pandas as pd\n",
    "\n",
    "# ex_data를 변환해 dataframe에 저장 \n",
    "ex_data = {'이름' : [ '경민', '영희', '길동'],\n",
    "             '통계' : [ 90, 80, 70],\n",
    "             'C' : [ 98, 89, 95],\n",
    "             'JSP' : [ 85, 95, 100],\n",
    "             '파이썬' : [ 100, 95, 90]}\n",
    "dataframe = pd.DataFrame(ex_data)\n",
    "print(dataframe)\n",
    "print('\\n')"
   ]
  },
  {
   "cell_type": "code",
   "execution_count": 16,
   "metadata": {},
   "outputs": [
    {
     "name": "stdout",
     "output_type": "stream",
     "text": [
      "       0   1    2\n",
      "이름    경민  영희   길동\n",
      "통계    90  80   70\n",
      "C     98  89   95\n",
      "JSP   85  95  100\n",
      "파이썬  100  95   90\n",
      "\n",
      "\n"
     ]
    }
   ],
   "source": [
    "# 데이터프레임 dataframe를 transpose() 메소드를 활용해 전치하기\n",
    "dataframe = dataframe.transpose()\n",
    "print(dataframe)\n",
    "print('\\n')\n"
   ]
  },
  {
   "cell_type": "code",
   "execution_count": 17,
   "metadata": {},
   "outputs": [
    {
     "name": "stdout",
     "output_type": "stream",
     "text": [
      "   이름  통계   C  JSP  파이썬\n",
      "0  경민  90  98   85  100\n",
      "1  영희  80  89   95   95\n",
      "2  길동  70  95  100   90\n"
     ]
    }
   ],
   "source": [
    "# 데이터프레임 dataframe를 클래스 속성 활용해 다시 전치하기\n",
    "dataframe = dataframe.T\n",
    "print(dataframe)"
   ]
  },
  {
   "cell_type": "markdown",
   "metadata": {},
   "source": [
    "## 인덱스 활용 : 특정 열 --> 행의 인덱스로 설정해 사용 가능\n",
    "- DataFrame객체.[set_index]( ['열 이름', ... ]  or '열 이름' )\n"
   ]
  },
  {
   "cell_type": "code",
   "execution_count": 18,
   "metadata": {},
   "outputs": [
    {
     "name": "stdout",
     "output_type": "stream",
     "text": [
      "   이름  통계   C  JSP  파이썬\n",
      "0  경민  90  98   85  100\n",
      "1  영희  80  89   95   95\n",
      "2  길동  70  95  100   90\n",
      "\n",
      "\n"
     ]
    }
   ],
   "source": [
    "import pandas as pd\n",
    "\n",
    "# ex_data를 변환해 dataframe에 저장 \n",
    "ex_data = {'이름' : [ '경민', '영희', '길동'],\n",
    "             '통계' : [ 90, 80, 70],\n",
    "             'C' : [ 98, 89, 95],\n",
    "             'JSP' : [ 85, 95, 100],\n",
    "             '파이썬' : [ 100, 95, 90]}\n",
    "dataframe = pd.DataFrame(ex_data)\n",
    "print(dataframe)\n",
    "print('\\n')"
   ]
  },
  {
   "cell_type": "code",
   "execution_count": 20,
   "metadata": {},
   "outputs": [
    {
     "name": "stdout",
     "output_type": "stream",
     "text": [
      "    통계   C  JSP  파이썬\n",
      "이름                  \n",
      "경민  90  98   85  100\n",
      "영희  80  89   95   95\n",
      "길동  70  95  100   90\n",
      "\n",
      "\n"
     ]
    }
   ],
   "source": [
    "new_dataframe = dataframe.set_index(['이름'])\n",
    "print(new_dataframe)\n",
    "print('\\n')"
   ]
  },
  {
   "cell_type": "code",
   "execution_count": 21,
   "metadata": {},
   "outputs": [
    {
     "name": "stdout",
     "output_type": "stream",
     "text": [
      "     이름  통계   C  파이썬\n",
      "JSP                 \n",
      "85   경민  90  98  100\n",
      "95   영희  80  89   95\n",
      "100  길동  70  95   90\n",
      "\n",
      "\n"
     ]
    }
   ],
   "source": [
    "new_dataframe2 = dataframe.set_index('JSP')\n",
    "print(new_dataframe2)\n",
    "print('\\n')"
   ]
  },
  {
   "cell_type": "code",
   "execution_count": 41,
   "metadata": {},
   "outputs": [
    {
     "data": {
      "text/html": [
       "<div>\n",
       "<style scoped>\n",
       "    .dataframe tbody tr th:only-of-type {\n",
       "        vertical-align: middle;\n",
       "    }\n",
       "\n",
       "    .dataframe tbody tr th {\n",
       "        vertical-align: top;\n",
       "    }\n",
       "\n",
       "    .dataframe thead th {\n",
       "        text-align: right;\n",
       "    }\n",
       "</style>\n",
       "<table border=\"1\" class=\"dataframe\">\n",
       "  <thead>\n",
       "    <tr style=\"text-align: right;\">\n",
       "      <th></th>\n",
       "      <th>학과</th>\n",
       "      <th>학년</th>\n",
       "      <th>이름</th>\n",
       "    </tr>\n",
       "  </thead>\n",
       "  <tbody>\n",
       "    <tr>\n",
       "      <th>0</th>\n",
       "      <td>융소</td>\n",
       "      <td>2</td>\n",
       "      <td>홍길동</td>\n",
       "    </tr>\n",
       "    <tr>\n",
       "      <th>1</th>\n",
       "      <td>융소</td>\n",
       "      <td>2</td>\n",
       "      <td>김경민</td>\n",
       "    </tr>\n",
       "    <tr>\n",
       "      <th>2</th>\n",
       "      <td>융소</td>\n",
       "      <td>3</td>\n",
       "      <td>성춘향</td>\n",
       "    </tr>\n",
       "    <tr>\n",
       "      <th>3</th>\n",
       "      <td>정통</td>\n",
       "      <td>2</td>\n",
       "      <td>일지매</td>\n",
       "    </tr>\n",
       "    <tr>\n",
       "      <th>4</th>\n",
       "      <td>정통</td>\n",
       "      <td>3</td>\n",
       "      <td>임꺽정</td>\n",
       "    </tr>\n",
       "  </tbody>\n",
       "</table>\n",
       "</div>"
      ],
      "text/plain": [
       "   학과  학년   이름\n",
       "0  융소   2  홍길동\n",
       "1  융소   2  김경민\n",
       "2  융소   3  성춘향\n",
       "3  정통   2  일지매\n",
       "4  정통   3  임꺽정"
      ]
     },
     "metadata": {},
     "output_type": "display_data"
    },
    {
     "name": "stdout",
     "output_type": "stream",
     "text": [
      "        이름\n",
      "학년 학과     \n",
      "2  융소  홍길동\n",
      "   융소  김경민\n",
      "3  융소  성춘향\n",
      "2  정통  일지매\n",
      "3  정통  임꺽정\n",
      "   학년  학과   이름\n",
      "0   2  융소  홍길동\n",
      "1   2  융소  김경민\n",
      "2   3  융소  성춘향\n",
      "3   2  정통  일지매\n",
      "4   3  정통  임꺽정\n"
     ]
    }
   ],
   "source": [
    "# 문제 1: 다음과 같은 데이터 집합이 있는 경우 이를 DataFrame으로 만들어라\n",
    "'''\n",
    "학과 학년 이름\n",
    "융소 2    홍길동\n",
    "융소 2    김경민\n",
    "융소 3    성춘향\n",
    "정통 2    일지매\n",
    "정통 3    임꺽정\n",
    "'''\n",
    "dic3 = {'학과':['융소','융소','융소','정통','정통'],\n",
    "        '학년':[2,2,3,2,3],\n",
    "        '이름':['홍길동','김경민','성춘향','일지매','임꺽정']\n",
    "        }\n",
    "myDataFrame = pd.DataFrame(dic3)\n",
    "display(myDataFrame)\n",
    "\n",
    "# 문제 2: 학과와 학년이 인덱스가 되도록 만들어라\n",
    "#myDataFrame.set_index(['학과','학년'], inplace=True)\n",
    "#display(myDataFrame)\n",
    "\n",
    "# 문제 3: 학년별로 그룹핑 된 후 학과별로 데이터가 모이도록 인덱싱 해 보아라.\n",
    "myDataFrame.set_index(['학년','학과'], inplace=True)\n",
    "print(myDataFrame)\n",
    "\n",
    "# 다중 인덱스로 지정되었던 인덱스를 reset하면 결과는?\n",
    "myDataFrame=myDataFrame.reset_index();\n",
    "print(myDataFrame)"
   ]
  },
  {
   "cell_type": "code",
   "execution_count": 22,
   "metadata": {},
   "outputs": [
    {
     "name": "stdout",
     "output_type": "stream",
     "text": [
      "        이름   C  파이썬\n",
      "통계 JSP             \n",
      "90 85   경민  98  100\n",
      "80 95   영희  89   95\n",
      "70 100  길동  95   90\n"
     ]
    }
   ],
   "source": [
    "# 다중 행 인덱스 설정\n",
    "new_dataframe3 = dataframe.set_index(['통계', 'JSP'])\n",
    "print(new_dataframe3)"
   ]
  },
  {
   "cell_type": "code",
   "execution_count": 23,
   "metadata": {},
   "outputs": [
    {
     "name": "stdout",
     "output_type": "stream",
     "text": [
      "   index  이름  통계   C  JSP  파이썬\n",
      "0      0  경민  90  98   85  100\n",
      "1      1  영희  80  89   95   95\n",
      "2      2  길동  70  95  100   90\n"
     ]
    }
   ],
   "source": [
    "new_dataframe3 = dataframe.reset_index()\n",
    "print(new_dataframe3)"
   ]
  },
  {
   "cell_type": "markdown",
   "metadata": {},
   "source": [
    "## 인덱스 활용 : 행 인덱스 재배열하기\n",
    "- DataFrame객체.[reindex]( 새로운 인덱스 배열 )"
   ]
  },
  {
   "cell_type": "code",
   "execution_count": 35,
   "metadata": {},
   "outputs": [
    {
     "name": "stdout",
     "output_type": "stream",
     "text": [
      "    col_0  col_1  col_2  col_3  col_4\n",
      "행0      1      4      7     10     13\n",
      "행1      2      5      8     11     14\n",
      "행2      3      6      9     12     15\n",
      "\n",
      "\n"
     ]
    }
   ],
   "source": [
    "import pandas as pd\n",
    "\n",
    "# 딕셔서리를 정의\n",
    "dic_data = {'col_0':[1,2,3], 'col_1':[4,5,6], 'col_2':[7,8,9], 'col_3':[10,11,12], 'col_4':[13,14,15]}\n",
    "\n",
    "# 딕셔서리를 데이터프레임으로 변환. 인덱스를 [행0, 행1, 행2]로 지정\n",
    "dataframe = pd.DataFrame(dic_data, index=['행0', '행1', '행2'])\n",
    "print(dataframe)\n",
    "print('\\n')"
   ]
  },
  {
   "cell_type": "code",
   "execution_count": 34,
   "metadata": {},
   "outputs": [
    {
     "name": "stdout",
     "output_type": "stream",
     "text": [
      "    col_0  col_1  col_2  col_3  col_4\n",
      "행2      3      6      9     12     15\n",
      "행1      2      5      8     11     14\n",
      "\n",
      "\n"
     ]
    }
   ],
   "source": [
    "# 인덱스를 [행0, 행1, 행2, 행3, 행4]로 재지정\n",
    "new_index = ['행2', '행1']\n",
    "new_dataframe = dataframe.reindex(new_index)\n",
    "print(new_dataframe)\n",
    "print('\\n')\n",
    "\n",
    "# 문제 : \n",
    "# 1. 기존 행의 갯수보다 지정한 인덱스가 많은 경우 어떻게 되는가?\n",
    "#    새로운 인덱스 이름이 추가된 경우 / 기존 인덱스 이름이 중복 사용된 경우\n",
    "# 2. 기존 행의 갯수보다 지정한 인덱스가 적은 경우 어떻게 되는가?\n",
    "# 3. 기존 행 인덱스와 다른 이름의 인덱스가 지정되었을 때 데이터는 어떻게 되는가?\n",
    "# 4. 기존 행의 인덱스 순서가 바뀌면 원래 데이터는 어떻게 되는가?\n"
   ]
  },
  {
   "cell_type": "code",
   "execution_count": 38,
   "metadata": {},
   "outputs": [
    {
     "name": "stdout",
     "output_type": "stream",
     "text": [
      "    col_0  col_1  col_2  col_3  col_4\n",
      "행0      1      4      7     10     13\n",
      "행1      2      5      8     11     14\n",
      "행2      3      6      9     12     15\n",
      "행3     -1     -1     -1     -1     -1\n",
      "행4     -1     -1     -1     -1     -1\n"
     ]
    }
   ],
   "source": [
    "# 문제 : 행 인덱스 지정 시 NaN을 해결하기 위한 방법은 무엇인가?\n",
    "# reindex로 발생한 NaN값을 숫자 0으로 채우기\n",
    "new_index = ['행0', '행1', '행2', '행3', '행4']\n",
    "new_dataframe2 = dataframe.reindex(new_index, fill_value=-1)\n",
    "print(new_dataframe2)"
   ]
  },
  {
   "cell_type": "markdown",
   "metadata": {},
   "source": [
    "## 인덱스 활용 : 행 인덱스 초기화 하기\n",
    "- DataFrame객체.[reset_index]\\( )\n",
    "- 인덱스 reset의 의미는 인덱스로 사용했던 값을 데이터 프레임의 값으로 돌리는 것"
   ]
  },
  {
   "cell_type": "code",
   "execution_count": 39,
   "metadata": {},
   "outputs": [
    {
     "name": "stdout",
     "output_type": "stream",
     "text": [
      "    col_0  col_1  col_2  col_3  col_4\n",
      "행0      1      4      7     10     13\n",
      "행1      2      5      8     11     14\n",
      "행2      3      6      9     12     15\n",
      "\n",
      "\n"
     ]
    }
   ],
   "source": [
    "import pandas as pd\n",
    "\n",
    "# 딕셔서리를 정의\n",
    "dic_data = {'col_0':[1,2,3], 'col_1':[4,5,6], 'col_2':[7,8,9], 'col_3':[10,11,12], 'col_4':[13,14,15]}\n",
    "\n",
    "# 딕셔서리를 데이터프레임으로 변환. 인덱스를 [행0, 행1, 행2]로 지정\n",
    "dataframe = pd.DataFrame(dic_data, index=['행0', '행1', '행2'])\n",
    "print(dataframe)\n",
    "print('\\n')"
   ]
  },
  {
   "cell_type": "code",
   "execution_count": 35,
   "metadata": {},
   "outputs": [
    {
     "name": "stdout",
     "output_type": "stream",
     "text": [
      "  index  col_0  col_1  col_2  col_3  col_4\n",
      "0    행0      1      4      7     10     13\n",
      "1    행1      2      5      8     11     14\n",
      "2    행2      3      6      9     12     15\n"
     ]
    }
   ],
   "source": [
    "# 행 인덱스를 정수형으로 초기화 \n",
    "dataframe = dataframe.reset_index()\n",
    "print(dataframe)"
   ]
  },
  {
   "cell_type": "code",
   "execution_count": 36,
   "metadata": {},
   "outputs": [
    {
     "name": "stdout",
     "output_type": "stream",
     "text": [
      "   col_0  col_1  col_2  col_3  col_4\n",
      "0      1      4      7     10     13\n",
      "1      2      5      8     11     14\n",
      "2      3      6      9     12     15\n"
     ]
    }
   ],
   "source": [
    "# 위의 결과에서 컬럼이름 'index '를 가지는 시리즈는 원래 데이터가 아니다. \n",
    "# 제거해 보아라.\n",
    "dataframe=dataframe.drop(\"index\", axis=1)\n",
    "print(dataframe)"
   ]
  },
  {
   "cell_type": "code",
   "execution_count": 40,
   "metadata": {},
   "outputs": [
    {
     "name": "stdout",
     "output_type": "stream",
     "text": [
      "        col_0  col_1  col_2  col_3  col_4\n",
      "r  q                                     \n",
      "행0 q_0      1      4      7     10     13\n",
      "행1 q_1      2      5      8     11     14\n",
      "행2 q_2      3      6      9     12     15\n",
      "\n",
      "\n",
      "        col_0  col_1  col_2  col_3  col_4\n",
      "r  q                                     \n",
      "행0 q_0      1      4      7     10     13\n",
      "행1 q_1      2      5      8     11     14\n",
      "행2 q_2      3      6      9     12     15\n",
      "\n",
      "\n"
     ]
    }
   ],
   "source": [
    "# 문제 : 멀티 인덱스를 가진 데이터 프레임에 대해 reset_index()를 실행하면 어떻게 되는 지 알아보아라.\n",
    "import pandas as pd\n",
    "\n",
    "# 딕셔서리를 정의\n",
    "dic_data = {'col_0':[1,2,3], 'col_1':[4,5,6], 'col_2':[7,8,9], 'col_3':[10,11,12], 'col_4':[13,14,15]}\n",
    "\n",
    "# 딕셔서리를 데이터프레임으로 변환. 인덱스를 [행0, 행1, 행2]과 ['q_0', 'q_1', 'q_2']로 지정\n",
    "dataframe = pd.DataFrame(dic_data, index=[['행0', '행1', '행2'], ['q_0', 'q_1', 'q_2']])\n",
    "dataframe.index.names = [\"r\", \"q\"]\n",
    "print(dataframe)\n",
    "print('\\n')\n",
    "\n",
    "dataframe.reset_index()\n",
    "print(dataframe)\n",
    "print('\\n')"
   ]
  },
  {
   "cell_type": "markdown",
   "metadata": {},
   "source": [
    "## 인덱스 활용 : 행 인덱스로 데이터 프레임 정렬하기\n",
    "- DataFrame객체.[sort_index]\\( )\n",
    "- 매개변수로 ascending = False 또는 True, 디폴트는 오름차순(ascending = True)"
   ]
  },
  {
   "cell_type": "code",
   "execution_count": 45,
   "metadata": {},
   "outputs": [
    {
     "name": "stdout",
     "output_type": "stream",
     "text": [
      "    col_0  col_1  col_2  col_3  col_4\n",
      "행2      1      4      7     10     13\n",
      "행0      2      5      8     11     14\n",
      "행1      3      6      9     12     15\n",
      "\n",
      "\n",
      "    col_0  col_1  col_2  col_3  col_4\n",
      "행0      2      5      8     11     14\n",
      "행1      3      6      9     12     15\n",
      "행2      1      4      7     10     13\n"
     ]
    }
   ],
   "source": [
    "import pandas as pd\n",
    "\n",
    "# 딕셔서리를 정의\n",
    "dic_data = {'col_0':[1,2,3], 'col_1':[4,5,6], 'col_2':[7,8,9], 'col_3':[10,11,12], 'col_4':[13,14,15]}\n",
    "\n",
    "# 딕셔서리를 데이터프레임으로 변환. 인덱스를 [행0, 행1, 행2]로 지정\n",
    "dataframe = pd.DataFrame(dic_data, index=['행2', '행0', '행1'])\n",
    "print(dataframe)\n",
    "print('\\n')\n",
    "\n",
    "# 내림차순으로 행 인덱스 정렬 \n",
    "new_dataframe = dataframe.sort_index(ascending=False)\n",
    "print(new_dataframe)\n",
    "\n",
    "# 문제 ascending=True로 해보자!"
   ]
  },
  {
   "cell_type": "markdown",
   "metadata": {},
   "source": [
    "## 인덱스 활용 : 열 기준으로 데이터 프레임 정렬하기\n",
    "- DataFrame객체.[sort_values]\\( )\n",
    "- 매개변수로 ascending = False 또는 True"
   ]
  },
  {
   "cell_type": "code",
   "execution_count": 47,
   "metadata": {},
   "outputs": [
    {
     "name": "stdout",
     "output_type": "stream",
     "text": [
      "    col_0  col_1  col_2  col_3  col_4\n",
      "행0      1      4      7     10     13\n",
      "행1      2      6      8     11     14\n",
      "행2      3      6      9     12     15\n",
      "\n",
      "\n",
      "    col_0  col_1  col_2  col_3  col_4\n",
      "행2      3      6      9     12     15\n",
      "행1      2      6      8     11     14\n",
      "행0      1      4      7     10     13\n"
     ]
    }
   ],
   "source": [
    "import pandas as pd\n",
    "\n",
    "# 딕셔서리를 정의\n",
    "dic_data = {'col_0':[1,2,3], 'col_1':[4,6,6], 'col_2':[7,8,9], 'col_3':[10,11,12], 'col_4':[13,14,15]}\n",
    "\n",
    "# 딕셔서리를 데이터프레임으로 변환. 인덱스를 [행0, 행1, 행2]로 지정\n",
    "dataframe = pd.DataFrame(dic_data, index=['행0', '행1', '행2'])\n",
    "print(dataframe)\n",
    "print('\\n')\n",
    "\n",
    "# col_1 열을 기준으로 내림차순 정렬 \n",
    "new_dataframe = dataframe.sort_values(by=['col_1','col_2'], ascending=False)\n",
    "print(new_dataframe)\n",
    "\n",
    "# 문제 1 : 여러 열을 기준으로 정렬하려면?\n",
    "# 문제 2 : NaN을 우선적으로 해서 정렬하려면:\n",
    "#          - na_position='first' 옵션 사용"
   ]
  },
  {
   "cell_type": "code",
   "execution_count": 50,
   "metadata": {},
   "outputs": [
    {
     "data": {
      "text/html": [
       "<div>\n",
       "<style scoped>\n",
       "    .dataframe tbody tr th:only-of-type {\n",
       "        vertical-align: middle;\n",
       "    }\n",
       "\n",
       "    .dataframe tbody tr th {\n",
       "        vertical-align: top;\n",
       "    }\n",
       "\n",
       "    .dataframe thead th {\n",
       "        text-align: right;\n",
       "    }\n",
       "</style>\n",
       "<table border=\"1\" class=\"dataframe\">\n",
       "  <thead>\n",
       "    <tr style=\"text-align: right;\">\n",
       "      <th></th>\n",
       "      <th>학과</th>\n",
       "      <th>학년</th>\n",
       "      <th>이름</th>\n",
       "    </tr>\n",
       "  </thead>\n",
       "  <tbody>\n",
       "    <tr>\n",
       "      <th>0</th>\n",
       "      <td>융소</td>\n",
       "      <td>2</td>\n",
       "      <td>홍길동</td>\n",
       "    </tr>\n",
       "    <tr>\n",
       "      <th>1</th>\n",
       "      <td>융소</td>\n",
       "      <td>2</td>\n",
       "      <td>김경민</td>\n",
       "    </tr>\n",
       "    <tr>\n",
       "      <th>2</th>\n",
       "      <td>융소</td>\n",
       "      <td>3</td>\n",
       "      <td>성춘향</td>\n",
       "    </tr>\n",
       "    <tr>\n",
       "      <th>3</th>\n",
       "      <td>정통</td>\n",
       "      <td>2</td>\n",
       "      <td>일지매</td>\n",
       "    </tr>\n",
       "    <tr>\n",
       "      <th>4</th>\n",
       "      <td>정통</td>\n",
       "      <td>3</td>\n",
       "      <td>임꺽정</td>\n",
       "    </tr>\n",
       "  </tbody>\n",
       "</table>\n",
       "</div>"
      ],
      "text/plain": [
       "   학과  학년   이름\n",
       "0  융소   2  홍길동\n",
       "1  융소   2  김경민\n",
       "2  융소   3  성춘향\n",
       "3  정통   2  일지매\n",
       "4  정통   3  임꺽정"
      ]
     },
     "metadata": {},
     "output_type": "display_data"
    },
    {
     "data": {
      "text/html": [
       "<div>\n",
       "<style scoped>\n",
       "    .dataframe tbody tr th:only-of-type {\n",
       "        vertical-align: middle;\n",
       "    }\n",
       "\n",
       "    .dataframe tbody tr th {\n",
       "        vertical-align: top;\n",
       "    }\n",
       "\n",
       "    .dataframe thead th {\n",
       "        text-align: right;\n",
       "    }\n",
       "</style>\n",
       "<table border=\"1\" class=\"dataframe\">\n",
       "  <thead>\n",
       "    <tr style=\"text-align: right;\">\n",
       "      <th></th>\n",
       "      <th>학과</th>\n",
       "      <th>학년</th>\n",
       "      <th>이름</th>\n",
       "    </tr>\n",
       "  </thead>\n",
       "  <tbody>\n",
       "    <tr>\n",
       "      <th>4</th>\n",
       "      <td>정통</td>\n",
       "      <td>3</td>\n",
       "      <td>임꺽정</td>\n",
       "    </tr>\n",
       "    <tr>\n",
       "      <th>3</th>\n",
       "      <td>정통</td>\n",
       "      <td>2</td>\n",
       "      <td>일지매</td>\n",
       "    </tr>\n",
       "    <tr>\n",
       "      <th>2</th>\n",
       "      <td>융소</td>\n",
       "      <td>3</td>\n",
       "      <td>성춘향</td>\n",
       "    </tr>\n",
       "    <tr>\n",
       "      <th>0</th>\n",
       "      <td>융소</td>\n",
       "      <td>2</td>\n",
       "      <td>홍길동</td>\n",
       "    </tr>\n",
       "    <tr>\n",
       "      <th>1</th>\n",
       "      <td>융소</td>\n",
       "      <td>2</td>\n",
       "      <td>김경민</td>\n",
       "    </tr>\n",
       "  </tbody>\n",
       "</table>\n",
       "</div>"
      ],
      "text/plain": [
       "   학과  학년   이름\n",
       "4  정통   3  임꺽정\n",
       "3  정통   2  일지매\n",
       "2  융소   3  성춘향\n",
       "0  융소   2  홍길동\n",
       "1  융소   2  김경민"
      ]
     },
     "metadata": {},
     "output_type": "display_data"
    }
   ],
   "source": [
    "dic3 = {'학과':['융소','융소','융소','정통','정통'],\n",
    "        '학년':[2,2,3,2,3],\n",
    "        '이름':['홍길동','김경민','성춘향','일지매','임꺽정']\n",
    "        }\n",
    "myDataFrame = pd.DataFrame(dic3)\n",
    "display(myDataFrame)\n",
    "\n",
    "# 문제 : 위 데이터프레임에서 학과별로 정렬하고 같은 학과인 경우 학년별로 정렬해 보아라\n",
    "# 단, 정렬은 내림차순으로...\n",
    "myDataFrame = myDataFrame.sort_values(by=['학과','학년'], ascending=False)\n",
    "display(myDataFrame)"
   ]
  },
  {
   "cell_type": "code",
   "execution_count": 50,
   "metadata": {},
   "outputs": [
    {
     "name": "stdout",
     "output_type": "stream",
     "text": [
      "  col1  col2  col3\n",
      "0   AA     8     0\n",
      "1   AA     2     4\n",
      "2   BB     4     2\n",
      "3  NaN     7     3\n",
      "4   DD     1     1\n",
      "5   CC     9     9\n",
      "\n",
      "\n",
      "  col1  col2  col3\n",
      "3  NaN     7     3\n",
      "0   AA     8     0\n",
      "1   AA     2     4\n",
      "2   BB     4     2\n",
      "5   CC     9     9\n",
      "4   DD     1     1\n"
     ]
    }
   ],
   "source": [
    "import pandas as pd # 패키지 추가\n",
    "import numpy as np  # 패키지 추가\n",
    "\n",
    "# 딕셔너리 데이터에서 dataframe을 생성\n",
    "dataframe = pd.DataFrame({'col1': ['AA', 'AA', 'BB', np.nan, 'DD', 'CC'], \n",
    "                   'col2': [8, 2, 4, 7, 1, 9],\n",
    "                   'col3': [0, 4, 2, 3, 1, 9] })\n",
    "                   \n",
    "print(dataframe)\n",
    "print('\\n')\n",
    "\n",
    "d1=dataframe.sort_values(by='col1', ascending=True, na_position='first')\n",
    "print(d1)"
   ]
  },
  {
   "cell_type": "markdown",
   "metadata": {},
   "source": [
    "## 시리즈의 데이터 요소들을 숫자로 한꺼번에 처리하기"
   ]
  },
  {
   "cell_type": "code",
   "execution_count": 51,
   "metadata": {},
   "outputs": [
    {
     "name": "stdout",
     "output_type": "stream",
     "text": [
      "Java    100\n",
      "C        80\n",
      "통계       90\n",
      "dtype: int64\n",
      "\n",
      "\n",
      "Java    0.50\n",
      "C       0.40\n",
      "통계      0.45\n",
      "dtype: float64\n",
      "\n",
      "\n",
      "<class 'pandas.core.series.Series'>\n"
     ]
    }
   ],
   "source": [
    "import pandas as pd\n",
    "\n",
    "# 딕셔너리 구조의 데이터에서 시리즈 구조로 변경\n",
    "학생1 = pd.Series({'Java':100, 'C':80, '통계':90})\n",
    "print(학생1)\n",
    "print('\\n')\n",
    "\n",
    "# 학생의 과목별 점수를 200으로 나누기\n",
    "percentage = 학생1 / 200\n",
    "\n",
    "print(percentage)\n",
    "print('\\n')\n",
    "print(type(percentage))"
   ]
  },
  {
   "cell_type": "markdown",
   "metadata": {},
   "source": [
    "# 시리즈에 대한 사칙연산\n",
    "- 데이터 요소를 개별로 처리하지 않고 한꺼번에 처리\n",
    "- 인덱스 순서가 다르더라도 공통 인덱스에 대해 연산\n",
    "- 인덱스가 매치되지 않는 경우 NaN으로 처리\n",
    "- 연산 메소드 사용하는 경우 NaN으로 되지 않도록 하려면 fill_value 옵션에 기본값 지정"
   ]
  },
  {
   "cell_type": "markdown",
   "metadata": {},
   "source": [
    "## 같은 크기의 시리즈에 대한 사칙연산"
   ]
  },
  {
   "cell_type": "code",
   "execution_count": 54,
   "metadata": {},
   "outputs": [
    {
     "name": "stdout",
     "output_type": "stream",
     "text": [
      "Java    100\n",
      "C++      80\n",
      "통계       90\n",
      "dtype: int64\n",
      "\n",
      "\n",
      "통계      80\n",
      "Java    90\n",
      "C       80\n",
      "dtype: int64\n",
      "\n",
      "\n",
      "<class 'pandas.core.series.Series'>\n",
      "\n",
      "\n",
      "      C  C++         Java        통계\n",
      "덧셈  NaN  NaN   190.000000   170.000\n",
      "뺄셈  NaN  NaN    10.000000    10.000\n",
      "나눗셈 NaN  NaN     1.111111     1.125\n",
      "곱셈  NaN  NaN  9000.000000  7200.000\n"
     ]
    }
   ],
   "source": [
    "import pandas as pd\n",
    "\n",
    "# 딕셔너리 구조의 데이터에서 시리즈 구조로 변경\n",
    "학생1 = pd.Series({'Java':100, 'C':80, '통계':90})\n",
    "학생2 = pd.Series({'통계':80, 'Java':90, 'C':80})\n",
    "\n",
    "print(학생1)\n",
    "print('\\n')\n",
    "print(학생2)\n",
    "print('\\n')\n",
    "\n",
    "# 학생1, 학생2의 과목별 점수에 대한 사칙연산 수행\n",
    "덧셈 = 학생1 + 학생2               #덧셈\n",
    "뺄셈 = 학생1 - 학생2            #뺄셈\n",
    "나눗셈 = 학생1 / 학생2               #나눗셈\n",
    "곱셈 = 학생1 * 학생2         #곱셈\n",
    "\n",
    "print(type(나눗셈))\n",
    "print('\\n')\n",
    "\n",
    "# 사칙연산 결과를 합쳐 데이터프레임으로 만들기\n",
    "result = pd.DataFrame([덧셈, 뺄셈, 나눗셈, 곱셈], \n",
    "                      index=['덧셈', '뺄셈', '나눗셈', '곱셈'])\n",
    "print(result)"
   ]
  },
  {
   "cell_type": "markdown",
   "metadata": {},
   "source": [
    "## 서로 다른 크기를 가지는 시리즈에 대한 연산"
   ]
  },
  {
   "cell_type": "code",
   "execution_count": 53,
   "metadata": {},
   "outputs": [
    {
     "name": "stdout",
     "output_type": "stream",
     "text": [
      "Java     NaN\n",
      "C       80.0\n",
      "통계      90.0\n",
      "dtype: float64\n",
      "\n",
      "\n",
      "통계      80\n",
      "Java    90\n",
      "dtype: int64\n",
      "\n",
      "\n",
      "<class 'pandas.core.series.Series'>\n",
      "\n",
      "\n",
      "      C  Java        통계\n",
      "덧셈  NaN   NaN   170.000\n",
      "뺄셈  NaN   NaN    10.000\n",
      "나눗셈 NaN   NaN     1.125\n",
      "곱셈  NaN   NaN  7200.000\n"
     ]
    }
   ],
   "source": [
    "import pandas as pd # 패키지 추가\n",
    "import numpy as np  # 패키지 추가\n",
    "\n",
    "# dictionary 형식의 데이터를 이용해 학생에 대한 시리즈 만들기\n",
    "학생1 = pd.Series({'Java':np.nan, 'C':80, '통계':90})\n",
    "학생2 = pd.Series({'통계':80, 'Java':90})\n",
    "\n",
    "print(학생1)\n",
    "print('\\n')\n",
    "print(학생2)\n",
    "print('\\n')\n",
    "\n",
    "# 시리즈와 시리즈에 대한 연산으로 학생1, 학생2의 과목별 점수에 대해 사칙연산 수행\n",
    "student_덧셈 = 학생1 + 학생2               #덧셈\n",
    "student_뺄셈 = 학생1 - 학생2            #뺄셈\n",
    "student_곱셈 = 학생1 * 학생2         #곱셈\n",
    "student_나눗셈 = 학생1 / 학생2               #나눗셈\n",
    "print(type(student_나눗셈))\n",
    "print('\\n')\n",
    "\n",
    "# 사칙연산 결과를 합쳐 데이터프레임으로 만들기\n",
    "result = pd.DataFrame([student_덧셈, student_뺄셈, student_나눗셈, student_곱셈], \n",
    "                      index=['덧셈', '뺄셈', '나눗셈', '곱셈'])\n",
    "print(result)"
   ]
  },
  {
   "cell_type": "markdown",
   "metadata": {},
   "source": [
    "## Series에 대한 연산 메소드"
   ]
  },
  {
   "cell_type": "code",
   "execution_count": 55,
   "metadata": {},
   "outputs": [
    {
     "name": "stdout",
     "output_type": "stream",
     "text": [
      "Java     NaN\n",
      "C       80.0\n",
      "통계      90.0\n",
      "dtype: float64\n",
      "\n",
      "\n",
      "통계      80\n",
      "Java    90\n",
      "dtype: int64\n",
      "\n",
      "\n",
      "-----------\n"
     ]
    },
    {
     "data": {
      "text/plain": [
       "C        80.0\n",
       "Java     90.0\n",
       "통계      170.0\n",
       "dtype: float64"
      ]
     },
     "metadata": {},
     "output_type": "display_data"
    },
    {
     "name": "stdout",
     "output_type": "stream",
     "text": [
      "-----------\n",
      "        C  Java        통계\n",
      "덧셈   80.0  90.0   170.000\n",
      "뺄셈   80.0 -90.0    10.000\n",
      "나눗셈   inf   0.0     1.125\n",
      "곱셈    0.0   0.0  7200.000\n"
     ]
    }
   ],
   "source": [
    "import pandas as pd # 패키지 추가\n",
    "import numpy as np  # 패키지 추가\n",
    "\n",
    "# 딕셔너리 데이터로 시리즈 구조 만들기\n",
    "학생1 = pd.Series({'Java':np.nan, 'C':80, '통계':90})\n",
    "학생2 = pd.Series({'통계':80, 'Java':90})\n",
    "\n",
    "print(학생1)\n",
    "print('\\n')\n",
    "print(학생2)\n",
    "print('\\n')\n",
    "\n",
    "# 연산 메소드를 사용해 두 학생의 점수에 대해 사칙연산 수행\n",
    "sr_dataesult_add = 학생1.add(학생2, fill_value=0)    #덧셈\n",
    "sr_dataesult_sub = 학생1.sub(학생2, fill_value=0)    #뺄셈\n",
    "sr_dataesult_div = 학생1.div(학생2, fill_value=0)    #나눗셈\n",
    "sr_dataesult_mul = 학생1.mul(학생2, fill_value=0)    #곱셈\n",
    "print('-----------')\n",
    "display(sr_dataesult_add)\n",
    "print('-----------')\n",
    "# 사칙연산 결과(시리즈)를 합쳐 데이터프레임으로 만들기\n",
    "result = pd.DataFrame([sr_dataesult_add, sr_dataesult_sub, sr_dataesult_div, sr_dataesult_mul], \n",
    "                      index=['덧셈', '뺄셈', '나눗셈', '곱셈'])\n",
    "print(result)"
   ]
  },
  {
   "cell_type": "markdown",
   "metadata": {},
   "source": [
    "# 데이터프레임에 대한 연산\n",
    "- 시리즈 연산의 확장 개념\n",
    "- 행과 열 인덱스 기준으로 정렬 후 대응되는 요소간 연산 처리"
   ]
  },
  {
   "cell_type": "markdown",
   "metadata": {},
   "source": [
    "## 데이터프레임과 단일 값 연산하기"
   ]
  },
  {
   "cell_type": "code",
   "execution_count": 57,
   "metadata": {},
   "outputs": [
    {
     "name": "stdout",
     "output_type": "stream",
     "text": [
      "    age     fare\n",
      "0  22.0   7.2500\n",
      "1  38.0  71.2833\n",
      "2  26.0   7.9250\n",
      "3  35.0  53.1000\n",
      "4  35.0   8.0500\n",
      "\n",
      "\n",
      "<class 'pandas.core.frame.DataFrame'>\n",
      "\n",
      "\n",
      "    age     fare\n",
      "0  32.0  17.2500\n",
      "1  48.0  81.2833\n",
      "2  36.0  17.9250\n",
      "3  45.0  63.1000\n",
      "4  45.0  18.0500\n",
      "\n",
      "\n",
      "<class 'pandas.core.frame.DataFrame'>\n"
     ]
    }
   ],
   "source": [
    "import pandas as pd # pandas 라이브러리 로드\n",
    "import seaborn as sns # titanic 데이터셋을 사용하기 위해 seaborn 라이브러리 로드\n",
    "\n",
    "# titanic 데이터셋의 age, fare 열을 선택해 데이터프레임 생성\n",
    "titanic_data = sns.load_dataset('titanic')\n",
    "dataframe = titanic_data.loc[:, ['age','fare']]\n",
    "\n",
    "print(dataframe.head())   #처음 5행만 표시\n",
    "print('\\n')\n",
    "print(type(dataframe))\n",
    "print('\\n')\n",
    "\n",
    "# 데이터프레임 전체 데이터에 숫자 10 더하기\n",
    "add_10 = dataframe + 10\n",
    "print(add_10.head())\n",
    "print('\\n')\n",
    "print(type(add_10))"
   ]
  },
  {
   "cell_type": "markdown",
   "metadata": {},
   "source": [
    "## 데이터 프레임끼리의 연산"
   ]
  },
  {
   "cell_type": "code",
   "execution_count": 57,
   "metadata": {},
   "outputs": [
    {
     "name": "stdout",
     "output_type": "stream",
     "text": [
      "      age   fare\n",
      "886  27.0  13.00\n",
      "887  19.0  30.00\n",
      "888   NaN  23.45\n",
      "889  26.0  30.00\n",
      "890  32.0   7.75\n",
      "\n",
      "\n",
      "<class 'pandas.core.frame.DataFrame'>\n",
      "\n",
      "\n",
      "      age   fare\n",
      "886  37.0  23.00\n",
      "887  29.0  40.00\n",
      "888   NaN  33.45\n",
      "889  36.0  40.00\n",
      "890  42.0  17.75\n",
      "\n",
      "\n",
      "<class 'pandas.core.frame.DataFrame'>\n",
      "\n",
      "\n",
      "      age  fare\n",
      "886  10.0  10.0\n",
      "887  10.0  10.0\n",
      "888   NaN  10.0\n",
      "889  10.0  10.0\n",
      "890  10.0  10.0\n",
      "\n",
      "\n",
      "<class 'pandas.core.frame.DataFrame'>\n"
     ]
    }
   ],
   "source": [
    "import pandas as pd # pandas 라이브러리 로드\n",
    "import seaborn as sns # titanic 데이터셋을 사용하기 위해 seaborn 라이브러리 로드\n",
    "\n",
    "# titanic 데이터셋의 age, fare 열을 선택해 데이터프레임 생성\n",
    "titanic_data = sns.load_dataset('titanic')\n",
    "dataframe = titanic_data.loc[:, ['age','fare']]\n",
    "\n",
    "print(dataframe.tail())          #끝부터 5행 표시\n",
    "print('\\n')\n",
    "print(type(dataframe))\n",
    "print('\\n')\n",
    "\n",
    "# 데이터프레임 전체 데이터에 숫자 10 더하기\n",
    "add_10 = dataframe + 10\n",
    "print(add_10.tail())\n",
    "print('\\n')\n",
    "print(type(add_10))\n",
    "print('\\n')\n",
    "\n",
    "# 데이터프레임간 연산\n",
    "subtract_dataframe = add_10 - dataframe\n",
    "print(subtract_dataframe.tail())   #끝부터 5행 표시\n",
    "print('\\n')\n",
    "print(type(subtract_dataframe))"
   ]
  }
 ],
 "metadata": {
  "interpreter": {
   "hash": "0f7af77260ac8b5439dde40be20e84ac87264a6b810a171625820712e3538eaf"
  },
  "kernelspec": {
   "display_name": "Python 3.8.3 64-bit",
   "name": "python3"
  },
  "language_info": {
   "codemirror_mode": {
    "name": "ipython",
    "version": 3
   },
   "file_extension": ".py",
   "mimetype": "text/x-python",
   "name": "python",
   "nbconvert_exporter": "python",
   "pygments_lexer": "ipython3",
   "version": "3.8.2"
  },
  "orig_nbformat": 2
 },
 "nbformat": 4,
 "nbformat_minor": 2
}
