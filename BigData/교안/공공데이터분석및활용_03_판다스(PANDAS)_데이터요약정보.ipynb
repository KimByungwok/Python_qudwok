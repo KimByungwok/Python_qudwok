{
 "cells": [
  {
   "cell_type": "markdown",
   "metadata": {},
   "source": [
    "# 데이터 요약정보 \n",
    "\n",
    "## 데이터프레임을 구성한 후\n",
    "- 데이터프레임의 구조 파악\n",
    "- 데이터프레임의 일부 데이터 확인\n",
    "- 데이터프레임의 모양과 크기(행, 열의 개수) 확인\n",
    "- 데이터프레임 내용(정보) 확인\n",
    "- 데이터프레임을 구성하는 각 시리즈의 자료 확인\n",
    "- 데이터프레임 내 특정 시리즈의 자료형 확인\n",
    "- 데이터프레임에 대한 기술통계(descriptive statistics) 정보 확인  \n",
    "  : 수집한 데이터를 요약해 설명하는 통계 기법"
   ]
  },
  {
   "cell_type": "markdown",
   "metadata": {},
   "source": [
    "## 데이터프레임 구조 확인과 일부 정보 보기\n",
    "- 데이터 앞부분 : head(n)\n",
    "- 데이터 뒷부분 : tail(n)"
   ]
  },
  {
   "cell_type": "code",
   "execution_count": 1,
   "metadata": {},
   "outputs": [],
   "source": [
    "# 데이터 준비\n",
    "import pandas as pd\n",
    "\n",
    "# read_csv() 함수로 자동차 제조국 정보 파일로 부터 데이터 프레임 df 생성\n",
    "df = pd.read_csv('data/자동차_제원_정보.csv', header=None)\n",
    "\n",
    "# 열 이름을 지정\n",
    "df.columns = ['연비','실린더 수','배기량','마력','중량',\n",
    "              '엑셀','년식','제조국','차종']"
   ]
  },
  {
   "cell_type": "code",
   "execution_count": 2,
   "metadata": {},
   "outputs": [
    {
     "name": "stdout",
     "output_type": "stream",
     "text": [
      "     연비  실린더 수    배기량     마력      중량    엑셀  년식  제조국                         차종\n",
      "0  18.0      8  307.0  130.0  3504.0  12.0  70    1  chevrolet chevelle malibu\n",
      "1  15.0      8  350.0  165.0  3693.0  11.5  70    1          buick skylark 320\n",
      "2  18.0      8  318.0  150.0  3436.0  11.0  70    1         plymouth satellite\n",
      "3  16.0      8  304.0  150.0  3433.0  12.0  70    1              amc rebel sst\n",
      "4  17.0      8  302.0  140.0  3449.0  10.5  70    1                ford torino\n",
      "\n",
      "\n",
      "       연비  실린더 수    배기량     마력      중량    엑셀  년식  제조국               차종\n",
      "393  27.0      4  140.0  86.00  2790.0  15.6  82    1  ford mustang gl\n",
      "394  44.0      4   97.0  52.00  2130.0  24.6  82    2        vw pickup\n",
      "395  32.0      4  135.0  84.00  2295.0  11.6  82    1    dodge rampage\n",
      "396  28.0      4  120.0  79.00  2625.0  18.6  82    1      ford ranger\n",
      "397  31.0      4  119.0  82.00  2720.0  19.4  82    1       chevy s-10\n"
     ]
    }
   ],
   "source": [
    "# 데이터프레임 df 내용 확인해 보기\n",
    "print(df.head())     # 처음의 5개 행\n",
    "print('\\n')\n",
    "print(df.tail())     # 마지막 5개 행"
   ]
  },
  {
   "cell_type": "code",
   "execution_count": 3,
   "metadata": {},
   "outputs": [
    {
     "name": "stdout",
     "output_type": "stream",
     "text": [
      "행의 갯수 :  398 개\n",
      "열의 갯수 :  9 개\n",
      "\n",
      "\n"
     ]
    }
   ],
   "source": [
    "# df의 모양과 크기 확인: (행의 개수, 열의 개수)를 투플로 반환 \n",
    "print('행의 갯수 : ', df.shape[0], '개')\n",
    "print('열의 갯수 : ', df.shape[1], '개')\n",
    "print('\\n')"
   ]
  },
  {
   "cell_type": "code",
   "execution_count": 6,
   "metadata": {},
   "outputs": [
    {
     "name": "stdout",
     "output_type": "stream",
     "text": [
      "<class 'pandas.core.frame.DataFrame'>\n",
      "RangeIndex: 398 entries, 0 to 397\n",
      "Data columns (total 9 columns):\n",
      " #   Column  Non-Null Count  Dtype  \n",
      "---  ------  --------------  -----  \n",
      " 0   연비      398 non-null    float64\n",
      " 1   실린더 수   398 non-null    int64  \n",
      " 2   배기량     398 non-null    float64\n",
      " 3   마력      398 non-null    object \n",
      " 4   중량      398 non-null    float64\n",
      " 5   엑셀      398 non-null    float64\n",
      " 6   년식      398 non-null    int64  \n",
      " 7   제조국     398 non-null    int64  \n",
      " 8   차종      398 non-null    object \n",
      "dtypes: float64(4), int64(3), object(2)\n",
      "memory usage: 24.9+ KB\n",
      "<class 'pandas.core.frame.DataFrame'>\n",
      "RangeIndex: 398 entries, 0 to 397\n",
      "Data columns (total 9 columns):\n",
      " #   Column  Non-Null Count  Dtype  \n",
      "---  ------  --------------  -----  \n",
      " 0   연비      398 non-null    float64\n",
      " 1   실린더 수   398 non-null    int64  \n",
      " 2   배기량     398 non-null    float64\n",
      " 3   마력      398 non-null    object \n",
      " 4   중량      398 non-null    float64\n",
      " 5   엑셀      398 non-null    float64\n",
      " 6   년식      398 non-null    int64  \n",
      " 7   제조국     398 non-null    int64  \n",
      " 8   차종      398 non-null    object \n",
      "dtypes: float64(4), int64(3), object(2)\n",
      "memory usage: 24.9+ KB\n",
      "None\n",
      "\n",
      "\n",
      "<class 'NoneType'>\n"
     ]
    }
   ],
   "source": [
    "# 데이터프레임 df의 내용 확인 \n",
    "# 인덱스 번호, 컬럼(시리즈) 이름, null 아닌 데이터 수(행), 컬럼의 데이터 타입 출력\n",
    "# 전체 요약정보(사용된 데이터 타입별 컬럼 수, 사용 메모리 크기)\n",
    "ret = df.info()\n",
    "print(df.info())\n",
    "print('\\n')\n",
    "print(type(ret))"
   ]
  },
  {
   "cell_type": "code",
   "execution_count": 5,
   "metadata": {},
   "outputs": [
    {
     "name": "stdout",
     "output_type": "stream",
     "text": [
      "연비       float64\n",
      "실린더 수      int64\n",
      "배기량      float64\n",
      "마력        object\n",
      "중량       float64\n",
      "엑셀       float64\n",
      "년식         int64\n",
      "제조국        int64\n",
      "차종        object\n",
      "dtype: object\n",
      "\n",
      "\n"
     ]
    }
   ],
   "source": [
    "# 데이터프레임 df의 자료형 확인 \n",
    "# 각 컬럼이름과 데이터 타입 출력\n",
    "print(df.dtypes)\n",
    "print('\\n')"
   ]
  },
  {
   "cell_type": "code",
   "execution_count": 7,
   "metadata": {},
   "outputs": [
    {
     "name": "stdout",
     "output_type": "stream",
     "text": [
      "float64\n",
      "\n",
      "\n"
     ]
    }
   ],
   "source": [
    "# 시리즈(연비 열)의 자료형 확인 \n",
    "print(df.연비.dtype) # print(df.연비.dtypes) 같은 결과\n",
    "print('\\n')"
   ]
  },
  {
   "cell_type": "code",
   "execution_count": 7,
   "metadata": {},
   "outputs": [
    {
     "name": "stdout",
     "output_type": "stream",
     "text": [
      "               연비       실린더 수         배기량           중량          엑셀  \\\n",
      "count  398.000000  398.000000  398.000000   398.000000  398.000000   \n",
      "mean    23.514573    5.454774  193.425879  2970.424623   15.568090   \n",
      "std      7.815984    1.701004  104.269838   846.841774    2.757689   \n",
      "min      9.000000    3.000000   68.000000  1613.000000    8.000000   \n",
      "25%     17.500000    4.000000  104.250000  2223.750000   13.825000   \n",
      "50%     23.000000    4.000000  148.500000  2803.500000   15.500000   \n",
      "75%     29.000000    8.000000  262.000000  3608.000000   17.175000   \n",
      "max     46.600000    8.000000  455.000000  5140.000000   24.800000   \n",
      "\n",
      "               년식         제조국  \n",
      "count  398.000000  398.000000  \n",
      "mean    76.010050    1.572864  \n",
      "std      3.697627    0.802055  \n",
      "min     70.000000    1.000000  \n",
      "25%     73.000000    1.000000  \n",
      "50%     76.000000    1.000000  \n",
      "75%     79.000000    2.000000  \n",
      "max     82.000000    3.000000  \n",
      "\n",
      "\n",
      "                연비       실린더 수         배기량     마력           중량          엑셀  \\\n",
      "count   398.000000  398.000000  398.000000    398   398.000000  398.000000   \n",
      "unique         NaN         NaN         NaN     94          NaN         NaN   \n",
      "top            NaN         NaN         NaN  150.0          NaN         NaN   \n",
      "freq           NaN         NaN         NaN     22          NaN         NaN   \n",
      "mean     23.514573    5.454774  193.425879    NaN  2970.424623   15.568090   \n",
      "std       7.815984    1.701004  104.269838    NaN   846.841774    2.757689   \n",
      "min       9.000000    3.000000   68.000000    NaN  1613.000000    8.000000   \n",
      "25%      17.500000    4.000000  104.250000    NaN  2223.750000   13.825000   \n",
      "50%      23.000000    4.000000  148.500000    NaN  2803.500000   15.500000   \n",
      "75%      29.000000    8.000000  262.000000    NaN  3608.000000   17.175000   \n",
      "max      46.600000    8.000000  455.000000    NaN  5140.000000   24.800000   \n",
      "\n",
      "                년식         제조국          차종  \n",
      "count   398.000000  398.000000         398  \n",
      "unique         NaN         NaN         305  \n",
      "top            NaN         NaN  ford pinto  \n",
      "freq           NaN         NaN           6  \n",
      "mean     76.010050    1.572864         NaN  \n",
      "std       3.697627    0.802055         NaN  \n",
      "min      70.000000    1.000000         NaN  \n",
      "25%      73.000000    1.000000         NaN  \n",
      "50%      76.000000    1.000000         NaN  \n",
      "75%      79.000000    2.000000         NaN  \n",
      "max      82.000000    3.000000         NaN  \n"
     ]
    }
   ],
   "source": [
    "# 데이터프레임 df의 기술통계 정보 확인 \n",
    "# 각 열에 저장된 데이터에 대한 통계 정보출력\n",
    "print(df.describe()) \n",
    "print('\\n')\n",
    "\n",
    "# unique(고유값), top(최상위 값), frequency(출현 빈도수)를 포함해 전체를 출력\n",
    "print(df.describe(include='all')) "
   ]
  },
  {
   "cell_type": "code",
   "execution_count": 8,
   "metadata": {},
   "outputs": [
    {
     "name": "stdout",
     "output_type": "stream",
     "text": [
      "연비       398\n",
      "실린더 수    398\n",
      "배기량      398\n",
      "마력       398\n",
      "중량       398\n",
      "엑셀       398\n",
      "년식       398\n",
      "제조국      398\n",
      "차종       398\n",
      "dtype: int64\n",
      "\n",
      "\n"
     ]
    }
   ],
   "source": [
    "# df의 각 열의 원소 개수 확인 \n",
    "print(df.count())\n",
    "print('\\n')"
   ]
  },
  {
   "cell_type": "code",
   "execution_count": 9,
   "metadata": {},
   "outputs": [
    {
     "name": "stdout",
     "output_type": "stream",
     "text": [
      "<class 'pandas.core.series.Series'>\n",
      "\n",
      "\n"
     ]
    }
   ],
   "source": [
    "# df.count()의 결과 객체 타입 출력\n",
    "print(type(df.count()))\n",
    "print('\\n')"
   ]
  },
  {
   "cell_type": "code",
   "execution_count": 10,
   "metadata": {},
   "outputs": [
    {
     "name": "stdout",
     "output_type": "stream",
     "text": [
      "1    249\n",
      "3     79\n",
      "2     70\n",
      "Name: 제조국, dtype: int64\n",
      "\n",
      "\n"
     ]
    }
   ],
   "source": [
    "# df의 특정 열의 고유값 확인\n",
    "# 고유값과 출현 빈도수를 출력\n",
    "unique_values = df['제조국'].value_counts() \n",
    "print(unique_values)\n",
    "print('\\n')"
   ]
  },
  {
   "cell_type": "code",
   "execution_count": 11,
   "metadata": {},
   "outputs": [
    {
     "name": "stdout",
     "output_type": "stream",
     "text": [
      "<class 'pandas.core.series.Series'>\n"
     ]
    }
   ],
   "source": [
    "# value_counts 메소드가 반환한 객체의 타입 출력\n",
    "print(type(unique_values))"
   ]
  },
  {
   "cell_type": "markdown",
   "metadata": {},
   "source": [
    "# 데이터프레임 통계정보\n",
    "\n",
    "## 데이터의 집중 경향 알아보기\n",
    "+ 평균값(mean)\n",
    "    - 모든 데이터를 합한 후 데이터 갯수로 나눈 값\n",
    "+ 중앙값(median)\n",
    "    - 전체 데이터를 정렬한 후 순서상 가운데에 있는 수  \n",
    "    - 짝수개의 데이터인 경우 가운데 위치한 두 수의 평균을 중앙값으로 함\n",
    "    - 자료의 편차가 큰 값을 일부 포함하고 있는 경우 사용\n",
    "+ 최빈값(mode)\n",
    "    - 데이터 집합에서 출현 빈도가 가장 높은 값\n",
    "    - 최빈값의 갯수는 0개 이상\n",
    "\n",
    "## 데이터의 퍼진 정도\n",
    "+ 평균편차(mean deviation)\n",
    "    - 절대 편차(absolute deviation) 또는 평균 절대편차(mean absolute deviation 또는 average absolute deviation)라고도 함\n",
    "    - 평균과 개별 값 사이 거리의 평균\n",
    "    - 이상치로 인한 문제점 보완 가능\n",
    "    - 모집단 평균편차, 표본 평균편차\n",
    "+ 표준편차(standard deviation)\n",
    "    - 자료의 산포도를 표현하는 수치\n",
    "    - 분산의 양의 제곱근으로 정의\n",
    "    - 평균값에서 변량들의 거리가 가까울수록 표준편차가 작아짐\n",
    "    ![image](https://upload.wikimedia.org/wikipedia/commons/thumb/8/8c/Standard_deviation_diagram.svg/325px-Standard_deviation_diagram.svg.png)\n",
    "+ 분산(variance)\n",
    "    - 차이값의 제곱의 평균\n",
    "    - 모분산(population variance) σ2은 모집단의 분산 : 관측된 값에서 모 평균을 빼서 제곱한 값을 모두 합해 전체 데이터 갯수 n으로 나눈 값\n",
    "    - 표본분산(sample variance) s2은 표본의 분산 : 관측된 값에서 표본 평균을 빼서 제곱한 값을 모두 합해 n-1로 나눈 값\n",
    "    ![image](https://upload.wikimedia.org/wikipedia/commons/thumb/f/f9/Comparison_standard_deviations.svg/400px-Comparison_standard_deviations.svg.png)\n",
    "+ 상관계수(correlation coefficient)\n",
    "    - 두 변수간의 통계적인 관계 표현을 위해 특정한 상관 관계 정도를 수치값으로 나타낸 계수\n",
    "    - -1 ~ +1 사이의 값  \n",
    "    \n",
    "    ![image](https://upload.wikimedia.org/wikipedia/ko/thumb/8/8a/Scatter_plot.png/240px-Scatter_plot.png)\n"
   ]
  },
  {
   "cell_type": "code",
   "execution_count": 12,
   "metadata": {},
   "outputs": [
    {
     "name": "stdout",
     "output_type": "stream",
     "text": [
      "       연비  실린더 수    배기량     마력      중량    엑셀  년식  제조국  \\\n",
      "0    18.0      8  307.0  130.0  3504.0  12.0  70    1   \n",
      "1    15.0      8  350.0  165.0  3693.0  11.5  70    1   \n",
      "2    18.0      8  318.0  150.0  3436.0  11.0  70    1   \n",
      "3    16.0      8  304.0  150.0  3433.0  12.0  70    1   \n",
      "4    17.0      8  302.0  140.0  3449.0  10.5  70    1   \n",
      "..    ...    ...    ...    ...     ...   ...  ..  ...   \n",
      "393  27.0      4  140.0  86.00  2790.0  15.6  82    1   \n",
      "394  44.0      4   97.0  52.00  2130.0  24.6  82    2   \n",
      "395  32.0      4  135.0  84.00  2295.0  11.6  82    1   \n",
      "396  28.0      4  120.0  79.00  2625.0  18.6  82    1   \n",
      "397  31.0      4  119.0  82.00  2720.0  19.4  82    1   \n",
      "\n",
      "                            차종  \n",
      "0    chevrolet chevelle malibu  \n",
      "1            buick skylark 320  \n",
      "2           plymouth satellite  \n",
      "3                amc rebel sst  \n",
      "4                  ford torino  \n",
      "..                         ...  \n",
      "393            ford mustang gl  \n",
      "394                  vw pickup  \n",
      "395              dodge rampage  \n",
      "396                ford ranger  \n",
      "397                 chevy s-10  \n",
      "\n",
      "[398 rows x 9 columns]\n",
      "       연비  실린더 수    배기량     마력      중량    엑셀  년식  제조국  \\\n",
      "0    18.0      8  307.0  130.0  3504.0  12.0  70    1   \n",
      "1    15.0      8  350.0  165.0  3693.0  11.5  70    1   \n",
      "2    18.0      8  318.0  150.0  3436.0  11.0  70    1   \n",
      "3    16.0      8  304.0  150.0  3433.0  12.0  70    1   \n",
      "4    17.0      8  302.0  140.0  3449.0  10.5  70    1   \n",
      "..    ...    ...    ...    ...     ...   ...  ..  ...   \n",
      "393  27.0      4  140.0  86.00  2790.0  15.6  82    1   \n",
      "394  44.0      4   97.0  52.00  2130.0  24.6  82    2   \n",
      "395  32.0      4  135.0  84.00  2295.0  11.6  82    1   \n",
      "396  28.0      4  120.0  79.00  2625.0  18.6  82    1   \n",
      "397  31.0      4  119.0  82.00  2720.0  19.4  82    1   \n",
      "\n",
      "                            차종  \n",
      "0    chevrolet chevelle malibu  \n",
      "1            buick skylark 320  \n",
      "2           plymouth satellite  \n",
      "3                amc rebel sst  \n",
      "4                  ford torino  \n",
      "..                         ...  \n",
      "393            ford mustang gl  \n",
      "394                  vw pickup  \n",
      "395              dodge rampage  \n",
      "396                ford ranger  \n",
      "397                 chevy s-10  \n",
      "\n",
      "[398 rows x 9 columns]\n"
     ]
    }
   ],
   "source": [
    "# 일단 전체 데이터 확인!!\n",
    "# 전체 열 출력 설정을 하려면 pandas의 set_option() 메서드 인자로 'display.max_columns'와 None를 지정\n",
    "print(df)\n",
    "# 전체 행 출력 설정을 하려면 pandas의 set_option() 메서드 인자로 'display.max_rows'와 None를 지정\n",
    "print(df)"
   ]
  },
  {
   "cell_type": "code",
   "execution_count": 13,
   "metadata": {},
   "outputs": [
    {
     "name": "stdout",
     "output_type": "stream",
     "text": [
      "연비         23.514573\n",
      "실린더 수       5.454774\n",
      "배기량       193.425879\n",
      "중량       2970.424623\n",
      "엑셀         15.568090\n",
      "년식         76.010050\n",
      "제조국         1.572864\n",
      "dtype: float64\n",
      "\n",
      "\n",
      "23.514572864321607\n",
      "23.514572864321607\n",
      "\n",
      "\n",
      "연비      23.514573\n",
      "중량    2970.424623\n",
      "dtype: float64\n"
     ]
    }
   ],
   "source": [
    "# 평균값 \n",
    "# 전체 데이터프레임의 각 컬럼 평균\n",
    "print(df.mean())\n",
    "print('\\n')\n",
    "\n",
    "# 특정 컬럼에 들어있는 데이터들의 평균\n",
    "print(df['연비'].mean())\n",
    "print(df.연비.mean())\n",
    "print('\\n')\n",
    "\n",
    "# 선택적 컬럼의 평균\n",
    "print(df[['연비','중량']].mean())\n"
   ]
  },
  {
   "cell_type": "code",
   "execution_count": 14,
   "metadata": {},
   "outputs": [
    {
     "name": "stdout",
     "output_type": "stream",
     "text": [
      "연비         23.0\n",
      "실린더 수       4.0\n",
      "배기량       148.5\n",
      "중량       2803.5\n",
      "엑셀         15.5\n",
      "년식         76.0\n",
      "제조국         1.0\n",
      "dtype: float64\n",
      "\n",
      "\n",
      "23.0\n"
     ]
    }
   ],
   "source": [
    "# 중앙값 또는 중간값\n",
    "print(df.median())\n",
    "print('\\n')\n",
    "print(df['연비'].median())"
   ]
  },
  {
   "cell_type": "code",
   "execution_count": 15,
   "metadata": {},
   "outputs": [
    {
     "name": "stdout",
     "output_type": "stream",
     "text": [
      "     연비  실린더 수   배기량     마력      중량    엑셀    년식  제조국          차종\n",
      "0  13.0    4.0  97.0  150.0  1985.0  14.5  73.0  1.0  ford pinto\n",
      "1   NaN    NaN   NaN    NaN  2130.0   NaN   NaN  NaN         NaN\n",
      "<class 'pandas.core.frame.DataFrame'>\n",
      "\n",
      "\n",
      "0    13.0\n",
      "dtype: float64\n"
     ]
    }
   ],
   "source": [
    "# 최빈값\n",
    "print(df.mode())\n",
    "\n",
    "# 전체에 대해 최빈값 구할 때 NaN은 왜 나타날까? --> mode()의 결과를 DataFrame으로 반환하기 때문\n",
    "print(type(df.mode()))\n",
    "print('\\n')\n",
    "\n",
    "print(df['연비'].mode())"
   ]
  },
  {
   "cell_type": "code",
   "execution_count": 16,
   "metadata": {},
   "outputs": [
    {
     "name": "stdout",
     "output_type": "stream",
     "text": [
      "연비                   46.6\n",
      "실린더 수                   8\n",
      "배기량                 455.0\n",
      "마력                      ?\n",
      "중량                 5140.0\n",
      "엑셀                   24.8\n",
      "년식                     82\n",
      "제조국                     3\n",
      "차종       vw rabbit custom\n",
      "dtype: object\n",
      "\n",
      "\n",
      "46.6\n"
     ]
    }
   ],
   "source": [
    "# 최대값 \n",
    "print(df.max())\n",
    "print('\\n')\n",
    "print(df['연비'].max())"
   ]
  },
  {
   "cell_type": "code",
   "execution_count": 17,
   "metadata": {},
   "outputs": [
    {
     "name": "stdout",
     "output_type": "stream",
     "text": [
      "연비                           9.0\n",
      "실린더 수                          3\n",
      "배기량                         68.0\n",
      "마력                         100.0\n",
      "중량                        1613.0\n",
      "엑셀                           8.0\n",
      "년식                            70\n",
      "제조국                            1\n",
      "차종       amc ambassador brougham\n",
      "dtype: object\n",
      "\n",
      "\n",
      "9.0\n"
     ]
    }
   ],
   "source": [
    "# 최소값 \n",
    "print(df.min())\n",
    "print('\\n')\n",
    "print(df['연비'].min())"
   ]
  },
  {
   "cell_type": "code",
   "execution_count": 18,
   "metadata": {},
   "outputs": [
    {
     "name": "stdout",
     "output_type": "stream",
     "text": [
      "연비         6.533396\n",
      "실린더 수      1.547524\n",
      "배기량       91.352636\n",
      "중량       717.921555\n",
      "엑셀         2.142570\n",
      "년식         3.176738\n",
      "제조국        0.716800\n",
      "dtype: float64\n",
      "\n",
      "\n",
      "6.533395621322693\n"
     ]
    }
   ],
   "source": [
    "# 평균편차\n",
    "print(df.mad())\n",
    "print('\\n')\n",
    "print(df['연비'].mad())"
   ]
  },
  {
   "cell_type": "code",
   "execution_count": 19,
   "metadata": {},
   "outputs": [
    {
     "name": "stdout",
     "output_type": "stream",
     "text": [
      "연비         7.815984\n",
      "실린더 수      1.701004\n",
      "배기량      104.269838\n",
      "중량       846.841774\n",
      "엑셀         2.757689\n",
      "년식         3.697627\n",
      "제조국        0.802055\n",
      "dtype: float64\n",
      "\n",
      "\n",
      "7.815984312565782\n"
     ]
    }
   ],
   "source": [
    "# 표준편차 \n",
    "print(df.std())\n",
    "print('\\n')\n",
    "print(df['연비'].std())"
   ]
  },
  {
   "cell_type": "code",
   "execution_count": 20,
   "metadata": {},
   "outputs": [
    {
     "name": "stdout",
     "output_type": "stream",
     "text": [
      "연비           61.089611\n",
      "실린더 수         2.893415\n",
      "배기량       10872.199152\n",
      "중량       717140.990526\n",
      "엑셀            7.604848\n",
      "년식           13.672443\n",
      "제조국           0.643292\n",
      "dtype: float64\n",
      "\n",
      "\n",
      "61.089610774274405\n"
     ]
    }
   ],
   "source": [
    "# 분산\n",
    "print(df.var())\n",
    "print('\\n')\n",
    "print(df['연비'].var())"
   ]
  },
  {
   "cell_type": "code",
   "execution_count": 21,
   "metadata": {},
   "outputs": [
    {
     "name": "stdout",
     "output_type": "stream",
     "text": [
      "             연비     실린더 수       배기량        중량        엑셀        년식       제조국\n",
      "연비     1.000000 -0.775396 -0.804203 -0.831741  0.420289  0.579267  0.563450\n",
      "실린더 수 -0.775396  1.000000  0.950721  0.896017 -0.505419 -0.348746 -0.562543\n",
      "배기량   -0.804203  0.950721  1.000000  0.932824 -0.543684 -0.370164 -0.609409\n",
      "중량    -0.831741  0.896017  0.932824  1.000000 -0.417457 -0.306564 -0.581024\n",
      "엑셀     0.420289 -0.505419 -0.543684 -0.417457  1.000000  0.288137  0.205873\n",
      "년식     0.579267 -0.348746 -0.370164 -0.306564  0.288137  1.000000  0.180662\n",
      "제조국    0.563450 -0.562543 -0.609409 -0.581024  0.205873  0.180662  1.000000\n",
      "\n",
      "\n",
      "          연비        중량\n",
      "연비  1.000000 -0.831741\n",
      "중량 -0.831741  1.000000\n"
     ]
    }
   ],
   "source": [
    "# 상관계수 \n",
    "print(df.corr())\n",
    "print('\\n')\n",
    "print(df[['연비','중량']].corr())"
   ]
  }
 ],
 "metadata": {
  "interpreter": {
   "hash": "0f7af77260ac8b5439dde40be20e84ac87264a6b810a171625820712e3538eaf"
  },
  "kernelspec": {
   "display_name": "Python 3.8.3 64-bit",
   "name": "python3"
  },
  "language_info": {
   "codemirror_mode": {
    "name": "ipython",
    "version": 3
   },
   "file_extension": ".py",
   "mimetype": "text/x-python",
   "name": "python",
   "nbconvert_exporter": "python",
   "pygments_lexer": "ipython3",
   "version": "3.8.2"
  },
  "orig_nbformat": 2
 },
 "nbformat": 4,
 "nbformat_minor": 2
}
