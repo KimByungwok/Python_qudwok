{
 "metadata": {
  "language_info": {
   "codemirror_mode": {
    "name": "ipython",
    "version": 3
   },
   "file_extension": ".py",
   "mimetype": "text/x-python",
   "name": "python",
   "nbconvert_exporter": "python",
   "pygments_lexer": "ipython3",
   "version": "3.8.3"
  },
  "orig_nbformat": 2,
  "kernelspec": {
   "name": "python3",
   "display_name": "Python 3.8.3 64-bit"
  },
  "interpreter": {
   "hash": "0f7af77260ac8b5439dde40be20e84ac87264a6b810a171625820712e3538eaf"
  }
 },
 "nbformat": 4,
 "nbformat_minor": 2,
 "cells": [
  {
   "cell_type": "markdown",
   "source": [
    "# 데이터 사전처리(Preprocessing)\n",
    "## 데이터 품질\n",
    "    - 머신러닝, 딥러닝 등 데이터 분석의 정확도를 결정짓는 요소\n",
    "    - 누락 데이터(NaN), 중복 데이터 등 오류 수정 필요\n",
    "    - 분석 목적에 맞도록 변형 필요\n"
   ],
   "metadata": {}
  },
  {
   "cell_type": "markdown",
   "source": [
    "## 누락 데이터 처리\n",
    "- 누락 데이터가 NaN으로 표시되지 않는 경우\n",
    "    - df.replace('?', np.nan, inplace=True)\n",
    "    - ?는 NaN이 아닌 이상(abnormal)값"
   ],
   "metadata": {}
  },
  {
   "cell_type": "code",
   "execution_count": null,
   "source": [
    "# titanic dataset을 사용할 수 있는 seaborn 패키지 불러오기\r\n",
    "import seaborn as sns\r\n",
    "\r\n",
    "# titanic 데이터셋을 데이터프레임으로 가져오기\r\n",
    "df = sns.load_dataset('titanic')"
   ],
   "outputs": [],
   "metadata": {}
  },
  {
   "cell_type": "code",
   "execution_count": null,
   "source": [
    "# 데이터프레임 요약정보 보기\r\n",
    "print(df.info())"
   ],
   "outputs": [],
   "metadata": {}
  },
  {
   "cell_type": "code",
   "execution_count": null,
   "source": [
    "# 갑판(deck) 열에 대한 NaN 개수 구하기\r\n",
    "nan_decks = df['deck'].value_counts() \r\n",
    "print(nan_decks)\r\n",
    "print()\r\n",
    "\r\n",
    "# dropna=False로 설정해 NaN의 갯수 확인해 보기 \r\n",
    "nan_decks = df['deck'].value_counts(dropna=False) \r\n",
    "print(nan_decks)"
   ],
   "outputs": [],
   "metadata": {}
  },
  {
   "cell_type": "code",
   "execution_count": null,
   "source": [
    "# isnull() 메서드로 누락 데이터 찾기\r\n",
    "# 누락데이터 항목은 True로 표시됨\r\n",
    "print(df.head(10).isnull())"
   ],
   "outputs": [],
   "metadata": {}
  },
  {
   "cell_type": "code",
   "execution_count": null,
   "source": [
    "# notnull() 메서드로 누락 데이터 찾기\r\n",
    "# NaN이 아닌 데이터 항목은 True로 표시됨\r\n",
    "print(df.head(10).notnull())"
   ],
   "outputs": [],
   "metadata": {}
  },
  {
   "cell_type": "code",
   "execution_count": null,
   "source": [
    "# isnull() 메서드로 각 열의 누락 데이터 개수 구하기\r\n",
    "print(df.head(10).isnull().sum(axis=0))"
   ],
   "outputs": [],
   "metadata": {}
  },
  {
   "cell_type": "markdown",
   "source": [
    "## 누락 데이터 제거"
   ],
   "metadata": {}
  },
  {
   "cell_type": "code",
   "execution_count": null,
   "source": [
    "# titanic dataset을 사용할 수 있는 seaborn 패키지 불러오기\r\n",
    "import seaborn as sns\r\n",
    "\r\n",
    "# titanic 데이터셋을 데이터프레임으로 가져오기\r\n",
    "df = sns.load_dataset('titanic')"
   ],
   "outputs": [],
   "metadata": {}
  },
  {
   "cell_type": "code",
   "execution_count": null,
   "source": [
    "# for 반복문을 사용해 각 열의 NaN 개수 구하기\r\n",
    "missing_dfs = df.isnull()\r\n",
    "for cols in missing_dfs.columns:\r\n",
    "    missing_counts = missing_dfs[cols].value_counts()    # 각 열에 대해 NaN 개수 알아내기\r\n",
    "\r\n",
    "    try: \r\n",
    "        print(cols, ': ', missing_counts[True])   # NaN 값이 있는 경우 개수 출력\r\n",
    "    except:\r\n",
    "        print(cols, ': ', 0)                     # NaN 값이 없는 경우 0으로 출력"
   ],
   "outputs": [],
   "metadata": {}
  },
  {
   "cell_type": "code",
   "execution_count": null,
   "source": [
    "# NaN 개수가 400 이상의 열들 모두 삭제\r\n",
    "#  - 갑판(deck) 열(891개 중 688개의 NaN 값이므로 데이터 분석에 사용하기 어려움)\r\n",
    "df_threshs = df.dropna(axis=1, thresh=400)  \r\n",
    "print(df_threshs.columns)"
   ],
   "outputs": [],
   "metadata": {}
  },
  {
   "cell_type": "code",
   "execution_count": null,
   "source": [
    "# age 열에 데이터가 없는 행을 모두 삭제 \r\n",
    "#  - 나이(age) 열(891개 중 177개의 NaN 값으로 데이터 분석에 사용하기 어려움)\r\n",
    "df_ages = df.dropna(subset=['age'], how='any', axis=0)  \r\n",
    "# 삭제 후 나이(age) 열 개수 출력\r\n",
    "print(len(df_ages))"
   ],
   "outputs": [],
   "metadata": {}
  },
  {
   "cell_type": "markdown",
   "source": [
    "## 누락 데이터 치환"
   ],
   "metadata": {}
  },
  {
   "cell_type": "code",
   "execution_count": null,
   "source": [
    "# titanic dataset을 사용할 수 있는 seaborn 패키지 불러오기\r\n",
    "import seaborn as sns\r\n",
    "\r\n",
    "# titanic 데이터셋을 데이터프레임으로 가져오기\r\n",
    "df = sns.load_dataset('titanic')"
   ],
   "outputs": [],
   "metadata": {}
  },
  {
   "cell_type": "code",
   "execution_count": null,
   "source": [
    "# 나이(age) 열에 대해 시작부터 20개 데이터를 출력해서 NaN 값 있는 지 확인 (5 행에 NaN 값 있음)\r\n",
    "print(df['age'].head(20))\r\n",
    "print('\\n')"
   ],
   "outputs": [],
   "metadata": {}
  },
  {
   "cell_type": "markdown",
   "source": [
    "### 전략 1 : 데이터 평균값으로 치환"
   ],
   "metadata": {}
  },
  {
   "cell_type": "code",
   "execution_count": null,
   "source": [
    "# 나이(age) 열의 NaN값을 age 열에 대한 평균값으로 변경하기\r\n",
    "mean_ages = df['age'].mean(axis=0)   # 나이(age) 열에 대한 평균값 계산 (NaN 값 제외)\r\n",
    "df['age'].fillna(mean_ages, inplace=True)"
   ],
   "outputs": [],
   "metadata": {}
  },
  {
   "cell_type": "code",
   "execution_count": null,
   "source": [
    "# 나이(age) 열에 대해 시작부터 20개 데이터를 출력 (5 행의 NaN 값을 평균값으로 대체)\r\n",
    "print(df['age'].head(20))"
   ],
   "outputs": [],
   "metadata": {}
  },
  {
   "cell_type": "code",
   "execution_count": null,
   "source": [
    "# 승선도시(embark_town) 열에서 829행의 NaN 데이터 확인\r\n",
    "print(df['embark_town'][825:831])\r\n",
    "print('\\n')"
   ],
   "outputs": [],
   "metadata": {}
  },
  {
   "cell_type": "markdown",
   "source": [
    "### 전략 2 : 최빈값으로 치환"
   ],
   "metadata": {}
  },
  {
   "cell_type": "code",
   "execution_count": null,
   "source": [
    "# 승선도시(embark_town) 열의 최빈값 찾기\r\n",
    "most_freqs = df['embark_town'].value_counts(dropna=True).idxmax()   \r\n",
    "\r\n",
    "# 최빈값 출력\r\n",
    "print(most_freqs)\r\n",
    "print('\\n')"
   ],
   "outputs": [],
   "metadata": {}
  },
  {
   "cell_type": "code",
   "execution_count": null,
   "source": [
    "# 승선도시(embark_town) 열의 NaN값을 승선도시 중에서 최빈값으로 변경하기\r\n",
    "df['embark_town'].fillna(most_freqs, inplace=True)\r\n",
    "\r\n",
    "# 승선도시(embark_town) 열 829행에 있는 NaN 데이터 출력 (NaN 값을 most_freq 값으로 변경)\r\n",
    "print(df['embark_town'][825:830])"
   ],
   "outputs": [],
   "metadata": {}
  },
  {
   "cell_type": "markdown",
   "source": [
    "### 전략 3 : 다른 행의 값으로 치환"
   ],
   "metadata": {}
  },
  {
   "cell_type": "code",
   "execution_count": null,
   "source": [
    "# titanic dataset을 사용할 수 있는 seaborn 패키지 불러오기\r\n",
    "import seaborn as sns\r\n",
    "\r\n",
    "# titanic 데이터셋을 데이터프레임으로 가져오기\r\n",
    "dfs = sns.load_dataset('titanic')\r\n",
    "\r\n",
    "# 승선도시(embark_town) 열 829행에 있는 NaN 데이터 출력\r\n",
    "print(dfs['embark_town'][825:831])\r\n",
    "print('\\n')\r\n",
    "\r\n",
    "# 승선도시(embark_town) 열에 존재하는 NaN값을 해당 위치 바로 전에 있는 828행의 값으로 치환\r\n",
    "dfs['embark_town'].fillna(method='ffill', inplace=True)\r\n",
    "print(dfs['embark_town'][825:831])"
   ],
   "outputs": [],
   "metadata": {}
  },
  {
   "cell_type": "markdown",
   "source": [
    "### 전략 4 : 특정 값으로 치환"
   ],
   "metadata": {}
  },
  {
   "cell_type": "code",
   "execution_count": null,
   "source": [
    "# titanic dataset을 사용할 수 있는 seaborn 패키지 불러오기\r\n",
    "import seaborn as sns\r\n",
    "\r\n",
    "# titanic 데이터셋을 데이터프레임으로 가져오기\r\n",
    "dfs = sns.load_dataset('titanic')\r\n",
    "\r\n",
    "# 승선도시(embark_town) 열 829행에 있는 NaN 데이터 출력\r\n",
    "print(df['embark_town'][825:831])\r\n",
    "print('\\n')\r\n",
    "\r\n",
    "# 승선도시(embark_town) 열의 NaN값을 '인천항'으로 변경하기\r\n",
    "df['embark_town'].fillna(value='인천항', inplace=True)\r\n",
    "print(df['embark_town'][825:831])"
   ],
   "outputs": [],
   "metadata": {}
  },
  {
   "cell_type": "markdown",
   "source": [
    "## 중복 데이터 제거"
   ],
   "metadata": {}
  },
  {
   "cell_type": "code",
   "execution_count": null,
   "source": [
    "import pandas as pd\r\n",
    "\r\n",
    "# 중복 데이터가 포함된 데이터프레임 만들기\r\n",
    "df = pd.DataFrame({'c_1':['a', 'b', 'a', 'a', 'b'],\r\n",
    "                  'c_2':[1, 1, 2, 2, 2],\r\n",
    "                  'c_3':[1, 1, 1, 2, 2]})\r\n",
    "print(df)\r\n",
    "print('\\n')"
   ],
   "outputs": [],
   "metadata": {}
  },
  {
   "cell_type": "code",
   "execution_count": null,
   "source": [
    "# 데이터프레임 전체 행에서 중복된 값 찾기\r\n",
    "df_dups = df.duplicated()\r\n",
    "print(df_dups)"
   ],
   "outputs": [],
   "metadata": {}
  },
  {
   "cell_type": "code",
   "execution_count": null,
   "source": [
    "# 데이터프레임의 특정 열에서 중복된 값 찾기\r\n",
    "col_dup = df['c_2'].duplicated()\r\n",
    "print(col_dup)"
   ],
   "outputs": [],
   "metadata": {}
  },
  {
   "cell_type": "code",
   "execution_count": null,
   "source": [
    "# 데이터프레임에서 중복된 행 제거\r\n",
    "df2 = df.drop_duplicates()\r\n",
    "print('중복 제거 전\\n', df)\r\n",
    "print()\r\n",
    "print('중복 제거 후\\n',df2)"
   ],
   "outputs": [],
   "metadata": {}
  },
  {
   "cell_type": "code",
   "execution_count": null,
   "source": [
    "# c_2, c_3열을 기준으로 하여 중복 행 제거\r\n",
    "df3 = df.drop_duplicates(subset=['c_2', 'c_3'])\r\n",
    "print('중복 제거 전\\n', df)\r\n",
    "print()\r\n",
    "print('중복 제거 후\\n',df3)"
   ],
   "outputs": [],
   "metadata": {}
  },
  {
   "cell_type": "markdown",
   "source": [
    "## 데이터 표준화\n",
    "    - 여러 곳에서 수집한 동일 데이터 항목의 서로 다른 표현을 통일하는 것\n",
    "    - 단위, 표기방법, 데이터 타입 등"
   ],
   "metadata": {}
  },
  {
   "cell_type": "markdown",
   "source": [
    "### 단위 표준화"
   ],
   "metadata": {}
  },
  {
   "cell_type": "code",
   "execution_count": null,
   "source": [
    "import pandas as pd\r\n",
    "\r\n",
    "# 자동차_제원_정보.csv 파일의 데이터 읽어들이기\r\n",
    "df = pd.read_csv('data/자동차_제원_정보.csv', header=None)\r\n",
    "\r\n",
    "# 열 이름을 지정\r\n",
    "df.columns = ['연비(mpg)','실린더 수','배기량','마력','중량',\r\n",
    "              '엑셀','년식','제조국','차종']\r\n",
    "\r\n",
    "print(df.head(10))    \r\n",
    "print('\\n')"
   ],
   "outputs": [],
   "metadata": {}
  },
  {
   "cell_type": "code",
   "execution_count": null,
   "source": [
    "# 연비(mile per gallon, mpg)를 연비(kilometer per liter, kpl)로 변환 (mpg_to_kpl = 0.4250)\r\n",
    "mpg_to_kpl = 1.609340 / 3.785410"
   ],
   "outputs": [],
   "metadata": {}
  },
  {
   "cell_type": "code",
   "execution_count": null,
   "source": [
    "# 연비 열에 0.425를 곱한 결과를 새로운 열(kpl)에 추가\r\n",
    "df['연비(kpl)'] = df['연비(mpg)'] * mpg_to_kpl\r\n",
    "print('연비(kpl) 추가된 데이터프레임\\n', df.head(10))    \r\n",
    "print('\\n')"
   ],
   "outputs": [],
   "metadata": {}
  },
  {
   "cell_type": "code",
   "execution_count": null,
   "source": [
    "# kpl 열을 소수점 아래 셋째 자리에서 반올림 \r\n",
    "df['연비(kpl)'] = df['연비(kpl)'].round(3)\r\n",
    "print(df.head(10))  "
   ],
   "outputs": [],
   "metadata": {}
  },
  {
   "cell_type": "markdown",
   "source": [
    "### 데이터 타입 변환"
   ],
   "metadata": {}
  },
  {
   "cell_type": "code",
   "execution_count": null,
   "source": [
    "import pandas as pd\r\n",
    "\r\n",
    "# 자동차_제원_정보.csv 파일의 데이터 읽어들이기\r\n",
    "df = pd.read_csv('data/자동차_제원_정보.csv', header=None)\r\n",
    "\r\n",
    "# 열 이름을 지정\r\n",
    "df.columns = ['연비(mpg)','실린더 수','배기량','마력','중량',\r\n",
    "              '엑셀','년식','제조국','차종']\r\n",
    "\r\n",
    "# 각 열의 자료형을 확인\r\n",
    "print(df.dtypes)"
   ],
   "outputs": [],
   "metadata": {}
  },
  {
   "cell_type": "code",
   "execution_count": null,
   "source": [
    "# 마력 열의 고유값 확인\r\n",
    "# unique() : 고유값을 numpy의 ndarray로 반환\r\n",
    "print(df['마력'].unique())\r\n",
    "print('\\n')"
   ],
   "outputs": [],
   "metadata": {}
  },
  {
   "cell_type": "markdown",
   "source": [
    "#### 문자열 데이터 --> 실수형 데이터"
   ],
   "metadata": {}
  },
  {
   "cell_type": "code",
   "execution_count": null,
   "source": [
    "# '?'로 표시된 누락 데이터 삭제 \r\n",
    "import numpy as np\r\n",
    "df['마력'].replace('?', np.nan, inplace=True)      # '?'로 되어있는 데이터를 np.nan으로 변경\r\n",
    "df.dropna(subset=['마력'], axis=0, inplace=True)   # 누락데이터가 있는 행을 삭제\r\n",
    "df['마력'] = df['마력'].astype('float')      # 문자열을 실수형으로 형변환"
   ],
   "outputs": [],
   "metadata": {}
  },
  {
   "cell_type": "code",
   "execution_count": null,
   "source": [
    "# 마력 열의 자료형 확인\r\n",
    "print(df['마력'].dtypes)  \r\n",
    "print('\\n')"
   ],
   "outputs": [],
   "metadata": {}
  },
  {
   "cell_type": "markdown",
   "source": [
    "#### 정수형 데이터 --> 문자형 데이터"
   ],
   "metadata": {}
  },
  {
   "cell_type": "code",
   "execution_count": null,
   "source": [
    "# 제조국 열의 고유값 확인\r\n",
    "print(df['제조국'].unique())"
   ],
   "outputs": [],
   "metadata": {}
  },
  {
   "cell_type": "code",
   "execution_count": null,
   "source": [
    "# 정수형 데이터를 문자형 데이터로 변환 \r\n",
    "df['제조국'].replace({1:'미국(USA)', 2:'유럽연합(EU)', 3:'일본(JPN)'}, inplace=True)"
   ],
   "outputs": [],
   "metadata": {}
  },
  {
   "cell_type": "code",
   "execution_count": null,
   "source": [
    "# 제조국 열의 고유값과 자료형 확인\r\n",
    "print(df['제조국'].unique())\r\n",
    "print(df['제조국'].dtypes) \r\n",
    "print('\\n')"
   ],
   "outputs": [],
   "metadata": {}
  },
  {
   "cell_type": "markdown",
   "source": [
    "#### 문자열 데이터 --> 범주형 데이터"
   ],
   "metadata": {}
  },
  {
   "cell_type": "code",
   "execution_count": null,
   "source": [
    "# 제조국 열의 문자열 자료형을 범주형으로 변환\r\n",
    "df['제조국'] = df['제조국'].astype('category')     \r\n",
    "print(df['제조국'].dtypes) "
   ],
   "outputs": [],
   "metadata": {}
  },
  {
   "cell_type": "markdown",
   "source": [
    "#### 범주형 데이터 --> 문자열 데이터"
   ],
   "metadata": {}
  },
  {
   "cell_type": "code",
   "execution_count": null,
   "source": [
    "# 범주형을 문자열로 다시 변환\r\n",
    "df['제조국'] = df['제조국'].astype('str')     \r\n",
    "print(df['제조국'].dtypes)"
   ],
   "outputs": [],
   "metadata": {}
  },
  {
   "cell_type": "markdown",
   "source": [
    "#### 정수형 데이터 --> 범주형 데이터"
   ],
   "metadata": {}
  },
  {
   "cell_type": "code",
   "execution_count": null,
   "source": [
    "# 년식 열의 정수형을 범주형으로 변환\r\n",
    "# sample(n) : 랜덤하게 n개 선택\r\n",
    "print(df['년식'].sample(3))\r\n",
    "df['년식'] = df['년식'].astype('category') \r\n",
    "print(df['년식'].sample(3)) "
   ],
   "outputs": [],
   "metadata": {}
  },
  {
   "cell_type": "markdown",
   "source": [
    "## 데이터 구간 분할(binning)\n",
    "    - 데이터를 일정한 구간(bin)으로 나누어서 분석하고자 할 때\n",
    "    - 가격, 비용, 효율 등 연속적 값을 이산적 값으로 변환\n",
    "    - n개의 구간 = n+1개의 경계값 필요"
   ],
   "metadata": {}
  },
  {
   "cell_type": "code",
   "execution_count": null,
   "source": [
    "import pandas as pd # 더미 주석\r\n",
    "import numpy as np # 더미 주석\r\n",
    "\r\n",
    "# 자동차_제원_정보.csv 파일의 데이터 읽어들이기\r\n",
    "df = pd.read_csv('data/자동차_제원_정보.csv', header=None)\r\n",
    "\r\n",
    "# 열 이름을 새로 지정\r\n",
    "df.columns = ['연비(mpg)','실린더 수','배기량','마력','중량',\r\n",
    "              '엑셀','년식','제조국','차종']\r\n"
   ],
   "outputs": [],
   "metadata": {}
  },
  {
   "cell_type": "code",
   "execution_count": null,
   "source": [
    "# '?'로 표시된 마력 열의 데이터를 삭제하고 실수형으로 변환\r\n",
    "df['마력'].replace('?', np.nan, inplace=True)      # '?'로 표시된 데이터를 np.nan으로 변경\r\n",
    "df.dropna(subset=['마력'], axis=0, inplace=True)   # 누락데이터 행을 삭제\r\n",
    "df['마력'] = df['마력'].astype('float')      # 문자열을 실수형으로 변환"
   ],
   "outputs": [],
   "metadata": {}
  },
  {
   "cell_type": "code",
   "execution_count": null,
   "source": [
    "# np.histogram() 함수를 사용해 3개 bin으로 구분하는 경계 값 리스트 구하기\r\n",
    "# n개의 구간 = n+1개의 경계값\r\n",
    "# 각 반환 값은 np.ndarry 타입\r\n",
    "count, bin_divs = np.histogram(df['마력'], bins=3)\r\n",
    "print('각 bin에 속한 데이터 갯수 : ', count)\r\n",
    "print('경계 값 : ',bin_divs)"
   ],
   "outputs": [],
   "metadata": {}
  },
  {
   "cell_type": "code",
   "execution_count": null,
   "source": [
    "# 3개의 출력형태를 bin에 대입\r\n",
    "bin_names = ['저출력', '보통출력', '고출력']\r\n",
    "\r\n",
    "# pd.cut() 함수로 3개의 bin에 각 데이터를 할당\r\n",
    "df['마력_bin'] = pd.cut(x=df['마력'],     # 데이터 배열 지정\r\n",
    "                      bins=bin_dividers,      # 경계값에 대한 리스트\r\n",
    "                      labels=bin_names,       # bin의 이름 리스트\r\n",
    "                      include_lowest=True)    # 맨 처음 경계값(낮은쪽) 포함 \r\n",
    "\r\n",
    "# 마력 열, 마력_bin 열의 첫 15행을 출력\r\n",
    "print(df[['마력', '마력_bin']].head(15))"
   ],
   "outputs": [],
   "metadata": {}
  },
  {
   "cell_type": "markdown",
   "source": [
    "### 더미 변수(Dummy Variable)\n",
    "    - 어떤 특성이 있는 지 없는 지 여부만을 표시할 때"
   ],
   "metadata": {}
  },
  {
   "cell_type": "code",
   "execution_count": null,
   "source": [
    "import pandas as pd # 더미 주석\r\n",
    "import numpy as np # 더미 주석\r\n",
    "\r\n",
    "# 자동차_제원_정보.csv 파일의 데이터 읽어들이기\r\n",
    "df = pd.read_csv('data/자동차_제원_정보.csv', header=None)\r\n",
    "\r\n",
    "# 열 이름을 지정\r\n",
    "df.columns = ['연비(mpg)','실린더 수','배기량','마력','중량',\r\n",
    "              '엑셀','년식','제조국','차종']\r\n",
    "\r\n",
    "# '?'로 표시된 마력 열의 데이터를 삭제하고 실수형으로 변환\r\n",
    "df['마력'].replace('?', np.nan, inplace=True)      # '?'로 표시된 데이터를 np.nan으로 변경\r\n",
    "df.dropna(subset=['마력'], axis=0, inplace=True)   # 누락데이터 행을 삭제\r\n",
    "df['마력'] = df['마력'].astype('float')      # 문자열을 실수형으로 변환"
   ],
   "outputs": [],
   "metadata": {}
  },
  {
   "cell_type": "code",
   "execution_count": null,
   "source": [
    "# np.histogram() 함수를 사용해 3개 bin으로 구분하는 경계 값 리스트 구하기\r\n",
    "count, bin_divs = np.histogram(df['마력'], bins=3)\r\n",
    "\r\n",
    "# 3개의 출력형태로 bin 구성\r\n",
    "bin_names = ['저출력', '보통출력', '고출력']\r\n",
    "\r\n",
    "# pd.cut() 함수를 사용해 bin에 각 데이터를 나누어 저장\r\n",
    "df['마력_bin'] = pd.cut(x=df['마력'],     # 데이터 배열\r\n",
    "                      bins=bin_divs,      # 경계값의 리스트\r\n",
    "                      labels=bin_names,       # bin의 이름 리스트\r\n",
    "                      include_lowest=True)    # 맨 처음 경계값(낮은쪽) 포함 \r\n",
    "\r\n",
    "# 마력_bin의 범주형 데이터들을 더미 변수로 치환\r\n",
    "마력_dummies = pd.get_dummies(df['마력_bin'])\r\n",
    "print(마력_dummies.head(15))"
   ],
   "outputs": [],
   "metadata": {}
  },
  {
   "cell_type": "markdown",
   "source": [
    "### 원핫인코딩(one-hot-encoding)\r\n",
    "    - 컴퓨터로 인식할 수 있도록 범주형 데이터를  0 또는 1로만 구성되는 one hot vector로 표현하는 것\r\n",
    "    - 희소행렬(sparse matrix)화 함\r\n",
    "    - sklearn 라이브러리 활용해 처리할 수 있음"
   ],
   "metadata": {}
  },
  {
   "cell_type": "code",
   "execution_count": null,
   "source": [
    "import pandas as pd # 더미 주석\r\n",
    "import numpy as np # 더미 주석\r\n",
    "\r\n",
    "# 자동차_제원_정보.csv 파일의 데이터 읽어들이기\r\n",
    "df = pd.read_csv('data/자동차_제원_정보.csv', header=None)\r\n",
    "\r\n",
    "# 열 이름을 지정\r\n",
    "df.columns = ['연비(mpg)','실린더 수','배기량','마력','중량',\r\n",
    "              '엑셀','년식','제조국','차종']\r\n",
    "\r\n",
    "# '?'로 표시된 마력 열의 데이터를 삭제하고 실수형으로 변환\r\n",
    "df['마력'].replace('?', np.nan, inplace=True)      # '?'로 표시된 데이터를 np.nan으로 변경\r\n",
    "df.dropna(subset=['마력'], axis=0, inplace=True)   # 누락데이터 행을 삭제\r\n",
    "df['마력'] = df['마력'].astype('float')      # 문자열을 실수형으로 변환\r\n",
    "\r\n",
    "# np.histogram() 함수를 사용해 3개 bin으로 구분하는 경계 값 리스트 구하기\r\n",
    "count, bin_divs = np.histogram(df['마력'], bins=3)\r\n",
    "\r\n",
    "# 3개의 출력형태로 bin 구성\r\n",
    "bin_names = ['저출력', '보통출력', '고출력']\r\n",
    "\r\n",
    "# pd.cut() 함수를 사용해 3개의 bin에 각 데이터를 지정\r\n",
    "df['마력_bin'] = pd.cut(x=df['마력'],     # 데이터 배열\r\n",
    "                      bins=bin_divs,      # 경계값의 리스트\r\n",
    "                      labels=bin_names,       # bin의 이름 리스트\r\n",
    "                      include_lowest=True)    # 맨 처음 경계값(낮은쪽) 포함 "
   ],
   "outputs": [],
   "metadata": {}
  },
  {
   "cell_type": "code",
   "execution_count": null,
   "source": [
    "# sklern 라이브러리 불러오기\r\n",
    "from sklearn import preprocessing   "
   ],
   "outputs": [],
   "metadata": {}
  },
  {
   "cell_type": "code",
   "execution_count": null,
   "source": [
    "# 전처리를 위한 encoder 객체 만들기\r\n",
    "lbl_encoder = preprocessing.LabelEncoder()       # label encoder를 생성\r\n",
    "onehot_encoders = preprocessing.OneHotEncoder()   # one hot encoder를 생성\r\n",
    "\r\n",
    "# label encoder를 사용해 문자열 범주를 숫자형 범주로 바꿈\r\n",
    "onehot_lbled = lbl_encoder.fit_transform(df['마력_bin'].head(10))  \r\n",
    "print(onehot_lbled)\r\n",
    "print(type(onehot_lbled))\r\n",
    "\r\n",
    "# 2차원 행렬 형태로 변경\r\n",
    "onehot_reshape = onehot_lbled.reshape(len(onehot_lbled), 1) \r\n",
    "print(onehot_reshape)\r\n",
    "print(type(onehot_reshape))\r\n",
    "\r\n",
    "# 희소행렬 형태로 변경\r\n",
    "onehonehot_fit = onehot_encoders.fit_transform(onehot_reshape)\r\n",
    "print(onehonehot_fit)\r\n",
    "print(type(onehonehot_fit))"
   ],
   "outputs": [],
   "metadata": {}
  },
  {
   "cell_type": "markdown",
   "source": [
    "### 정규화(normalization)\r\n",
    "    - 각 데이터프레임의 열(변수)에 들어 있는 숫자 데이터들의 상대적 크기차를 줄이기 위한 방법\r\n",
    "    - 0 ~ 1 사이의 실수 값을 가지도록 변환"
   ],
   "metadata": {}
  },
  {
   "cell_type": "code",
   "execution_count": null,
   "source": [
    "import pandas as pd # 더미 주석\r\n",
    "import numpy as np # 더미 주석\r\n",
    "\r\n",
    "# 자동차_제원_정보.csv 파일의 데이터 읽어들이기\r\n",
    "df = pd.read_csv('data/자동차_제원_정보.csv', header=None)\r\n",
    "\r\n",
    "# 열 이름을 지정\r\n",
    "df.columns = ['연비(mpg)','실린더 수','배기량','마력','중량',\r\n",
    "              '엑셀','년식','제조국','차종']\r\n",
    "\r\n",
    "# '?'로 표시된 마력 열의 데이터를 삭제하고 실수형으로 변환\r\n",
    "df['마력'].replace('?', np.nan, inplace=True)     # '?'로 표시된 데이터를 np.nan으로 변경\r\n",
    "df.dropna(subset=['마력'], axis=0, inplace=True)   # 누락데이터 행을 삭제\r\n",
    "df['마력'] = df['마력'].astype('float')      # 문자열을 실수형으로 변환\r\n",
    "\r\n",
    "# 마력 열 통계 요약정보 중 최대값(max)을 확인\r\n",
    "print(df.마력.describe())"
   ],
   "outputs": [],
   "metadata": {}
  },
  {
   "cell_type": "code",
   "execution_count": null,
   "source": [
    "# 마력 열의 최대값을 절대값으로 해서 모든 데이터를 나눠서 저장\r\n",
    "df.마력 = df.마력 / abs(df.마력.max()) \r\n",
    "\r\n",
    "print(df.마력.head())\r\n",
    "print('\\n')\r\n",
    "print(df.마력.describe())"
   ],
   "outputs": [],
   "metadata": {}
  },
  {
   "cell_type": "code",
   "execution_count": null,
   "source": [
    "import pandas as pd # 더미 주석\r\n",
    "import numpy as np # 더미 주석\r\n",
    "\r\n",
    "# 자동차_제원_정보.csv 파일의 데이터 읽어들이기\r\n",
    "df = pd.read_csv('data/자동차_제원_정보.csv', header=None)\r\n",
    "\r\n",
    "# 열 이름을 지정\r\n",
    "df.columns = ['연비(mpg)','실린더 수','배기량','마력','중량',\r\n",
    "              'acceleration','년식','제조국','차종']  \r\n",
    "\r\n",
    "# '?'로 표시된 마력 열의 데이터를 삭제하고 실수형으로 변환\r\n",
    "df['마력'].replace('?', np.nan, inplace=True)      # '?'로 표시된 데이터를 np.nan으로 변경\r\n",
    "df.dropna(subset=['마력'], axis=0, inplace=True)   # 누락데이터 행을 삭제\r\n",
    "df['마력'] = df['마력'].astype('float')      # 문자열을 실수형으로 변환\r\n",
    "\r\n",
    "# 마력 열 통계 요약정보 중 최대값(max)과 최소값(min)을 확인\r\n",
    "print(df.마력.describe())\r\n",
    "print('\\n')"
   ],
   "outputs": [],
   "metadata": {}
  },
  {
   "cell_type": "code",
   "execution_count": null,
   "source": [
    "# 마력 열의 최대값을 절대값으로 해서 모든 데이터를 나눠서 저장\r\n",
    "min_x = df.마력 - df.마력.min()\r\n",
    "min_max = df.마력.max() - df.마력.min()\r\n",
    "df.마력 = min_x / min_max\r\n",
    "\r\n",
    "print(df.마력.head())\r\n",
    "print('\\n')\r\n",
    "print(df.마력.describe())"
   ],
   "outputs": [],
   "metadata": {}
  },
  {
   "cell_type": "markdown",
   "source": [
    "## 시계열(Time Series) 데이터\r\n",
    "### □ 시계열 데이터란?\r\n",
    "    - 특정한 시간에서 측정된 비 연속 데이터\r\n",
    "### □ 시계열 분석\r\n",
    "    - 과거 누적된 데이터로 부터 의존성 패턴을 알아내는 것\r\n",
    "    - 알아낸 패턴을 활용해 미래를 예측하는 것\r\n",
    "### □ Pandas에서 시간표시를 위한 자료형\r\n",
    "    - Timestamp 자료형 : to_datetime()함수를 사용해 생성 가능, 날짜형태 자료형을 시계열 타입으로 변환\r\n",
    "    - Period 자료형 : Timestamp(datetime)객체를 기간을 나타내는 자료형으로 변환하고자 할 때 사용\r\n"
   ],
   "metadata": {}
  },
  {
   "cell_type": "markdown",
   "source": [
    "### 다른 자료형을 시계열 객체로 변환하기\n",
    "    - 시간 데이터를 표시할 때 문자열 또는 숫자로 표시하는 경우가 많음\n",
    "    - 시간 데이터에 대한 연산 및 쉬운 처리를 위해 시계열 객체로 변환이 필요"
   ],
   "metadata": {}
  },
  {
   "cell_type": "markdown",
   "source": [
    "#### 문자열을 timestamp로 변환하기"
   ],
   "metadata": {}
  },
  {
   "cell_type": "code",
   "execution_count": null,
   "source": [
    "import pandas as pd # 더미 주석\r\n",
    "\r\n",
    "# 주식데이터.csv 파일의 데이터 읽어들이기\r\n",
    "df = pd.read_csv('data/주식데이터.csv')\r\n",
    "\r\n",
    "# data의 내용과 datatype을 출력해 확인\r\n",
    "print(df.head())\r\n",
    "print('\\n')\r\n",
    "print(df.info())"
   ],
   "outputs": [],
   "metadata": {}
  },
  {
   "cell_type": "code",
   "execution_count": null,
   "source": [
    "# 시리즈 객체 형식의 문자열 데이터를 판다스의 Timestamp로 변환\r\n",
    "df['new_Dates'] = pd.to_datetime(df['Date'])   # 새로운 열 new_Dates를 df에 추가\r\n",
    "\r\n",
    "# 데이터의 내용, 자료형 자료형을 출력해 확인\r\n",
    "print(df.head(10))\r\n",
    "print('\\n데이터 정보 : ')\r\n",
    "print(df.info())\r\n",
    "print('\\nnew_Dates의 자료형 :')\r\n",
    "print(type(df['new_Dates'][1]))"
   ],
   "outputs": [],
   "metadata": {}
  },
  {
   "cell_type": "code",
   "execution_count": null,
   "source": [
    "# 새로운 행 인덱스로 시계열 값으로 변환된 열을 지정하고 기존 날짜 열은 삭제\r\n",
    "\r\n",
    "# 행 인덱스로 시계열 값을 지정하면 판다스에서는 DatetimeIndex로 저장함\r\n",
    "df.set_index('new_Dates', inplace=True) # new_Dates를 새로운 인덱스로 설정\r\n",
    "df.drop('Date', axis=1, inplace=True)\r\n",
    "\r\n",
    "# data의 내용과 datatype을 출력해 확인\r\n",
    "print(df.head(10))\r\n",
    "print('\\n')\r\n",
    "print(df.info())"
   ],
   "outputs": [],
   "metadata": {}
  },
  {
   "cell_type": "markdown",
   "source": [
    "#### Timestamp를 Period로 변환하기\n",
    "\n",
    "<table border='1'>\n",
    "<tr><td>옵션</td><td>설명</td><td>옵션</td><td>설명</td></tr>\n",
    "<tr><td>D</td><td>day(1일)</td><td>B</td><td>business day(휴일제외)</td></tr>\n",
    "<tr><td>W</td><td>week(1주)</td><td>H</td><td>hour(1시간)</td></tr>\n",
    "<tr><td>M</td><td>month end(월말)</td><td>T</td><td>minute(1분)</td></tr>\n",
    "<tr><td>MS</td><td>month start(월초)</td><td>S</td><td>second(1초)</td></tr>\n",
    "<tr><td>Q</td><td>quarter end(분기말)</td><td>L</td><td>millisecond(1/1,000ch)</td></tr>\n",
    "<tr><td>QS</td><td>quarter start(분기초)</td><td>U</td><td>microsecond(1/1,000,000초)</td></tr>\n",
    "<tr><td>A</td><td>annual end(연말)</td><td>N</td><td>nanosecond(1/1,000,000,000초)</td></tr>\n",
    "<tr><td>AS</td><td>annual start(연초)</td><td>...</td><td>...</td></tr>\n",
    "</table>\n"
   ],
   "metadata": {}
  },
  {
   "cell_type": "code",
   "execution_count": null,
   "source": [
    "import pandas as pd # 더미 주석\r\n",
    "\r\n",
    "# 날짜 형식 문자열 형식으로 구성되는 리스트 정의\r\n",
    "dates = ['2020-08-21', '2021-03-01', '2022-06-01']"
   ],
   "outputs": [],
   "metadata": {}
  },
  {
   "cell_type": "code",
   "execution_count": null,
   "source": [
    "# 시리즈 객체 형식의 문자열 데이터를 Timestamp 형식으로 바꿈\r\n",
    "timestamp_dates = pd.to_datetime(dates)   \r\n",
    "print(timestamp_dates)\r\n",
    "print('\\n')"
   ],
   "outputs": [],
   "metadata": {}
  },
  {
   "cell_type": "code",
   "execution_count": null,
   "source": [
    "# Timestamp 형식을 Period 형식으로 변환\r\n",
    "priod_day = ts_dates.to_period(freq='D') # D = Day\r\n",
    "print(priod_day)\r\n",
    "priod_month = ts_dates.to_period(freq='M') # M = Month\r\n",
    "print(priod_month)\r\n",
    "priod_year = ts_dates.to_period(freq='A') # A = Annual\r\n",
    "print(priod_year)"
   ],
   "outputs": [],
   "metadata": {}
  },
  {
   "cell_type": "markdown",
   "source": [
    "### 시계열 데이터 만들기 (1) : Timestamp 배열"
   ],
   "metadata": {}
  },
  {
   "cell_type": "code",
   "execution_count": null,
   "source": [
    "import pandas as pd # 더미 주석\r\n",
    "\r\n",
    "# 월 간격, 월의 시작일을 기준으로 Timestamp 배열 만들기\r\n",
    "timestamp_ms = pd.date_range(start='2021-01-01',    # 날짜 범위 시작\r\n",
    "                   end=None,                 # 날짜 범위 끝을 None으로 설정\r\n",
    "                   periods=6,                # 생성할 타임스템프의 개수를 6개로 설정\r\n",
    "                   freq='MS',                # 시간 간격 (MS: 간격 월의 시작일)\r\n",
    "                   tz='Asia/Seoul')          # 타임존(timezone)을 서울로 설정\r\n",
    "print(timestamp_ms)"
   ],
   "outputs": [],
   "metadata": {}
  },
  {
   "cell_type": "code",
   "execution_count": null,
   "source": [
    "# 월 간격, 월의 마지막 날 기준\r\n",
    "timestamp_me = pd.date_range('2021-01-01', periods=6, \r\n",
    "                   freq='M',              # 시간 간격 (M: 간격 월의 마지막 날)\r\n",
    "                   tz='Asia/Seoul')       # 타임존(timezone)을 서울로 설정\r\n",
    "print(timestamp_me)\r\n",
    "print('\\n')"
   ],
   "outputs": [],
   "metadata": {}
  },
  {
   "cell_type": "code",
   "execution_count": null,
   "source": [
    "# 3개월 분기의 간격으로, 월 마지막 날을 기준으로\r\n",
    "timestamp_3m = pd.date_range('2021-01-01', periods=6, \r\n",
    "                   freq='3M',             # 3개월 간격으로 설정\r\n",
    "                   tz='Asia/Seoul')       # 타임존(timezone)\r\n",
    "print(timestamp_3m)"
   ],
   "outputs": [],
   "metadata": {}
  },
  {
   "cell_type": "markdown",
   "source": [
    "### 시계열 데이터 만들기 (2) : Period 배열"
   ],
   "metadata": {}
  },
  {
   "cell_type": "code",
   "execution_count": null,
   "source": [
    "import pandas as pd # 더미 주석\r\n",
    "\r\n",
    "# 월 간격과 월의 시작일 기준으로 Timestamp 배열 생성\r\n",
    "timestamp_ms = pd.date_range(start='2021-01-01',    # 날짜 시작 범위\r\n",
    "                   end=None,                 # 날짜 끝 범위\r\n",
    "                   periods=6,                # 타임스템프의 개수를 6개로 설정\r\n",
    "                   freq='MS',                # 시간 간격 (MS: 간격 월의 시작일)\r\n",
    "                   tz='Asia/Seoul')          # 타임존(timezone)을 서울로 설정\r\n",
    "print(timestamp_ms)"
   ],
   "outputs": [],
   "metadata": {}
  },
  {
   "cell_type": "code",
   "execution_count": null,
   "source": [
    "# 월 간격과 월의 마지막 날을 기준으로\r\n",
    "timestamp = pd.date_range('2021-08-21', periods=6, \r\n",
    "                   freq='M',              # 시간 간격 (M: 간격 월의 마지막 날)\r\n",
    "                   tz='Asia/Seoul')       # 타임존(timezone)을 서울로 설정\r\n",
    "print(timestamp_me)\r\n",
    "print('\\n')"
   ],
   "outputs": [],
   "metadata": {}
  },
  {
   "cell_type": "code",
   "execution_count": null,
   "source": [
    "# 분기(3개월) 간격으로 월의 마지막 날 기준으로\r\n",
    "timestamp_3m = pd.date_range('2021-08-21', periods=6, \r\n",
    "                   freq='3M',             # 시간 간격 (3M: 3개월로 설정)\r\n",
    "                   tz='Asia/Seoul')       # 타임존(timezone)을 서울로 설정\r\n",
    "print(timestamp_3m)"
   ],
   "outputs": [],
   "metadata": {}
  },
  {
   "cell_type": "code",
   "execution_count": null,
   "source": [],
   "outputs": [],
   "metadata": {}
  }
 ]
}