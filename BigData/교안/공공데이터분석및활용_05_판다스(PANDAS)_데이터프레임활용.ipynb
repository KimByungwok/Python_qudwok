{
 "cells": [
  {
   "cell_type": "markdown",
   "metadata": {},
   "source": [
    "# 함수매핑\n",
    "## - 데이터프레임 또는 시리즈에 저장된 원소들을 차례로 적용할 함수에 일대일로 대응시키는 과정\n",
    "## - 사용자 정의 함수 적용가능"
   ]
  },
  {
   "cell_type": "markdown",
   "metadata": {},
   "source": [
    "## 개별 원소에 함수 매핑\n",
    "### apply() 메소드 \n",
    "    - 매핑 함수에 시리즈에 저장된 모든 원소를 하나씩 차례로 입력해 처리한 후 리턴값을 돌려받음\n",
    "    - 시리즈 원소 개수만큼 리턴값을 받아 같은 크기의 시리즈 객체로 반환"
   ]
  },
  {
   "cell_type": "code",
   "execution_count": 1,
   "metadata": {},
   "outputs": [
    {
     "name": "stdout",
     "output_type": "stream",
     "text": [
      "   survived  pclass     sex   age  sibsp  parch     fare embarked  class  \\\n",
      "0         0       3    male  22.0      1      0   7.2500        S  Third   \n",
      "1         1       1  female  38.0      1      0  71.2833        C  First   \n",
      "2         1       3  female  26.0      0      0   7.9250        S  Third   \n",
      "3         1       1  female  35.0      1      0  53.1000        S  First   \n",
      "4         0       3    male  35.0      0      0   8.0500        S  Third   \n",
      "\n",
      "     who  adult_male deck  embark_town alive  alone  \n",
      "0    man        True  NaN  Southampton    no  False  \n",
      "1  woman       False    C    Cherbourg   yes  False  \n",
      "2  woman       False  NaN  Southampton   yes   True  \n",
      "3  woman       False    C  Southampton   yes  False  \n",
      "4    man        True  NaN  Southampton    no   True  \n",
      "    age     fare  ten\n",
      "0  22.0   7.2500   10\n",
      "1  38.0  71.2833   10\n",
      "2  26.0   7.9250   10\n",
      "3  35.0  53.1000   10\n",
      "4  35.0   8.0500   10\n"
     ]
    }
   ],
   "source": [
    "# 타이타닉 데이터셋을 사용하기 위해 seaborn 라이브러리를 불러옴\n",
    "import seaborn as sns\n",
    "\n",
    "# titanic 데이터셋으로부터 age와 fare 열을 선택해 데이터프레임 생성\n",
    "titanic = sns.load_dataset('titanic')\n",
    "print(titanic.head())\n",
    "\n",
    "df = titanic.loc[:, ['age','fare']]\n",
    "\n",
    "# 데이터 프레임 df에 10을 값으로 가지는 새로운 시리즈(열) 추가\n",
    "df['ten'] = 10\n",
    "\n",
    "# 데이터 확인\n",
    "print(df.head())"
   ]
  },
  {
   "cell_type": "code",
   "execution_count": 2,
   "metadata": {},
   "outputs": [
    {
     "name": "stdout",
     "output_type": "stream",
     "text": [
      "20\n",
      "20\n"
     ]
    }
   ],
   "source": [
    "# 일단 적용시킬 함수를 만들어보자!\n",
    "# 사용자 함수 정의\n",
    "def add_ten(data):   # 매개변수 n에 10을 더해 반환하는 함수 정의\n",
    "    return data + 10\n",
    "\n",
    "def add_two_object(a, b):    # 두 객체의 합\n",
    "    return a + b\n",
    "\n",
    "# 함수 테스트\n",
    "print(add_ten(10))\n",
    "print(add_two_object(10, 10))"
   ]
  },
  {
   "cell_type": "code",
   "execution_count": 3,
   "metadata": {},
   "outputs": [
    {
     "name": "stdout",
     "output_type": "stream",
     "text": [
      "함수 적용 전 : \n",
      " 0    22.0\n",
      "1    38.0\n",
      "2    26.0\n",
      "3    35.0\n",
      "4    35.0\n",
      "Name: age, dtype: float64\n",
      "0    32.0\n",
      "1    48.0\n",
      "2    36.0\n",
      "3    45.0\n",
      "4    45.0\n",
      "Name: age, dtype: float64\n"
     ]
    }
   ],
   "source": [
    "# 시리즈 객체에 적용해보기\n",
    "print('함수 적용 전 : \\n', df['age'].head())    # 전체 데이터는 890개임\n",
    "\n",
    "# add_ten()를 apply()의 매개변수로 넘겨 df['age']의 모든 원소에 적용\n",
    "series_1 = df['age'].apply(add_ten)              \n",
    "print(series_1.head())"
   ]
  },
  {
   "cell_type": "code",
   "execution_count": 8,
   "metadata": {},
   "outputs": [
    {
     "name": "stdout",
     "output_type": "stream",
     "text": [
      "0    32.0\n",
      "1    48.0\n",
      "2    36.0\n",
      "3    45.0\n",
      "4    45.0\n",
      "Name: age, dtype: float64\n",
      "0    32.0\n",
      "1    48.0\n",
      "2    36.0\n",
      "3    45.0\n",
      "4    45.0\n",
      "Name: age, dtype: float64\n"
     ]
    }
   ],
   "source": [
    "# 시리즈 객체와 숫자에 적용해보기 : 2개의 인수(시리즈 + 숫자)\n",
    "# add_two_object() 함수를 df['age']의 모든 원소를 매개변수 a로 매핑, b=10으로 매핑해 적용\n",
    "series_1 = df['age'].apply(add_ten)              \n",
    "print(series_1.head())\n",
    "\n",
    "series_2 = df['age'].apply(add_two_object, b=10)    \n",
    "print(series_2.head())"
   ]
  },
  {
   "cell_type": "code",
   "execution_count": 5,
   "metadata": {},
   "outputs": [
    {
     "name": "stdout",
     "output_type": "stream",
     "text": [
      "0    32.0\n",
      "1    48.0\n",
      "2    36.0\n",
      "3    45.0\n",
      "4    45.0\n",
      "5     NaN\n",
      "6    64.0\n",
      "7    12.0\n",
      "8    37.0\n",
      "9    24.0\n",
      "Name: age, dtype: float64\n"
     ]
    }
   ],
   "source": [
    "# 람다 함수를 시리즈 객체에 적용해보기(1)\n",
    "series_3 = df['age'].apply(lambda data: add_ten(data))  # data=df['age']\n",
    "print(series_3.head(10))"
   ]
  },
  {
   "cell_type": "code",
   "execution_count": 6,
   "metadata": {},
   "outputs": [
    {
     "name": "stdout",
     "output_type": "stream",
     "text": [
      "0    32.0\n",
      "1    48.0\n",
      "2    36.0\n",
      "3    45.0\n",
      "4    45.0\n",
      "5     NaN\n",
      "6    64.0\n",
      "7    12.0\n",
      "8    37.0\n",
      "9    24.0\n",
      "Name: age, dtype: float64\n"
     ]
    }
   ],
   "source": [
    "# 람다 함수를 시리즈 객체에 적용해보기(2)\n",
    "series_4 = df['age'].apply(lambda x, y=10: add_two_object(x,y))  # x=df['age'], y=10\n",
    "print(series_4.head(10))"
   ]
  },
  {
   "cell_type": "markdown",
   "metadata": {},
   "source": [
    "## 데이터 프레임 원소에 함수 매핑\n",
    "### applymap() 메소드 \n",
    "    - 데이터 프레임의 각 원소를 하나씩 전달하는 매핑 함수에 입력해 처리한 후 리턴값 반환\n",
    "    - 원소의 원래 위치에 리턴값을 입력해 동일한 형태의 데이터 프레임 반환\n"
   ]
  },
  {
   "cell_type": "code",
   "execution_count": 7,
   "metadata": {},
   "outputs": [
    {
     "name": "stdout",
     "output_type": "stream",
     "text": [
      "    age     fare  ten\n",
      "0  22.0   7.2500   10\n",
      "1  38.0  71.2833   10\n",
      "2  26.0   7.9250   10\n",
      "3  35.0  53.1000   10\n",
      "4  35.0   8.0500   10\n",
      "\n",
      "\n",
      "    age     fare  ten\n",
      "0  32.0  17.2500   20\n",
      "1  48.0  81.2833   20\n",
      "2  36.0  17.9250   20\n",
      "3  45.0  63.1000   20\n",
      "4  45.0  18.0500   20\n"
     ]
    }
   ],
   "source": [
    "# titanic 데이터셋으로부터 age와 fare 열을 선택한 데이터프레임 df를 출력해 미리 확인\n",
    "print(df.head())\n",
    "print('\\n')\n",
    "   \n",
    "# 데이터 프레임에 applymap()으로 add_ten() 함수를 매핑 적용\n",
    "df_mapping = df.applymap(add_ten)   \n",
    "print(df_mapping.head())"
   ]
  },
  {
   "cell_type": "markdown",
   "metadata": {},
   "source": [
    "## 시리즈 객체에 함수 매핑\n",
    "\n",
    "### ㅇ 데이터 프레임의 각 열에 대해 함수 매핑\n",
    "###    apply(axis=0)\n",
    "    - 모든 열을 하나씩 분리해 매핑 함수의 인자로 각 시리즈(열) 전달\n",
    "    - 매핑 함수에 따라 반환되는 객체의 종류 다름\n",
    "### ㅇ 데이터 프레임의 각 행에 대해 함수 매핑\n",
    "###    apply(axis=1)\n",
    "    - 데이터 프레임에 있는 모든 행을 매핑 함수 인자로 전달\n",
    "    - 매핑 결과로 반환되는 시리즈의 인덱스로 데이터 프레임의 행 인덱스가  사용됨 "
   ]
  },
  {
   "cell_type": "code",
   "execution_count": 8,
   "metadata": {},
   "outputs": [
    {
     "name": "stdout",
     "output_type": "stream",
     "text": [
      "    age     fare  ten\n",
      "0  22.0   7.2500   10\n",
      "1  38.0  71.2833   10\n",
      "2  26.0   7.9250   10\n",
      "3  35.0  53.1000   10\n",
      "4  35.0   8.0500   10\n",
      "5   NaN   8.4583   10\n",
      "6  54.0  51.8625   10\n",
      "7   2.0  21.0750   10\n",
      "8  27.0  11.1333   10\n",
      "9  14.0  30.0708   10\n",
      "\n",
      "\n",
      "     age   fare    ten\n",
      "0  False  False  False\n",
      "1  False  False  False\n",
      "2  False  False  False\n",
      "3  False  False  False\n",
      "4  False  False  False\n",
      "5   True  False  False\n",
      "6  False  False  False\n",
      "7  False  False  False\n",
      "8  False  False  False\n",
      "9  False  False  False\n",
      "\n",
      "\n",
      "<class 'pandas.core.frame.DataFrame'>\n"
     ]
    }
   ],
   "source": [
    "# 데이터 프레임의 각 열에 함수 매핑하는 예제\n",
    "# -  시리즈 입력 -> 시리즈 반환 함수 적용 ===> 데이터프레임 반환\n",
    "\n",
    "# 비교를 위해 titanic 데이터셋으로부터 age와 fare 열을 선택한 데이터프레임 df를 출력해 미리 확인\n",
    "print(df.head(10))\n",
    "print('\\n')\n",
    "\n",
    "# 사용자 정의 매핑 함수\n",
    "def missing_value(series):    # 함수의 매개변수로 시리즈를 입력받음\n",
    "    return series.isnull()    # 시리즈 데이터의 null 여부를 True 또는 False로 변환해 시리즈로 반환\n",
    "    \n",
    "# 데이터프레임의 열들을 매개변수로 전달해 처리한 후 데이터프레임을 반환\n",
    "returned_series = df.apply(missing_value, axis=1)  \n",
    "print(returned_series.head(10))\n",
    "print('\\n')\n",
    "print(type(returned_series))"
   ]
  },
  {
   "cell_type": "code",
   "execution_count": 9,
   "metadata": {},
   "outputs": [
    {
     "name": "stdout",
     "output_type": "stream",
     "text": [
      "    age     fare  ten\n",
      "0  22.0   7.2500   10\n",
      "1  38.0  71.2833   10\n",
      "2  26.0   7.9250   10\n",
      "3  35.0  53.1000   10\n",
      "4  35.0   8.0500   10\n",
      "\n",
      "\n",
      "age      79.5800\n",
      "fare    512.3292\n",
      "ten       0.0000\n",
      "dtype: float64\n",
      "\n",
      "\n",
      "<class 'pandas.core.series.Series'>\n"
     ]
    }
   ],
   "source": [
    "# 데이터 프레임의 각 열에 함수 매핑하는 예제\n",
    "# -  시리즈 입력 -> 단일값 반환 ===> 시리즈 반환\n",
    "#    : 각 열의 이름이 시리즈의 인덱스로, 함수 반환 값이 각 인덱스에 매칭되는 데이터 값\n",
    "\n",
    "# 비교를 위해 titanic 데이터셋으로부터 age와 fare 열을 선택한 데이터프레임 df를 출력\n",
    "print(df.head())\n",
    "print('\\n')\n",
    "\n",
    "# 사용자 함수 정의\n",
    "def min_max(data):    # 최대값 - 최소값\n",
    "    return data.max() - data.min()\n",
    "    \n",
    "# 데이터프레임의 각 열을 min_max()의 매개변수로 전달해 적용 후 시리즈를 반환 받음\n",
    "result_series = df.apply(min_max)   # 행 축이 기본값 axis=0 \n",
    "print(result_series)\n",
    "print('\\n')\n",
    "print(type(result_series))"
   ]
  },
  {
   "cell_type": "code",
   "execution_count": 10,
   "metadata": {},
   "outputs": [
    {
     "name": "stdout",
     "output_type": "stream",
     "text": [
      "    age     fare  ten\n",
      "0  22.0   7.2500   10\n",
      "1  38.0  71.2833   10\n",
      "2  26.0   7.9250   10\n",
      "3  35.0  53.1000   10\n",
      "4  35.0   8.0500   10\n",
      "\n",
      "\n",
      "    age     fare  ten   add\n",
      "0  22.0   7.2500   10  32.0\n",
      "1  38.0  71.2833   10  48.0\n",
      "2  26.0   7.9250   10  36.0\n",
      "3  35.0  53.1000   10  45.0\n",
      "4  35.0   8.0500   10  45.0\n",
      "\n",
      "\n",
      "    age     fare  ten\n",
      "0  22.0   7.2500   10\n",
      "1  38.0  71.2833   10\n",
      "2  26.0   7.9250   10\n",
      "3  35.0  53.1000   10\n",
      "4  35.0   8.0500   10\n",
      "\n",
      "\n"
     ]
    }
   ],
   "source": [
    "# 데이터 프레임의 각 행에 함수 매핑하는 예제\n",
    "# - 행의 모든 데이터(함수에 넘겨진 시리즈의 각 행별 데이터)를 함수에서 처리한 후 하나의 열값으로 반환 --> 최종 결과는 새로운 시리즈 \n",
    "\n",
    "# 비교를 위해 titanic 데이터셋으로부터 age와 fare 열을 선택한 데이터프레임 df를 출력\n",
    "import copy\n",
    "new_df = copy.deepcopy(df)\n",
    "\n",
    "print(new_df.head())\n",
    "print('\\n')\n",
    "\n",
    "# 데이터프레임의 2개 열을 선택하여 적용\n",
    "# x=new_df, a=new_df['age'], b=new_df['ten']\n",
    "new_df['add'] = new_df.apply(lambda series: add_two_object(series['age'], series['ten']), axis=1)   \n",
    "print(new_df.head())\n",
    "print('\\n')\n",
    "\n",
    "# 원본 데이터 프레임이 보존되었는 지 확인\n",
    "print(df.head())\n",
    "print('\\n')"
   ]
  },
  {
   "cell_type": "markdown",
   "metadata": {},
   "source": [
    "## 데이터 프레임 객체에 함수 매핑\n",
    "\n",
    "### ㅇ pipe() 메소드\n",
    "###    - 데이터 프레임 객체를 함수에 매핑\n",
    "###    - 매핑 함수의 반환값에 따라 반환되는 객체의 종류 결정"
   ]
  },
  {
   "cell_type": "code",
   "execution_count": 11,
   "metadata": {},
   "outputs": [
    {
     "name": "stdout",
     "output_type": "stream",
     "text": [
      "<class 'pandas.core.frame.DataFrame'>\n",
      "RangeIndex: 891 entries, 0 to 890\n",
      "Data columns (total 3 columns):\n",
      " #   Column  Non-Null Count  Dtype  \n",
      "---  ------  --------------  -----  \n",
      " 0   age     714 non-null    float64\n",
      " 1   fare    891 non-null    float64\n",
      " 2   ten     891 non-null    int64  \n",
      "dtypes: float64(2), int64(1)\n",
      "memory usage: 21.0 KB\n",
      "None\n",
      "\n",
      "\n",
      "<class 'pandas.core.frame.DataFrame'>\n",
      "       age   fare    ten\n",
      "0    False  False  False\n",
      "1    False  False  False\n",
      "2    False  False  False\n",
      "3    False  False  False\n",
      "4    False  False  False\n",
      "..     ...    ...    ...\n",
      "886  False  False  False\n",
      "887  False  False  False\n",
      "888   True  False  False\n",
      "889  False  False  False\n",
      "890  False  False  False\n",
      "\n",
      "[891 rows x 3 columns]\n",
      "\n",
      "\n",
      "<class 'pandas.core.series.Series'>\n",
      "age     177\n",
      "fare      0\n",
      "ten       0\n",
      "dtype: int64\n",
      "\n",
      "\n",
      "<class 'numpy.int64'>\n",
      "177\n"
     ]
    }
   ],
   "source": [
    "# 실습에 사용할 함수들 정의\n",
    "\n",
    "# 각 열의 NaN 찾기 - 데이터프레임을 매개변수로 받아 데이터프레임을 반환하기\n",
    "def missing_value(data):    \n",
    "    return data.isnull()    \n",
    "\n",
    "# 각 열의 NaN 개수 반환 - 데이터프레임을 매개변수로 받아 시리즈를 반환하기\n",
    "def missing_count(data):    # \n",
    "    return missing_value(data).sum()\n",
    "\n",
    "# 데이터프레임의 총 NaN 개수 - 데이터프레임을 매개변수로 받아 값을 반환하기\n",
    "def totoal_number_missing(data):    \n",
    "    return missing_count(data).sum()\n",
    "\n",
    "# 데이터 프레임 정보를 출력해 결과 확인\n",
    "print(df.info())\n",
    "print('\\n')\n",
    "\n",
    "# missing_value() 함수를 pipe() 메소드에 매핑\n",
    "result_df = df.pipe(missing_value)   \n",
    "print(type(result_df))\n",
    "print(result_df)\n",
    "print('\\n')\n",
    "\n",
    "# missing_count() 함수를 pipe() 메소드에 매핑\n",
    "result_series = df.pipe(missing_count)   \n",
    "print(type(result_series))\n",
    "print(result_series)\n",
    "print('\\n')\n",
    "\n",
    "# age 시리즈에서 891- 714 = 177개의 missing number 존재\n",
    "result_value = df.pipe(totoal_number_missing)   \n",
    "print(type(result_value))\n",
    "print(result_value)"
   ]
  },
  {
   "cell_type": "markdown",
   "metadata": {},
   "source": [
    "# 열 재구성\n",
    "## - 열 순서 변경 : 데이터 프레임 내의 시리즈 순서를 변경\n",
    "## - 열 분리 :열의 데이터가 복합 정보로 구성되어 있을 때 각 정보를 분리 (예, 날짜 --> 년, 월, 일)"
   ]
  },
  {
   "cell_type": "code",
   "execution_count": 12,
   "metadata": {},
   "outputs": [
    {
     "name": "stdout",
     "output_type": "stream",
     "text": [
      "   survived  pclass     sex   age\n",
      "0         0       3    male  22.0\n",
      "1         1       1  female  38.0\n",
      "2         1       3  female  26.0\n",
      "3         1       1  female  35.0\n",
      "4         0       3    male  35.0 \n",
      "\n",
      "['survived', 'pclass', 'sex', 'age'] \n",
      "\n",
      "   survived     sex  pclass   age\n",
      "0         0    male       3  22.0\n",
      "1         1  female       1  38.0\n",
      "2         1  female       3  26.0\n",
      "3         1  female       1  35.0\n",
      "4         0    male       3  35.0 \n",
      "\n",
      "    age     sex  pclass  survived\n",
      "0  22.0    male       3         0\n",
      "1  38.0  female       1         1\n",
      "2  26.0  female       3         1\n",
      "3  35.0  female       1         1\n",
      "4  35.0    male       3         0 \n",
      "\n",
      "   pclass   age     sex  survived\n",
      "0       3  22.0    male         0\n",
      "1       1  38.0  female         1\n",
      "2       3  26.0  female         1\n",
      "3       1  35.0  female         1\n",
      "4       3  35.0    male         0\n"
     ]
    }
   ],
   "source": [
    "# 열 순서 변경\n",
    "#    Step 1 : 데이터 프레임의 열 이름을 원하는 순서대로 정리해 리스트로 만듬\n",
    "#    Step 2 : 재배열한 리스트 사용해 데이터 프레임에서 열을 다시 선택\n",
    "\n",
    "# titanic 데이터셋의 부분을 선택하여 데이터프레임 만들기\n",
    "titanic = sns.load_dataset('titanic')\n",
    "tmp_df = titanic.loc[0:4, 'survived':'age']\n",
    "print(tmp_df, '\\n')\n",
    "\n",
    "# 열 이름의 리스트 만들기\n",
    "columns = list(tmp_df.columns.values)   # 원본 열 이름\n",
    "print(columns, '\\n')\n",
    "\n",
    "# 알파벳 순으로 열 이름을 정렬\n",
    "columns_sorted = sorted(columns, reverse=True)    # 정렬 순서는 알파벳 순, reverse= True | False\n",
    "sorted_df = tmp_df[columns_sorted]\n",
    "print(sorted_df, '\\n')\n",
    "\n",
    "# 열 이름의 순서를 기존의 역순으로 정렬\n",
    "columns_reversed = list(reversed(columns))\n",
    "reversed_df = tmp_df[columns_reversed]\n",
    "print(reversed_df, '\\n')\n",
    "\n",
    "# 임의의 순서로 열 이름을 재배치\n",
    "columns_customed = ['pclass', 'age', 'sex',  'survived']  \n",
    "customed_df = tmp_df[columns_customed]\n",
    "print(customed_df)"
   ]
  },
  {
   "cell_type": "code",
   "execution_count": 13,
   "metadata": {},
   "outputs": [
    {
     "name": "stdout",
     "output_type": "stream",
     "text": [
      "연월일     datetime64[ns]\n",
      "당일종가             int64\n",
      "전일종가             int64\n",
      "시가               int64\n",
      "고가               int64\n",
      "저가               int64\n",
      "거래량              int64\n",
      "dtype: object \n",
      "\n",
      "         연월일   당일종가  전일종가     시가     고가     저가     거래량\n",
      "0 2018-07-02  10100   600  10850  10900  10000  137977\n",
      "1 2018-06-29  10700   300  10550  10900   9990  170253\n",
      "2 2018-06-28  10400   500  10900  10950  10150  155769\n",
      "3 2018-06-27  10900   100  10800  11050  10500  133548\n",
      "4 2018-06-26  10800   350  10900  11000  10700   63039\n",
      "5 2018-06-25  11150   150  11400  11450  11000   55519\n",
      "6 2018-06-22  11300   100  11250  11450  10750  134805\n",
      "7 2018-06-21  11200   350  11350  11750  11200  133002\n",
      "8 2018-06-20  11550   250  11200  11600  10900  308596\n",
      "9 2018-06-19  11300   700  11850  11950  11300  180656 \n",
      "\n",
      "0    [2018, 07, 02]\n",
      "1    [2018, 06, 29]\n",
      "2    [2018, 06, 28]\n",
      "3    [2018, 06, 27]\n",
      "4    [2018, 06, 26]\n",
      "5    [2018, 06, 25]\n",
      "6    [2018, 06, 22]\n",
      "7    [2018, 06, 21]\n",
      "8    [2018, 06, 20]\n",
      "9    [2018, 06, 19]\n",
      "Name: 연월일, dtype: object \n",
      "\n",
      "          연월일   당일종가  전일종가     시가     고가     저가     거래량     연   월   일\n",
      "0  2018-07-02  10100   600  10850  10900  10000  137977  2018  07  02\n",
      "1  2018-06-29  10700   300  10550  10900   9990  170253  2018  06  29\n",
      "2  2018-06-28  10400   500  10900  10950  10150  155769  2018  06  28\n",
      "3  2018-06-27  10900   100  10800  11050  10500  133548  2018  06  27\n",
      "4  2018-06-26  10800   350  10900  11000  10700   63039  2018  06  26\n",
      "5  2018-06-25  11150   150  11400  11450  11000   55519  2018  06  25\n",
      "6  2018-06-22  11300   100  11250  11450  10750  134805  2018  06  22\n",
      "7  2018-06-21  11200   350  11350  11750  11200  133002  2018  06  21\n",
      "8  2018-06-20  11550   250  11200  11600  10900  308596  2018  06  20\n",
      "9  2018-06-19  11300   700  11850  11950  11300  180656  2018  06  19\n"
     ]
    }
   ],
   "source": [
    "# 열 분리\n",
    "# 라이브러리 불러오기\n",
    "import pandas as pd\n",
    "\n",
    "# 데이터셋 가져오기\n",
    "df = pd.read_excel('data/주식데이터.xlsx')\n",
    "print(df.dtypes, '\\n')\n",
    "print(df.head(10), '\\n')\n",
    "\n",
    "# 복합 데이터를 개별 정보로 분리하기\n",
    "df['연월일'] = df['연월일'].astype('str')   # astype() 메소드를 사용해 데이터 타입을 문자열로 변경\n",
    "dates = df['연월일'].str.split('-')        # 변환한 문자열을 split() 메서드를 사용해 개별로 분리 -> 연, 월, 일\n",
    "print(dates.head(10), '\\n')\n",
    "\n",
    "# 분리된 연, 월, 일을 새로운 열에 각각 저장한 후 df에 추가\n",
    "df['연'] = dates.str.get(0)     # 리스트 dates의 0번째 값\n",
    "df['월'] = dates.str.get(1)     # 리스트 dates의 1번째 값\n",
    "df['일'] = dates.str.get(2)     # 리스트 dates의 2번째 값\n",
    "print(df.head(10))"
   ]
  },
  {
   "cell_type": "markdown",
   "metadata": {},
   "source": [
    "# 필터링\n",
    "## - 시리즈 또는 데이터 프레임을 대상으로 특정 조건식을 만족하는 원소만 따로 추출"
   ]
  },
  {
   "cell_type": "code",
   "execution_count": 14,
   "metadata": {},
   "outputs": [
    {
     "name": "stdout",
     "output_type": "stream",
     "text": [
      "    survived  pclass     sex   age  sibsp  parch      fare embarked   class  \\\n",
      "9          1       2  female  14.0      1      0   30.0708        C  Second   \n",
      "14         0       3  female  14.0      0      0    7.8542        S   Third   \n",
      "22         1       3  female  15.0      0      0    8.0292        Q   Third   \n",
      "27         0       1    male  19.0      3      2  263.0000        S   First   \n",
      "38         0       3  female  18.0      2      0   18.0000        S   Third   \n",
      "39         1       3  female  14.0      1      0   11.2417        C   Third   \n",
      "44         1       3  female  19.0      0      0    7.8792        Q   Third   \n",
      "49         0       3  female  18.0      1      0   17.8000        S   Third   \n",
      "59         0       3    male  11.0      5      2   46.9000        S   Third   \n",
      "67         0       3    male  19.0      0      0    8.1583        S   Third   \n",
      "\n",
      "      who  adult_male deck  embark_town alive  alone  \n",
      "9   child       False  NaN    Cherbourg   yes  False  \n",
      "14  child       False  NaN  Southampton    no   True  \n",
      "22  child       False  NaN   Queenstown   yes   True  \n",
      "27    man        True    C  Southampton    no  False  \n",
      "38  woman       False  NaN  Southampton    no  False  \n",
      "39  child       False  NaN    Cherbourg   yes  False  \n",
      "44  woman       False  NaN   Queenstown   yes   True  \n",
      "49  woman       False  NaN  Southampton    no  False  \n",
      "59  child       False  NaN  Southampton    no  False  \n",
      "67    man        True  NaN  Southampton    no   True  \n",
      "\n",
      "\n",
      "     survived  pclass     sex  age  sibsp  parch     fare embarked   class  \\\n",
      "10          1       3  female  4.0      1      1  16.7000        S   Third   \n",
      "24          0       3  female  8.0      3      1  21.0750        S   Third   \n",
      "43          1       2  female  3.0      1      2  41.5792        C  Second   \n",
      "58          1       2  female  5.0      1      2  27.7500        S  Second   \n",
      "119         0       3  female  2.0      4      2  31.2750        S   Third   \n",
      "147         0       3  female  9.0      2      2  34.3750        S   Third   \n",
      "172         1       3  female  1.0      1      1  11.1333        S   Third   \n",
      "184         1       3  female  4.0      0      2  22.0250        S   Third   \n",
      "205         0       3  female  2.0      0      1  10.4625        S   Third   \n",
      "233         1       3  female  5.0      4      2  31.3875        S   Third   \n",
      "\n",
      "       who  adult_male deck  embark_town alive  alone  \n",
      "10   child       False    G  Southampton   yes  False  \n",
      "24   child       False  NaN  Southampton    no  False  \n",
      "43   child       False  NaN    Cherbourg   yes  False  \n",
      "58   child       False  NaN  Southampton   yes  False  \n",
      "119  child       False  NaN  Southampton    no  False  \n",
      "147  child       False  NaN  Southampton    no  False  \n",
      "172  child       False  NaN  Southampton   yes  False  \n",
      "184  child       False  NaN  Southampton   yes  False  \n",
      "205  child       False    G  Southampton    no  False  \n",
      "233  child       False  NaN  Southampton   yes  False  \n",
      "\n",
      "\n",
      "     age     sex  alone\n",
      "7    2.0    male  False\n",
      "10   4.0  female  False\n",
      "16   2.0    male  False\n",
      "24   8.0  female  False\n",
      "33  66.0    male   True\n",
      "43   3.0  female  False\n",
      "50   7.0    male  False\n",
      "54  65.0    male  False\n",
      "58   5.0  female  False\n",
      "63   4.0    male  False\n"
     ]
    }
   ],
   "source": [
    "# loc(행 인덱스, 열 인덱스)) 함수 활용\n",
    "#  - 행 인덱스에 행을 선택하는 조건식 지정(불린 인덱싱) : 시리즈 객체에 조건식을 적용해 각 원소에 대해 True / False 값으로 구성된 시리즈 반환\n",
    "#  - True에 해당 하는 값만 골라낼 수 있음\n",
    "#  - loc(행 인덱스, 열 인덱스)) 함수 활용\n",
    "\n",
    "# titanic 데이터셋 로딩\n",
    "titanic = sns.load_dataset('titanic')\n",
    "\n",
    "# 승객중 10대(10~19세)만 선택\n",
    "filter_mask_1 = (titanic.age >= 10) & (titanic.age < 20)\n",
    "df_teen = titanic.loc[filter_mask_1, :]\n",
    "print(df_teen.head(10))\n",
    "print('\\n')\n",
    "\n",
    "# 여성이고 10세 미만(0~9세)인 승객 선택\n",
    "filter_mask_2 = (titanic.age < 10) & (titanic.sex == 'female')\n",
    "df_female_under10 = titanic.loc[filter_mask_2, :]\n",
    "print(df_female_under10.head(10))\n",
    "print('\\n')\n",
    "\n",
    "# age, sex, alone 열에 대해 10세 미만(0~9세)이거나 60세 이상인 경우만 선택\n",
    "filter_mask_3 = (titanic.age < 10) | (titanic.age >= 60)\n",
    "df_under10_or_morethan60 = titanic.loc[filter_mask_3, ['age', 'sex', 'alone']]\n",
    "print(df_under10_or_morethan60.head(10))"
   ]
  },
  {
   "cell_type": "code",
   "execution_count": 16,
   "metadata": {},
   "outputs": [
    {
     "name": "stdout",
     "output_type": "stream",
     "text": [
      "     survived  pclass     sex   age  sibsp  parch      fare embarked  class  \\\n",
      "7           0       3    male   2.0      3      1   21.0750        S  Third   \n",
      "24          0       3  female   8.0      3      1   21.0750        S  Third   \n",
      "27          0       1    male  19.0      3      2  263.0000        S  First   \n",
      "59          0       3    male  11.0      5      2   46.9000        S  Third   \n",
      "63          0       3    male   4.0      3      2   27.9000        S  Third   \n",
      "71          0       3  female  16.0      5      2   46.9000        S  Third   \n",
      "85          1       3  female  33.0      3      0   15.8500        S  Third   \n",
      "88          1       1  female  23.0      3      2  263.0000        S  First   \n",
      "176         0       3    male   NaN      3      1   25.4667        S  Third   \n",
      "229         0       3  female   NaN      3      1   25.4667        S  Third   \n",
      "\n",
      "       who  adult_male deck  embark_town alive  alone  \n",
      "7    child       False  NaN  Southampton    no  False  \n",
      "24   child       False  NaN  Southampton    no  False  \n",
      "27     man        True    C  Southampton    no  False  \n",
      "59   child       False  NaN  Southampton    no  False  \n",
      "63   child       False  NaN  Southampton    no  False  \n",
      "71   woman       False  NaN  Southampton    no  False  \n",
      "85   woman       False  NaN  Southampton   yes  False  \n",
      "88   woman       False    C  Southampton   yes  False  \n",
      "176    man        True  NaN  Southampton    no  False  \n",
      "229  woman       False  NaN  Southampton    no  False  \n",
      "\n",
      "\n",
      "     survived  pclass     sex   age  sibsp  parch      fare embarked  class  \\\n",
      "7           0       3    male   2.0      3      1   21.0750        S  Third   \n",
      "24          0       3  female   8.0      3      1   21.0750        S  Third   \n",
      "27          0       1    male  19.0      3      2  263.0000        S  First   \n",
      "59          0       3    male  11.0      5      2   46.9000        S  Third   \n",
      "63          0       3    male   4.0      3      2   27.9000        S  Third   \n",
      "71          0       3  female  16.0      5      2   46.9000        S  Third   \n",
      "85          1       3  female  33.0      3      0   15.8500        S  Third   \n",
      "88          1       1  female  23.0      3      2  263.0000        S  First   \n",
      "176         0       3    male   NaN      3      1   25.4667        S  Third   \n",
      "229         0       3  female   NaN      3      1   25.4667        S  Third   \n",
      "\n",
      "       who  adult_male deck  embark_town alive  alone  \n",
      "7    child       False  NaN  Southampton    no  False  \n",
      "24   child       False  NaN  Southampton    no  False  \n",
      "27     man        True    C  Southampton    no  False  \n",
      "59   child       False  NaN  Southampton    no  False  \n",
      "63   child       False  NaN  Southampton    no  False  \n",
      "71   woman       False  NaN  Southampton    no  False  \n",
      "85   woman       False  NaN  Southampton   yes  False  \n",
      "88   woman       False    C  Southampton   yes  False  \n",
      "176    man        True  NaN  Southampton    no  False  \n",
      "229  woman       False  NaN  Southampton    no  False  \n"
     ]
    }
   ],
   "source": [
    "# isin() 메소드 활용\n",
    "#  - 데이터프레임의 열을 대상으로 특정 값을 가진 행들만 추출\n",
    "#  - 필터 생성 -> 데이터 프레임에 적용\n",
    "\n",
    "# 라이브러리 불러오기\n",
    "import seaborn as sns\n",
    "import pandas as pd\n",
    "\n",
    "# titanic 데이터셋 로딩\n",
    "titanic = sns.load_dataset('titanic')\n",
    "\n",
    "# IPyhton 디스플레이 설정 변경 - 출력할 최대 열의 개수\n",
    "#pd.set_option('print.max_columns', 10)  \n",
    "    \n",
    "# 불린 인덱싱 : 동승한 형제 또는 배우자가 3 또는 5명인 승객 골라내기 \n",
    "filter_mask_3 = titanic['sibsp'] == 3\n",
    "filter_mask_5 = titanic['sibsp'] == 5\n",
    "df_boolean = titanic[filter_mask_3 | filter_mask_5]\n",
    "print(df_boolean.head(10))\n",
    "print('\\n')\n",
    "\n",
    "# 위의 불린 인덱싱과 동일한 조건으로 추출 : isin() 메서드 활용\n",
    "isin_filtering = titanic['sibsp'].isin([3, 5])\n",
    "df_isin = titanic[isin_filtering]\n",
    "print(df_isin.head(10))"
   ]
  },
  {
   "cell_type": "markdown",
   "metadata": {},
   "source": [
    "# 데이터 프레임 합치기\n",
    "## - 데이터가 여러 개의 데이터 프레임으로 나누어져 있어 이를 하나로 만들 때\n",
    "## ㅇ 데이터 프레임 연결 : concat()\n",
    "## ㅇ 데이터 프레임 병합 : merge()\n",
    "## ㅇ 데이터 프레임 결합 : join()"
   ]
  },
  {
   "cell_type": "code",
   "execution_count": null,
   "metadata": {},
   "outputs": [
    {
     "name": "stdout",
     "output_type": "stream",
     "text": [
      "    aa   bb   cc\n",
      "0  aa0  bb0  cc0\n",
      "1  aa1  bb1  cc1\n",
      "2  aa2  bb2  cc2\n",
      "3  aa3  bb3  cc3\n",
      "    aa   bb   cc   dd\n",
      "2  aa2  bb2  cc2  dd2\n",
      "3  aa3  bb3  cc3  dd3\n",
      "4  aa4  bb4  cc4  dd4\n",
      "5  aa5  bb5  cc5  dd5\n"
     ]
    }
   ],
   "source": [
    "# 데이터 프레임 연결 \n",
    "# - concat(데이터 프레임 리스트) 사용\n",
    "# - 기본 축방향 axis=0 : 위아래 연결, 각 행 인덱스 본래 형태 유지\n",
    "# - 열 이름에 대한 기본 옵션 : join='outer', 열 이름의 합집합, 비교차 데이터 항목은 NaN\n",
    "\n",
    "# 데이터 준비\n",
    "import pandas as pd\n",
    "\n",
    "# 딕셔너리로부터 데이터프레임 생성\n",
    "dataframe_1 = pd.DataFrame({'aa': ['aa0', 'aa1', 'aa2', 'aa3'],\n",
    "                    'bb': ['bb0', 'bb1', 'bb2', 'bb3'],\n",
    "                    'cc': ['cc0', 'cc1', 'cc2', 'cc3']},\n",
    "                    index=[0, 1, 2, 3])\n",
    " \n",
    "dataframe_2 = pd.DataFrame({'aa': ['aa2', 'aa3', 'aa4', 'aa5'],\n",
    "                    'bb': ['bb2', 'bb3', 'bb4', 'bb5'],\n",
    "                    'cc': ['cc2', 'cc3', 'cc4', 'cc5'],\n",
    "                    'dd': ['dd2', 'dd3', 'dd4', 'dd5']},\n",
    "                    index=[2, 3, 4, 5])\n",
    "\n",
    "print(dataframe_1)\n",
    "print(dataframe_2)"
   ]
  },
  {
   "cell_type": "code",
   "execution_count": null,
   "metadata": {},
   "outputs": [
    {
     "name": "stdout",
     "output_type": "stream",
     "text": [
      "    aa   bb   cc   dd\n",
      "0  aa0  bb0  cc0  NaN\n",
      "1  aa1  bb1  cc1  NaN\n",
      "2  aa2  bb2  cc2  NaN\n",
      "3  aa3  bb3  cc3  NaN\n",
      "2  aa2  bb2  cc2  dd2\n",
      "3  aa3  bb3  cc3  dd3\n",
      "4  aa4  bb4  cc4  dd4\n",
      "5  aa5  bb5  cc5  dd5\n"
     ]
    }
   ],
   "source": [
    "# 두 데이터 프레임을 행 방향(위, 아래)으로 이어 붙여 연결\n",
    "r1 = pd.concat([dataframe_1, dataframe_2])\n",
    "print(r1)"
   ]
  },
  {
   "cell_type": "code",
   "execution_count": null,
   "metadata": {},
   "outputs": [
    {
     "name": "stdout",
     "output_type": "stream",
     "text": [
      "    aa   bb   cc   dd\n",
      "0  aa0  bb0  cc0  NaN\n",
      "1  aa1  bb1  cc1  NaN\n",
      "2  aa2  bb2  cc2  NaN\n",
      "3  aa3  bb3  cc3  NaN\n",
      "4  aa2  bb2  cc2  dd2\n",
      "5  aa3  bb3  cc3  dd3\n",
      "6  aa4  bb4  cc4  dd4\n",
      "7  aa5  bb5  cc5  dd5\n"
     ]
    }
   ],
   "source": [
    "# ignore_index=True 옵션 설정하기 : 원본 데이터 프레임들의 행 인덱스 무시하고 다시 설정\n",
    "r2 = pd.concat([dataframe_1, dataframe_2], ignore_index=True)\n",
    "print(r2)"
   ]
  },
  {
   "cell_type": "code",
   "execution_count": null,
   "metadata": {},
   "outputs": [
    {
     "name": "stdout",
     "output_type": "stream",
     "text": [
      "    aa   bb   cc   aa   bb   cc   dd\n",
      "0  aa0  bb0  cc0  NaN  NaN  NaN  NaN\n",
      "1  aa1  bb1  cc1  NaN  NaN  NaN  NaN\n",
      "2  aa2  bb2  cc2  aa2  bb2  cc2  dd2\n",
      "3  aa3  bb3  cc3  aa3  bb3  cc3  dd3\n",
      "4  NaN  NaN  NaN  aa4  bb4  cc4  dd4\n",
      "5  NaN  NaN  NaN  aa5  bb5  cc5  dd5\n"
     ]
    }
   ],
   "source": [
    "# 두 데이터 프레임을 열 방향(좌, 우)으로 이어 붙여 연결 \n",
    "r3 = pd.concat([dataframe_1, dataframe_2], axis=1) # 기본 옵션 join='outer'\n",
    "print(r3)"
   ]
  },
  {
   "cell_type": "code",
   "execution_count": null,
   "metadata": {},
   "outputs": [
    {
     "name": "stdout",
     "output_type": "stream",
     "text": [
      "    aa   bb   cc   aa   bb   cc   dd\n",
      "2  aa2  bb2  cc2  aa2  bb2  cc2  dd2\n",
      "3  aa3  bb3  cc3  aa3  bb3  cc3  dd3\n"
     ]
    }
   ],
   "source": [
    "# join='inner' 옵션 적용하기(교집합) : 공통되는 열의 값들이 일치하는 열들에 대해서만 연결\n",
    "r3_in = pd.concat([dataframe_1, dataframe_2], axis=1, join='inner')\n",
    "print(r3_in)"
   ]
  },
  {
   "cell_type": "code",
   "execution_count": null,
   "metadata": {},
   "outputs": [
    {
     "name": "stdout",
     "output_type": "stream",
     "text": [
      "데이터 프레임\n",
      "     aa   bb   cc\n",
      "0  aa0  bb0  cc0\n",
      "1  aa1  bb1  cc1\n",
      "2  aa2  bb2  cc2\n",
      "3  aa3  bb3  cc3\n",
      "시리즈\n",
      " 0    ee0\n",
      "1    ee1\n",
      "2    ee2\n",
      "3    ee3\n",
      "Name: ee, dtype: object\n",
      "결과\n",
      "     aa   bb   cc   ee\n",
      "0  aa0  bb0  cc0  ee0\n",
      "1  aa1  bb1  cc1  ee1\n",
      "2  aa2  bb2  cc2  ee2\n",
      "3  aa3  bb3  cc3  ee3\n"
     ]
    }
   ],
   "source": [
    "# 데이터 프레임과 시리즈를 연결 : dataframe_1과 series_1을 좌우 열 방향으로 연결하기\n",
    "\n",
    "# 시리즈 만들기\n",
    "series_1 = pd.Series(['ee0', 'ee1', 'ee2', 'ee3'], name='ee')\n",
    "\n",
    "r4 = pd.concat([dataframe_1, series_1], axis=1)\n",
    "print('데이터 프레임\\n', dataframe_1)\n",
    "print('시리즈\\n', series_1)\n",
    "print('결과\\n', r4)"
   ]
  },
  {
   "cell_type": "code",
   "execution_count": null,
   "metadata": {},
   "outputs": [
    {
     "name": "stdout",
     "output_type": "stream",
     "text": [
      "데이터 프레임\n",
      "     aa   bb   cc   dd\n",
      "2  aa2  bb2  cc2  dd2\n",
      "3  aa3  bb3  cc3  dd3\n",
      "4  aa4  bb4  cc4  dd4\n",
      "5  aa5  bb5  cc5  dd5\n",
      "시리즈\n",
      " 3    ff0\n",
      "5    ff1\n",
      "Name: ff, dtype: object\n",
      "결과\n",
      "     aa   bb   cc   dd   ff\n",
      "2  aa2  bb2  cc2  dd2  NaN\n",
      "3  aa3  bb3  cc3  dd3  ff0\n",
      "4  aa4  bb4  cc4  dd4  NaN\n",
      "5  aa5  bb5  cc5  dd5  ff1\n"
     ]
    }
   ],
   "source": [
    "# 데이터 프레임과 시리즈를 연결 : dataframe_2과 series_2을 좌우 열 방향으로 연결하기\n",
    "\n",
    "# 시리즈 만들기\n",
    "series_2 = pd.Series(['ff0', 'ff1'], name='ff', index=[3, 5])\n",
    "\n",
    "r5 = pd.concat([dataframe_2, series_2], axis=1, sort=True)\n",
    "print('데이터 프레임\\n', dataframe_2)\n",
    "print('시리즈\\n', series_2)\n",
    "\n",
    "# ff열의 데이터 내용을 확인해 볼 것!\n",
    "print('결과\\n', r5)"
   ]
  },
  {
   "cell_type": "code",
   "execution_count": null,
   "metadata": {},
   "outputs": [],
   "source": [
    "# 시리즈와 시리즈를 연결 : series_1과 series_3을 좌우 열 방향으로 연결하기\n",
    "\n",
    "# 시리즈 만들기\n",
    "series_1 = pd.Series(['ee0', 'ee1', 'ee2', 'ee3'], name='ee')\n",
    "series_3 = pd.Series(['gg0', 'gg1', 'gg2', 'gg3'], name='gg')\n",
    "print(series_1, series_3)\n",
    "\n",
    "r6 = pd.concat([series_1, series_3], axis=1)\n",
    "print(r6)\n",
    "\n",
    "r7 = pd.concat([series_1, series_3], axis=0) # ignore_index=True 추가해 결과 비교해 보기\n",
    "print(r7)"
   ]
  },
  {
   "cell_type": "code",
   "execution_count": null,
   "metadata": {},
   "outputs": [],
   "source": [
    "# 데이터 프레임 병합 \n",
    "# - merge(dataframe_left, dataframe_right, on=None, how='inner') 사용\n",
    "# - 특정 기준(key)에 따라 두 데이터 프레임을 병합\n",
    "# - 키로 사용하는 인덱스 또는 열은 반드시 양쪽 데이터 프레임에 존재해야 함\n",
    "# - 데이터베이스의 테이블 조인(join)과 유사\n",
    "\n",
    "import pandas as pd\n",
    "\n",
    "# IPyhton 디스플레이 설정 변경 \n",
    "pd.set_option('print.max_columns', 10)                  # 출력할 최대 열의 개수\n",
    "pd.set_option('print.max_colwidth', 20)                 # 출력할 열의 너비\n",
    "pd.set_option('print.unicode.east_asian_width', True)   # 출력할 글자를 유니코드의 너비로 설정\n",
    "\n",
    "# 주식가격과 주식평가자료를 로드해 데이터프레임 만들기\n",
    "dataframe_1 = pd.read_excel('data/주식가격.xlsx')\n",
    "dataframe_2 = pd.read_excel('data/주식평가자료.xlsx')\n",
    "\n",
    "print(dataframe_1)\n",
    "print(dataframe_2)"
   ]
  },
  {
   "cell_type": "code",
   "execution_count": null,
   "metadata": {},
   "outputs": [],
   "source": [
    "# 교집합으로 데이터프레임 합치기\n",
    "merge_inner = pd.merge(dataframe_1, dataframe_2)\n",
    "print(merge_inner)"
   ]
  },
  {
   "cell_type": "code",
   "execution_count": null,
   "metadata": {},
   "outputs": [],
   "source": [
    "# 합집합으로 데이터프레임 합치기\n",
    "merge_outer = pd.merge(dataframe_1, dataframe_2, how='outer', on='id')\n",
    "print(merge_outer)"
   ]
  },
  {
   "cell_type": "code",
   "execution_count": null,
   "metadata": {},
   "outputs": [],
   "source": [
    "# 왼쪽 데이터프레임을 기준으로 키 값을 분리해 데이터프레임 합치기\n",
    "merge_left = pd.merge(dataframe_1, dataframe_2, how='left', right_on='name', left_on='stock_name')\n",
    "print(merge_left)"
   ]
  },
  {
   "cell_type": "code",
   "execution_count": null,
   "metadata": {},
   "outputs": [],
   "source": [
    "# 오른쪽 데이터프레임을 기준으로 키 값을 분리해 데이터프레임 합치기\n",
    "merge_right = pd.merge(dataframe_1, dataframe_2, how='right', right_on='name', left_on='stock_name')\n",
    "print(merge_right)"
   ]
  },
  {
   "cell_type": "code",
   "execution_count": null,
   "metadata": {},
   "outputs": [],
   "source": [
    "# 원하는 데이터를 찾기 위해 불린 인덱싱과 결합 \n",
    "price = dataframe_1[dataframe_1['price'] < 50000]\n",
    "print(price.head(10))\n",
    "\n",
    "value = pd.merge(price, dataframe_2)\n",
    "print(value)"
   ]
  },
  {
   "cell_type": "code",
   "execution_count": null,
   "metadata": {},
   "outputs": [],
   "source": [
    "# 데이터 프레임 결합 \n",
    "# - join(DataFrame2, how='left') 사용\n",
    "# - mergy()함수를 기반으로 만들어졌음, 기본 동작 방식 유사\n",
    "# - 행인덱스를 기준으로 결합\n",
    "# - 행인덱스 대신 다른 열을 기준으로 결합 가능 on='keys'\n",
    "\n",
    "# 주식가격과 주식평가자료를 로드해 데이터프레임 만들기\n",
    "dataframe_1 = pd.read_excel('data/주식가격.xlsx', index_col='id')\n",
    "dataframe_2 = pd.read_excel('data/주식평가자료.xlsx', index_col='id')\n",
    "\n",
    "# join() 메서드로 데이터프레임 결합\n",
    "dataframe_3 = dataframe_1.join(dataframe_2)\n",
    "print(dataframe_3)"
   ]
  },
  {
   "cell_type": "code",
   "execution_count": null,
   "metadata": {},
   "outputs": [],
   "source": [
    "# join() 메서드로 교집합 구하기\n",
    "dataframe_4 = dataframe_1.join(dataframe_2, how='inner')\n",
    "print(dataframe_4)"
   ]
  }
 ],
 "metadata": {
  "interpreter": {
   "hash": "0f7af77260ac8b5439dde40be20e84ac87264a6b810a171625820712e3538eaf"
  },
  "kernelspec": {
   "display_name": "Python 3.8.3 64-bit",
   "name": "python3"
  },
  "language_info": {
   "codemirror_mode": {
    "name": "ipython",
    "version": 3
   },
   "file_extension": ".py",
   "mimetype": "text/x-python",
   "name": "python",
   "nbconvert_exporter": "python",
   "pygments_lexer": "ipython3",
   "version": "3.8.2"
  },
  "metadata": {
   "interpreter": {
    "hash": "0f7af77260ac8b5439dde40be20e84ac87264a6b810a171625820712e3538eaf"
   }
  },
  "orig_nbformat": 2
 },
 "nbformat": 4,
 "nbformat_minor": 2
}
