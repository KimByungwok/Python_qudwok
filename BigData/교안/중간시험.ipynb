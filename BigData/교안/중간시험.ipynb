{
 "cells": [
  {
   "cell_type": "code",
   "execution_count": 1,
   "metadata": {},
   "outputs": [],
   "source": [
    "# 문제 1\n",
    "data = { '학번':['2183101','2174125'],\n",
    "         '이름':['홍길동','김경민'],\n",
    "         'mid':[90,85],\n",
    "         'final':[90,97]\n",
    "       }"
   ]
  },
  {
   "cell_type": "code",
   "execution_count": 13,
   "metadata": {},
   "outputs": [
    {
     "data": {
      "text/html": [
       "<div>\n",
       "<style scoped>\n",
       "    .dataframe tbody tr th:only-of-type {\n",
       "        vertical-align: middle;\n",
       "    }\n",
       "\n",
       "    .dataframe tbody tr th {\n",
       "        vertical-align: top;\n",
       "    }\n",
       "\n",
       "    .dataframe thead th {\n",
       "        text-align: right;\n",
       "    }\n",
       "</style>\n",
       "<table border=\"1\" class=\"dataframe\">\n",
       "  <thead>\n",
       "    <tr style=\"text-align: right;\">\n",
       "      <th></th>\n",
       "      <th>학번</th>\n",
       "      <th>이름</th>\n",
       "      <th>mid</th>\n",
       "      <th>final</th>\n",
       "    </tr>\n",
       "  </thead>\n",
       "  <tbody>\n",
       "    <tr>\n",
       "      <th>0</th>\n",
       "      <td>2183101</td>\n",
       "      <td>홍길동</td>\n",
       "      <td>90</td>\n",
       "      <td>90</td>\n",
       "    </tr>\n",
       "    <tr>\n",
       "      <th>1</th>\n",
       "      <td>2174125</td>\n",
       "      <td>김경민</td>\n",
       "      <td>85</td>\n",
       "      <td>97</td>\n",
       "    </tr>\n",
       "  </tbody>\n",
       "</table>\n",
       "</div>"
      ],
      "text/plain": [
       "        학번   이름  mid  final\n",
       "0  2183101  홍길동   90     90\n",
       "1  2174125  김경민   85     97"
      ]
     },
     "execution_count": 13,
     "metadata": {},
     "output_type": "execute_result"
    }
   ],
   "source": [
    "# 문제 2\n",
    "import pandas as pd\n",
    "\n",
    "df1 = pd.DataFrame(data)\n",
    "df1"
   ]
  },
  {
   "cell_type": "code",
   "execution_count": 14,
   "metadata": {},
   "outputs": [
    {
     "data": {
      "text/html": [
       "<div>\n",
       "<style scoped>\n",
       "    .dataframe tbody tr th:only-of-type {\n",
       "        vertical-align: middle;\n",
       "    }\n",
       "\n",
       "    .dataframe tbody tr th {\n",
       "        vertical-align: top;\n",
       "    }\n",
       "\n",
       "    .dataframe thead th {\n",
       "        text-align: right;\n",
       "    }\n",
       "</style>\n",
       "<table border=\"1\" class=\"dataframe\">\n",
       "  <thead>\n",
       "    <tr style=\"text-align: right;\">\n",
       "      <th></th>\n",
       "      <th>학번</th>\n",
       "      <th>mid</th>\n",
       "      <th>final</th>\n",
       "    </tr>\n",
       "    <tr>\n",
       "      <th>이름</th>\n",
       "      <th></th>\n",
       "      <th></th>\n",
       "      <th></th>\n",
       "    </tr>\n",
       "  </thead>\n",
       "  <tbody>\n",
       "    <tr>\n",
       "      <th>홍길동</th>\n",
       "      <td>2183101</td>\n",
       "      <td>90</td>\n",
       "      <td>90</td>\n",
       "    </tr>\n",
       "    <tr>\n",
       "      <th>김경민</th>\n",
       "      <td>2174125</td>\n",
       "      <td>85</td>\n",
       "      <td>97</td>\n",
       "    </tr>\n",
       "  </tbody>\n",
       "</table>\n",
       "</div>"
      ],
      "text/plain": [
       "          학번  mid  final\n",
       "이름                      \n",
       "홍길동  2183101   90     90\n",
       "김경민  2174125   85     97"
      ]
     },
     "execution_count": 14,
     "metadata": {},
     "output_type": "execute_result"
    }
   ],
   "source": [
    "# 문제 3\n",
    "df1.set_index(['이름'], inplace=True)\n",
    "df1"
   ]
  },
  {
   "cell_type": "code",
   "execution_count": 4,
   "metadata": {},
   "outputs": [
    {
     "name": "stdout",
     "output_type": "stream",
     "text": [
      "          학번  중간  기말\n",
      "이름                  \n",
      "홍길동  2183101  90  90\n",
      "김경민  2174125  85  97\n"
     ]
    }
   ],
   "source": [
    "# 문제 4\n",
    "df1.columns = ['학번', '중간', '기말']\n",
    "print(df1)"
   ]
  },
  {
   "cell_type": "code",
   "execution_count": 5,
   "metadata": {},
   "outputs": [
    {
     "name": "stdout",
     "output_type": "stream",
     "text": [
      "    이름        학번    중간   기말  출석\n",
      "0  이영희  18831056  80.0   93  20\n",
      "1  조성택  18831057  90.0   95  20\n",
      "2  장영철  18831058   NaN  100  18\n",
      "3  박남일  18831059  85.0   96  20\n",
      "4  유상현  18831060  95.0   89  20\n",
      "5  조성택  18831057  90.0   95  20\n"
     ]
    }
   ],
   "source": [
    "# 문제 5\n",
    "df2 = pd.read_excel('./score.xlsx', header=None)\n",
    "df2.columns = ['이름', '학번', '중간', '기말', '출석']\n",
    "print(df2)"
   ]
  },
  {
   "cell_type": "code",
   "execution_count": 6,
   "metadata": {},
   "outputs": [
    {
     "name": "stdout",
     "output_type": "stream",
     "text": [
      "           학번    중간   기말  출석\n",
      "이름                          \n",
      "이영희  18831056  80.0   93  20\n",
      "조성택  18831057  90.0   95  20\n",
      "장영철  18831058   NaN  100  18\n",
      "박남일  18831059  85.0   96  20\n",
      "유상현  18831060  95.0   89  20\n"
     ]
    }
   ],
   "source": [
    "# 문제 6\n",
    "df2.drop_duplicates(subset=['이름'], inplace=True)\n",
    "df2.set_index(['이름'], inplace=True)\n",
    "print(df2)\n"
   ]
  },
  {
   "cell_type": "code",
   "execution_count": 7,
   "metadata": {},
   "outputs": [
    {
     "name": "stdout",
     "output_type": "stream",
     "text": [
      "<class 'pandas.core.frame.DataFrame'>\n",
      "Index: 5 entries, 이영희 to 유상현\n",
      "Data columns (total 4 columns):\n",
      " #   Column  Non-Null Count  Dtype  \n",
      "---  ------  --------------  -----  \n",
      " 0   학번      5 non-null      object \n",
      " 1   중간      4 non-null      float64\n",
      " 2   기말      5 non-null      float64\n",
      " 3   출석      5 non-null      int64  \n",
      "dtypes: float64(2), int64(1), object(1)\n",
      "memory usage: 200.0+ bytes\n",
      "None\n"
     ]
    }
   ],
   "source": [
    "# 문제 7\n",
    "df2['학번'] = df2['학번'].astype('str')\n",
    "df2['기말'] = df2['기말'].astype('float')\n",
    "print(df2.info())"
   ]
  },
  {
   "cell_type": "code",
   "execution_count": 8,
   "metadata": {},
   "outputs": [
    {
     "name": "stdout",
     "output_type": "stream",
     "text": [
      "           학번    중간     기말\n",
      "이름                        \n",
      "이영희  18831056  80.0   93.0\n",
      "조성택  18831057  90.0   95.0\n",
      "장영철  18831058   NaN  100.0\n",
      "박남일  18831059  85.0   96.0\n",
      "유상현  18831060  95.0   89.0\n"
     ]
    }
   ],
   "source": [
    "# 문제 8\n",
    "df2.drop(['출석'], axis=1, inplace=True)\n",
    "print(df2)"
   ]
  },
  {
   "cell_type": "code",
   "execution_count": 9,
   "metadata": {},
   "outputs": [
    {
     "name": "stdout",
     "output_type": "stream",
     "text": [
      "           학번    중간     기말\n",
      "이름                        \n",
      "홍길동   2183101  90.0   90.0\n",
      "김경민   2174125  85.0   97.0\n",
      "이영희  18831056  80.0   93.0\n",
      "조성택  18831057  90.0   95.0\n",
      "장영철  18831058   NaN  100.0\n",
      "박남일  18831059  85.0   96.0\n",
      "유상현  18831060  95.0   89.0\n"
     ]
    }
   ],
   "source": [
    "# 문제 9\n",
    "df = pd.concat([df1,df2])\n",
    "print(df)"
   ]
  },
  {
   "cell_type": "code",
   "execution_count": 10,
   "metadata": {},
   "outputs": [
    {
     "name": "stdout",
     "output_type": "stream",
     "text": [
      "           학번    중간     기말\n",
      "이름                        \n",
      "홍길동   2183101  90.0   90.0\n",
      "김경민   2174125  85.0   97.0\n",
      "이영희  18831056  80.0   93.0\n",
      "조성택  18831057  90.0   95.0\n",
      "장영철  18831058  70.0  100.0\n",
      "박남일  18831059  85.0   96.0\n",
      "유상현  18831060  95.0   89.0\n"
     ]
    }
   ],
   "source": [
    "# 문제 10\n",
    "df['중간'].fillna(df['기말']*0.7, inplace=True)\n",
    "print(df)"
   ]
  },
  {
   "cell_type": "code",
   "execution_count": 11,
   "metadata": {},
   "outputs": [
    {
     "name": "stdout",
     "output_type": "stream",
     "text": [
      "           학번    중간     기말     성적\n",
      "이름                               \n",
      "홍길동   2183101  90.0   90.0  180.0\n",
      "김경민   2174125  85.0   97.0  182.0\n",
      "이영희  18831056  80.0   93.0  173.0\n",
      "조성택  18831057  90.0   95.0  185.0\n",
      "장영철  18831058  70.0  100.0  170.0\n",
      "박남일  18831059  85.0   96.0  181.0\n",
      "유상현  18831060  95.0   89.0  184.0\n"
     ]
    }
   ],
   "source": [
    "# 문제 11\n",
    "df['성적'] = df['중간']+df['기말']\n",
    "print(df)"
   ]
  },
  {
   "cell_type": "code",
   "execution_count": 15,
   "metadata": {},
   "outputs": [
    {
     "data": {
      "text/html": [
       "<div>\n",
       "<style scoped>\n",
       "    .dataframe tbody tr th:only-of-type {\n",
       "        vertical-align: middle;\n",
       "    }\n",
       "\n",
       "    .dataframe tbody tr th {\n",
       "        vertical-align: top;\n",
       "    }\n",
       "\n",
       "    .dataframe thead th {\n",
       "        text-align: right;\n",
       "    }\n",
       "</style>\n",
       "<table border=\"1\" class=\"dataframe\">\n",
       "  <thead>\n",
       "    <tr style=\"text-align: right;\">\n",
       "      <th></th>\n",
       "      <th>학번</th>\n",
       "      <th>중간</th>\n",
       "      <th>기말</th>\n",
       "      <th>성적</th>\n",
       "      <th>학점</th>\n",
       "    </tr>\n",
       "    <tr>\n",
       "      <th>이름</th>\n",
       "      <th></th>\n",
       "      <th></th>\n",
       "      <th></th>\n",
       "      <th></th>\n",
       "      <th></th>\n",
       "    </tr>\n",
       "  </thead>\n",
       "  <tbody>\n",
       "    <tr>\n",
       "      <th>홍길동</th>\n",
       "      <td>2183101</td>\n",
       "      <td>90.0</td>\n",
       "      <td>90.0</td>\n",
       "      <td>180.0</td>\n",
       "      <td>90.0</td>\n",
       "    </tr>\n",
       "    <tr>\n",
       "      <th>김경민</th>\n",
       "      <td>2174125</td>\n",
       "      <td>85.0</td>\n",
       "      <td>97.0</td>\n",
       "      <td>182.0</td>\n",
       "      <td>91.0</td>\n",
       "    </tr>\n",
       "    <tr>\n",
       "      <th>이영희</th>\n",
       "      <td>18831056</td>\n",
       "      <td>80.0</td>\n",
       "      <td>93.0</td>\n",
       "      <td>173.0</td>\n",
       "      <td>86.5</td>\n",
       "    </tr>\n",
       "    <tr>\n",
       "      <th>조성택</th>\n",
       "      <td>18831057</td>\n",
       "      <td>90.0</td>\n",
       "      <td>95.0</td>\n",
       "      <td>185.0</td>\n",
       "      <td>92.5</td>\n",
       "    </tr>\n",
       "    <tr>\n",
       "      <th>장영철</th>\n",
       "      <td>18831058</td>\n",
       "      <td>70.0</td>\n",
       "      <td>100.0</td>\n",
       "      <td>170.0</td>\n",
       "      <td>85.0</td>\n",
       "    </tr>\n",
       "    <tr>\n",
       "      <th>박남일</th>\n",
       "      <td>18831059</td>\n",
       "      <td>85.0</td>\n",
       "      <td>96.0</td>\n",
       "      <td>181.0</td>\n",
       "      <td>90.5</td>\n",
       "    </tr>\n",
       "    <tr>\n",
       "      <th>유상현</th>\n",
       "      <td>18831060</td>\n",
       "      <td>95.0</td>\n",
       "      <td>89.0</td>\n",
       "      <td>184.0</td>\n",
       "      <td>92.0</td>\n",
       "    </tr>\n",
       "  </tbody>\n",
       "</table>\n",
       "</div>"
      ],
      "text/plain": [
       "           학번    중간     기말     성적    학점\n",
       "이름                                     \n",
       "홍길동   2183101  90.0   90.0  180.0  90.0\n",
       "김경민   2174125  85.0   97.0  182.0  91.0\n",
       "이영희  18831056  80.0   93.0  173.0  86.5\n",
       "조성택  18831057  90.0   95.0  185.0  92.5\n",
       "장영철  18831058  70.0  100.0  170.0  85.0\n",
       "박남일  18831059  85.0   96.0  181.0  90.5\n",
       "유상현  18831060  95.0   89.0  184.0  92.0"
      ]
     },
     "execution_count": 15,
     "metadata": {},
     "output_type": "execute_result"
    }
   ],
   "source": [
    "# 문제 12\n",
    "def get_avg(grade):\n",
    "    return grade / 2.0\n",
    "\n",
    "df['학점'] = df['성적'].apply(get_avg)\n",
    "print(df)"
   ]
  }
 ],
 "metadata": {
  "interpreter": {
   "hash": "0f7af77260ac8b5439dde40be20e84ac87264a6b810a171625820712e3538eaf"
  },
  "kernelspec": {
   "display_name": "Python 3.8.3 64-bit",
   "language": "python",
   "name": "python3"
  },
  "language_info": {
   "codemirror_mode": {
    "name": "ipython",
    "version": 3
   },
   "file_extension": ".py",
   "mimetype": "text/x-python",
   "name": "python",
   "nbconvert_exporter": "python",
   "pygments_lexer": "ipython3",
   "version": "3.8.3"
  },
  "orig_nbformat": 4
 },
 "nbformat": 4,
 "nbformat_minor": 2
}
