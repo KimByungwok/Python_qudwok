{
 "cells": [
  {
   "cell_type": "markdown",
   "metadata": {},
   "source": [
    "#빅데이터분석\n",
    "##빅데이터 분석\n",
    "\n",
    "'''python code 블럭 주석'''"
   ]
  },
  {
   "cell_type": "code",
   "execution_count": 2,
   "metadata": {},
   "outputs": [
    {
     "name": "stdout",
     "output_type": "stream",
     "text": [
      "['101.5' '202' '303' '404' '505']\n",
      "<class 'numpy.ndarray'>\n",
      "<U11\n"
     ]
    }
   ],
   "source": [
    "# numpy를 사용하기 위해 lib 추가\n",
    "# 프로그램에서는 np로 별칭을 사용한다고 선언\n",
    "\n",
    "import numpy as np\n",
    "\n",
    "np_arr = np.array(['101.5',202,303,404,505])\n",
    "print(np_arr)\n",
    "print(type(np_arr))\n",
    "print(np_arr.dtype)\n"
   ]
  },
  {
   "cell_type": "markdown",
   "metadata": {},
   "source": [
    "#배열의 차원"
   ]
  },
  {
   "cell_type": "code",
   "execution_count": 4,
   "metadata": {},
   "outputs": [
    {
     "name": "stdout",
     "output_type": "stream",
     "text": [
      "129 \n",
      "\n",
      "[101 202 303 404 505] \n",
      "\n",
      "[[101 202 303]\n",
      " [404 505 606]]\n",
      "\n",
      "[[[101 202 303]\n",
      "  [404 505 606]\n",
      "  [101 202 303]\n",
      "  [404 505 606]]]\n",
      "\n"
     ]
    }
   ],
   "source": [
    "#0-D array\n",
    "np_arr = np.array(129)\n",
    "print(np_arr,'\\n')\n",
    "\n",
    "#1-D array\n",
    "np_arr = np.array([101,202,303,404,505])\n",
    "print(np_arr,'\\n')\n",
    "\n",
    "#2-D array\n",
    "#1-D array들을 원소로 가지는 array\n",
    "#2nd order tensor 라고 함\n",
    "np_arr = np.array([[101,202,303],[404,505,606]])\n",
    "print(np_arr)\n",
    "print()\n",
    "\n",
    "#3-D array\n",
    "np_arr = np.array([[[101,202,303],[404,505,606],[101,202,303],[404,505,606]]])\n",
    "print(np_arr)\n",
    "print()"
   ]
  },
  {
   "cell_type": "markdown",
   "metadata": {},
   "source": [
    "#배열의 차원 검사"
   ]
  },
  {
   "cell_type": "code",
   "execution_count": 7,
   "metadata": {},
   "outputs": [
    {
     "name": "stdout",
     "output_type": "stream",
     "text": [
      "0\n",
      "\n",
      "1\n",
      "\n",
      "2\n",
      "\n",
      "3\n",
      "\n"
     ]
    }
   ],
   "source": [
    "#배열의 차원이 몇 차원인지 알아보는 코드\n",
    "# 배열 구성할 때 [] 의 내포 관계를 잘 살펴보면 차원을 알 수 있음\n",
    "\n",
    "dim_0 = np.array(129)\n",
    "dim_1 = np.array([170,270,370,470,570,670])\n",
    "dim_2 = np.array([[170,270,370],[470,570,670]])\n",
    "dim_3 = np.array([[[170,270,370],[44,55,66],[110,220,330],[404,505,606]]])\n",
    "\n",
    "\n",
    "# ~ . ndim 은 ~이 몇 차원인지 알려줌\n",
    "print(dim_0.ndim)\n",
    "print()\n",
    "print(dim_1.ndim)\n",
    "print()\n",
    "print(dim_2.ndim)\n",
    "print()\n",
    "print(dim_3.ndim)\n",
    "print()\n"
   ]
  },
  {
   "cell_type": "markdown",
   "metadata": {},
   "source": [
    "#고차원 배열 생성"
   ]
  },
  {
   "cell_type": "code",
   "execution_count": 8,
   "metadata": {},
   "outputs": [
    {
     "name": "stdout",
     "output_type": "stream",
     "text": [
      "[[[[[170 270 370 470]]]]]\n",
      "\n",
      "차원의 수 :  5\n"
     ]
    }
   ],
   "source": [
    "# [] 내포관계 상관 없이 고차원 배열 생성\n",
    "# array() 메서드의 매개변수 ndim에 생성할 차원을 직접 지정\n",
    "\n",
    "np_arr =np.array([170,270,370,470],ndmin=5)\n",
    "print(np_arr)\n",
    "print()\n",
    "print(\"차원의 수 : \",np_arr.ndim)"
   ]
  },
  {
   "cell_type": "markdown",
   "metadata": {},
   "source": [
    "#배열 인덱싱"
   ]
  },
  {
   "cell_type": "markdown",
   "metadata": {},
   "source": []
  }
 ],
 "metadata": {
  "interpreter": {
   "hash": "5d240ba0dc525c389faa33f5dcce5b4f32b6d6aa6d70d6d2dd929bd2b09ab69f"
  },
  "kernelspec": {
   "display_name": "Python 3.10.0 64-bit",
   "language": "python",
   "name": "python3"
  },
  "language_info": {
   "codemirror_mode": {
    "name": "ipython",
    "version": 3
   },
   "file_extension": ".py",
   "mimetype": "text/x-python",
   "name": "python",
   "nbconvert_exporter": "python",
   "pygments_lexer": "ipython3",
   "version": "3.10.0"
  },
  "orig_nbformat": 4
 },
 "nbformat": 4,
 "nbformat_minor": 2
}
