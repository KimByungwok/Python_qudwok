{
 "cells": [
  {
   "cell_type": "markdown",
   "metadata": {},
   "source": [
    "# python pandas lib 2주차"
   ]
  },
  {
   "cell_type": "markdown",
   "metadata": {},
   "source": [
    "# 배열의 인덱싱"
   ]
  },
  {
   "cell_type": "code",
   "execution_count": 1,
   "metadata": {},
   "outputs": [
    {
     "name": "stdout",
     "output_type": "stream",
     "text": [
      "170\n",
      "270\n",
      "370\n"
     ]
    }
   ],
   "source": [
    "# 배열의 인덱싱\n",
    "import numpy as np\n",
    "\n",
    "np_arr = np.array([170,270,370,470])\n",
    "\n",
    "# 첫번째 원소 참조\n",
    "print(np_arr[0])\n",
    "\n",
    "# 두번째 원소 참조\n",
    "print(np_arr[1])\n",
    "\n",
    "# 세번째 원소 참조\n",
    "print(np_arr[2])\n",
    "\n",
    "# 인덱스 범위에서 벗어난 참조는?\n",
    "#print(np_arr[4])\n",
    "\n"
   ]
  },
  {
   "cell_type": "code",
   "execution_count": 2,
   "metadata": {},
   "outputs": [
    {
     "name": "stdout",
     "output_type": "stream",
     "text": [
      "70\n",
      "70\n",
      "[ 100  400  900 1600]\n"
     ]
    }
   ],
   "source": [
    "\n",
    "np_arr = np.array([10,20,30,40])\n",
    "print(np_arr[2]+np_arr[3])\n",
    "\n",
    "# 원소가 문자열인 경우?\n",
    "np_arr = np.array(['10','20','30','40'])\n",
    "print(int(np_arr[2]) + int(np_arr[3]))\n",
    "\n",
    "# 배열 a,b에 대해 사칙연산 바로 표현\n",
    "\n",
    "a1 = np.array([10,20,30,40])\n",
    "a2 = np.array([10,20,30,40])\n",
    "print (a1*a2)"
   ]
  },
  {
   "cell_type": "code",
   "execution_count": 3,
   "metadata": {},
   "outputs": [
    {
     "name": "stdout",
     "output_type": "stream",
     "text": [
      "880\n",
      "880\n",
      "1행의 2열 원소 :  272\n",
      "2행의 5열 원소 :  111\n",
      "1면,2행,3열 원소 :  333\n",
      "2행의 마지막 원소 :  100\n",
      "20\n"
     ]
    }
   ],
   "source": [
    "# 6p 배열 원소 참조 계산\n",
    "\n",
    "np_arr = np.array([190,290,390,490])\n",
    "print(np_arr[2] + np_arr[3])\n",
    "\n",
    "# 원소가 문자열인 경우?\n",
    "np_arr = np.array(['190','290','390','490'])\n",
    "print(int(np_arr[2]) + int(np_arr[3]))\n",
    "\n",
    "#2차원 배열 참조\n",
    "np_arr = np.array([[171,272,373,474,575],[616,717,818,919,111]])\n",
    "print('1행의 2열 원소 : ',np_arr[-2,-4]) #print('1행의 2열 원소 : ',np_arr[0,1])\n",
    "print('2행의 5열 원소 : ',np_arr[1,4]) #print('2행의 5열 원소 : ',np_arr[-1,-1])\n",
    "\n",
    "#3차원 배열 참조\n",
    "np_arr = np.array([[[101,202,303],[111,222,333],[123,456,789]]])\n",
    "print('1면,2행,3열 원소 : ',np_arr[0,1,2])\n",
    "\n",
    "#음수 인덱스 값 사용\n",
    "np_arr = np.array([[10,20,30,40,50],[66,77,88,99,100]])\n",
    "print('2행의 마지막 원소 : ',np_arr[1,-1])\n",
    "\n",
    "# 문제 : 다음 배열에서 20을 출력하도록 만들어보셈\n",
    "np_arr = np.array = ([10,20,30])\n",
    "print(np_arr[1])\n",
    "\n",
    "\n"
   ]
  },
  {
   "cell_type": "markdown",
   "metadata": {},
   "source": [
    "# 배열 슬라이싱\n",
    "기본 형태 : [start:end] or [start:end:step]\n",
    "생략 가능 부분 : 시작 인덱스 0, 마지막 인덱스, step이 1인 경우"
   ]
  },
  {
   "cell_type": "code",
   "execution_count": 11,
   "metadata": {},
   "outputs": [
    {
     "name": "stdout",
     "output_type": "stream",
     "text": [
      "[1 2 3 4 5 6 7]\n",
      "[1 2 3 4 5 6]\n",
      "[1 2 3 4 5 6 7]\n",
      "[5 6 7]\n",
      "[5 6 7]\n",
      "[2 4 6]\n",
      "두번째 행의 2열부터 4열까지 :  [222 333 444]\n",
      "첫번째 행부터 두번째행에 대해 각 행의 2열 :  [202 222]\n",
      "첫번째 행부터 두번째 행에 대해 2열부터 4열까지 :  [[202 303 404]\n",
      " [222 333 444]]\n"
     ]
    }
   ],
   "source": [
    "import numpy as np\n",
    "\n",
    "np_arr =np.array([1,2,3,4,5,6,7])\n",
    "\n",
    "#전체 원소 출력\n",
    "print(np_arr[:])\n",
    "print(np_arr[:6])\n",
    "print(np_arr[0:])\n",
    "\n",
    "#마지막 3개 원소 출력하기\n",
    "print(np_arr[-3:])\n",
    "print(np_arr[-3:7])\n",
    "\n",
    "#짝수 번째 표시\n",
    "print(np_arr[1::2])\n",
    "\n",
    "# 2차원 배열 슬라이싱\n",
    "np_arr = np.array([[101,202,303,404,505],[111,222,333,444,555]])\n",
    "print('두번째 행의 2열부터 4열까지 : ',np_arr[1,1:4])\n",
    "print('첫번째 행부터 두번째행에 대해 각 행의 2열 : ',np_arr[0:2,1])\n",
    "print('첫번째 행부터 두번째 행에 대해 2열부터 4열까지 : ',np_arr[0:2,1:4])"
   ]
  },
  {
   "cell_type": "markdown",
   "metadata": {},
   "source": [
    "# python과 numpy의 데이터 타입\n",
    "Python\n",
    ": string - ex) \"abcd\"\n",
    ": integer -ex) -1,0,1\n",
    ": float -ex) 10.2, 4.2\n",
    ": boolean -ex) True, False\n",
    ": complex -ex) 10.0+20.0j, 1.8+4.2j\n",
    "\n",
    "Numpy\n",
    ": i - 정수(integer)\n",
    ": b - 불(boolean)\n",
    ": u - 부호없는 정수(unsigned integer)\n",
    ": f - 실수(float)\n",
    ": c - 복소수(complex float)\n",
    ": m - 시간(timedelta)\n",
    ": M - 날짜 시간(datetime)\n",
    ": O - 객체(object)\n",
    ": S - 문자열(string)\n",
    ": U - 유니코드(unicode string)\n",
    ": V - 여러 데이터 타입을 표현할 수 있는 고정단위 메모리(void)"
   ]
  },
  {
   "cell_type": "code",
   "execution_count": 12,
   "metadata": {},
   "outputs": [
    {
     "name": "stdout",
     "output_type": "stream",
     "text": [
      "int32\n",
      "<U3\n"
     ]
    }
   ],
   "source": [
    "# 넘파이 배열 객체의 dtype 사용\n",
    "np_arr = np.array([170,270,370,470])\n",
    "print(np_arr.dtype)\n",
    "\n",
    "np_arr = np.array(['사과','배','복숭아'])\n",
    "print(np_arr.dtype)"
   ]
  },
  {
   "cell_type": "code",
   "execution_count": 13,
   "metadata": {},
   "outputs": [
    {
     "name": "stdout",
     "output_type": "stream",
     "text": [
      "[b'170' b'270' b'370' b'470']\n",
      "|S3\n"
     ]
    },
    {
     "ename": "ValueError",
     "evalue": "invalid literal for int() with base 10: 'aa'",
     "output_type": "error",
     "traceback": [
      "\u001b[1;31m---------------------------------------------------------------------------\u001b[0m",
      "\u001b[1;31mValueError\u001b[0m                                Traceback (most recent call last)",
      "\u001b[1;32m<ipython-input-13-967db613cb83>\u001b[0m in \u001b[0;36m<module>\u001b[1;34m\u001b[0m\n\u001b[0;32m     12\u001b[0m \u001b[1;31m#데이터 타입을 변경할 수 없는 경우 어떤 일이?\u001b[0m\u001b[1;33m\u001b[0m\u001b[1;33m\u001b[0m\u001b[1;33m\u001b[0m\u001b[0m\n\u001b[0;32m     13\u001b[0m \u001b[1;33m\u001b[0m\u001b[0m\n\u001b[1;32m---> 14\u001b[1;33m \u001b[0mnp_arr\u001b[0m\u001b[1;33m=\u001b[0m\u001b[0mnp\u001b[0m\u001b[1;33m.\u001b[0m\u001b[0marray\u001b[0m\u001b[1;33m(\u001b[0m\u001b[1;33m[\u001b[0m\u001b[1;34m'aa'\u001b[0m\u001b[1;33m,\u001b[0m\u001b[1;34m'20'\u001b[0m\u001b[1;33m,\u001b[0m\u001b[1;34m'30'\u001b[0m\u001b[1;33m]\u001b[0m\u001b[1;33m,\u001b[0m\u001b[0mdtype\u001b[0m\u001b[1;33m=\u001b[0m\u001b[1;34m'i'\u001b[0m\u001b[1;33m)\u001b[0m\u001b[1;33m\u001b[0m\u001b[1;33m\u001b[0m\u001b[0m\n\u001b[0m",
      "\u001b[1;31mValueError\u001b[0m: invalid literal for int() with base 10: 'aa'"
     ]
    }
   ],
   "source": [
    "# 넘파이 array() 메서드의 dtype에 생성한 배열 원소에 대한 타입 기호 지정\n",
    "np_arr = np.array([170,270,370,470], dtype='S') # S 는 string\n",
    "print(np_arr)\n",
    "print(np_arr.dtype)\n",
    "\n",
    "#실습 1 : 출력된 데이터 타입 분석해보기\n",
    "#실습 2 : dtype = 'S'인 경우와 'U'인 경우의 차이점 찾아보기\n",
    "#실습 3 : i,fu,f,S,U 는 데이터의 크기를 줄 수 있음\n",
    "\n",
    "# 위 예제에서 20 을 2222로 변경하고 dtype ='S'를 dtype='S3'로 변경 후 실행해 결과 분석하기\n",
    "\n",
    "#데이터 타입을 변경할 수 없는 경우 어떤 일이?\n",
    "\n",
    "np_arr=np.array(['aa','20','30'],dtype='i')"
   ]
  },
  {
   "cell_type": "code",
   "execution_count": 15,
   "metadata": {},
   "outputs": [
    {
     "name": "stdout",
     "output_type": "stream",
     "text": [
      "[10 20  1 30]\n",
      "int32\n",
      "[10 20  1 30]\n",
      "int32\n",
      "[ True False  True  True]\n",
      "bool\n"
     ]
    }
   ],
   "source": [
    "#기 정의된 배열의 데이터 타입 변경(1)\n",
    "np_arr=np.array([10.1,20,1,30.1])\n",
    "\n",
    "newarr = np_arr.astype('i')\n",
    "print(newarr)\n",
    "print(newarr.dtype)\n",
    "\n",
    "# 기 정의된 배열의 데이터 타입 변경(2)\n",
    "np_arr=np.array([10.1,20,1,30.1])\n",
    "\n",
    "newarr = np_arr.astype(int)\n",
    "print(newarr)\n",
    "print(newarr.dtype)\n",
    "\n",
    "#정수를 불 타입으로 변경\n",
    "np_arr=np.array([10,0,30,-10])\n",
    "\n",
    "newarr = np_arr.astype(bool)\n",
    "print(newarr)\n",
    "print(newarr.dtype)\n",
    "\n",
    "\n"
   ]
  },
  {
   "cell_type": "markdown",
   "metadata": {},
   "source": [
    "# q배열의 copy와 view\n",
    "copy : 원본의 데이터 저장 공간과 다른 저장 공간을 할당해 배열 원소 복사, side-effect없음\n",
    "view : 원본의 데이터 저장 공간을 참조, side-effect발생"
   ]
  },
  {
   "cell_type": "code",
   "execution_count": 16,
   "metadata": {},
   "outputs": [
    {
     "name": "stdout",
     "output_type": "stream",
     "text": [
      "[129 202 303 404 505]\n",
      "[101 202 303 404 505]\n"
     ]
    }
   ],
   "source": [
    "# 배열 copy 예시\n",
    "np_arr=np.array([101,202,303,404,505])\n",
    "x = np_arr.copy()\n",
    "np_arr[0] = 129\n",
    "print(np_arr)\n",
    "print(x)"
   ]
  },
  {
   "cell_type": "code",
   "execution_count": 17,
   "metadata": {},
   "outputs": [
    {
     "name": "stdout",
     "output_type": "stream",
     "text": [
      "[129 270 370 470]\n",
      "[129 270 370 470]\n"
     ]
    }
   ],
   "source": [
    "# 배열 view 예시(참조본 변경했을 경우 변화 확인)\n",
    "\n",
    "np_arr=np.array([170,270,370,470])\n",
    "x = np_arr.view()\n",
    "x[0] = 129\n",
    "print(np_arr)\n",
    "print(x)\n",
    " "
   ]
  },
  {
   "cell_type": "code",
   "execution_count": 18,
   "metadata": {},
   "outputs": [
    {
     "name": "stdout",
     "output_type": "stream",
     "text": [
      "[129 270 370 470 570]\n",
      "[129 270 370 470 570]\n"
     ]
    }
   ],
   "source": [
    "# 배열 view 예시(원본 변경했을 경우 변화 확인)\n",
    "\n",
    "np_arr=np.array([170,270,370,470,570])\n",
    "x = np_arr.view()\n",
    "np_arr[0] = 129\n",
    "print(np_arr)\n",
    "print(x)\n",
    " "
   ]
  },
  {
   "cell_type": "code",
   "execution_count": 19,
   "metadata": {},
   "outputs": [
    {
     "name": "stdout",
     "output_type": "stream",
     "text": [
      "[170 270 370 470 570]\n",
      "None\n"
     ]
    }
   ],
   "source": [
    "# 배열이 원본(데이터 저장을 위한 자신만의 메모리 공간을 가지고 있는 경우)인지 참조본인지 확인하는법\n",
    "# 배열의 base 속성\n",
    "# - None : 자신의 데이터를 따로 가진 경우(copy)\n",
    "# - 배열 : 자신의 데이터를 따로 가지지 못하는 경우(view)\n",
    "\n",
    "np_arr=np.array([170,270,370,470,570])\n",
    "x = np_arr.view()\n",
    "y = np_arr.copy()\n",
    "\n",
    "print(x.base)\n",
    "print(y.base)"
   ]
  },
  {
   "cell_type": "markdown",
   "metadata": {},
   "source": [
    "# NumPy 배열의 Shape\n",
    "- shape 속성은 각 차원의 원소 개수"
   ]
  },
  {
   "cell_type": "code",
   "execution_count": 20,
   "metadata": {},
   "outputs": [
    {
     "name": "stdout",
     "output_type": "stream",
     "text": [
      "(2, 4)\n",
      "<class 'tuple'>\n",
      "2\n",
      "[[[[[101 201 301 401 501]]]]]\n",
      "배열의 모양 :  (1, 1, 1, 1, 5)\n"
     ]
    }
   ],
   "source": [
    "# 배열 형태 알아보기\n",
    "np_arr=np.array([[101,201,301,401],[501,601,701,801]])\n",
    "shape = np_arr.shape\n",
    "print(shape)\n",
    "print(type(shape))\n",
    "print(len(shape))\n",
    "\n",
    "# 실습1 : 각 행의 원소 갯수가 다른 경우 출력?\n",
    "# 배열 형태(차원) 지정하기\n",
    "\n",
    "np_arr = np.array([101,201,301,401,501],ndmin=5)\n",
    "print(np_arr)\n",
    "print('배열의 모양 : ',np_arr.shape)"
   ]
  },
  {
   "cell_type": "markdown",
   "metadata": {},
   "source": [
    "# 배열 ReShaping (재구성, 차원 변경)\n",
    "- reshape 는 배열의 형태를 바꾸는 것\n",
    "- shape 은 각 차원의 원소 갯수라고 정의되었으므로 reshape 한다는 것은 차원을 증감하거나 원소 갯수를 증감하는 것"
   ]
  },
  {
   "cell_type": "code",
   "execution_count": 22,
   "metadata": {},
   "outputs": [
    {
     "name": "stdout",
     "output_type": "stream",
     "text": [
      "[[ 1  2  3  4]\n",
      " [ 5  6  7  8]\n",
      " [ 9 10 11 12]]\n",
      "\n",
      "[[[ 1  2  3]\n",
      "  [ 4  5  6]]\n",
      "\n",
      " [[ 7  8  9]\n",
      "  [10 11 12]]]\n"
     ]
    }
   ],
   "source": [
    "# 1차원 -> 2차원\n",
    "np_arr=np.array([1,2,3,4,5,6,7,8,9,10,11,12])\n",
    "newarr = np_arr.reshape(3,4) # 3*4 = 12\n",
    "print(newarr)\n",
    "print()\n",
    "\n",
    "# 1차원 -> 3차원\n",
    "np_arr=np.array([1,2,3,4,5,6,7,8,9,10,11,12])\n",
    "newarr =np_arr.reshape(2,2,3) # 2*2*3 = 12\n",
    "print(newarr)"
   ]
  },
  {
   "cell_type": "code",
   "execution_count": 24,
   "metadata": {},
   "outputs": [
    {
     "ename": "ValueError",
     "evalue": "cannot reshape array of size 8 into shape (3,3)",
     "output_type": "error",
     "traceback": [
      "\u001b[1;31m---------------------------------------------------------------------------\u001b[0m",
      "\u001b[1;31mValueError\u001b[0m                                Traceback (most recent call last)",
      "\u001b[1;32m<ipython-input-24-38811c43ebc3>\u001b[0m in \u001b[0;36m<module>\u001b[1;34m\u001b[0m\n\u001b[0;32m      1\u001b[0m \u001b[1;31m# reshape 갯수가 안 맞으면?\u001b[0m\u001b[1;33m\u001b[0m\u001b[1;33m\u001b[0m\u001b[1;33m\u001b[0m\u001b[0m\n\u001b[0;32m      2\u001b[0m \u001b[0mnp_arr\u001b[0m\u001b[1;33m=\u001b[0m\u001b[0mnp\u001b[0m\u001b[1;33m.\u001b[0m\u001b[0marray\u001b[0m\u001b[1;33m(\u001b[0m\u001b[1;33m[\u001b[0m\u001b[1;36m1\u001b[0m\u001b[1;33m,\u001b[0m\u001b[1;36m2\u001b[0m\u001b[1;33m,\u001b[0m\u001b[1;36m3\u001b[0m\u001b[1;33m,\u001b[0m\u001b[1;36m4\u001b[0m\u001b[1;33m,\u001b[0m\u001b[1;36m5\u001b[0m\u001b[1;33m,\u001b[0m\u001b[1;36m6\u001b[0m\u001b[1;33m,\u001b[0m\u001b[1;36m7\u001b[0m\u001b[1;33m,\u001b[0m\u001b[1;36m8\u001b[0m\u001b[1;33m]\u001b[0m\u001b[1;33m)\u001b[0m\u001b[1;33m\u001b[0m\u001b[1;33m\u001b[0m\u001b[0m\n\u001b[1;32m----> 3\u001b[1;33m \u001b[0mnewarr\u001b[0m \u001b[1;33m=\u001b[0m \u001b[0mnp_arr\u001b[0m\u001b[1;33m.\u001b[0m\u001b[0mreshape\u001b[0m\u001b[1;33m(\u001b[0m\u001b[1;36m3\u001b[0m\u001b[1;33m,\u001b[0m\u001b[1;36m3\u001b[0m\u001b[1;33m)\u001b[0m \u001b[1;31m#3*3 = 9로 안됨 커서 안됨\u001b[0m\u001b[1;33m\u001b[0m\u001b[1;33m\u001b[0m\u001b[0m\n\u001b[0m\u001b[0;32m      4\u001b[0m \u001b[0mprint\u001b[0m\u001b[1;33m(\u001b[0m\u001b[0mnewarr\u001b[0m\u001b[1;33m)\u001b[0m\u001b[1;33m\u001b[0m\u001b[1;33m\u001b[0m\u001b[0m\n",
      "\u001b[1;31mValueError\u001b[0m: cannot reshape array of size 8 into shape (3,3)"
     ]
    }
   ],
   "source": [
    "# reshape 갯수가 안 맞으면?\n",
    "np_arr=np.array([1,2,3,4,5,6,7,8])\n",
    "newarr = np_arr.reshape(3,3) #3*3 = 9로 안됨 커서 안됨\n",
    "print(newarr)"
   ]
  },
  {
   "cell_type": "code",
   "execution_count": 25,
   "metadata": {},
   "outputs": [
    {
     "name": "stdout",
     "output_type": "stream",
     "text": [
      "[1 2 3 4 5 6 7 8]\n"
     ]
    }
   ],
   "source": [
    "# reshape 된 배열은 copy 일까 view 일까?\n",
    "np_arr=np.array([1,2,3,4,5,6,7,8])\n",
    "print(np_arr.reshape(2,4).base) \n",
    "\n",
    "# none 은 copy\n",
    "# 데이터가 나오면 view"
   ]
  },
  {
   "cell_type": "code",
   "execution_count": 30,
   "metadata": {},
   "outputs": [
    {
     "name": "stdout",
     "output_type": "stream",
     "text": [
      "(8,)\n",
      "(2, 2, 2)\n",
      "[[[1 2]\n",
      "  [3 4]]\n",
      "\n",
      " [[5 6]\n",
      "  [7 8]]]\n"
     ]
    }
   ],
   "source": [
    "# 차원을 모르는 배열???\n",
    "# -1 은 한군데만 써야함\n",
    "np_arr=np.array([1,2,3,4,5,6,7,8])\n",
    "print(np_arr.shape)\n",
    "\n",
    "np_arr=np.array([1,2,3,4,5,6,7,8])\n",
    "newarr =np_arr.reshape(2,2,-1)\n",
    "print(newarr.shape)\n",
    "print(newarr)\n",
    "\n",
    "#실습 1: -1을 여러곳에 쓰면? 안된다. \n",
    "#실습 2: -1 대신 다른 음수를 쓰면?  된다 음수값은 1개만 써야하지만 음수값 1개의 값은 -1 이어도 -5여도 사용 가능함.\n"
   ]
  },
  {
   "cell_type": "code",
   "execution_count": 32,
   "metadata": {},
   "outputs": [
    {
     "name": "stdout",
     "output_type": "stream",
     "text": [
      "[1 2 3 4 5 6 7 8]\n",
      "[1 2 3 4 5 6 7 8]\n",
      "None\n"
     ]
    }
   ],
   "source": [
    "# 다차원을 1차원으로 만들기\n",
    "# shape 크기로 음수(-1) 사용\n",
    "\n",
    "np_arr=np.array([[1,2,3,4],[5,6,7,8]])\n",
    "\n",
    "newarr =np_arr.reshape(-1)\n",
    "print(newarr)\n",
    "\n",
    "newarr = np_arr.flatten()\n",
    "print(newarr)\n",
    "\n",
    "print(newarr.base)      # 리스트는 데이터에 [1 , 2, 3, 4, 5, ]처럼 , 가 붙는다\n"
   ]
  },
  {
   "cell_type": "markdown",
   "metadata": {},
   "source": [
    "# 3. 판다스 (Pandas) 로 데이터 다루기\n",
    "\n",
    "# 데이터 과학(Data Science)\n",
    "- 데이터 과학은 데이터를 연구하는 분야\n",
    "- 데이터 자체는 데이터 과학에서 가장 중요한 자원\n",
    "- 주로 빅데이터를 저장, 분석하며 인공지능 기법 활용\n",
    "- 데이터 분석 업무\n",
    "    : 데이터 수집 정리에 80~90% 를 할애\n",
    "    : 분석 프로세스(알고리즘 선택, 모델링,분석,정보추출)에 10~20% 할애\n",
    "\n",
    "# 3-1 판다스(Pandas) 패키지 기본 개념 익히기 \n",
    "pandas는 python data analysis library 의 약자로 python 으로 작성된 데이터 조작, 분석 패키지임\n",
    "\n",
    "    # 개요\n",
    "    - 데이터에 대한 공통 포맷을 사용해 서로 다른 데이터 형식을 통일해 처리\n",
    "    - 시리즈(Series; 1차원 배열)와 데이터프레임(DataFrame; 2차원 배열)으로 구성\n",
    "    - 기술문서 : https://pandas.pydata.org/docs/\n",
    "    - 요약된 예제 : https://pandas.pydata.org/ 에서 요약 페이퍼(cheat sheet) 검색\n",
    "\n",
    "# Pandas 사용을 위한 환경 설정\n",
    "1. 환경설치를 위해 Python Terminal 창을 연다\n",
    "    -pip (파이썬 관련 패키지 설치에 사용하는 명령어) 업데이트 실행\n",
    "ex) pip install --upgrade pip\n",
    "    pip install --upgrade pandas\n",
    "\n",
    "\n",
    "\n",
    "# 시리즈는 책 12p 참조\n"
   ]
  },
  {
   "cell_type": "code",
   "execution_count": 33,
   "metadata": {},
   "outputs": [
    {
     "name": "stdout",
     "output_type": "stream",
     "text": [
      "int64\n",
      "\n",
      "x      7\n",
      "y     77\n",
      "z    777\n",
      "dtype: int64\n"
     ]
    }
   ],
   "source": [
    "# pandas 라이브러리 추가\n",
    "import pandas as pd\n",
    "\n",
    "# key : value 형식을 갖는 딕셔너리를 만들고, 변수 dic_data에 저장\n",
    "dic_data = {'x':7,'y' :77,'z':777}\n",
    "\n",
    "# 판다스의 Series() 메서드를 사용해 딕셔너리(dic_data)를 시리즈 형식으로 변환한 후 변수 sr_data에 저장\n",
    "sr_data = pd.Series(dic_data)\n",
    "\n",
    "#시리즈 sr_data 의 자료형 출력해보기\n",
    "print(sr_data.dtype)\n",
    "print()\n",
    "\n",
    "# 시리즈 sr_data 에 저장된 시리즈 객체를 출력\n",
    "print(sr_data)"
   ]
  },
  {
   "cell_type": "markdown",
   "metadata": {},
   "source": [
    "# 인덱스와 데이터를 배열로 추출하기\n",
    "- 인덱스 배열 : Series객체.[index]\n",
    "- 데이터 배열 : Series객체.[values]"
   ]
  },
  {
   "cell_type": "code",
   "execution_count": 37,
   "metadata": {},
   "outputs": [
    {
     "name": "stdout",
     "output_type": "stream",
     "text": [
      "0    2022-03-10\n",
      "1          3.14\n",
      "2           XYZ\n",
      "3            10\n",
      "4          True\n",
      "dtype: object\n",
      "\n",
      "RangeIndex(start=0, stop=5, step=1)\n",
      "\n",
      "['2022-03-10' 3.14 'XYZ' 10 True]\n",
      "\n",
      "idx 타입 :  int64\n",
      "\n",
      "val 타입 :  object\n"
     ]
    }
   ],
   "source": [
    "import pandas as pd\n",
    "\n",
    "# 리스트 --> 시리즈 변환 후 sr_data 에 저장\n",
    "list_data = ['2022-03-10',3.14,'XYZ',10,True]\n",
    "sr_data = pd.Series(list_data)\n",
    "print(sr_data)\n",
    "print()\n",
    "\n",
    "# 시리즈의 인덱스 배열을 idx 에 저장하고 데이터 값은 배열로 val 에 저장\n",
    "idx = sr_data.index\n",
    "val = sr_data.values\n",
    "\n",
    "print(idx)\n",
    "print()\n",
    "print(val)\n",
    "print()\n",
    "\n",
    "\n",
    "## 문제 : idx 와 val 의 타입 출력해보기\n",
    "print('idx 타입 : ',idx.dtype)\n",
    "print()\n",
    "print('val 타입 : ',val.dtype)"
   ]
  },
  {
   "cell_type": "markdown",
   "metadata": {},
   "source": [
    "# 시리즈의 요소 (element) 선택\n",
    "- 하나 또는 특정 범위 요소를 선택할 수 있음\n",
    "- 파이썬의 리스트 슬라이싱 기법 활용\n",
    "- 지정 방법\n",
    "    정수형 위치 인덱스 : [정수형 숫자]\n",
    "    인덱스 이름 : [\"이름\"] 또는 ['이름']"
   ]
  },
  {
   "cell_type": "code",
   "execution_count": 39,
   "metadata": {},
   "outputs": [
    {
     "name": "stdout",
     "output_type": "stream",
     "text": [
      "이름               경민\n",
      "생일       2022-03-10\n",
      "성별                남\n",
      "학생 여부          True\n",
      "dtype: object\n",
      "\n",
      "object\n"
     ]
    }
   ],
   "source": [
    "import pandas as pd\n",
    "\n",
    "#튜플을 시리즈로 변환 (index 옵션에 리스트 형식으로 인덱스로 사용할 이름을 지정)\n",
    "tuple_data = ('경민','2022-03-10','남',True)\n",
    "sr_data = pd.Series(tuple_data, index=['이름','생일','성별','학생 여부'])\n",
    "print(sr_data)\n",
    "print()\n",
    "\n",
    "# 원소 한"
   ]
  },
  {
   "cell_type": "markdown",
   "metadata": {},
   "source": [
    "# 13p"
   ]
  },
  {
   "cell_type": "code",
   "execution_count": null,
   "metadata": {},
   "outputs": [],
   "source": []
  }
 ],
 "metadata": {
  "interpreter": {
   "hash": "231cb4b2eb41428f60b2a59143afd5f3010d8e190631f7f59db97b0ab75dda6e"
  },
  "kernelspec": {
   "display_name": "Python 3.8.2 32-bit",
   "name": "python3"
  },
  "language_info": {
   "codemirror_mode": {
    "name": "ipython",
    "version": 3
   },
   "file_extension": ".py",
   "mimetype": "text/x-python",
   "name": "python",
   "nbconvert_exporter": "python",
   "pygments_lexer": "ipython3",
   "version": "3.10.0"
  },
  "orig_nbformat": 4
 },
 "nbformat": 4,
 "nbformat_minor": 2
}
