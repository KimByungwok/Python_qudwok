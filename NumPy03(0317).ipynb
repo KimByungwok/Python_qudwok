{
 "cells": [
  {
   "cell_type": "markdown",
   "metadata": {},
   "source": [
    "# 13p 시리즈의 요소"
   ]
  },
  {
   "cell_type": "code",
   "execution_count": 10,
   "metadata": {},
   "outputs": [
    {
     "name": "stdout",
     "output_type": "stream",
     "text": [
      "이름               경민\n",
      "생일       2022-03-10\n",
      "성별                남\n",
      "학생 여부          True\n",
      "dtype: object\n",
      "\n",
      "경민\n",
      "\n",
      "경민\n",
      "\n",
      "============================\n",
      "이름         경민\n",
      "학생 여부    True\n",
      "dtype: object\n",
      "\n",
      "이름               경민\n",
      "생일       2022-03-10\n",
      "성별                남\n",
      "학생 여부          True\n",
      "dtype: object\n",
      "\n",
      "========================\n",
      "이름            경민\n",
      "생일    2022-03-10\n",
      "성별             남\n",
      "dtype: object\n",
      "\n",
      "이름               경민\n",
      "생일       2022-03-10\n",
      "성별                남\n",
      "학생 여부          True\n",
      "dtype: object\n",
      "Series([], dtype: object)\n"
     ]
    }
   ],
   "source": [
    "import pandas as pd\n",
    "\n",
    "#튜플을 시리즈로 변환 (index 옵션에 리스트 형식으로 인덱스로 사용할 이름을 지정)\n",
    "tuple_data = ('경민','2022-03-10','남',True)\n",
    "sr_data = pd.Series(tuple_data, index=['이름','생일','성별','학생 여부'])\n",
    "print(sr_data)\n",
    "print()\n",
    "\n",
    "# 원소 1개 선택하기\n",
    "print(sr_data[0])       # 정수형 위치 인덱스 사용 : [] 안에 정수값 표기\n",
    "print()\n",
    "print(sr_data['이름'])  # 인덱스 이름 사용 : [] 안에 라벨명(시리지명)표기\n",
    "print()\n",
    "print('============================')\n"
   ]
  },
  {
   "cell_type": "code",
   "execution_count": 11,
   "metadata": {},
   "outputs": [
    {
     "name": "stdout",
     "output_type": "stream",
     "text": [
      "이름         경민\n",
      "학생 여부    True\n",
      "dtype: object\n",
      "\n",
      "이름               경민\n",
      "생일       2022-03-10\n",
      "성별                남\n",
      "학생 여부          True\n",
      "dtype: object\n",
      "\n",
      "========================\n",
      "이름            경민\n",
      "생일    2022-03-10\n",
      "성별             남\n",
      "dtype: object\n",
      "\n",
      "이름               경민\n",
      "생일       2022-03-10\n",
      "성별                남\n",
      "학생 여부          True\n",
      "dtype: object\n",
      "Series([], dtype: object)\n"
     ]
    }
   ],
   "source": [
    "\n",
    "# 여러 원소 선택 (인덱스 리스트로 선택할 라벨 나열)\n",
    "print(sr_data[[0,3]])\n",
    "print()\n",
    "print(sr_data['이름':'학생 여부'])\n",
    "print()\n",
    "\n",
    "# [ : ] 형식의 ㅇ인덱스 범위를 지정해 여러 개의 원소를 선택\n",
    "# 정수 인덱스 또는 이름(라벨) 모두 가능\n",
    "print(\"========================\")\n",
    "print(sr_data[0:3])\n",
    "print()\n",
    "print(sr_data['이름': '학생 여부'])\n",
    "print(sr_data['학생 여부' : '이름'])"
   ]
  },
  {
   "cell_type": "markdown",
   "metadata": {},
   "source": [
    "# 3.3 데이터 프레임(DataFrame)\n",
    "판다스의 데이터 프레임은 2차원 배열의 테이블 구조로 표현되며 시리즈들의 모임으로 구성된다. 이는 일련의 특정 값 배열로 구성된 entry들을 가지며 entry는 row와 column과 연관된다.\n",
    "-시리즈 : 열벡터(1차원 벡터)\n",
    "-데이터 프레임 : 행렬 또는 2차원 벡터\n",
    "# 14p 그림 참조\n",
    "판다스 라이브러리 패키지를 사용해 파이썬에서 제공하는 다양한 자료구조로부터 데이터 프레임을 만들 수 있다"
   ]
  },
  {
   "cell_type": "markdown",
   "metadata": {},
   "source": [
    "# 딕셔너리의 데이터를 이용해 데이터프레임 생성하기"
   ]
  },
  {
   "cell_type": "code",
   "execution_count": 12,
   "metadata": {},
   "outputs": [
    {
     "name": "stdout",
     "output_type": "stream",
     "text": [
      "<class 'pandas.core.frame.DataFrame'>\n",
      "\n",
      "   col_0  col_1  col_2  col_3  col_4\n",
      "0      1      7      4     10     13\n",
      "1      2      8      5     11     14\n",
      "2      3      9      6     12     15\n"
     ]
    }
   ],
   "source": [
    "import pandas as pd\n",
    "\n",
    "#리스트를 value로, 열 이름을 key로 하는 2차원 배열 형식의 딕셔너리 정의\n",
    "dic_data = {'col_0':[1,2,3],'col_1':[7,8,9],'col_2':[4,5,6],'col_3':[10,11,12],'col_4':[13,14,15]}\n",
    "\n",
    "#판다스의 DataFrame() 메서드는 딕셔너리를 데이터프레임으로 변환할 수 있음\n",
    "dataframe = pd.DataFrame(dic_data)\n",
    "\n",
    "#dataframe의 자료형 출력해서 확인\n",
    "print(type(dataframe))\n",
    "print()\n",
    "\n",
    "#변수 dataframe에 저장돈 데이터프레임 객체 출력\n",
    "print(dataframe)"
   ]
  },
  {
   "cell_type": "markdown",
   "metadata": {},
   "source": [
    "# 행 인덱스, 열 이름 설정하기(1)"
   ]
  },
  {
   "cell_type": "code",
   "execution_count": 14,
   "metadata": {},
   "outputs": [
    {
     "name": "stdout",
     "output_type": "stream",
     "text": [
      "      학교  나이 성별\n",
      "경민   경민중  15  남\n",
      "영희  경민여중  17  여\n",
      "\n",
      "Index(['경민', '영희'], dtype='object')\n",
      "\n",
      "Index(['학교', '나이', '성별'], dtype='object')\n",
      "\n"
     ]
    }
   ],
   "source": [
    "import pandas as pd\n",
    "\n",
    "#행 인덱스와 열 이름을 지정하여 dataframe을 생성하기\n",
    "dataframe = pd.DataFrame([['경민중',15,'남',],['경민여중',17,'여']],index=['경민','영희'],columns=['학교','나이','성별'])\n",
    "\n",
    "# 행 인덱스와 열 이름 확인\n",
    "print(dataframe)    #데이터프레임 출력\n",
    "print()\n",
    "print(dataframe.index)  #dataframe의 행 인덱스를 출력\n",
    "print()\n",
    "print(dataframe.columns)    #dataframe의 열 이름을 출력\n",
    "print()"
   ]
  },
  {
   "cell_type": "code",
   "execution_count": 15,
   "metadata": {},
   "outputs": [
    {
     "name": "stdout",
     "output_type": "stream",
     "text": [
      "       연령  성별 학교\n",
      "학생1   경민중  15  남\n",
      "학생2  경민여중  17  여\n",
      "\n",
      "Index(['학생1', '학생2'], dtype='object')\n",
      "\n",
      "Index(['연령', '성별', '학교'], dtype='object')\n",
      "\n"
     ]
    }
   ],
   "source": [
    "# 행 인덱스와 열 이름을 변경해 보기\n",
    "dataframe.index = ['학생1','학생2']\n",
    "dataframe.columns = [\"연령\",\"성별\",\"학교\"]\n",
    "\n",
    "print(dataframe)    #데이터프레임 출력\n",
    "print()\n",
    "print(dataframe.index)  #dataframe의 행 인덱스를 출력\n",
    "print()\n",
    "print(dataframe.columns)    #dataframe의 열 이름을 출력\n",
    "print()"
   ]
  },
  {
   "cell_type": "markdown",
   "metadata": {},
   "source": [
    "# 행 인덱스, 열 이름 설정하기(2)"
   ]
  },
  {
   "cell_type": "code",
   "execution_count": 16,
   "metadata": {},
   "outputs": [
    {
     "name": "stdout",
     "output_type": "stream",
     "text": [
      "      학교  나이 성별\n",
      "경민   경민중  15  남\n",
      "영희  경민여중  17  여\n",
      "\n",
      "       소속  연령 남녀\n",
      "학생1   경민중  15  남\n",
      "학생2  경민여중  17  여\n"
     ]
    }
   ],
   "source": [
    "import pandas as pd\n",
    "\n",
    "#행 인덱스와 열 이름을 지정하여 dataframe을 생성하기\n",
    "dataframe = pd.DataFrame([['경민중',15,'남',],['경민여중',17,'여']],index=['경민','영희'],columns=['학교','나이','성별'])\n",
    "\n",
    "# 행 인덱스와 열 이름 확인\n",
    "print(dataframe)    #데이터프레임 출력\n",
    "print()\n",
    "\n",
    "# 열 이름의 '성별' 을 '남녀'로 , '나이'를 '연령'으로 '학교'를 '소속'으로 변경해라\n",
    "dataframe.rename(columns={'성별':'남녀','나이':'연령','학교':'소속'},inplace=True)\n",
    "\n",
    "# dataframe의 행 인덱스 '경민' 을 '학생1' 로 '영희'를 '학생2'로 바꿔라\n",
    "dataframe.rename(index={'경민':'학생1','영희':'학생2'},inplace=True)\n",
    "\n",
    "# dataframe 변경 후 출력\n",
    "print(dataframe)"
   ]
  },
  {
   "cell_type": "markdown",
   "metadata": {},
   "source": [
    "# 행, 열 삭제하기\n",
    "- 행 삭제하기 : DataFrame객체.drop(배열 or 행 인덱스, [axis=0])\n",
    "- 열 삭제하기 : DataFrame객체.drop(배열 or 열 이름, [axis=1])\n",
    "- 원본객체의 변경 여부 설정하는법 =  :[inplace=True(변경)/False(유지)]\n",
    "                                   - 원본을 바꿔라 , 사본을 바꿔라 설정하는것임"
   ]
  },
  {
   "cell_type": "code",
   "execution_count": 17,
   "metadata": {},
   "outputs": [
    {
     "name": "stdout",
     "output_type": "stream",
     "text": [
      "    통계   C  JSP  파이썬\n",
      "경민  90  98   85  100\n",
      "영희  80  89   95   95\n",
      "길동  70  95  100   90\n",
      "\n"
     ]
    }
   ],
   "source": [
    "# 행 삭제 예제\n",
    "import pandas as pd\n",
    "\n",
    "# ex_data를 변환해 dataframe에 저장\n",
    "ex_data = {'통계':[90,80,70],'C':[98,89,95],'JSP':[85,95,100],'파이썬':[100,95,90]}\n",
    "\n",
    "dataframe = pd.DataFrame(ex_data,index=['경민','영희','길동'])\n",
    "print(dataframe)\n",
    "print()"
   ]
  },
  {
   "cell_type": "code",
   "execution_count": 20,
   "metadata": {},
   "outputs": [
    {
     "name": "stdout",
     "output_type": "stream",
     "text": [
      "    통계   C  JSP  파이썬\n",
      "경민  90  98   85  100\n",
      "길동  70  95  100   90\n",
      "\n",
      "    통계   C  JSP  파이썬\n",
      "경민  90  98   85  100\n",
      "\n",
      "    통계   C  JSP  파이썬\n",
      "경민  90  98   85  100\n",
      "영희  80  89   95   95\n",
      "길동  70  95  100   90\n"
     ]
    },
    {
     "name": "stderr",
     "output_type": "stream",
     "text": [
      "C:\\Users\\401ST000\\AppData\\Local\\Programs\\Python\\Python38-32\\lib\\site-packages\\pandas\\core\\frame.py:3990: SettingWithCopyWarning: \n",
      "A value is trying to be set on a copy of a slice from a DataFrame\n",
      "\n",
      "See the caveats in the documentation: https://pandas.pydata.org/pandas-docs/stable/user_guide/indexing.html#returning-a-view-versus-a-copy\n",
      "  return super().drop(\n",
      "C:\\Users\\401ST000\\AppData\\Local\\Programs\\Python\\Python38-32\\lib\\site-packages\\pandas\\core\\frame.py:3990: SettingWithCopyWarning: \n",
      "A value is trying to be set on a copy of a slice from a DataFrame\n",
      "\n",
      "See the caveats in the documentation: https://pandas.pydata.org/pandas-docs/stable/user_guide/indexing.html#returning-a-view-versus-a-copy\n",
      "  return super().drop(\n"
     ]
    }
   ],
   "source": [
    "# 데이터프레임 dataframe을 복제해 dataframe2에 저장하고 dataframe2의 1개 행 삭제\n",
    "#import warnings\n",
    "#warnings.filterwarnings(action='ignore')\n",
    "\n",
    "dataframe_2 = dataframe[:]\n",
    "dataframe_2.drop('영희',inplace=True)\n",
    "print(dataframe_2)\n",
    "print()\n",
    "\n",
    "# 데이터프레임 dataframe을 복제해 dataframe_3에 저장하고 dataframe_3의 2개 행 삭제\n",
    "dataframe_3 = dataframe[:]\n",
    "dataframe_3.drop(['영희','길동'],axis=0,inplace=True) #inplace는 원본을 변경하냐 안하냐를 정하는 것 #inplace를 적지 않으면 기본값은 False 상태임\n",
    "print(dataframe_3)\n",
    "print()\n",
    "print(dataframe)\n",
    "## 문제 : 위의 실습 내용에서 inplace=False로 해서 원본 dataframe과 비교해봐"
   ]
  },
  {
   "cell_type": "code",
   "execution_count": 21,
   "metadata": {},
   "outputs": [
    {
     "name": "stdout",
     "output_type": "stream",
     "text": [
      "    통계   C  JSP  파이썬\n",
      "경민  90  98   85  100\n",
      "영희  80  89   95   95\n",
      "길동  70  95  100   90\n",
      "\n",
      "     C  JSP  파이썬\n",
      "경민  98   85  100\n",
      "영희  89   95   95\n",
      "길동  95  100   90\n",
      "\n",
      "    JSP  파이썬\n",
      "경민   85  100\n",
      "영희   95   95\n",
      "길동  100   90\n",
      "\n"
     ]
    },
    {
     "name": "stderr",
     "output_type": "stream",
     "text": [
      "C:\\Users\\401ST000\\AppData\\Local\\Programs\\Python\\Python38-32\\lib\\site-packages\\pandas\\core\\frame.py:3990: SettingWithCopyWarning: \n",
      "A value is trying to be set on a copy of a slice from a DataFrame\n",
      "\n",
      "See the caveats in the documentation: https://pandas.pydata.org/pandas-docs/stable/user_guide/indexing.html#returning-a-view-versus-a-copy\n",
      "  return super().drop(\n",
      "C:\\Users\\401ST000\\AppData\\Local\\Programs\\Python\\Python38-32\\lib\\site-packages\\pandas\\core\\frame.py:3990: SettingWithCopyWarning: \n",
      "A value is trying to be set on a copy of a slice from a DataFrame\n",
      "\n",
      "See the caveats in the documentation: https://pandas.pydata.org/pandas-docs/stable/user_guide/indexing.html#returning-a-view-versus-a-copy\n",
      "  return super().drop(\n"
     ]
    }
   ],
   "source": [
    "import pandas as pd\n",
    "\n",
    "# 데이터프레임으로 변환해 dataframe에 저장\n",
    "ex_data = {'통계':[90,80,70],'C':[98,89,95],'JSP':[85,95,100],'파이썬':[100,95,90]}\n",
    "\n",
    "dataframe = pd.DataFrame(ex_data,index=['경민','영희','길동'])\n",
    "print(dataframe)\n",
    "print()\n",
    "\n",
    "# 데이터프레임 dataframe을 복제하여 변수 dataframe_4에 저장, dataframe_4 1개 열(column)을 삭제\n",
    "dataframe_4 = dataframe[:]\n",
    "dataframe_4.drop('통계',axis=1,inplace=True)\n",
    "print(dataframe_4)\n",
    "print()\n",
    "\n",
    "# 데이터프레임 dataframe을 복제하여 변수 dataframe_5에 저장, dataframe_5 2개 열(column)을 삭제\n",
    "dataframe_5 = dataframe[:]\n",
    "dataframe_5.drop(['통계','C'],axis=1,inplace=True)\n",
    "print(dataframe_5)\n",
    "print()"
   ]
  },
  {
   "cell_type": "markdown",
   "metadata": {},
   "source": [
    "# 행 선택\n",
    "\n",
    "18p"
   ]
  },
  {
   "cell_type": "code",
   "execution_count": 7,
   "metadata": {},
   "outputs": [
    {
     "name": "stdout",
     "output_type": "stream",
     "text": [
      "    통계   C  JSP  파이썬\n",
      "경민  90  98   85  100\n",
      "영희  80  89   95   95\n",
      "길동  70  95  100   90\n",
      "\n",
      "통계      90\n",
      "C       98\n",
      "JSP     85\n",
      "파이썬    100\n",
      "Name: 경민, dtype: int64\n",
      "\n",
      "통계      90\n",
      "C       98\n",
      "JSP     85\n",
      "파이썬    100\n",
      "Name: 경민, dtype: int64\n",
      "\n",
      "    통계   C  JSP  파이썬\n",
      "경민  90  98   85  100\n",
      "영희  80  89   95   95\n",
      "\n",
      "    통계   C  JSP  파이썬\n",
      "경민  90  98   85  100\n",
      "영희  80  89   95   95\n",
      "\n",
      "    통계   C  JSP  파이썬\n",
      "경민  90  98   85  100\n",
      "영희  80  89   95   95\n",
      "\n",
      "    통계   C  JSP  파이썬\n",
      "경민  90  98   85  100\n",
      "\n",
      "    통계    C  JSP  파이썬\n",
      "경민  90  100  100  100\n",
      "영희  80  100  100  100\n",
      "길동  70   95  100   90\n"
     ]
    }
   ],
   "source": [
    "import pandas as pd\n",
    "\n",
    "# 데이터프레임으로 변환해 dataframe에 저장\n",
    "ex_data = {'통계':[90,80,70],'C':[98,89,95],'JSP':[85,95,100],'파이썬':[100,95,90]}\n",
    "\n",
    "dataframe = pd.DataFrame(ex_data,index=['경민','영희','길동'])\n",
    "print(dataframe)\n",
    "print()\n",
    "\n",
    "# 행 인덱스를 사용하여 행 1개를 선택\n",
    "lbl1 = dataframe.loc['경민'] #loc 인덱서 사용\n",
    "pos1 = dataframe.iloc[0] #iloc 인덱서 사용\n",
    "print(lbl1)\n",
    "print()\n",
    "print(pos1)\n",
    "print()\n",
    "\n",
    "# 2개 이상의 행을 선택하기 위해 행 인덱스를 사용\n",
    "lbl2 = dataframe.loc[['경민','영희']]\n",
    "pos2 = dataframe.iloc[[0,1]]\n",
    "print(lbl2)\n",
    "print()\n",
    "print(pos2)\n",
    "print()\n",
    "\n",
    "# 행 인덱스의 범위를 지정하여 행 선택\n",
    "lbl3 = dataframe.loc[['경민','영희']]\n",
    "pos3 = dataframe.iloc[0:1]\n",
    "print(lbl3)\n",
    "print()\n",
    "print(pos3)\n",
    "print()\n",
    "\n",
    "dataframe.loc[['경민','영희'],['JSP','C','파이썬']]= 100\n",
    "print(dataframe)"
   ]
  },
  {
   "cell_type": "code",
   "execution_count": null,
   "metadata": {},
   "outputs": [],
   "source": []
  }
 ],
 "metadata": {
  "interpreter": {
   "hash": "231cb4b2eb41428f60b2a59143afd5f3010d8e190631f7f59db97b0ab75dda6e"
  },
  "kernelspec": {
   "display_name": "Python 3.8.2 32-bit",
   "language": "python",
   "name": "python3"
  },
  "language_info": {
   "codemirror_mode": {
    "name": "ipython",
    "version": 3
   },
   "file_extension": ".py",
   "mimetype": "text/x-python",
   "name": "python",
   "nbconvert_exporter": "python",
   "pygments_lexer": "ipython3",
   "version": "3.8.2"
  },
  "orig_nbformat": 4
 },
 "nbformat": 4,
 "nbformat_minor": 2
}
