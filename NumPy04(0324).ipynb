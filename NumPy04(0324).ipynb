{
 "cells": [
  {
   "cell_type": "markdown",
   "metadata": {},
   "source": [
    "# 인덱스 활용 : 행 인덱스 초기화 하기 25p\n",
    "    - DataFrame객체.reset_index()"
   ]
  },
  {
   "cell_type": "code",
   "execution_count": 9,
   "metadata": {},
   "outputs": [
    {
     "name": "stdout",
     "output_type": "stream",
     "text": [
      "    col_0  col_1  col_2  col_3  col_4\n",
      "행0      1      4      7     10     13\n",
      "행1      2      5      8     11     14\n",
      "행2      3      6      9     12     15\n",
      "\n",
      "  index  col_0  col_1  col_2  col_3  col_4\n",
      "0    행0      1      4      7     10     13\n",
      "1    행1      2      5      8     11     14\n",
      "2    행2      3      6      9     12     15\n",
      "\n",
      "   col_0  col_1  col_2  col_3  col_4\n",
      "0      1      4      7     10     13\n",
      "1      2      5      8     11     14\n",
      "2      3      6      9     12     15\n"
     ]
    }
   ],
   "source": [
    "import pandas as pd\n",
    "\n",
    "dic_data = {'col_0':[1,2,3],'col_1':[4,5,6],'col_2':[7,8,9],'col_3':[10,11,12],'col_4':[13,14,15]}\n",
    "\n",
    "# df = pd.DataFrame(dic_data,index=['행0','행1','행2'])\n",
    "# print(df)\n",
    "# print()\n",
    "\n",
    "# df = df.reset_index()\n",
    "# print(df)\n",
    "# print()\n",
    "\n",
    "# df = df.drop('index',axis=1)\n",
    "# print(df)\n",
    "# print()\n",
    "# print()\n",
    "\n",
    "\n",
    "df = pd.DataFrame(dic_data,index=['행0','행1','행2'])\n",
    "print(df)\n",
    "print()\n",
    "df = df.reset_index()\n",
    "print(df)\n",
    "print()\n",
    "df = df.drop(\"index\",axis=1)\n",
    "print(df)"
   ]
  },
  {
   "cell_type": "code",
   "execution_count": null,
   "metadata": {},
   "outputs": [],
   "source": []
  }
 ],
 "metadata": {
  "interpreter": {
   "hash": "5d240ba0dc525c389faa33f5dcce5b4f32b6d6aa6d70d6d2dd929bd2b09ab69f"
  },
  "kernelspec": {
   "display_name": "Python 3.10.0 64-bit",
   "language": "python",
   "name": "python3"
  },
  "language_info": {
   "codemirror_mode": {
    "name": "ipython",
    "version": 3
   },
   "file_extension": ".py",
   "mimetype": "text/x-python",
   "name": "python",
   "nbconvert_exporter": "python",
   "pygments_lexer": "ipython3",
   "version": "3.8.2"
  },
  "orig_nbformat": 4
 },
 "nbformat": 4,
 "nbformat_minor": 2
}
