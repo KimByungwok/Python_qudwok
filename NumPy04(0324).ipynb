{
 "cells": [
  {
   "cell_type": "markdown",
   "metadata": {},
   "source": [
    "# 인덱스 활용 : 행 인덱스 초기화 하기 25p\n",
    "    - DataFrame객체.reset_index()"
   ]
  },
  {
   "cell_type": "code",
   "execution_count": 9,
   "metadata": {},
   "outputs": [
    {
     "name": "stdout",
     "output_type": "stream",
     "text": [
      "    col_0  col_1  col_2  col_3  col_4\n",
      "행0      1      4      7     10     13\n",
      "행1      2      5      8     11     14\n",
      "행2      3      6      9     12     15\n",
      "\n",
      "  index  col_0  col_1  col_2  col_3  col_4\n",
      "0    행0      1      4      7     10     13\n",
      "1    행1      2      5      8     11     14\n",
      "2    행2      3      6      9     12     15\n",
      "\n",
      "   col_0  col_1  col_2  col_3  col_4\n",
      "0      1      4      7     10     13\n",
      "1      2      5      8     11     14\n",
      "2      3      6      9     12     15\n"
     ]
    }
   ],
   "source": [
    "import pandas as pd\n",
    "\n",
    "dic_data = {'col_0':[1,2,3],'col_1':[4,5,6],'col_2':[7,8,9],'col_3':[10,11,12],'col_4':[13,14,15]}\n",
    "\n",
    "# df = pd.DataFrame(dic_data,index=['행0','행1','행2'])\n",
    "# print(df)\n",
    "# print()\n",
    "\n",
    "# df = df.reset_index()\n",
    "# print(df)\n",
    "# print()\n",
    "\n",
    "# df = df.drop('index',axis=1)\n",
    "# print(df)\n",
    "# print()\n",
    "# print()\n",
    "\n",
    "\n",
    "df = pd.DataFrame(dic_data,index=['행0','행1','행2'])\n",
    "print(df)\n",
    "print()\n",
    "df = df.reset_index()\n",
    "print(df)\n",
    "print()\n",
    "df = df.drop(\"index\",axis=1)\n",
    "print(df)"
   ]
  },
  {
   "cell_type": "code",
   "execution_count": 3,
   "metadata": {},
   "outputs": [
    {
     "name": "stdout",
     "output_type": "stream",
     "text": [
      "        col_0  col_1  col_2  col_3  col_4\n",
      "r  q                                     \n",
      "행1 q_1      1      7      4     10     13\n",
      "행2 q_2      2      8      5     11     14\n",
      "행3 q_3      3      9      6     12     15\n",
      "\n"
     ]
    }
   ],
   "source": [
    "# 문제 : 멀티 인덱스를 가진 df에 대해 reset_index()를 실행하면 어케되냐\n",
    "\n",
    "import pandas as pd\n",
    "\n",
    "#리스트를 value로, 열 이름을 key로 하는 2차원 배열 형식의 딕셔너리 정의\n",
    "dic_data = {'col_0':[1,2,3],'col_1':[7,8,9],'col_2':[4,5,6],'col_3':[10,11,12],'col_4':[13,14,15]}\n",
    "\n",
    "df = pd.DataFrame(dic_data,index=[['행1','행2','행3'],['q_1','q_2','q_3']])\n",
    "df.index.names = [\"r\",\"q\"]\n",
    "print(df)\n",
    "print()\n"
   ]
  },
  {
   "cell_type": "markdown",
   "metadata": {},
   "source": [
    "# 인덱스 활용 : 행 인덱스로 데이터프레임 정렬하기\n",
    "    - df객체.[sort_index]()\n",
    "    - 매개변수로 ascending = False 또는 True"
   ]
  },
  {
   "cell_type": "code",
   "execution_count": 6,
   "metadata": {},
   "outputs": [
    {
     "name": "stdout",
     "output_type": "stream",
     "text": [
      "        col_0  col_1  col_2  col_3  col_4\n",
      "행1 q_1      1      7      4     10     13\n",
      "행2 q_2      2      8      5     11     14\n",
      "행3 q_3      3      9      6     12     15\n",
      "\n",
      "        col_0  col_1  col_2  col_3  col_4\n",
      "행3 q_3      3      9      6     12     15\n",
      "행2 q_2      2      8      5     11     14\n",
      "행1 q_1      1      7      4     10     13\n",
      "\n"
     ]
    }
   ],
   "source": [
    "import pandas as pd\n",
    "\n",
    "#리스트를 value로, 열 이름을 key로 하는 2차원 배열 형식의 딕셔너리 정의\n",
    "dic_data = {'col_0':[1,2,3],'col_1':[7,8,9],'col_2':[4,5,6],'col_3':[10,11,12],'col_4':[13,14,15]}\n",
    "\n",
    "df = pd.DataFrame(dic_data,index=[['행1','행2','행3'],['q_1','q_2','q_3']])\n",
    "print(df)\n",
    "print()\n",
    "\n",
    "new_df = df.sort_index(ascending=False)\n",
    "print(new_df)\n",
    "print()"
   ]
  },
  {
   "cell_type": "markdown",
   "metadata": {},
   "source": [
    "# 인덱스 활용 : 열 기준으로 데이터프레임 정렬하기\n",
    "    - df객체.[sort_values]()\n",
    "    - 매겨변수로 ascending - False 또는 True"
   ]
  },
  {
   "cell_type": "code",
   "execution_count": 27,
   "metadata": {},
   "outputs": [
    {
     "name": "stdout",
     "output_type": "stream",
     "text": [
      "        col_0  col_1  col_2  col_3  col_4\n",
      "행1 q_1      1      4      7     10     13\n",
      "행2 q_2      2      5      8     11     14\n",
      "행3 q_3      3      6      9     12     15\n",
      "\n",
      "        col_0  col_1  col_2  col_3  col_4\n",
      "행3 q_3      3      6      9     12     15\n",
      "행2 q_2      2      5      8     11     14\n",
      "행1 q_1      1      4      7     10     13\n",
      "\n"
     ]
    }
   ],
   "source": [
    "import pandas as pd\n",
    "\n",
    "#리스트를 value로, 열 이름을 key로 하는 2차원 배열 형식의 딕셔너리 정의\n",
    "dic_data = {'col_0':[1,2,3],'col_1':[4,5,6],'col_2':[7,8,9],'col_3':[10,11,12],'col_4':[13,14,15]}\n",
    "\n",
    "df = pd.DataFrame(dic_data,index=[['행1','행2','행3'],['q_1','q_2','q_3']])\n",
    "print(df)\n",
    "print()\n",
    "\n",
    "new_df = df.sort_values(by=['col_1'],ascending=False)\n",
    "print(new_df)\n",
    "print()\n"
   ]
  },
  {
   "cell_type": "code",
   "execution_count": 30,
   "metadata": {},
   "outputs": [
    {
     "name": "stdout",
     "output_type": "stream",
     "text": [
      "  col_1  col_2  col_3\n",
      "0    AA      8      0\n",
      "1    AA      2      4\n",
      "2    BB      4      2\n",
      "3   NaN      7      3\n",
      "4    DD      1      1\n",
      "5    CC      9      9\n",
      "\n",
      "\n",
      "  col_1  col_2  col_3\n",
      "0    AA      8      0\n",
      "1    AA      2      4\n",
      "2    BB      4      2\n",
      "3   NaN      7      3\n",
      "4    DD      1      1\n",
      "5    CC      9      9\n"
     ]
    }
   ],
   "source": [
    "\n",
    "# 문제 1 : 여러 열을 기준으로 정렬하려면?\n",
    "# 문제 2 : NaN을 우선적으로 해서 정렬하려면: na_pos='first' 옵션 사용\n",
    "\n",
    "import pandas as pd\n",
    "import numpy as np\n",
    "\n",
    "df = pd.DataFrame({'col_1':['AA','AA','BB',np.nan,'DD','CC'],\n",
    "                   'col_2': [8,2,4,7,1,9],\n",
    "                   'col_3':[0,4,2,3,1,9]})\n",
    "print(df)\n",
    "print()\n",
    "print()\n",
    "\n",
    "df.sort_values(by=['col_1'],ascending=False,na_position='first')\n",
    "print(df)"
   ]
  },
  {
   "cell_type": "code",
   "execution_count": null,
   "metadata": {},
   "outputs": [],
   "source": []
  }
 ],
 "metadata": {
  "interpreter": {
   "hash": "5d240ba0dc525c389faa33f5dcce5b4f32b6d6aa6d70d6d2dd929bd2b09ab69f"
  },
  "kernelspec": {
   "display_name": "Python 3.10.0 64-bit",
   "language": "python",
   "name": "python3"
  },
  "language_info": {
   "codemirror_mode": {
    "name": "ipython",
    "version": 3
   },
   "file_extension": ".py",
   "mimetype": "text/x-python",
   "name": "python",
   "nbconvert_exporter": "python",
   "pygments_lexer": "ipython3",
   "version": "3.10.0"
  },
  "orig_nbformat": 4
 },
 "nbformat": 4,
 "nbformat_minor": 2
}
