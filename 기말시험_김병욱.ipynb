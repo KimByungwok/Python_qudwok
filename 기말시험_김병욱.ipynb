{
 "cells": [
  {
   "cell_type": "code",
   "execution_count": 1,
   "metadata": {},
   "outputs": [
    {
     "data": {
      "text/plain": [
       "'\\n이 시험의 목적은 블럭생산 공장에서 만든 블럭에 대한 정보를 가지고\\n데이터를 분석해 보는 역량에 대한 성취도를 평가하는 것입니다.\\n\\n각 셀에 주어진 주석 지시문을 잘 읽고 알맞은 코드를 작성해 \\n제시된 실행 결과와 같은 결과가 출력되도록 하세요\\n\\n답안은 email로 파일첨부해 stjo@kyungmin.ac.kr로 제출\\n메일제목 : [기말]학번 이름\\n'"
      ]
     },
     "execution_count": 1,
     "metadata": {},
     "output_type": "execute_result"
    }
   ],
   "source": [
    "'''\n",
    "이 시험의 목적은 블럭생산 공장에서 만든 블럭에 대한 정보를 가지고\n",
    "데이터를 분석해 보는 역량에 대한 성취도를 평가하는 것입니다.\n",
    "\n",
    "각 셀에 주어진 주석 지시문을 잘 읽고 알맞은 코드를 작성해 \n",
    "제시된 실행 결과와 같은 결과가 출력되도록 하세요\n",
    "\n",
    "답안은 email로 파일첨부해 stjo@kyungmin.ac.kr로 제출\n",
    "메일제목 : [기말]학번 이름\n",
    "'''"
   ]
  },
  {
   "cell_type": "code",
   "execution_count": 2,
   "metadata": {},
   "outputs": [
    {
     "data": {
      "text/plain": [
       "'\\n본인의 학번과 이름을 여기에 쓰세요\\n\\n학번 : 17871013 \\n이름 : 김병욱\\n'"
      ]
     },
     "execution_count": 2,
     "metadata": {},
     "output_type": "execute_result"
    }
   ],
   "source": [
    "'''\n",
    "본인의 학번과 이름을 여기에 쓰세요\n",
    "\n",
    "학번 : 17871013 \n",
    "이름 : 김병욱\n",
    "'''"
   ]
  },
  {
   "cell_type": "code",
   "execution_count": 3,
   "metadata": {},
   "outputs": [],
   "source": [
    "# 프로그램 실행에 필요한 라이브러리 가져오기\n",
    "import pandas as pd"
   ]
  },
  {
   "cell_type": "code",
   "execution_count": 12,
   "metadata": {},
   "outputs": [
    {
     "data": {
      "text/html": [
       "<div>\n",
       "<style scoped>\n",
       "    .dataframe tbody tr th:only-of-type {\n",
       "        vertical-align: middle;\n",
       "    }\n",
       "\n",
       "    .dataframe tbody tr th {\n",
       "        vertical-align: top;\n",
       "    }\n",
       "\n",
       "    .dataframe thead th {\n",
       "        text-align: right;\n",
       "    }\n",
       "</style>\n",
       "<table border=\"1\" class=\"dataframe\">\n",
       "  <thead>\n",
       "    <tr style=\"text-align: right;\">\n",
       "      <th></th>\n",
       "      <th>number</th>\n",
       "      <th>shape</th>\n",
       "      <th>material</th>\n",
       "      <th>weight</th>\n",
       "    </tr>\n",
       "  </thead>\n",
       "  <tbody>\n",
       "    <tr>\n",
       "      <th>0</th>\n",
       "      <td>1</td>\n",
       "      <td>square</td>\n",
       "      <td>iron</td>\n",
       "      <td>969.34</td>\n",
       "    </tr>\n",
       "    <tr>\n",
       "      <th>1</th>\n",
       "      <td>1</td>\n",
       "      <td>triangle</td>\n",
       "      <td>iron</td>\n",
       "      <td>NaN</td>\n",
       "    </tr>\n",
       "    <tr>\n",
       "      <th>2</th>\n",
       "      <td>3</td>\n",
       "      <td>triangle</td>\n",
       "      <td>plastic</td>\n",
       "      <td>109.98</td>\n",
       "    </tr>\n",
       "    <tr>\n",
       "      <th>3</th>\n",
       "      <td>4</td>\n",
       "      <td>triangle</td>\n",
       "      <td>wood</td>\n",
       "      <td>473.46</td>\n",
       "    </tr>\n",
       "    <tr>\n",
       "      <th>4</th>\n",
       "      <td>6</td>\n",
       "      <td>triangle</td>\n",
       "      <td>wood</td>\n",
       "      <td>446.11</td>\n",
       "    </tr>\n",
       "    <tr>\n",
       "      <th>...</th>\n",
       "      <td>...</td>\n",
       "      <td>...</td>\n",
       "      <td>...</td>\n",
       "      <td>...</td>\n",
       "    </tr>\n",
       "    <tr>\n",
       "      <th>43</th>\n",
       "      <td>99</td>\n",
       "      <td>circle</td>\n",
       "      <td>wood</td>\n",
       "      <td>402.04</td>\n",
       "    </tr>\n",
       "    <tr>\n",
       "      <th>44</th>\n",
       "      <td>100</td>\n",
       "      <td>triangle</td>\n",
       "      <td>iron</td>\n",
       "      <td>475.59</td>\n",
       "    </tr>\n",
       "    <tr>\n",
       "      <th>45</th>\n",
       "      <td>100</td>\n",
       "      <td>triangle</td>\n",
       "      <td>mud</td>\n",
       "      <td>461.82</td>\n",
       "    </tr>\n",
       "    <tr>\n",
       "      <th>46</th>\n",
       "      <td>100</td>\n",
       "      <td>square</td>\n",
       "      <td>plastic</td>\n",
       "      <td>254.12</td>\n",
       "    </tr>\n",
       "    <tr>\n",
       "      <th>47</th>\n",
       "      <td>100</td>\n",
       "      <td>square</td>\n",
       "      <td>wood</td>\n",
       "      <td>579.62</td>\n",
       "    </tr>\n",
       "  </tbody>\n",
       "</table>\n",
       "<p>100 rows × 4 columns</p>\n",
       "</div>"
      ],
      "text/plain": [
       "    number     shape material  weight\n",
       "0        1    square     iron  969.34\n",
       "1        1  triangle     iron     NaN\n",
       "2        3  triangle  plastic  109.98\n",
       "3        4  triangle     wood  473.46\n",
       "4        6  triangle     wood  446.11\n",
       "..     ...       ...      ...     ...\n",
       "43      99    circle     wood  402.04\n",
       "44     100  triangle     iron  475.59\n",
       "45     100  triangle      mud  461.82\n",
       "46     100    square  plastic  254.12\n",
       "47     100    square     wood  579.62\n",
       "\n",
       "[100 rows x 4 columns]"
      ]
     },
     "execution_count": 12,
     "metadata": {},
     "output_type": "execute_result"
    }
   ],
   "source": [
    "# 각 공장 factory_a와 factory_b에서 생산한 블럭에 대한 정보를 저장하고 있는 엑셀파일 두 개를 읽어\n",
    "# 하나의 데이터 프레임(df)으로 합친 후 출력하라\n",
    "df1 =pd.read_excel(\"factory_a.xlsx\")\n",
    "df2 =pd.read_excel(\"factory_b.xlsx\")\n",
    "\n",
    "df = pd.concat([df1,df2])\n",
    "\n",
    "df"
   ]
  },
  {
   "cell_type": "code",
   "execution_count": 5,
   "metadata": {},
   "outputs": [
    {
     "data": {
      "text/plain": [
       "number      0\n",
       "shape       0\n",
       "material    0\n",
       "weight      6\n",
       "dtype: int64"
      ]
     },
     "execution_count": 5,
     "metadata": {},
     "output_type": "execute_result"
    }
   ],
   "source": [
    "# 구성한 데이터 프레임 df의 자료를 보고 누락자료를 처리하라\n",
    "# 누락자료를 확인하기 위한 코드를 작성하되 \n",
    "# df.info() 사용하지 말고 아래 출력과 같이 나오도록 코딩\n",
    "df.isnull().sum()"
   ]
  },
  {
   "cell_type": "code",
   "execution_count": 6,
   "metadata": {},
   "outputs": [
    {
     "name": "stdout",
     "output_type": "stream",
     "text": [
      "<class 'pandas.core.frame.DataFrame'>\n",
      "Int64Index: 100 entries, 0 to 47\n",
      "Data columns (total 4 columns):\n",
      " #   Column    Non-Null Count  Dtype  \n",
      "---  ------    --------------  -----  \n",
      " 0   number    100 non-null    int64  \n",
      " 1   shape     100 non-null    object \n",
      " 2   material  100 non-null    object \n",
      " 3   weight    100 non-null    float64\n",
      "dtypes: float64(1), int64(1), object(2)\n",
      "memory usage: 3.9+ KB\n"
     ]
    },
    {
     "name": "stderr",
     "output_type": "stream",
     "text": [
      "C:\\Users\\user\\AppData\\Local\\Temp\\ipykernel_2752\\2454823429.py:4: FutureWarning: Dropping of nuisance columns in DataFrame reductions (with 'numeric_only=None') is deprecated; in a future version this will raise TypeError.  Select only valid columns before calling the reduction.\n",
      "  df = df.fillna(df.mean())\n"
     ]
    }
   ],
   "source": [
    "# 확인한 누락자료의 처리 코드를 작성하라\n",
    "# 단순히 지우는 방법 외의 방법을 제시하는 경우 가점 부여\n",
    "# 예시 출력 결과는 단순히 지우는 방법의 결과임\n",
    "df = df.fillna(df.mean())\n",
    "# 누락자료 처리를 위해 선택한 방법에 대해 타당한 이유를 설명하라\n",
    "\n",
    "''' 일방적으로 drop()하여도 좋으나 위에서 확인했듯 NaN 데이터 타입이 int 이므로 NaN 행을 버리기 보단 fillna() 함수를 사용해 평균값으로 채워넣어 통계에 빈 공간이 없도록 하여 정확도를 높일 수 있음 '''\n",
    "\n",
    "df.info()\n"
   ]
  },
  {
   "cell_type": "code",
   "execution_count": 7,
   "metadata": {},
   "outputs": [
    {
     "name": "stdout",
     "output_type": "stream",
     "text": [
      "블럭 종류는 3가지, 모양은 square triangle circle\n"
     ]
    }
   ],
   "source": [
    "# 데이터 프레임(df)에서 블럭 모양(shape)의 종류는 몇가지가 있는 지 알아보아라.\n",
    "# 출력은 결과 화면과 같이 나오도록 한다.\n",
    "df_block = df['shape'].drop_duplicates()\n",
    "print(\"블럭 종류는 3가지, 모양은 \"+df_block.iloc[0]+\" \"+df_block.iloc[1]+\" \"+df_block.iloc[2])"
   ]
  },
  {
   "cell_type": "code",
   "execution_count": 8,
   "metadata": {},
   "outputs": [
    {
     "data": {
      "text/plain": [
       "0    square\n",
       "Name: shape, dtype: object"
      ]
     },
     "execution_count": 8,
     "metadata": {},
     "output_type": "execute_result"
    }
   ],
   "source": [
    "# 재질(material) 중 나무(wood)가 가장 많은 블럭 모양(shape)이 무엇인지 출력하라.\n",
    "df_material = df[(df['material'] ==\"wood\")]\n",
    "\n",
    "df_material['shape'].mode()"
   ]
  },
  {
   "cell_type": "markdown",
   "metadata": {},
   "source": []
  },
  {
   "cell_type": "code",
   "execution_count": 9,
   "metadata": {},
   "outputs": [
    {
     "data": {
      "text/html": [
       "<div>\n",
       "<style scoped>\n",
       "    .dataframe tbody tr th:only-of-type {\n",
       "        vertical-align: middle;\n",
       "    }\n",
       "\n",
       "    .dataframe tbody tr th {\n",
       "        vertical-align: top;\n",
       "    }\n",
       "\n",
       "    .dataframe thead th {\n",
       "        text-align: right;\n",
       "    }\n",
       "</style>\n",
       "<table border=\"1\" class=\"dataframe\">\n",
       "  <thead>\n",
       "    <tr style=\"text-align: right;\">\n",
       "      <th>material</th>\n",
       "      <th>iron</th>\n",
       "      <th>mud</th>\n",
       "      <th>plastic</th>\n",
       "      <th>wood</th>\n",
       "    </tr>\n",
       "    <tr>\n",
       "      <th>shape</th>\n",
       "      <th></th>\n",
       "      <th></th>\n",
       "      <th></th>\n",
       "      <th></th>\n",
       "    </tr>\n",
       "  </thead>\n",
       "  <tbody>\n",
       "    <tr>\n",
       "      <th>circle</th>\n",
       "      <td>685.188590</td>\n",
       "      <td>478.738889</td>\n",
       "      <td>238.680000</td>\n",
       "      <td>454.668121</td>\n",
       "    </tr>\n",
       "    <tr>\n",
       "      <th>square</th>\n",
       "      <td>893.225000</td>\n",
       "      <td>495.168859</td>\n",
       "      <td>189.791250</td>\n",
       "      <td>555.471702</td>\n",
       "    </tr>\n",
       "    <tr>\n",
       "      <th>triangle</th>\n",
       "      <td>444.592675</td>\n",
       "      <td>515.977500</td>\n",
       "      <td>219.052727</td>\n",
       "      <td>454.220000</td>\n",
       "    </tr>\n",
       "  </tbody>\n",
       "</table>\n",
       "</div>"
      ],
      "text/plain": [
       "material        iron         mud     plastic        wood\n",
       "shape                                                   \n",
       "circle    685.188590  478.738889  238.680000  454.668121\n",
       "square    893.225000  495.168859  189.791250  555.471702\n",
       "triangle  444.592675  515.977500  219.052727  454.220000"
      ]
     },
     "execution_count": 9,
     "metadata": {},
     "output_type": "execute_result"
    }
   ],
   "source": [
    "# df에서 블럭 모양(shape)과 재질(material)별 무게(weight)의 평균을 알아보는\n",
    "# 피봇 테이블(df_pivot)을 만들고 출력하라\n",
    "df_pivot = pd.pivot_table(df, index='shape' ,columns='material', values='weight', aggfunc='mean')\n",
    "df_pivot"
   ]
  },
  {
   "cell_type": "code",
   "execution_count": 10,
   "metadata": {},
   "outputs": [
    {
     "data": {
      "text/html": [
       "<div>\n",
       "<style scoped>\n",
       "    .dataframe tbody tr th:only-of-type {\n",
       "        vertical-align: middle;\n",
       "    }\n",
       "\n",
       "    .dataframe tbody tr th {\n",
       "        vertical-align: top;\n",
       "    }\n",
       "\n",
       "    .dataframe thead th {\n",
       "        text-align: right;\n",
       "    }\n",
       "</style>\n",
       "<table border=\"1\" class=\"dataframe\">\n",
       "  <thead>\n",
       "    <tr style=\"text-align: right;\">\n",
       "      <th></th>\n",
       "      <th>material</th>\n",
       "      <th>iron</th>\n",
       "      <th>mud</th>\n",
       "      <th>plastic</th>\n",
       "      <th>wood</th>\n",
       "    </tr>\n",
       "    <tr>\n",
       "      <th>number</th>\n",
       "      <th>shape</th>\n",
       "      <th></th>\n",
       "      <th></th>\n",
       "      <th></th>\n",
       "      <th></th>\n",
       "    </tr>\n",
       "  </thead>\n",
       "  <tbody>\n",
       "    <tr>\n",
       "      <th rowspan=\"2\" valign=\"top\">1</th>\n",
       "      <th>square</th>\n",
       "      <td>1</td>\n",
       "      <td>0</td>\n",
       "      <td>0</td>\n",
       "      <td>0</td>\n",
       "    </tr>\n",
       "    <tr>\n",
       "      <th>triangle</th>\n",
       "      <td>1</td>\n",
       "      <td>0</td>\n",
       "      <td>0</td>\n",
       "      <td>0</td>\n",
       "    </tr>\n",
       "    <tr>\n",
       "      <th>3</th>\n",
       "      <th>triangle</th>\n",
       "      <td>0</td>\n",
       "      <td>0</td>\n",
       "      <td>1</td>\n",
       "      <td>0</td>\n",
       "    </tr>\n",
       "    <tr>\n",
       "      <th>4</th>\n",
       "      <th>triangle</th>\n",
       "      <td>0</td>\n",
       "      <td>0</td>\n",
       "      <td>0</td>\n",
       "      <td>1</td>\n",
       "    </tr>\n",
       "    <tr>\n",
       "      <th>6</th>\n",
       "      <th>triangle</th>\n",
       "      <td>0</td>\n",
       "      <td>0</td>\n",
       "      <td>0</td>\n",
       "      <td>1</td>\n",
       "    </tr>\n",
       "    <tr>\n",
       "      <th>...</th>\n",
       "      <th>...</th>\n",
       "      <td>...</td>\n",
       "      <td>...</td>\n",
       "      <td>...</td>\n",
       "      <td>...</td>\n",
       "    </tr>\n",
       "    <tr>\n",
       "      <th rowspan=\"2\" valign=\"top\">97</th>\n",
       "      <th>circle</th>\n",
       "      <td>0</td>\n",
       "      <td>0</td>\n",
       "      <td>0</td>\n",
       "      <td>1</td>\n",
       "    </tr>\n",
       "    <tr>\n",
       "      <th>triangle</th>\n",
       "      <td>1</td>\n",
       "      <td>0</td>\n",
       "      <td>0</td>\n",
       "      <td>0</td>\n",
       "    </tr>\n",
       "    <tr>\n",
       "      <th>99</th>\n",
       "      <th>circle</th>\n",
       "      <td>0</td>\n",
       "      <td>0</td>\n",
       "      <td>0</td>\n",
       "      <td>1</td>\n",
       "    </tr>\n",
       "    <tr>\n",
       "      <th rowspan=\"2\" valign=\"top\">100</th>\n",
       "      <th>square</th>\n",
       "      <td>0</td>\n",
       "      <td>0</td>\n",
       "      <td>1</td>\n",
       "      <td>1</td>\n",
       "    </tr>\n",
       "    <tr>\n",
       "      <th>triangle</th>\n",
       "      <td>1</td>\n",
       "      <td>1</td>\n",
       "      <td>0</td>\n",
       "      <td>0</td>\n",
       "    </tr>\n",
       "  </tbody>\n",
       "</table>\n",
       "<p>85 rows × 4 columns</p>\n",
       "</div>"
      ],
      "text/plain": [
       "material         iron  mud  plastic  wood\n",
       "number shape                             \n",
       "1      square       1    0        0     0\n",
       "       triangle     1    0        0     0\n",
       "3      triangle     0    0        1     0\n",
       "4      triangle     0    0        0     1\n",
       "6      triangle     0    0        0     1\n",
       "...               ...  ...      ...   ...\n",
       "97     circle       0    0        0     1\n",
       "       triangle     1    0        0     0\n",
       "99     circle       0    0        0     1\n",
       "100    square       0    0        1     1\n",
       "       triangle     1    1        0     0\n",
       "\n",
       "[85 rows x 4 columns]"
      ]
     },
     "execution_count": 10,
     "metadata": {},
     "output_type": "execute_result"
    }
   ],
   "source": [
    "# df에서 블럭번호(number)에 대해 블럭 모양(shape)별 재질(material)의 갯수을 알아보는\n",
    "# 피봇 테이블(df_pivot)을 만들고 출력하라\n",
    "df_pivot = pd.pivot_table(df, index=['number','shape'] ,columns='material', values='material', aggfunc='count',fill_value=0)\n",
    "df_pivot"
   ]
  },
  {
   "cell_type": "code",
   "execution_count": 11,
   "metadata": {},
   "outputs": [
    {
     "ename": "ValueError",
     "evalue": "Grouper for 'material' not 1-dimensional",
     "output_type": "error",
     "traceback": [
      "\u001b[1;31m---------------------------------------------------------------------------\u001b[0m",
      "\u001b[1;31mValueError\u001b[0m                                Traceback (most recent call last)",
      "\u001b[1;32md:\\Program\\Python_qudwok\\기말시험_김병욱.ipynb Cell 11'\u001b[0m in \u001b[0;36m<cell line: 4>\u001b[1;34m()\u001b[0m\n\u001b[0;32m      <a href='vscode-notebook-cell:/d%3A/Program/Python_qudwok/%EA%B8%B0%EB%A7%90%EC%8B%9C%ED%97%98_%EA%B9%80%EB%B3%91%EC%9A%B1.ipynb#ch0000010?line=0'>1</a>\u001b[0m \u001b[39m# 위의 출력 결과는 index와 column 모두 멀티레벨이라 보기가 좋지 않다.\u001b[39;00m\n\u001b[0;32m      <a href='vscode-notebook-cell:/d%3A/Program/Python_qudwok/%EA%B8%B0%EB%A7%90%EC%8B%9C%ED%97%98_%EA%B9%80%EB%B3%91%EC%9A%B1.ipynb#ch0000010?line=1'>2</a>\u001b[0m \u001b[39m# 아래 출력 결과 처럼 나오도록 위 df_pivot을 수정하라.\u001b[39;00m\n\u001b[0;32m      <a href='vscode-notebook-cell:/d%3A/Program/Python_qudwok/%EA%B8%B0%EB%A7%90%EC%8B%9C%ED%97%98_%EA%B9%80%EB%B3%91%EC%9A%B1.ipynb#ch0000010?line=2'>3</a>\u001b[0m \u001b[39m# 주의, 이 셀을 테스트하려면 바로 위의 df_pivot을 구하는 코드를 실행한 후 해야 오류가 없음\u001b[39;00m\n\u001b[1;32m----> <a href='vscode-notebook-cell:/d%3A/Program/Python_qudwok/%EA%B8%B0%EB%A7%90%EC%8B%9C%ED%97%98_%EA%B9%80%EB%B3%91%EC%9A%B1.ipynb#ch0000010?line=3'>4</a>\u001b[0m df_pivot \u001b[39m=\u001b[39m pd\u001b[39m.\u001b[39;49mpivot_table(df, index\u001b[39m=\u001b[39;49m\u001b[39m'\u001b[39;49m\u001b[39mshape\u001b[39;49m\u001b[39m'\u001b[39;49m ,columns\u001b[39m=\u001b[39;49m\u001b[39m'\u001b[39;49m\u001b[39mmaterial\u001b[39;49m\u001b[39m'\u001b[39;49m, values\u001b[39m=\u001b[39;49m\u001b[39m'\u001b[39;49m\u001b[39mmaterial\u001b[39;49m\u001b[39m'\u001b[39;49m, aggfunc\u001b[39m=\u001b[39;49m\u001b[39m'\u001b[39;49m\u001b[39mcount\u001b[39;49m\u001b[39m'\u001b[39;49m,fill_value\u001b[39m=\u001b[39;49m\u001b[39m0\u001b[39;49m)\n\u001b[0;32m      <a href='vscode-notebook-cell:/d%3A/Program/Python_qudwok/%EA%B8%B0%EB%A7%90%EC%8B%9C%ED%97%98_%EA%B9%80%EB%B3%91%EC%9A%B1.ipynb#ch0000010?line=4'>5</a>\u001b[0m df_pivot\u001b[39m.\u001b[39mdrop(axis\u001b[39m=\u001b[39m\u001b[39m0\u001b[39m)\n\u001b[0;32m      <a href='vscode-notebook-cell:/d%3A/Program/Python_qudwok/%EA%B8%B0%EB%A7%90%EC%8B%9C%ED%97%98_%EA%B9%80%EB%B3%91%EC%9A%B1.ipynb#ch0000010?line=5'>6</a>\u001b[0m df_pivot\n",
      "File \u001b[1;32mc:\\Users\\user\\AppData\\Local\\Programs\\Python\\Python310\\lib\\site-packages\\pandas\\core\\reshape\\pivot.py:95\u001b[0m, in \u001b[0;36mpivot_table\u001b[1;34m(data, values, index, columns, aggfunc, fill_value, margins, dropna, margins_name, observed, sort)\u001b[0m\n\u001b[0;32m     92\u001b[0m     table \u001b[39m=\u001b[39m concat(pieces, keys\u001b[39m=\u001b[39mkeys, axis\u001b[39m=\u001b[39m\u001b[39m1\u001b[39m)\n\u001b[0;32m     93\u001b[0m     \u001b[39mreturn\u001b[39;00m table\u001b[39m.\u001b[39m__finalize__(data, method\u001b[39m=\u001b[39m\u001b[39m\"\u001b[39m\u001b[39mpivot_table\u001b[39m\u001b[39m\"\u001b[39m)\n\u001b[1;32m---> 95\u001b[0m table \u001b[39m=\u001b[39m __internal_pivot_table(\n\u001b[0;32m     96\u001b[0m     data,\n\u001b[0;32m     97\u001b[0m     values,\n\u001b[0;32m     98\u001b[0m     index,\n\u001b[0;32m     99\u001b[0m     columns,\n\u001b[0;32m    100\u001b[0m     aggfunc,\n\u001b[0;32m    101\u001b[0m     fill_value,\n\u001b[0;32m    102\u001b[0m     margins,\n\u001b[0;32m    103\u001b[0m     dropna,\n\u001b[0;32m    104\u001b[0m     margins_name,\n\u001b[0;32m    105\u001b[0m     observed,\n\u001b[0;32m    106\u001b[0m     sort,\n\u001b[0;32m    107\u001b[0m )\n\u001b[0;32m    108\u001b[0m \u001b[39mreturn\u001b[39;00m table\u001b[39m.\u001b[39m__finalize__(data, method\u001b[39m=\u001b[39m\u001b[39m\"\u001b[39m\u001b[39mpivot_table\u001b[39m\u001b[39m\"\u001b[39m)\n",
      "File \u001b[1;32mc:\\Users\\user\\AppData\\Local\\Programs\\Python\\Python310\\lib\\site-packages\\pandas\\core\\reshape\\pivot.py:164\u001b[0m, in \u001b[0;36m__internal_pivot_table\u001b[1;34m(data, values, index, columns, aggfunc, fill_value, margins, dropna, margins_name, observed, sort)\u001b[0m\n\u001b[0;32m    161\u001b[0m             \u001b[39mpass\u001b[39;00m\n\u001b[0;32m    162\u001b[0m     values \u001b[39m=\u001b[39m \u001b[39mlist\u001b[39m(values)\n\u001b[1;32m--> 164\u001b[0m grouped \u001b[39m=\u001b[39m data\u001b[39m.\u001b[39;49mgroupby(keys, observed\u001b[39m=\u001b[39;49mobserved, sort\u001b[39m=\u001b[39;49msort)\n\u001b[0;32m    165\u001b[0m agged \u001b[39m=\u001b[39m grouped\u001b[39m.\u001b[39magg(aggfunc)\n\u001b[0;32m    166\u001b[0m \u001b[39mif\u001b[39;00m dropna \u001b[39mand\u001b[39;00m \u001b[39misinstance\u001b[39m(agged, ABCDataFrame) \u001b[39mand\u001b[39;00m \u001b[39mlen\u001b[39m(agged\u001b[39m.\u001b[39mcolumns):\n",
      "File \u001b[1;32mc:\\Users\\user\\AppData\\Local\\Programs\\Python\\Python310\\lib\\site-packages\\pandas\\core\\frame.py:7712\u001b[0m, in \u001b[0;36mDataFrame.groupby\u001b[1;34m(self, by, axis, level, as_index, sort, group_keys, squeeze, observed, dropna)\u001b[0m\n\u001b[0;32m   7707\u001b[0m axis \u001b[39m=\u001b[39m \u001b[39mself\u001b[39m\u001b[39m.\u001b[39m_get_axis_number(axis)\n\u001b[0;32m   7709\u001b[0m \u001b[39m# https://github.com/python/mypy/issues/7642\u001b[39;00m\n\u001b[0;32m   7710\u001b[0m \u001b[39m# error: Argument \"squeeze\" to \"DataFrameGroupBy\" has incompatible type\u001b[39;00m\n\u001b[0;32m   7711\u001b[0m \u001b[39m# \"Union[bool, NoDefault]\"; expected \"bool\"\u001b[39;00m\n\u001b[1;32m-> 7712\u001b[0m \u001b[39mreturn\u001b[39;00m DataFrameGroupBy(\n\u001b[0;32m   7713\u001b[0m     obj\u001b[39m=\u001b[39;49m\u001b[39mself\u001b[39;49m,\n\u001b[0;32m   7714\u001b[0m     keys\u001b[39m=\u001b[39;49mby,\n\u001b[0;32m   7715\u001b[0m     axis\u001b[39m=\u001b[39;49maxis,\n\u001b[0;32m   7716\u001b[0m     level\u001b[39m=\u001b[39;49mlevel,\n\u001b[0;32m   7717\u001b[0m     as_index\u001b[39m=\u001b[39;49mas_index,\n\u001b[0;32m   7718\u001b[0m     sort\u001b[39m=\u001b[39;49msort,\n\u001b[0;32m   7719\u001b[0m     group_keys\u001b[39m=\u001b[39;49mgroup_keys,\n\u001b[0;32m   7720\u001b[0m     squeeze\u001b[39m=\u001b[39;49msqueeze,  \u001b[39m# type: ignore[arg-type]\u001b[39;49;00m\n\u001b[0;32m   7721\u001b[0m     observed\u001b[39m=\u001b[39;49mobserved,\n\u001b[0;32m   7722\u001b[0m     dropna\u001b[39m=\u001b[39;49mdropna,\n\u001b[0;32m   7723\u001b[0m )\n",
      "File \u001b[1;32mc:\\Users\\user\\AppData\\Local\\Programs\\Python\\Python310\\lib\\site-packages\\pandas\\core\\groupby\\groupby.py:882\u001b[0m, in \u001b[0;36mGroupBy.__init__\u001b[1;34m(self, obj, keys, axis, level, grouper, exclusions, selection, as_index, sort, group_keys, squeeze, observed, mutated, dropna)\u001b[0m\n\u001b[0;32m    879\u001b[0m \u001b[39mif\u001b[39;00m grouper \u001b[39mis\u001b[39;00m \u001b[39mNone\u001b[39;00m:\n\u001b[0;32m    880\u001b[0m     \u001b[39mfrom\u001b[39;00m \u001b[39mpandas\u001b[39;00m\u001b[39m.\u001b[39;00m\u001b[39mcore\u001b[39;00m\u001b[39m.\u001b[39;00m\u001b[39mgroupby\u001b[39;00m\u001b[39m.\u001b[39;00m\u001b[39mgrouper\u001b[39;00m \u001b[39mimport\u001b[39;00m get_grouper\n\u001b[1;32m--> 882\u001b[0m     grouper, exclusions, obj \u001b[39m=\u001b[39m get_grouper(\n\u001b[0;32m    883\u001b[0m         obj,\n\u001b[0;32m    884\u001b[0m         keys,\n\u001b[0;32m    885\u001b[0m         axis\u001b[39m=\u001b[39;49maxis,\n\u001b[0;32m    886\u001b[0m         level\u001b[39m=\u001b[39;49mlevel,\n\u001b[0;32m    887\u001b[0m         sort\u001b[39m=\u001b[39;49msort,\n\u001b[0;32m    888\u001b[0m         observed\u001b[39m=\u001b[39;49mobserved,\n\u001b[0;32m    889\u001b[0m         mutated\u001b[39m=\u001b[39;49m\u001b[39mself\u001b[39;49m\u001b[39m.\u001b[39;49mmutated,\n\u001b[0;32m    890\u001b[0m         dropna\u001b[39m=\u001b[39;49m\u001b[39mself\u001b[39;49m\u001b[39m.\u001b[39;49mdropna,\n\u001b[0;32m    891\u001b[0m     )\n\u001b[0;32m    893\u001b[0m \u001b[39mself\u001b[39m\u001b[39m.\u001b[39mobj \u001b[39m=\u001b[39m obj\n\u001b[0;32m    894\u001b[0m \u001b[39mself\u001b[39m\u001b[39m.\u001b[39maxis \u001b[39m=\u001b[39m obj\u001b[39m.\u001b[39m_get_axis_number(axis)\n",
      "File \u001b[1;32mc:\\Users\\user\\AppData\\Local\\Programs\\Python\\Python310\\lib\\site-packages\\pandas\\core\\groupby\\grouper.py:877\u001b[0m, in \u001b[0;36mget_grouper\u001b[1;34m(obj, key, axis, level, sort, observed, mutated, validate, dropna)\u001b[0m\n\u001b[0;32m    873\u001b[0m     in_axis, name, gpr \u001b[39m=\u001b[39m \u001b[39mTrue\u001b[39;00m, gpr, obj[gpr]\n\u001b[0;32m    874\u001b[0m     \u001b[39mif\u001b[39;00m gpr\u001b[39m.\u001b[39mndim \u001b[39m!=\u001b[39m \u001b[39m1\u001b[39m:\n\u001b[0;32m    875\u001b[0m         \u001b[39m# non-unique columns; raise here to get the name in the\u001b[39;00m\n\u001b[0;32m    876\u001b[0m         \u001b[39m# exception message\u001b[39;00m\n\u001b[1;32m--> 877\u001b[0m         \u001b[39mraise\u001b[39;00m \u001b[39mValueError\u001b[39;00m(\u001b[39mf\u001b[39m\u001b[39m\"\u001b[39m\u001b[39mGrouper for \u001b[39m\u001b[39m'\u001b[39m\u001b[39m{\u001b[39;00mname\u001b[39m}\u001b[39;00m\u001b[39m'\u001b[39m\u001b[39m not 1-dimensional\u001b[39m\u001b[39m\"\u001b[39m)\n\u001b[0;32m    878\u001b[0m     exclusions\u001b[39m.\u001b[39madd(name)\n\u001b[0;32m    879\u001b[0m \u001b[39melif\u001b[39;00m obj\u001b[39m.\u001b[39m_is_level_reference(gpr, axis\u001b[39m=\u001b[39maxis):\n",
      "\u001b[1;31mValueError\u001b[0m: Grouper for 'material' not 1-dimensional"
     ]
    }
   ],
   "source": [
    "# 위의 출력 결과는 index와 column 모두 멀티레벨이라 보기가 좋지 않다.\n",
    "# 아래 출력 결과 처럼 나오도록 위 df_pivot을 수정하라.\n",
    "# 주의, 이 셀을 테스트하려면 바로 위의 df_pivot을 구하는 코드를 실행한 후 해야 오류가 없음\n",
    "df_pivot = pd.pivot_table(df, index='shape' ,columns='material', values='material', aggfunc='count',fill_value=0)\n",
    "df_pivot.drop(axis=0)\n",
    "df_pivot"
   ]
  },
  {
   "cell_type": "code",
   "execution_count": null,
   "metadata": {},
   "outputs": [],
   "source": [
    "# 상관관계 분석해보기\n",
    "# 데이터 프레임(df)에서 모양(shape), 재질(material), 무게(weight)의 관계를 알아보아라\n",
    "# 정답은 없으며 어떻게 분석했는 지 과정이 중요함\n",
    "# 필요하면 그래프를 사용해 이들간의 관계를 시각적으로 표현해도 좋음\n",
    "'''df를 확인해 보았을 때 모양과 재질 상관없이 무게가 300 미만은 플라스틱의 관계를 띄고 있음'''"
   ]
  },
  {
   "cell_type": "code",
   "execution_count": null,
   "metadata": {},
   "outputs": [],
   "source": []
  }
 ],
 "metadata": {
  "kernelspec": {
   "display_name": "Python 3.10.4 64-bit",
   "language": "python",
   "name": "python3"
  },
  "language_info": {
   "codemirror_mode": {
    "name": "ipython",
    "version": 3
   },
   "file_extension": ".py",
   "mimetype": "text/x-python",
   "name": "python",
   "nbconvert_exporter": "python",
   "pygments_lexer": "ipython3",
   "version": "3.10.4"
  },
  "orig_nbformat": 4,
  "vscode": {
   "interpreter": {
    "hash": "fb4569285eef3a3450cb62085a5b1e0da4bce0af555edc33dcf29baf3acc1368"
   }
  }
 },
 "nbformat": 4,
 "nbformat_minor": 2
}
