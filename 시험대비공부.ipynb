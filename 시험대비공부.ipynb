{
 "cells": [
  {
   "cell_type": "markdown",
   "metadata": {},
   "source": [
    "# 시험 대비 처음부터 끝까지 할거임\n",
    "    - 1페이지부터 오늘 배운곳까지 62 열 분리 까지\n",
    "\n",
    "    아니 이게 업데이트가 왜 안돼?\n"
   ]
  },
  {
   "cell_type": "code",
   "execution_count": null,
   "metadata": {},
   "outputs": [],
   "source": []
  }
 ],
 "metadata": {
  "language_info": {
   "name": "python"
  },
  "orig_nbformat": 4
 },
 "nbformat": 4,
 "nbformat_minor": 2
}
